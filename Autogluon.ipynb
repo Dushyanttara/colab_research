{
  "nbformat": 4,
  "nbformat_minor": 0,
  "metadata": {
    "colab": {
      "name": "Autogluon",
      "provenance": [],
      "collapsed_sections": [],
      "authorship_tag": "ABX9TyP4wFN47Dc8zw9jFCTd7Moi",
      "include_colab_link": true
    },
    "kernelspec": {
      "name": "python3",
      "display_name": "Python 3"
    }
  },
  "cells": [
    {
      "cell_type": "markdown",
      "metadata": {
        "id": "view-in-github",
        "colab_type": "text"
      },
      "source": [
        "<a href=\"https://colab.research.google.com/github/Dushyanttara/colab_research/blob/master/Autogluon.ipynb\" target=\"_parent\"><img src=\"https://colab.research.google.com/assets/colab-badge.svg\" alt=\"Open In Colab\"/></a>"
      ]
    },
    {
      "cell_type": "markdown",
      "metadata": {
        "id": "L9N1h1GvE57p",
        "colab_type": "text"
      },
      "source": [
        "https://autogluon.mxnet.io/"
      ]
    },
    {
      "cell_type": "code",
      "metadata": {
        "id": "bXnIGqGGEjpt",
        "colab_type": "code",
        "colab": {
          "base_uri": "https://localhost:8080/",
          "height": 1000
        },
        "outputId": "8b25f535-2b3b-4852-9f5c-de39efbb6bc9"
      },
      "source": [
        "!pip install --upgrade mxnet\n",
        "!pip install autogluon"
      ],
      "execution_count": 1,
      "outputs": [
        {
          "output_type": "stream",
          "text": [
            "Collecting mxnet\n",
            "\u001b[?25l  Downloading https://files.pythonhosted.org/packages/81/f5/d79b5b40735086ff1100c680703e0f3efc830fa455e268e9e96f3c857e93/mxnet-1.6.0-py2.py3-none-any.whl (68.7MB)\n",
            "\u001b[K     |████████████████████████████████| 68.7MB 51kB/s \n",
            "\u001b[?25hCollecting graphviz<0.9.0,>=0.8.1\n",
            "  Downloading https://files.pythonhosted.org/packages/53/39/4ab213673844e0c004bed8a0781a0721a3f6bb23eb8854ee75c236428892/graphviz-0.8.4-py2.py3-none-any.whl\n",
            "Requirement already satisfied, skipping upgrade: numpy<2.0.0,>1.16.0 in /usr/local/lib/python3.6/dist-packages (from mxnet) (1.17.5)\n",
            "Requirement already satisfied, skipping upgrade: requests<3,>=2.20.0 in /usr/local/lib/python3.6/dist-packages (from mxnet) (2.21.0)\n",
            "Requirement already satisfied, skipping upgrade: urllib3<1.25,>=1.21.1 in /usr/local/lib/python3.6/dist-packages (from requests<3,>=2.20.0->mxnet) (1.24.3)\n",
            "Requirement already satisfied, skipping upgrade: certifi>=2017.4.17 in /usr/local/lib/python3.6/dist-packages (from requests<3,>=2.20.0->mxnet) (2019.11.28)\n",
            "Requirement already satisfied, skipping upgrade: idna<2.9,>=2.5 in /usr/local/lib/python3.6/dist-packages (from requests<3,>=2.20.0->mxnet) (2.8)\n",
            "Requirement already satisfied, skipping upgrade: chardet<3.1.0,>=3.0.2 in /usr/local/lib/python3.6/dist-packages (from requests<3,>=2.20.0->mxnet) (3.0.4)\n",
            "Installing collected packages: graphviz, mxnet\n",
            "  Found existing installation: graphviz 0.10.1\n",
            "    Uninstalling graphviz-0.10.1:\n",
            "      Successfully uninstalled graphviz-0.10.1\n",
            "Successfully installed graphviz-0.8.4 mxnet-1.6.0\n",
            "Collecting autogluon\n",
            "\u001b[?25l  Downloading https://files.pythonhosted.org/packages/a5/79/f75d8f1cf64384b4289250c8b3ad8cde3f7c25be603205b3506fc404d65a/autogluon-0.0.5-py3-none-any.whl (328kB)\n",
            "\u001b[K     |████████████████████████████████| 337kB 5.1MB/s \n",
            "\u001b[?25hRequirement already satisfied: graphviz in /usr/local/lib/python3.6/dist-packages (from autogluon) (0.8.4)\n",
            "Requirement already satisfied: requests in /usr/local/lib/python3.6/dist-packages (from autogluon) (2.21.0)\n",
            "Collecting gluonnlp==0.8.1\n",
            "\u001b[?25l  Downloading https://files.pythonhosted.org/packages/6e/2d/40c2ad37d74e5e9030064d73542b7df0f7df7ba98d47932874033cf03d79/gluonnlp-0.8.1.tar.gz (236kB)\n",
            "\u001b[K     |████████████████████████████████| 245kB 60.1MB/s \n",
            "\u001b[?25hCollecting tornado>=5.0.1\n",
            "\u001b[?25l  Downloading https://files.pythonhosted.org/packages/95/84/119a46d494f008969bf0c775cb2c6b3579d3c4cc1bb1b41a022aa93ee242/tornado-6.0.4.tar.gz (496kB)\n",
            "\u001b[K     |████████████████████████████████| 501kB 53.9MB/s \n",
            "\u001b[?25hCollecting gluoncv>=0.5.0\n",
            "\u001b[?25l  Downloading https://files.pythonhosted.org/packages/69/4d/d9d6b9261af8f7251977bb97be669a3908f72bdec9d3597e527712d384c2/gluoncv-0.6.0-py2.py3-none-any.whl (693kB)\n",
            "\u001b[K     |████████████████████████████████| 696kB 54.4MB/s \n",
            "\u001b[?25hCollecting lightgbm==2.3.0\n",
            "\u001b[?25l  Downloading https://files.pythonhosted.org/packages/05/ec/756f13b25258e0aa6ec82d98504e01523814f95fc70718407419b8520e1d/lightgbm-2.3.0-py2.py3-none-manylinux1_x86_64.whl (1.3MB)\n",
            "\u001b[K     |████████████████████████████████| 1.3MB 31.9MB/s \n",
            "\u001b[?25hRequirement already satisfied: numpy>=1.16.0 in /usr/local/lib/python3.6/dist-packages (from autogluon) (1.17.5)\n",
            "Collecting cryptography>=2.8\n",
            "\u001b[?25l  Downloading https://files.pythonhosted.org/packages/ca/9a/7cece52c46546e214e10811b36b2da52ce1ea7fa203203a629b8dfadad53/cryptography-2.8-cp34-abi3-manylinux2010_x86_64.whl (2.3MB)\n",
            "\u001b[K     |████████████████████████████████| 2.3MB 45.1MB/s \n",
            "\u001b[?25hCollecting Pillow<=6.2.1\n",
            "\u001b[?25l  Downloading https://files.pythonhosted.org/packages/10/5c/0e94e689de2476c4c5e644a3bd223a1c1b9e2bdb7c510191750be74fa786/Pillow-6.2.1-cp36-cp36m-manylinux1_x86_64.whl (2.1MB)\n",
            "\u001b[K     |████████████████████████████████| 2.1MB 38.1MB/s \n",
            "\u001b[?25hCollecting tqdm>=4.38.0\n",
            "\u001b[?25l  Downloading https://files.pythonhosted.org/packages/47/55/fd9170ba08a1a64a18a7f8a18f088037316f2a41be04d2fe6ece5a653e8f/tqdm-4.43.0-py2.py3-none-any.whl (59kB)\n",
            "\u001b[K     |████████████████████████████████| 61kB 6.7MB/s \n",
            "\u001b[?25hRequirement already satisfied: psutil>=5.0.0 in /usr/local/lib/python3.6/dist-packages (from autogluon) (5.4.8)\n",
            "Requirement already satisfied: matplotlib in /usr/local/lib/python3.6/dist-packages (from autogluon) (3.1.3)\n",
            "Collecting scikit-optimize\n",
            "\u001b[?25l  Downloading https://files.pythonhosted.org/packages/5c/87/310b52debfbc0cb79764e5770fa3f5c18f6f0754809ea9e2fc185e1b67d3/scikit_optimize-0.7.4-py2.py3-none-any.whl (80kB)\n",
            "\u001b[K     |████████████████████████████████| 81kB 10.5MB/s \n",
            "\u001b[?25hCollecting boto3==1.9.187\n",
            "\u001b[?25l  Downloading https://files.pythonhosted.org/packages/e7/f6/29b7254c051801ac182710bda0032c6d4bd20ea914c5f10d6eb3fc47e669/boto3-1.9.187-py2.py3-none-any.whl (128kB)\n",
            "\u001b[K     |████████████████████████████████| 133kB 49.4MB/s \n",
            "\u001b[?25hCollecting distributed==2.6.0\n",
            "\u001b[?25l  Downloading https://files.pythonhosted.org/packages/8b/11/8ce552c3bf61cdb798cfba19dcd10d07ecbdae26a8ba57fce85f19eb9205/distributed-2.6.0-py3-none-any.whl (560kB)\n",
            "\u001b[K     |████████████████████████████████| 563kB 44.2MB/s \n",
            "\u001b[?25hRequirement already satisfied: scipy>=1.3.3 in /usr/local/lib/python3.6/dist-packages (from autogluon) (1.4.1)\n",
            "Collecting paramiko>=2.5.0\n",
            "\u001b[?25l  Downloading https://files.pythonhosted.org/packages/06/1e/1e08baaaf6c3d3df1459fd85f0e7d2d6aa916f33958f151ee1ecc9800971/paramiko-2.7.1-py2.py3-none-any.whl (206kB)\n",
            "\u001b[K     |████████████████████████████████| 215kB 60.7MB/s \n",
            "\u001b[?25hRequirement already satisfied: pandas<1.0,>=0.24.0 in /usr/local/lib/python3.6/dist-packages (from autogluon) (0.25.3)\n",
            "Requirement already satisfied: cython in /usr/local/lib/python3.6/dist-packages (from autogluon) (0.29.15)\n",
            "Collecting ConfigSpace<=0.4.10\n",
            "\u001b[?25l  Downloading https://files.pythonhosted.org/packages/42/de/4e8e4f26332fc65404f52baa112defbf822b6738b60bfa6b2993f5c60933/ConfigSpace-0.4.10.tar.gz (882kB)\n",
            "\u001b[K     |████████████████████████████████| 890kB 50.5MB/s \n",
            "\u001b[?25hCollecting catboost\n",
            "\u001b[?25l  Downloading https://files.pythonhosted.org/packages/94/ec/12b9a42b2ea7dfe5b602f235692ab2b61ee1334ff34334a15902272869e8/catboost-0.22-cp36-none-manylinux1_x86_64.whl (64.4MB)\n",
            "\u001b[K     |████████████████████████████████| 64.4MB 144kB/s \n",
            "\u001b[?25hCollecting dask==2.6.0\n",
            "\u001b[?25l  Downloading https://files.pythonhosted.org/packages/f8/70/b7e55088c6a6c9d5e786c85738d92e99c4bf085fc4009d5ffe483cd6b44f/dask-2.6.0-py3-none-any.whl (760kB)\n",
            "\u001b[K     |████████████████████████████████| 768kB 48.8MB/s \n",
            "\u001b[?25hCollecting scikit-learn==0.21.2\n",
            "\u001b[?25l  Downloading https://files.pythonhosted.org/packages/85/04/49633f490f726da6e454fddc8e938bbb5bfed2001681118d3814c219b723/scikit_learn-0.21.2-cp36-cp36m-manylinux1_x86_64.whl (6.7MB)\n",
            "\u001b[K     |████████████████████████████████| 6.7MB 46.3MB/s \n",
            "\u001b[?25hRequirement already satisfied: certifi>=2017.4.17 in /usr/local/lib/python3.6/dist-packages (from requests->autogluon) (2019.11.28)\n",
            "Requirement already satisfied: urllib3<1.25,>=1.21.1 in /usr/local/lib/python3.6/dist-packages (from requests->autogluon) (1.24.3)\n",
            "Requirement already satisfied: chardet<3.1.0,>=3.0.2 in /usr/local/lib/python3.6/dist-packages (from requests->autogluon) (3.0.4)\n",
            "Requirement already satisfied: idna<2.9,>=2.5 in /usr/local/lib/python3.6/dist-packages (from requests->autogluon) (2.8)\n",
            "Collecting portalocker\n",
            "  Downloading https://files.pythonhosted.org/packages/91/db/7bc703c0760df726839e0699b7f78a4d8217fdc9c7fcb1b51b39c5a22a4e/portalocker-1.5.2-py2.py3-none-any.whl\n",
            "Requirement already satisfied: six>=1.4.1 in /usr/local/lib/python3.6/dist-packages (from cryptography>=2.8->autogluon) (1.12.0)\n",
            "Requirement already satisfied: cffi!=1.11.3,>=1.8 in /usr/local/lib/python3.6/dist-packages (from cryptography>=2.8->autogluon) (1.14.0)\n",
            "Requirement already satisfied: python-dateutil>=2.1 in /usr/local/lib/python3.6/dist-packages (from matplotlib->autogluon) (2.6.1)\n",
            "Requirement already satisfied: pyparsing!=2.0.4,!=2.1.2,!=2.1.6,>=2.0.1 in /usr/local/lib/python3.6/dist-packages (from matplotlib->autogluon) (2.4.6)\n",
            "Requirement already satisfied: cycler>=0.10 in /usr/local/lib/python3.6/dist-packages (from matplotlib->autogluon) (0.10.0)\n",
            "Requirement already satisfied: kiwisolver>=1.0.1 in /usr/local/lib/python3.6/dist-packages (from matplotlib->autogluon) (1.1.0)\n",
            "Collecting pyaml>=16.9\n",
            "  Downloading https://files.pythonhosted.org/packages/0c/c0/6ac03535d1c858ec5fe9ae5a4ad13bc5679b0ad70618f0571af861763c9c/pyaml-20.3.1-py2.py3-none-any.whl\n",
            "Requirement already satisfied: joblib>=0.11 in /usr/local/lib/python3.6/dist-packages (from scikit-optimize->autogluon) (0.14.1)\n",
            "Requirement already satisfied: jmespath<1.0.0,>=0.7.1 in /usr/local/lib/python3.6/dist-packages (from boto3==1.9.187->autogluon) (0.9.4)\n",
            "Collecting s3transfer<0.3.0,>=0.2.0\n",
            "\u001b[?25l  Downloading https://files.pythonhosted.org/packages/16/8a/1fc3dba0c4923c2a76e1ff0d52b305c44606da63f718d14d3231e21c51b0/s3transfer-0.2.1-py2.py3-none-any.whl (70kB)\n",
            "\u001b[K     |████████████████████████████████| 71kB 10.3MB/s \n",
            "\u001b[?25hCollecting botocore<1.13.0,>=1.12.187\n",
            "\u001b[?25l  Downloading https://files.pythonhosted.org/packages/8e/7b/88f10115b4748f86be6b7b1d8761ba5023fccf6e6cbe762e368f63eddcf9/botocore-1.12.253-py2.py3-none-any.whl (5.7MB)\n",
            "\u001b[K     |████████████████████████████████| 5.8MB 30.8MB/s \n",
            "\u001b[?25hRequirement already satisfied: click>=6.6 in /usr/local/lib/python3.6/dist-packages (from distributed==2.6.0->autogluon) (7.0)\n",
            "Requirement already satisfied: zict>=0.1.3 in /usr/local/lib/python3.6/dist-packages (from distributed==2.6.0->autogluon) (1.0.0)\n",
            "Requirement already satisfied: sortedcontainers!=2.0.0,!=2.0.1 in /usr/local/lib/python3.6/dist-packages (from distributed==2.6.0->autogluon) (2.1.0)\n",
            "Requirement already satisfied: toolz>=0.7.4 in /usr/local/lib/python3.6/dist-packages (from distributed==2.6.0->autogluon) (0.10.0)\n",
            "Requirement already satisfied: pyyaml in /usr/local/lib/python3.6/dist-packages (from distributed==2.6.0->autogluon) (3.13)\n",
            "Requirement already satisfied: cloudpickle>=0.2.2 in /usr/local/lib/python3.6/dist-packages (from distributed==2.6.0->autogluon) (1.2.2)\n",
            "Requirement already satisfied: tblib in /usr/local/lib/python3.6/dist-packages (from distributed==2.6.0->autogluon) (1.6.0)\n",
            "Requirement already satisfied: msgpack in /usr/local/lib/python3.6/dist-packages (from distributed==2.6.0->autogluon) (0.5.6)\n",
            "Collecting pynacl>=1.0.1\n",
            "\u001b[?25l  Downloading https://files.pythonhosted.org/packages/27/15/2cd0a203f318c2240b42cd9dd13c931ddd61067809fee3479f44f086103e/PyNaCl-1.3.0-cp34-abi3-manylinux1_x86_64.whl (759kB)\n",
            "\u001b[K     |████████████████████████████████| 768kB 50.3MB/s \n",
            "\u001b[?25hCollecting bcrypt>=3.1.3\n",
            "\u001b[?25l  Downloading https://files.pythonhosted.org/packages/8b/1d/82826443777dd4a624e38a08957b975e75df859b381ae302cfd7a30783ed/bcrypt-3.1.7-cp34-abi3-manylinux1_x86_64.whl (56kB)\n",
            "\u001b[K     |████████████████████████████████| 61kB 7.4MB/s \n",
            "\u001b[?25hRequirement already satisfied: pytz>=2017.2 in /usr/local/lib/python3.6/dist-packages (from pandas<1.0,>=0.24.0->autogluon) (2018.9)\n",
            "Requirement already satisfied: typing in /usr/local/lib/python3.6/dist-packages (from ConfigSpace<=0.4.10->autogluon) (3.6.6)\n",
            "Requirement already satisfied: plotly in /usr/local/lib/python3.6/dist-packages (from catboost->autogluon) (4.4.1)\n",
            "Requirement already satisfied: pycparser in /usr/local/lib/python3.6/dist-packages (from cffi!=1.11.3,>=1.8->cryptography>=2.8->autogluon) (2.19)\n",
            "Requirement already satisfied: setuptools in /usr/local/lib/python3.6/dist-packages (from kiwisolver>=1.0.1->matplotlib->autogluon) (45.2.0)\n",
            "Requirement already satisfied: docutils<0.16,>=0.10 in /usr/local/lib/python3.6/dist-packages (from botocore<1.13.0,>=1.12.187->boto3==1.9.187->autogluon) (0.15.2)\n",
            "Requirement already satisfied: heapdict in /usr/local/lib/python3.6/dist-packages (from zict>=0.1.3->distributed==2.6.0->autogluon) (1.0.1)\n",
            "Requirement already satisfied: retrying>=1.3.3 in /usr/local/lib/python3.6/dist-packages (from plotly->catboost->autogluon) (1.3.3)\n",
            "Building wheels for collected packages: gluonnlp, tornado, ConfigSpace\n",
            "  Building wheel for gluonnlp (setup.py) ... \u001b[?25l\u001b[?25hdone\n",
            "  Created wheel for gluonnlp: filename=gluonnlp-0.8.1-cp36-none-any.whl size=293521 sha256=77fca3da29f09b85263e65221bf8a6618d038c989a5b0b400e99b3db02591291\n",
            "  Stored in directory: /root/.cache/pip/wheels/3e/e7/3e/9cdf8ad7fce112fde2f4a52604045e5dd80f84d645bedb70c7\n",
            "  Building wheel for tornado (setup.py) ... \u001b[?25l\u001b[?25hdone\n",
            "  Created wheel for tornado: filename=tornado-6.0.4-cp36-cp36m-linux_x86_64.whl size=427643 sha256=60a4a8ebbbb876eeb0263340c95632de4b3dce5b84160329202ed3b5707e9f28\n",
            "  Stored in directory: /root/.cache/pip/wheels/93/84/2f/409c7b2bb3afc3aa727f7ee8787975e0793f74d1165f4d0104\n",
            "  Building wheel for ConfigSpace (setup.py) ... \u001b[?25l\u001b[?25hdone\n",
            "  Created wheel for ConfigSpace: filename=ConfigSpace-0.4.10-cp36-cp36m-linux_x86_64.whl size=2712263 sha256=a549e5abf1e302c60dc18e593a3219c073c873959c5002853153a7d0d558e594\n",
            "  Stored in directory: /root/.cache/pip/wheels/75/83/cb/28dd42bac69c8867d485138030daa83841c7f84afe68b2fdf7\n",
            "Successfully built gluonnlp tornado ConfigSpace\n",
            "\u001b[31mERROR: google-colab 1.0.0 has requirement tornado~=4.5.0, but you'll have tornado 6.0.4 which is incompatible.\u001b[0m\n",
            "\u001b[31mERROR: albumentations 0.1.12 has requirement imgaug<0.2.7,>=0.2.5, but you'll have imgaug 0.2.9 which is incompatible.\u001b[0m\n",
            "Installing collected packages: gluonnlp, tornado, portalocker, tqdm, Pillow, gluoncv, scikit-learn, lightgbm, cryptography, pyaml, scikit-optimize, botocore, s3transfer, boto3, dask, distributed, pynacl, bcrypt, paramiko, ConfigSpace, catboost, autogluon\n",
            "  Found existing installation: tornado 4.5.3\n",
            "    Uninstalling tornado-4.5.3:\n",
            "      Successfully uninstalled tornado-4.5.3\n",
            "  Found existing installation: tqdm 4.28.1\n",
            "    Uninstalling tqdm-4.28.1:\n",
            "      Successfully uninstalled tqdm-4.28.1\n",
            "  Found existing installation: Pillow 6.2.2\n",
            "    Uninstalling Pillow-6.2.2:\n",
            "      Successfully uninstalled Pillow-6.2.2\n",
            "  Found existing installation: scikit-learn 0.22.1\n",
            "    Uninstalling scikit-learn-0.22.1:\n",
            "      Successfully uninstalled scikit-learn-0.22.1\n",
            "  Found existing installation: lightgbm 2.2.3\n",
            "    Uninstalling lightgbm-2.2.3:\n",
            "      Successfully uninstalled lightgbm-2.2.3\n",
            "  Found existing installation: botocore 1.14.15\n",
            "    Uninstalling botocore-1.14.15:\n",
            "      Successfully uninstalled botocore-1.14.15\n",
            "  Found existing installation: s3transfer 0.3.3\n",
            "    Uninstalling s3transfer-0.3.3:\n",
            "      Successfully uninstalled s3transfer-0.3.3\n",
            "  Found existing installation: boto3 1.11.15\n",
            "    Uninstalling boto3-1.11.15:\n",
            "      Successfully uninstalled boto3-1.11.15\n",
            "  Found existing installation: dask 2.9.2\n",
            "    Uninstalling dask-2.9.2:\n",
            "      Successfully uninstalled dask-2.9.2\n",
            "  Found existing installation: distributed 1.25.3\n",
            "    Uninstalling distributed-1.25.3:\n",
            "      Successfully uninstalled distributed-1.25.3\n",
            "Successfully installed ConfigSpace-0.4.10 Pillow-6.2.1 autogluon-0.0.5 bcrypt-3.1.7 boto3-1.9.187 botocore-1.12.253 catboost-0.22 cryptography-2.8 dask-2.6.0 distributed-2.6.0 gluoncv-0.6.0 gluonnlp-0.8.1 lightgbm-2.3.0 paramiko-2.7.1 portalocker-1.5.2 pyaml-20.3.1 pynacl-1.3.0 s3transfer-0.2.1 scikit-learn-0.21.2 scikit-optimize-0.7.4 tornado-6.0.4 tqdm-4.43.0\n"
          ],
          "name": "stdout"
        },
        {
          "output_type": "display_data",
          "data": {
            "application/vnd.colab-display-data+json": {
              "pip_warning": {
                "packages": [
                  "PIL",
                  "tornado",
                  "tqdm"
                ]
              }
            }
          },
          "metadata": {
            "tags": []
          }
        }
      ]
    },
    {
      "cell_type": "code",
      "metadata": {
        "id": "dhJNkb2DPpcN",
        "colab_type": "code",
        "colab": {
          "base_uri": "https://localhost:8080/",
          "height": 646
        },
        "outputId": "a12c4a6f-6082-4659-fe51-ee91d87d5a68"
      },
      "source": [
        "pip install -U ipykernel"
      ],
      "execution_count": 2,
      "outputs": [
        {
          "output_type": "stream",
          "text": [
            "Collecting ipykernel\n",
            "\u001b[?25l  Downloading https://files.pythonhosted.org/packages/d7/62/d1a5d654b7a21bd3eb99be1b59a608cc18a7a08ed88495457a87c40a0495/ipykernel-5.1.4-py3-none-any.whl (116kB)\n",
            "\r\u001b[K     |██▉                             | 10kB 20.8MB/s eta 0:00:01\r\u001b[K     |█████▋                          | 20kB 3.2MB/s eta 0:00:01\r\u001b[K     |████████▍                       | 30kB 4.6MB/s eta 0:00:01\r\u001b[K     |███████████▏                    | 40kB 3.0MB/s eta 0:00:01\r\u001b[K     |██████████████                  | 51kB 3.7MB/s eta 0:00:01\r\u001b[K     |████████████████▉               | 61kB 4.4MB/s eta 0:00:01\r\u001b[K     |███████████████████▋            | 71kB 5.0MB/s eta 0:00:01\r\u001b[K     |██████████████████████▍         | 81kB 5.7MB/s eta 0:00:01\r\u001b[K     |█████████████████████████▎      | 92kB 4.4MB/s eta 0:00:01\r\u001b[K     |████████████████████████████    | 102kB 4.9MB/s eta 0:00:01\r\u001b[K     |██████████████████████████████▉ | 112kB 4.9MB/s eta 0:00:01\r\u001b[K     |████████████████████████████████| 122kB 4.9MB/s \n",
            "\u001b[?25hRequirement already satisfied, skipping upgrade: traitlets>=4.1.0 in /usr/local/lib/python3.6/dist-packages (from ipykernel) (4.3.3)\n",
            "Requirement already satisfied, skipping upgrade: tornado>=4.2 in /usr/local/lib/python3.6/dist-packages (from ipykernel) (6.0.4)\n",
            "Requirement already satisfied, skipping upgrade: jupyter-client in /usr/local/lib/python3.6/dist-packages (from ipykernel) (5.3.4)\n",
            "Requirement already satisfied, skipping upgrade: ipython>=5.0.0 in /usr/local/lib/python3.6/dist-packages (from ipykernel) (5.5.0)\n",
            "Requirement already satisfied, skipping upgrade: decorator in /usr/local/lib/python3.6/dist-packages (from traitlets>=4.1.0->ipykernel) (4.4.1)\n",
            "Requirement already satisfied, skipping upgrade: ipython-genutils in /usr/local/lib/python3.6/dist-packages (from traitlets>=4.1.0->ipykernel) (0.2.0)\n",
            "Requirement already satisfied, skipping upgrade: six in /usr/local/lib/python3.6/dist-packages (from traitlets>=4.1.0->ipykernel) (1.12.0)\n",
            "Requirement already satisfied, skipping upgrade: pyzmq>=13 in /usr/local/lib/python3.6/dist-packages (from jupyter-client->ipykernel) (17.0.0)\n",
            "Requirement already satisfied, skipping upgrade: python-dateutil>=2.1 in /usr/local/lib/python3.6/dist-packages (from jupyter-client->ipykernel) (2.6.1)\n",
            "Requirement already satisfied, skipping upgrade: jupyter-core>=4.6.0 in /usr/local/lib/python3.6/dist-packages (from jupyter-client->ipykernel) (4.6.2)\n",
            "Requirement already satisfied, skipping upgrade: pexpect; sys_platform != \"win32\" in /usr/local/lib/python3.6/dist-packages (from ipython>=5.0.0->ipykernel) (4.8.0)\n",
            "Requirement already satisfied, skipping upgrade: pickleshare in /usr/local/lib/python3.6/dist-packages (from ipython>=5.0.0->ipykernel) (0.7.5)\n",
            "Requirement already satisfied, skipping upgrade: setuptools>=18.5 in /usr/local/lib/python3.6/dist-packages (from ipython>=5.0.0->ipykernel) (45.2.0)\n",
            "Requirement already satisfied, skipping upgrade: prompt-toolkit<2.0.0,>=1.0.4 in /usr/local/lib/python3.6/dist-packages (from ipython>=5.0.0->ipykernel) (1.0.18)\n",
            "Requirement already satisfied, skipping upgrade: pygments in /usr/local/lib/python3.6/dist-packages (from ipython>=5.0.0->ipykernel) (2.1.3)\n",
            "Requirement already satisfied, skipping upgrade: simplegeneric>0.8 in /usr/local/lib/python3.6/dist-packages (from ipython>=5.0.0->ipykernel) (0.8.1)\n",
            "Requirement already satisfied, skipping upgrade: ptyprocess>=0.5 in /usr/local/lib/python3.6/dist-packages (from pexpect; sys_platform != \"win32\"->ipython>=5.0.0->ipykernel) (0.6.0)\n",
            "Requirement already satisfied, skipping upgrade: wcwidth in /usr/local/lib/python3.6/dist-packages (from prompt-toolkit<2.0.0,>=1.0.4->ipython>=5.0.0->ipykernel) (0.1.8)\n",
            "\u001b[31mERROR: google-colab 1.0.0 has requirement ipykernel~=4.6.0, but you'll have ipykernel 5.1.4 which is incompatible.\u001b[0m\n",
            "\u001b[31mERROR: google-colab 1.0.0 has requirement tornado~=4.5.0, but you'll have tornado 6.0.4 which is incompatible.\u001b[0m\n",
            "Installing collected packages: ipykernel\n",
            "  Found existing installation: ipykernel 4.6.1\n",
            "    Uninstalling ipykernel-4.6.1:\n",
            "      Successfully uninstalled ipykernel-4.6.1\n",
            "Successfully installed ipykernel-5.1.4\n"
          ],
          "name": "stdout"
        },
        {
          "output_type": "display_data",
          "data": {
            "application/vnd.colab-display-data+json": {
              "pip_warning": {
                "packages": [
                  "ipykernel"
                ]
              }
            }
          },
          "metadata": {
            "tags": []
          }
        }
      ]
    },
    {
      "cell_type": "code",
      "metadata": {
        "id": "fodbF9KnFBnq",
        "colab_type": "code",
        "colab": {
          "base_uri": "https://localhost:8080/",
          "height": 71
        },
        "outputId": "979027ae-c1e9-47d7-ff38-39637be0aeb5"
      },
      "source": [
        "import autogluon as ag\n",
        "import pandas as pd\n",
        "import numpy as np\n",
        "import os, urllib"
      ],
      "execution_count": 1,
      "outputs": [
        {
          "output_type": "stream",
          "text": [
            "/usr/local/lib/python3.6/dist-packages/mxnet/optimizer/optimizer.py:167: UserWarning: WARNING: New optimizer gluonnlp.optimizer.lamb.LAMB is overriding existing optimizer mxnet.optimizer.optimizer.LAMB\n",
            "  Optimizer.opt_registry[name].__name__))\n"
          ],
          "name": "stderr"
        }
      ]
    },
    {
      "cell_type": "code",
      "metadata": {
        "id": "VGh4JgI7FWCu",
        "colab_type": "code",
        "colab": {}
      },
      "source": [
        "from autogluon import TabularPrediction as task"
      ],
      "execution_count": 0,
      "outputs": []
    },
    {
      "cell_type": "code",
      "metadata": {
        "id": "YJmtZliyFaXC",
        "colab_type": "code",
        "colab": {
          "base_uri": "https://localhost:8080/",
          "height": 51
        },
        "outputId": "84768f2f-78a1-410e-eb70-188f397accbd"
      },
      "source": [
        "train_data = task.Dataset(file_path='https://autogluon.s3.amazonaws.com/datasets/Inc/train.csv')\n",
        "test_data = task.Dataset(file_path='https://autogluon.s3.amazonaws.com/datasets/Inc/test.csv')"
      ],
      "execution_count": 3,
      "outputs": [
        {
          "output_type": "stream",
          "text": [
            "Loaded data from: https://autogluon.s3.amazonaws.com/datasets/Inc/train.csv | Columns = 15 / 15 | Rows = 39073 -> 39073\n",
            "Loaded data from: https://autogluon.s3.amazonaws.com/datasets/Inc/test.csv | Columns = 15 / 15 | Rows = 9769 -> 9769\n"
          ],
          "name": "stderr"
        }
      ]
    },
    {
      "cell_type": "code",
      "metadata": {
        "id": "SL-b6jRJP7p_",
        "colab_type": "code",
        "colab": {
          "base_uri": "https://localhost:8080/",
          "height": 153
        },
        "outputId": "a7733ab9-f488-42b7-c316-ce10a97be4ba"
      },
      "source": [
        "print(train_data.head())"
      ],
      "execution_count": 4,
      "outputs": [
        {
          "output_type": "stream",
          "text": [
            "   age   workclass  fnlwgt  ... hours-per-week  native-country   class\n",
            "0   25     Private  178478  ...             40   United-States   <=50K\n",
            "1   23   State-gov   61743  ...             35   United-States   <=50K\n",
            "2   46     Private  376789  ...             15   United-States   <=50K\n",
            "3   55           ?  200235  ...             50   United-States    >50K\n",
            "4   36     Private  224541  ...             40     El-Salvador   <=50K\n",
            "\n",
            "[5 rows x 15 columns]\n"
          ],
          "name": "stdout"
        }
      ]
    },
    {
      "cell_type": "code",
      "metadata": {
        "id": "WvQe7amaQnuL",
        "colab_type": "code",
        "colab": {
          "base_uri": "https://localhost:8080/",
          "height": 204
        },
        "outputId": "359ebee6-8220-4271-fff6-d0ecde620555"
      },
      "source": [
        "print(train_data.describe())"
      ],
      "execution_count": 5,
      "outputs": [
        {
          "output_type": "stream",
          "text": [
            "                age        fnlwgt  ...  capital-loss  hours-per-week\n",
            "count  39073.000000  3.907300e+04  ...  39073.000000    39073.000000\n",
            "mean      38.616743  1.899605e+05  ...     88.002866       40.407673\n",
            "std       13.718529  1.055563e+05  ...    403.732117       12.362809\n",
            "min       17.000000  1.349200e+04  ...      0.000000        1.000000\n",
            "25%       28.000000  1.177740e+05  ...      0.000000       40.000000\n",
            "50%       37.000000  1.783410e+05  ...      0.000000       40.000000\n",
            "75%       48.000000  2.383420e+05  ...      0.000000       45.000000\n",
            "max       90.000000  1.490400e+06  ...   4356.000000       99.000000\n",
            "\n",
            "[8 rows x 6 columns]\n"
          ],
          "name": "stdout"
        }
      ]
    },
    {
      "cell_type": "code",
      "metadata": {
        "id": "cJJu4OTNQvp-",
        "colab_type": "code",
        "colab": {
          "base_uri": "https://localhost:8080/",
          "height": 1000
        },
        "outputId": "65dcea52-a92b-4c4c-e472-f6e5a50989f3"
      },
      "source": [
        "predictor = task.fit(train_data=train_data, label='class')\n",
        "performance = predictor.evaluate(test_data)"
      ],
      "execution_count": 6,
      "outputs": [
        {
          "output_type": "stream",
          "text": [
            "No output_directory specified. Models will be saved in: AutogluonModels/ag-20200316_165256/\n",
            "Beginning AutoGluon training ...\n",
            "AutoGluon will save models to AutogluonModels/ag-20200316_165256/\n",
            "Train Data Rows:    39073\n",
            "Train Data Columns: 15\n",
            "Preprocessing data ...\n",
            "Here are the first 10 unique label values in your data:  [' <=50K' ' >50K']\n",
            "AutoGluon infers your prediction problem is: binary  (because only two unique label-values observed)\n",
            "If this is wrong, please specify `problem_type` argument in fit() instead (You may specify problem_type as one of: ['binary', 'multiclass', 'regression'])\n",
            "\n",
            "Warning: Updated label_count_threshold from 10 to 16 to avoid cutting too many classes.\n",
            "Selected class <--> label mapping:  class 1 =  >50K, class 0 =  <=50K\n",
            "Feature Generator processed 39073 data points with 14 features\n",
            "Original Features:\n",
            "\tint features: 6\n",
            "\tobject features: 8\n",
            "Generated Features:\n",
            "\tint features: 0\n",
            "All Features:\n",
            "\tint features: 6\n",
            "\tobject features: 8\n",
            "\tData preprocessing and feature engineering runtime = 0.31s ...\n",
            "AutoGluon will gauge predictive performance using evaluation metric: accuracy\n",
            "To change this, specify the eval_metric argument of fit()\n",
            "AutoGluon will early stop models using evaluation metric: accuracy\n",
            "Fitting model: RandomForestClassifierGini ...\n",
            "\t0.85\t = Validation accuracy score\n",
            "\t9.86s\t = Training runtime\n",
            "\t0.32s\t = Validation runtime\n",
            "Fitting model: RandomForestClassifierEntr ...\n",
            "\t0.8484\t = Validation accuracy score\n",
            "\t12.88s\t = Training runtime\n",
            "\t0.32s\t = Validation runtime\n",
            "Fitting model: ExtraTreesClassifierGini ...\n",
            "\t0.8412\t = Validation accuracy score\n",
            "\t8.06s\t = Training runtime\n",
            "\t0.32s\t = Validation runtime\n",
            "Fitting model: ExtraTreesClassifierEntr ...\n",
            "\t0.8448\t = Validation accuracy score\n",
            "\t9.07s\t = Training runtime\n",
            "\t0.32s\t = Validation runtime\n",
            "Fitting model: KNeighborsClassifierUnif ...\n",
            "\t0.7736\t = Validation accuracy score\n",
            "\t0.2s\t = Training runtime\n",
            "\t0.11s\t = Validation runtime\n",
            "Fitting model: KNeighborsClassifierDist ...\n",
            "\t0.7644\t = Validation accuracy score\n",
            "\t0.2s\t = Training runtime\n",
            "\t0.11s\t = Validation runtime\n",
            "Fitting model: LightGBMClassifier ...\n",
            "\t0.8672\t = Validation accuracy score\n",
            "\t2.31s\t = Training runtime\n",
            "\t0.03s\t = Validation runtime\n",
            "Fitting model: CatboostClassifier ...\n",
            "\t0.8688\t = Validation accuracy score\n",
            "\t22.89s\t = Training runtime\n",
            "\t0.03s\t = Validation runtime\n",
            "Fitting model: NeuralNetClassifier ...\n",
            "\t0.8572\t = Validation accuracy score\n",
            "\t554.65s\t = Training runtime\n",
            "\t0.52s\t = Validation runtime\n",
            "Fitting model: LightGBMClassifierCustom ...\n",
            "\t0.8676\t = Validation accuracy score\n",
            "\t3.41s\t = Training runtime\n",
            "\t0.05s\t = Validation runtime\n",
            "Fitting model: weighted_ensemble_k0_l1 ...\n",
            "\t0.872\t = Validation accuracy score\n",
            "\t1.47s\t = Training runtime\n",
            "\t0.0s\t = Validation runtime\n",
            "AutoGluon training complete, total runtime = 638.63s ...\n"
          ],
          "name": "stderr"
        },
        {
          "output_type": "stream",
          "text": [
            "Predictive performance on given dataset: accuracy = 0.8760364418057119\n"
          ],
          "name": "stdout"
        }
      ]
    },
    {
      "cell_type": "code",
      "metadata": {
        "id": "ZGndGU4zQyTI",
        "colab_type": "code",
        "colab": {
          "base_uri": "https://localhost:8080/",
          "height": 594
        },
        "outputId": "aca05636-9330-466a-c7c4-41189c47e213"
      },
      "source": [
        "predictor.leaderboard(test_data)"
      ],
      "execution_count": 7,
      "outputs": [
        {
          "output_type": "stream",
          "text": [
            "                         model  score_test  score_val    fit_time  pred_time_test_full  pred_time_test  pred_time_val  stack_level\n",
            "0      weighted_ensemble_k0_l1    0.876036     0.8720    1.465982             5.230171        0.005322       0.002157            1\n",
            "1           CatboostClassifier    0.875832     0.8688   22.890650             0.044323        0.044323       0.027872            0\n",
            "2           LightGBMClassifier    0.875729     0.8672    2.313967             0.076723        0.076723       0.032361            0\n",
            "3     LightGBMClassifierCustom    0.874092     0.8676    3.412483             0.120118        0.120118       0.046425            0\n",
            "4   RandomForestClassifierGini    0.860272     0.8500    9.862086             0.617488        0.617488       0.321516            0\n",
            "5   RandomForestClassifierEntr    0.859351     0.8484   12.875602             0.617666        0.617666       0.316293            0\n",
            "6          NeuralNetClassifier    0.857406     0.8572  554.652556             1.885207        1.885207       0.523400            0\n",
            "7     ExtraTreesClassifierEntr    0.846863     0.8448    9.071833             0.817134        0.817134       0.320603            0\n",
            "8     ExtraTreesClassifierGini    0.846453     0.8412    8.057260             0.822084        0.822084       0.319441            0\n",
            "9     KNeighborsClassifierUnif    0.774695     0.7736    0.200486             0.113186        0.113186       0.111572            0\n",
            "10    KNeighborsClassifierDist    0.762105     0.7644    0.201858             0.110920        0.110920       0.114314            0\n"
          ],
          "name": "stdout"
        },
        {
          "output_type": "execute_result",
          "data": {
            "text/html": [
              "<div>\n",
              "<style scoped>\n",
              "    .dataframe tbody tr th:only-of-type {\n",
              "        vertical-align: middle;\n",
              "    }\n",
              "\n",
              "    .dataframe tbody tr th {\n",
              "        vertical-align: top;\n",
              "    }\n",
              "\n",
              "    .dataframe thead th {\n",
              "        text-align: right;\n",
              "    }\n",
              "</style>\n",
              "<table border=\"1\" class=\"dataframe\">\n",
              "  <thead>\n",
              "    <tr style=\"text-align: right;\">\n",
              "      <th></th>\n",
              "      <th>model</th>\n",
              "      <th>score_test</th>\n",
              "      <th>score_val</th>\n",
              "      <th>fit_time</th>\n",
              "      <th>pred_time_test_full</th>\n",
              "      <th>pred_time_test</th>\n",
              "      <th>pred_time_val</th>\n",
              "      <th>stack_level</th>\n",
              "    </tr>\n",
              "  </thead>\n",
              "  <tbody>\n",
              "    <tr>\n",
              "      <th>0</th>\n",
              "      <td>weighted_ensemble_k0_l1</td>\n",
              "      <td>0.876036</td>\n",
              "      <td>0.8720</td>\n",
              "      <td>1.465982</td>\n",
              "      <td>5.230171</td>\n",
              "      <td>0.005322</td>\n",
              "      <td>0.002157</td>\n",
              "      <td>1</td>\n",
              "    </tr>\n",
              "    <tr>\n",
              "      <th>1</th>\n",
              "      <td>CatboostClassifier</td>\n",
              "      <td>0.875832</td>\n",
              "      <td>0.8688</td>\n",
              "      <td>22.890650</td>\n",
              "      <td>0.044323</td>\n",
              "      <td>0.044323</td>\n",
              "      <td>0.027872</td>\n",
              "      <td>0</td>\n",
              "    </tr>\n",
              "    <tr>\n",
              "      <th>2</th>\n",
              "      <td>LightGBMClassifier</td>\n",
              "      <td>0.875729</td>\n",
              "      <td>0.8672</td>\n",
              "      <td>2.313967</td>\n",
              "      <td>0.076723</td>\n",
              "      <td>0.076723</td>\n",
              "      <td>0.032361</td>\n",
              "      <td>0</td>\n",
              "    </tr>\n",
              "    <tr>\n",
              "      <th>3</th>\n",
              "      <td>LightGBMClassifierCustom</td>\n",
              "      <td>0.874092</td>\n",
              "      <td>0.8676</td>\n",
              "      <td>3.412483</td>\n",
              "      <td>0.120118</td>\n",
              "      <td>0.120118</td>\n",
              "      <td>0.046425</td>\n",
              "      <td>0</td>\n",
              "    </tr>\n",
              "    <tr>\n",
              "      <th>4</th>\n",
              "      <td>RandomForestClassifierGini</td>\n",
              "      <td>0.860272</td>\n",
              "      <td>0.8500</td>\n",
              "      <td>9.862086</td>\n",
              "      <td>0.617488</td>\n",
              "      <td>0.617488</td>\n",
              "      <td>0.321516</td>\n",
              "      <td>0</td>\n",
              "    </tr>\n",
              "    <tr>\n",
              "      <th>5</th>\n",
              "      <td>RandomForestClassifierEntr</td>\n",
              "      <td>0.859351</td>\n",
              "      <td>0.8484</td>\n",
              "      <td>12.875602</td>\n",
              "      <td>0.617666</td>\n",
              "      <td>0.617666</td>\n",
              "      <td>0.316293</td>\n",
              "      <td>0</td>\n",
              "    </tr>\n",
              "    <tr>\n",
              "      <th>6</th>\n",
              "      <td>NeuralNetClassifier</td>\n",
              "      <td>0.857406</td>\n",
              "      <td>0.8572</td>\n",
              "      <td>554.652556</td>\n",
              "      <td>1.885207</td>\n",
              "      <td>1.885207</td>\n",
              "      <td>0.523400</td>\n",
              "      <td>0</td>\n",
              "    </tr>\n",
              "    <tr>\n",
              "      <th>7</th>\n",
              "      <td>ExtraTreesClassifierEntr</td>\n",
              "      <td>0.846863</td>\n",
              "      <td>0.8448</td>\n",
              "      <td>9.071833</td>\n",
              "      <td>0.817134</td>\n",
              "      <td>0.817134</td>\n",
              "      <td>0.320603</td>\n",
              "      <td>0</td>\n",
              "    </tr>\n",
              "    <tr>\n",
              "      <th>8</th>\n",
              "      <td>ExtraTreesClassifierGini</td>\n",
              "      <td>0.846453</td>\n",
              "      <td>0.8412</td>\n",
              "      <td>8.057260</td>\n",
              "      <td>0.822084</td>\n",
              "      <td>0.822084</td>\n",
              "      <td>0.319441</td>\n",
              "      <td>0</td>\n",
              "    </tr>\n",
              "    <tr>\n",
              "      <th>9</th>\n",
              "      <td>KNeighborsClassifierUnif</td>\n",
              "      <td>0.774695</td>\n",
              "      <td>0.7736</td>\n",
              "      <td>0.200486</td>\n",
              "      <td>0.113186</td>\n",
              "      <td>0.113186</td>\n",
              "      <td>0.111572</td>\n",
              "      <td>0</td>\n",
              "    </tr>\n",
              "    <tr>\n",
              "      <th>10</th>\n",
              "      <td>KNeighborsClassifierDist</td>\n",
              "      <td>0.762105</td>\n",
              "      <td>0.7644</td>\n",
              "      <td>0.201858</td>\n",
              "      <td>0.110920</td>\n",
              "      <td>0.110920</td>\n",
              "      <td>0.114314</td>\n",
              "      <td>0</td>\n",
              "    </tr>\n",
              "  </tbody>\n",
              "</table>\n",
              "</div>"
            ],
            "text/plain": [
              "                         model  score_test  ...  pred_time_val  stack_level\n",
              "0      weighted_ensemble_k0_l1    0.876036  ...       0.002157            1\n",
              "1           CatboostClassifier    0.875832  ...       0.027872            0\n",
              "2           LightGBMClassifier    0.875729  ...       0.032361            0\n",
              "3     LightGBMClassifierCustom    0.874092  ...       0.046425            0\n",
              "4   RandomForestClassifierGini    0.860272  ...       0.321516            0\n",
              "5   RandomForestClassifierEntr    0.859351  ...       0.316293            0\n",
              "6          NeuralNetClassifier    0.857406  ...       0.523400            0\n",
              "7     ExtraTreesClassifierEntr    0.846863  ...       0.320603            0\n",
              "8     ExtraTreesClassifierGini    0.846453  ...       0.319441            0\n",
              "9     KNeighborsClassifierUnif    0.774695  ...       0.111572            0\n",
              "10    KNeighborsClassifierDist    0.762105  ...       0.114314            0\n",
              "\n",
              "[11 rows x 8 columns]"
            ]
          },
          "metadata": {
            "tags": []
          },
          "execution_count": 7
        }
      ]
    },
    {
      "cell_type": "code",
      "metadata": {
        "id": "l2uUFYIGQ_Ft",
        "colab_type": "code",
        "colab": {
          "base_uri": "https://localhost:8080/",
          "height": 1000
        },
        "outputId": "d3fb31ba-951b-4e38-cc71-7d08368d696e"
      },
      "source": [
        "predictor.fit_summary()"
      ],
      "execution_count": 8,
      "outputs": [
        {
          "output_type": "stream",
          "text": [
            "*** Summary of fit() ***\n",
            "Number of models trained: 11\n",
            "Types of models trained: \n",
            "{'CatboostModel', 'WeightedEnsembleModel', 'RFModel', 'TabularNeuralNetModel', 'LGBModel', 'KNNModel'}\n",
            "Validation performance of individual models: {'RandomForestClassifierGini': 0.85, 'RandomForestClassifierEntr': 0.8484, 'ExtraTreesClassifierGini': 0.8412, 'ExtraTreesClassifierEntr': 0.8448, 'KNeighborsClassifierUnif': 0.7736, 'KNeighborsClassifierDist': 0.7644, 'LightGBMClassifier': 0.8672, 'CatboostClassifier': 0.8688, 'NeuralNetClassifier': 0.8572, 'LightGBMClassifierCustom': 0.8676, 'weighted_ensemble_k0_l1': 0.872}\n",
            "Best model (based on validation performance): weighted_ensemble_k0_l1\n",
            "Hyperparameter-tuning used: False\n",
            "Bagging used: False \n",
            "Stack-ensembling used: False \n",
            "User-specified hyperparameters:\n",
            "{'NN': {'num_epochs': 500}, 'GBM': {'num_boost_round': 10000}, 'CAT': {'iterations': 10000}, 'RF': {'n_estimators': 300}, 'XT': {'n_estimators': 300}, 'KNN': {}, 'custom': ['GBM']}\n",
            "Plot summary of models saved to file: SummaryOfModels.html\n",
            "*** End of fit() summary ***\n"
          ],
          "name": "stdout"
        },
        {
          "output_type": "execute_result",
          "data": {
            "text/plain": [
              "{'feature_prune': False,\n",
              " 'hyperparameter_tune': False,\n",
              " 'hyperparameters_userspecified': {'CAT': {'iterations': 10000},\n",
              "  'GBM': {'num_boost_round': 10000},\n",
              "  'KNN': {},\n",
              "  'NN': {'num_epochs': 500},\n",
              "  'RF': {'n_estimators': 300},\n",
              "  'XT': {'n_estimators': 300},\n",
              "  'custom': ['GBM']},\n",
              " 'model_best': 'weighted_ensemble_k0_l1',\n",
              " 'model_fit_times': {'CatboostClassifier': 22.890650033950806,\n",
              "  'ExtraTreesClassifierEntr': 9.07183313369751,\n",
              "  'ExtraTreesClassifierGini': 8.057259798049927,\n",
              "  'KNeighborsClassifierDist': 0.2018580436706543,\n",
              "  'KNeighborsClassifierUnif': 0.2004861831665039,\n",
              "  'LightGBMClassifier': 2.313967227935791,\n",
              "  'LightGBMClassifierCustom': 3.412482738494873,\n",
              "  'NeuralNetClassifier': 554.6525559425354,\n",
              "  'RandomForestClassifierEntr': 12.875602006912231,\n",
              "  'RandomForestClassifierGini': 9.862085819244385,\n",
              "  'weighted_ensemble_k0_l1': 1.465982437133789},\n",
              " 'model_hyperparams': {'CatboostClassifier': {'eval_metric': 'Accuracy',\n",
              "   'iterations': 10000,\n",
              "   'learning_rate': 0.1,\n",
              "   'random_seed': 0},\n",
              "  'ExtraTreesClassifierEntr': {'criterion': 'entropy',\n",
              "   'model_type': 'xt',\n",
              "   'n_estimators': 300,\n",
              "   'n_jobs': -1},\n",
              "  'ExtraTreesClassifierGini': {'criterion': 'gini',\n",
              "   'model_type': 'xt',\n",
              "   'n_estimators': 300,\n",
              "   'n_jobs': -1},\n",
              "  'KNeighborsClassifierDist': {'n_jobs': -1, 'weights': 'distance'},\n",
              "  'KNeighborsClassifierUnif': {'n_jobs': -1, 'weights': 'uniform'},\n",
              "  'LightGBMClassifier': {'boosting_type': 'gbdt',\n",
              "   'metric': 'binary_logloss,binary_error',\n",
              "   'num_boost_round': 10000,\n",
              "   'num_threads': -1,\n",
              "   'objective': 'binary',\n",
              "   'two_round': True,\n",
              "   'verbose': -1},\n",
              "  'LightGBMClassifierCustom': {'boosting_type': 'gbdt',\n",
              "   'feature_fraction': 0.9,\n",
              "   'learning_rate': 0.03,\n",
              "   'metric': 'binary_logloss,binary_error',\n",
              "   'min_data_in_leaf': 5,\n",
              "   'num_boost_round': 10000,\n",
              "   'num_leaves': 128,\n",
              "   'num_threads': -1,\n",
              "   'objective': 'binary',\n",
              "   'seed_value': 0,\n",
              "   'two_round': True,\n",
              "   'verbose': -1},\n",
              "  'NeuralNetClassifier': {'activation': 'relu',\n",
              "   'batch_size': 512,\n",
              "   'clip_gradient': 100.0,\n",
              "   'ctx': cpu(0),\n",
              "   'dropout_prob': 0.1,\n",
              "   'embed_exponent': 0.56,\n",
              "   'embedding_size_factor': 1.0,\n",
              "   'epochs_wo_improve': 20,\n",
              "   'layers': [256, 128],\n",
              "   'learning_rate': 0.0003,\n",
              "   'loss_function': SoftmaxCrossEntropyLoss(batch_axis=0, w=None),\n",
              "   'max_embedding_dim': 100,\n",
              "   'max_layer_width': 2056,\n",
              "   'momentum': 0.9,\n",
              "   'network_type': 'widedeep',\n",
              "   'num_dataloading_workers': 1,\n",
              "   'num_epochs': 500,\n",
              "   'numeric_embed_dim': 160,\n",
              "   'optimizer': 'adam',\n",
              "   'proc.embed_min_categories': 4,\n",
              "   'proc.impute_strategy': 'median',\n",
              "   'proc.max_category_levels': 100,\n",
              "   'proc.skew_threshold': 0.99,\n",
              "   'seed_value': None,\n",
              "   'use_batchnorm': True,\n",
              "   'weight_decay': 1e-06,\n",
              "   'y_range': None,\n",
              "   'y_range_extend': 0.05},\n",
              "  'RandomForestClassifierEntr': {'criterion': 'entropy',\n",
              "   'model_type': 'rf',\n",
              "   'n_estimators': 300,\n",
              "   'n_jobs': -1},\n",
              "  'RandomForestClassifierGini': {'criterion': 'gini',\n",
              "   'model_type': 'rf',\n",
              "   'n_estimators': 300,\n",
              "   'n_jobs': -1},\n",
              "  'weighted_ensemble_k0_l1': {'max_models': 25, 'max_models_per_type': 5}},\n",
              " 'model_paths': {'CatboostClassifier': 'AutogluonModels/ag-20200316_165256/models/CatboostClassifier/',\n",
              "  'ExtraTreesClassifierEntr': 'AutogluonModels/ag-20200316_165256/models/ExtraTreesClassifierEntr/',\n",
              "  'ExtraTreesClassifierGini': 'AutogluonModels/ag-20200316_165256/models/ExtraTreesClassifierGini/',\n",
              "  'KNeighborsClassifierDist': 'AutogluonModels/ag-20200316_165256/models/KNeighborsClassifierDist/',\n",
              "  'KNeighborsClassifierUnif': 'AutogluonModels/ag-20200316_165256/models/KNeighborsClassifierUnif/',\n",
              "  'LightGBMClassifier': 'AutogluonModels/ag-20200316_165256/models/LightGBMClassifier/',\n",
              "  'LightGBMClassifierCustom': 'AutogluonModels/ag-20200316_165256/models/LightGBMClassifierCustom/',\n",
              "  'NeuralNetClassifier': 'AutogluonModels/ag-20200316_165256/models/NeuralNetClassifier/',\n",
              "  'RandomForestClassifierEntr': 'AutogluonModels/ag-20200316_165256/models/RandomForestClassifierEntr/',\n",
              "  'RandomForestClassifierGini': 'AutogluonModels/ag-20200316_165256/models/RandomForestClassifierGini/',\n",
              "  'weighted_ensemble_k0_l1': 'AutogluonModels/ag-20200316_165256/models/weighted_ensemble_k0_l1/'},\n",
              " 'model_performance': {'CatboostClassifier': 0.8688,\n",
              "  'ExtraTreesClassifierEntr': 0.8448,\n",
              "  'ExtraTreesClassifierGini': 0.8412,\n",
              "  'KNeighborsClassifierDist': 0.7644,\n",
              "  'KNeighborsClassifierUnif': 0.7736,\n",
              "  'LightGBMClassifier': 0.8672,\n",
              "  'LightGBMClassifierCustom': 0.8676,\n",
              "  'NeuralNetClassifier': 0.8572,\n",
              "  'RandomForestClassifierEntr': 0.8484,\n",
              "  'RandomForestClassifierGini': 0.85,\n",
              "  'weighted_ensemble_k0_l1': 0.872},\n",
              " 'model_pred_times': {'CatboostClassifier': 0.02787160873413086,\n",
              "  'ExtraTreesClassifierEntr': 0.3206028938293457,\n",
              "  'ExtraTreesClassifierGini': 0.3194408416748047,\n",
              "  'KNeighborsClassifierDist': 0.11431407928466797,\n",
              "  'KNeighborsClassifierUnif': 0.111572265625,\n",
              "  'LightGBMClassifier': 0.03236126899719238,\n",
              "  'LightGBMClassifierCustom': 0.04642462730407715,\n",
              "  'NeuralNetClassifier': 0.5234003067016602,\n",
              "  'RandomForestClassifierEntr': 0.31629276275634766,\n",
              "  'RandomForestClassifierGini': 0.3215162754058838,\n",
              "  'weighted_ensemble_k0_l1': 0.0021567344665527344},\n",
              " 'model_types': {'CatboostClassifier': 'CatboostModel',\n",
              "  'ExtraTreesClassifierEntr': 'RFModel',\n",
              "  'ExtraTreesClassifierGini': 'RFModel',\n",
              "  'KNeighborsClassifierDist': 'KNNModel',\n",
              "  'KNeighborsClassifierUnif': 'KNNModel',\n",
              "  'LightGBMClassifier': 'LGBModel',\n",
              "  'LightGBMClassifierCustom': 'LGBModel',\n",
              "  'NeuralNetClassifier': 'TabularNeuralNetModel',\n",
              "  'RandomForestClassifierEntr': 'RFModel',\n",
              "  'RandomForestClassifierGini': 'RFModel',\n",
              "  'weighted_ensemble_k0_l1': 'WeightedEnsembleModel'},\n",
              " 'num_bagging_folds': 0,\n",
              " 'num_classes': 2,\n",
              " 'stack_ensemble_levels': 0}"
            ]
          },
          "metadata": {
            "tags": []
          },
          "execution_count": 8
        }
      ]
    },
    {
      "cell_type": "markdown",
      "metadata": {
        "id": "f891rAGmTe99",
        "colab_type": "text"
      },
      "source": [
        "## Churn data Autogluon\n"
      ]
    },
    {
      "cell_type": "code",
      "metadata": {
        "id": "oM3tKL8YRBft",
        "colab_type": "code",
        "colab": {}
      },
      "source": [
        "OUTPUT_FILE = '/content/churn_data.csv'\n",
        "churn_master_df = pd.read_csv(OUTPUT_FILE)"
      ],
      "execution_count": 0,
      "outputs": []
    },
    {
      "cell_type": "code",
      "metadata": {
        "id": "NJZDemSzTrhH",
        "colab_type": "code",
        "colab": {}
      },
      "source": [
        "\n",
        "size = int(0.8*churn_master_df.shape[0])\n",
        "train_df = churn_master_df[:size]\n",
        "test_df = churn_master_df[size:]"
      ],
      "execution_count": 0,
      "outputs": []
    },
    {
      "cell_type": "code",
      "metadata": {
        "id": "vq3Sv8joTtTQ",
        "colab_type": "code",
        "colab": {
          "base_uri": "https://localhost:8080/",
          "height": 34
        },
        "outputId": "29d3ac2d-c880-4d76-a8c5-15399fd4538e"
      },
      "source": [
        "test_df.shape"
      ],
      "execution_count": 11,
      "outputs": [
        {
          "output_type": "execute_result",
          "data": {
            "text/plain": [
              "(1409, 21)"
            ]
          },
          "metadata": {
            "tags": []
          },
          "execution_count": 11
        }
      ]
    },
    {
      "cell_type": "code",
      "metadata": {
        "id": "r6RMqinATvJX",
        "colab_type": "code",
        "colab": {
          "base_uri": "https://localhost:8080/",
          "height": 609
        },
        "outputId": "0c05b735-27b6-478c-9c0f-c9f87cd70c86"
      },
      "source": [
        "test_df"
      ],
      "execution_count": 12,
      "outputs": [
        {
          "output_type": "execute_result",
          "data": {
            "text/html": [
              "<div>\n",
              "<style scoped>\n",
              "    .dataframe tbody tr th:only-of-type {\n",
              "        vertical-align: middle;\n",
              "    }\n",
              "\n",
              "    .dataframe tbody tr th {\n",
              "        vertical-align: top;\n",
              "    }\n",
              "\n",
              "    .dataframe thead th {\n",
              "        text-align: right;\n",
              "    }\n",
              "</style>\n",
              "<table border=\"1\" class=\"dataframe\">\n",
              "  <thead>\n",
              "    <tr style=\"text-align: right;\">\n",
              "      <th></th>\n",
              "      <th>customerID</th>\n",
              "      <th>gender</th>\n",
              "      <th>SeniorCitizen</th>\n",
              "      <th>Partner</th>\n",
              "      <th>Dependents</th>\n",
              "      <th>tenure</th>\n",
              "      <th>PhoneService</th>\n",
              "      <th>MultipleLines</th>\n",
              "      <th>InternetService</th>\n",
              "      <th>OnlineSecurity</th>\n",
              "      <th>OnlineBackup</th>\n",
              "      <th>DeviceProtection</th>\n",
              "      <th>TechSupport</th>\n",
              "      <th>StreamingTV</th>\n",
              "      <th>StreamingMovies</th>\n",
              "      <th>Contract</th>\n",
              "      <th>PaperlessBilling</th>\n",
              "      <th>PaymentMethod</th>\n",
              "      <th>MonthlyCharges</th>\n",
              "      <th>TotalCharges</th>\n",
              "      <th>Churn</th>\n",
              "    </tr>\n",
              "  </thead>\n",
              "  <tbody>\n",
              "    <tr>\n",
              "      <th>5634</th>\n",
              "      <td>2320-JRSDE</td>\n",
              "      <td>Female</td>\n",
              "      <td>0</td>\n",
              "      <td>Yes</td>\n",
              "      <td>Yes</td>\n",
              "      <td>1</td>\n",
              "      <td>Yes</td>\n",
              "      <td>No</td>\n",
              "      <td>No</td>\n",
              "      <td>No internet service</td>\n",
              "      <td>No internet service</td>\n",
              "      <td>No internet service</td>\n",
              "      <td>No internet service</td>\n",
              "      <td>No internet service</td>\n",
              "      <td>No internet service</td>\n",
              "      <td>Month-to-month</td>\n",
              "      <td>Yes</td>\n",
              "      <td>Electronic check</td>\n",
              "      <td>19.90</td>\n",
              "      <td>19.9</td>\n",
              "      <td>Yes</td>\n",
              "    </tr>\n",
              "    <tr>\n",
              "      <th>5635</th>\n",
              "      <td>2087-QAREY</td>\n",
              "      <td>Female</td>\n",
              "      <td>0</td>\n",
              "      <td>Yes</td>\n",
              "      <td>No</td>\n",
              "      <td>22</td>\n",
              "      <td>Yes</td>\n",
              "      <td>No</td>\n",
              "      <td>DSL</td>\n",
              "      <td>No</td>\n",
              "      <td>Yes</td>\n",
              "      <td>Yes</td>\n",
              "      <td>No</td>\n",
              "      <td>No</td>\n",
              "      <td>No</td>\n",
              "      <td>Month-to-month</td>\n",
              "      <td>Yes</td>\n",
              "      <td>Mailed check</td>\n",
              "      <td>54.70</td>\n",
              "      <td>1178.75</td>\n",
              "      <td>No</td>\n",
              "    </tr>\n",
              "    <tr>\n",
              "      <th>5636</th>\n",
              "      <td>0601-WZHJF</td>\n",
              "      <td>Male</td>\n",
              "      <td>0</td>\n",
              "      <td>Yes</td>\n",
              "      <td>No</td>\n",
              "      <td>14</td>\n",
              "      <td>No</td>\n",
              "      <td>No phone service</td>\n",
              "      <td>DSL</td>\n",
              "      <td>No</td>\n",
              "      <td>No</td>\n",
              "      <td>No</td>\n",
              "      <td>No</td>\n",
              "      <td>Yes</td>\n",
              "      <td>Yes</td>\n",
              "      <td>Month-to-month</td>\n",
              "      <td>No</td>\n",
              "      <td>Electronic check</td>\n",
              "      <td>46.35</td>\n",
              "      <td>667.7</td>\n",
              "      <td>Yes</td>\n",
              "    </tr>\n",
              "    <tr>\n",
              "      <th>5637</th>\n",
              "      <td>4423-JWZJN</td>\n",
              "      <td>Male</td>\n",
              "      <td>0</td>\n",
              "      <td>Yes</td>\n",
              "      <td>Yes</td>\n",
              "      <td>64</td>\n",
              "      <td>Yes</td>\n",
              "      <td>Yes</td>\n",
              "      <td>Fiber optic</td>\n",
              "      <td>No</td>\n",
              "      <td>No</td>\n",
              "      <td>Yes</td>\n",
              "      <td>No</td>\n",
              "      <td>No</td>\n",
              "      <td>Yes</td>\n",
              "      <td>One year</td>\n",
              "      <td>No</td>\n",
              "      <td>Credit card (automatic)</td>\n",
              "      <td>90.25</td>\n",
              "      <td>5629.15</td>\n",
              "      <td>No</td>\n",
              "    </tr>\n",
              "    <tr>\n",
              "      <th>5638</th>\n",
              "      <td>5143-WMWOG</td>\n",
              "      <td>Male</td>\n",
              "      <td>0</td>\n",
              "      <td>No</td>\n",
              "      <td>No</td>\n",
              "      <td>1</td>\n",
              "      <td>Yes</td>\n",
              "      <td>No</td>\n",
              "      <td>No</td>\n",
              "      <td>No internet service</td>\n",
              "      <td>No internet service</td>\n",
              "      <td>No internet service</td>\n",
              "      <td>No internet service</td>\n",
              "      <td>No internet service</td>\n",
              "      <td>No internet service</td>\n",
              "      <td>Month-to-month</td>\n",
              "      <td>No</td>\n",
              "      <td>Electronic check</td>\n",
              "      <td>19.95</td>\n",
              "      <td>19.95</td>\n",
              "      <td>Yes</td>\n",
              "    </tr>\n",
              "    <tr>\n",
              "      <th>...</th>\n",
              "      <td>...</td>\n",
              "      <td>...</td>\n",
              "      <td>...</td>\n",
              "      <td>...</td>\n",
              "      <td>...</td>\n",
              "      <td>...</td>\n",
              "      <td>...</td>\n",
              "      <td>...</td>\n",
              "      <td>...</td>\n",
              "      <td>...</td>\n",
              "      <td>...</td>\n",
              "      <td>...</td>\n",
              "      <td>...</td>\n",
              "      <td>...</td>\n",
              "      <td>...</td>\n",
              "      <td>...</td>\n",
              "      <td>...</td>\n",
              "      <td>...</td>\n",
              "      <td>...</td>\n",
              "      <td>...</td>\n",
              "      <td>...</td>\n",
              "    </tr>\n",
              "    <tr>\n",
              "      <th>7038</th>\n",
              "      <td>6840-RESVB</td>\n",
              "      <td>Male</td>\n",
              "      <td>0</td>\n",
              "      <td>Yes</td>\n",
              "      <td>Yes</td>\n",
              "      <td>24</td>\n",
              "      <td>Yes</td>\n",
              "      <td>Yes</td>\n",
              "      <td>DSL</td>\n",
              "      <td>Yes</td>\n",
              "      <td>No</td>\n",
              "      <td>Yes</td>\n",
              "      <td>Yes</td>\n",
              "      <td>Yes</td>\n",
              "      <td>Yes</td>\n",
              "      <td>One year</td>\n",
              "      <td>Yes</td>\n",
              "      <td>Mailed check</td>\n",
              "      <td>84.80</td>\n",
              "      <td>1990.5</td>\n",
              "      <td>No</td>\n",
              "    </tr>\n",
              "    <tr>\n",
              "      <th>7039</th>\n",
              "      <td>2234-XADUH</td>\n",
              "      <td>Female</td>\n",
              "      <td>0</td>\n",
              "      <td>Yes</td>\n",
              "      <td>Yes</td>\n",
              "      <td>72</td>\n",
              "      <td>Yes</td>\n",
              "      <td>Yes</td>\n",
              "      <td>Fiber optic</td>\n",
              "      <td>No</td>\n",
              "      <td>Yes</td>\n",
              "      <td>Yes</td>\n",
              "      <td>No</td>\n",
              "      <td>Yes</td>\n",
              "      <td>Yes</td>\n",
              "      <td>One year</td>\n",
              "      <td>Yes</td>\n",
              "      <td>Credit card (automatic)</td>\n",
              "      <td>103.20</td>\n",
              "      <td>7362.9</td>\n",
              "      <td>No</td>\n",
              "    </tr>\n",
              "    <tr>\n",
              "      <th>7040</th>\n",
              "      <td>4801-JZAZL</td>\n",
              "      <td>Female</td>\n",
              "      <td>0</td>\n",
              "      <td>Yes</td>\n",
              "      <td>Yes</td>\n",
              "      <td>11</td>\n",
              "      <td>No</td>\n",
              "      <td>No phone service</td>\n",
              "      <td>DSL</td>\n",
              "      <td>Yes</td>\n",
              "      <td>No</td>\n",
              "      <td>No</td>\n",
              "      <td>No</td>\n",
              "      <td>No</td>\n",
              "      <td>No</td>\n",
              "      <td>Month-to-month</td>\n",
              "      <td>Yes</td>\n",
              "      <td>Electronic check</td>\n",
              "      <td>29.60</td>\n",
              "      <td>346.45</td>\n",
              "      <td>No</td>\n",
              "    </tr>\n",
              "    <tr>\n",
              "      <th>7041</th>\n",
              "      <td>8361-LTMKD</td>\n",
              "      <td>Male</td>\n",
              "      <td>1</td>\n",
              "      <td>Yes</td>\n",
              "      <td>No</td>\n",
              "      <td>4</td>\n",
              "      <td>Yes</td>\n",
              "      <td>Yes</td>\n",
              "      <td>Fiber optic</td>\n",
              "      <td>No</td>\n",
              "      <td>No</td>\n",
              "      <td>No</td>\n",
              "      <td>No</td>\n",
              "      <td>No</td>\n",
              "      <td>No</td>\n",
              "      <td>Month-to-month</td>\n",
              "      <td>Yes</td>\n",
              "      <td>Mailed check</td>\n",
              "      <td>74.40</td>\n",
              "      <td>306.6</td>\n",
              "      <td>Yes</td>\n",
              "    </tr>\n",
              "    <tr>\n",
              "      <th>7042</th>\n",
              "      <td>3186-AJIEK</td>\n",
              "      <td>Male</td>\n",
              "      <td>0</td>\n",
              "      <td>No</td>\n",
              "      <td>No</td>\n",
              "      <td>66</td>\n",
              "      <td>Yes</td>\n",
              "      <td>No</td>\n",
              "      <td>Fiber optic</td>\n",
              "      <td>Yes</td>\n",
              "      <td>No</td>\n",
              "      <td>Yes</td>\n",
              "      <td>Yes</td>\n",
              "      <td>Yes</td>\n",
              "      <td>Yes</td>\n",
              "      <td>Two year</td>\n",
              "      <td>Yes</td>\n",
              "      <td>Bank transfer (automatic)</td>\n",
              "      <td>105.65</td>\n",
              "      <td>6844.5</td>\n",
              "      <td>No</td>\n",
              "    </tr>\n",
              "  </tbody>\n",
              "</table>\n",
              "<p>1409 rows × 21 columns</p>\n",
              "</div>"
            ],
            "text/plain": [
              "      customerID  gender  SeniorCitizen  ... MonthlyCharges TotalCharges  Churn\n",
              "5634  2320-JRSDE  Female              0  ...          19.90         19.9    Yes\n",
              "5635  2087-QAREY  Female              0  ...          54.70      1178.75     No\n",
              "5636  0601-WZHJF    Male              0  ...          46.35        667.7    Yes\n",
              "5637  4423-JWZJN    Male              0  ...          90.25      5629.15     No\n",
              "5638  5143-WMWOG    Male              0  ...          19.95        19.95    Yes\n",
              "...          ...     ...            ...  ...            ...          ...    ...\n",
              "7038  6840-RESVB    Male              0  ...          84.80       1990.5     No\n",
              "7039  2234-XADUH  Female              0  ...         103.20       7362.9     No\n",
              "7040  4801-JZAZL  Female              0  ...          29.60       346.45     No\n",
              "7041  8361-LTMKD    Male              1  ...          74.40        306.6    Yes\n",
              "7042  3186-AJIEK    Male              0  ...         105.65       6844.5     No\n",
              "\n",
              "[1409 rows x 21 columns]"
            ]
          },
          "metadata": {
            "tags": []
          },
          "execution_count": 12
        }
      ]
    },
    {
      "cell_type": "code",
      "metadata": {
        "id": "kq4JNhxHTw2Y",
        "colab_type": "code",
        "colab": {}
      },
      "source": [
        "train_data = task.Dataset(df=train_df)\n",
        "test_data = task.Dataset(df=test_df)"
      ],
      "execution_count": 0,
      "outputs": []
    },
    {
      "cell_type": "code",
      "metadata": {
        "id": "LwwIyEqwTz8-",
        "colab_type": "code",
        "colab": {
          "base_uri": "https://localhost:8080/",
          "height": 153
        },
        "outputId": "146a0d0e-1abe-4db7-d4c9-da0ba523d3bd"
      },
      "source": [
        "print(train_data.head())"
      ],
      "execution_count": 14,
      "outputs": [
        {
          "output_type": "stream",
          "text": [
            "   customerID  gender  SeniorCitizen  ... MonthlyCharges TotalCharges  Churn\n",
            "0  7590-VHVEG  Female              0  ...          29.85        29.85     No\n",
            "1  5575-GNVDE    Male              0  ...          56.95       1889.5     No\n",
            "2  3668-QPYBK    Male              0  ...          53.85       108.15    Yes\n",
            "3  7795-CFOCW    Male              0  ...          42.30      1840.75     No\n",
            "4  9237-HQITU  Female              0  ...          70.70       151.65    Yes\n",
            "\n",
            "[5 rows x 21 columns]\n"
          ],
          "name": "stdout"
        }
      ]
    },
    {
      "cell_type": "code",
      "metadata": {
        "id": "pMPbAdA2T1np",
        "colab_type": "code",
        "colab": {
          "base_uri": "https://localhost:8080/",
          "height": 170
        },
        "outputId": "9e4937c4-4ceb-40aa-f910-7381c72b9668"
      },
      "source": [
        "\n",
        "print(test_data.describe())"
      ],
      "execution_count": 15,
      "outputs": [
        {
          "output_type": "stream",
          "text": [
            "       SeniorCitizen       tenure  MonthlyCharges\n",
            "count    1409.000000  1409.000000     1409.000000\n",
            "mean        0.168914    32.669269       64.338680\n",
            "std         0.374809    24.449128       30.058771\n",
            "min         0.000000     0.000000       18.550000\n",
            "25%         0.000000     9.000000       35.300000\n",
            "50%         0.000000    30.000000       70.100000\n",
            "75%         0.000000    56.000000       89.650000\n",
            "max         1.000000    72.000000      118.200000\n"
          ],
          "name": "stdout"
        }
      ]
    },
    {
      "cell_type": "code",
      "metadata": {
        "id": "0iIO3Kk-T32J",
        "colab_type": "code",
        "colab": {
          "base_uri": "https://localhost:8080/",
          "height": 102
        },
        "outputId": "694bf178-6d7b-4003-eaa7-cc17f7b4f543"
      },
      "source": [
        "label_column = 'Churn'\n",
        "train_data[label_column].describe()"
      ],
      "execution_count": 16,
      "outputs": [
        {
          "output_type": "execute_result",
          "data": {
            "text/plain": [
              "count     5634\n",
              "unique       2\n",
              "top         No\n",
              "freq      4146\n",
              "Name: Churn, dtype: object"
            ]
          },
          "metadata": {
            "tags": []
          },
          "execution_count": 16
        }
      ]
    },
    {
      "cell_type": "code",
      "metadata": {
        "id": "eOJuTAWLT6NQ",
        "colab_type": "code",
        "colab": {
          "base_uri": "https://localhost:8080/",
          "height": 1000
        },
        "outputId": "f48ccb73-fb4d-45af-eba9-b54b5cae019e"
      },
      "source": [
        "predictor = task.fit(train_data=train_data, label=label_column, eval_metric='accuracy')"
      ],
      "execution_count": 17,
      "outputs": [
        {
          "output_type": "stream",
          "text": [
            "No output_directory specified. Models will be saved in: AutogluonModels/ag-20200316_170642/\n",
            "Beginning AutoGluon training ...\n",
            "AutoGluon will save models to AutogluonModels/ag-20200316_170642/\n",
            "Train Data Rows:    5634\n",
            "Train Data Columns: 21\n",
            "Preprocessing data ...\n",
            "Here are the first 10 unique label values in your data:  ['No' 'Yes']\n",
            "AutoGluon infers your prediction problem is: binary  (because only two unique label-values observed)\n",
            "If this is wrong, please specify `problem_type` argument in fit() instead (You may specify problem_type as one of: ['binary', 'multiclass', 'regression'])\n",
            "\n",
            "Selected class <--> label mapping:  class 1 = Yes, class 0 = No\n",
            "Feature Generator processed 5634 data points with 20 features\n",
            "Original Features:\n",
            "\tobject features: 17\n",
            "\tint features: 2\n",
            "\tfloat features: 1\n",
            "Generated Features:\n",
            "\tint features: 0\n",
            "All Features:\n",
            "\tobject features: 17\n",
            "\tint features: 2\n",
            "\tfloat features: 1\n",
            "\tData preprocessing and feature engineering runtime = 0.23s ...\n",
            "AutoGluon will gauge predictive performance using evaluation metric: accuracy\n",
            "To change this, specify the eval_metric argument of fit()\n",
            "AutoGluon will early stop models using evaluation metric: accuracy\n",
            "Fitting model: RandomForestClassifierGini ...\n",
            "\t0.7784\t = Validation accuracy score\n",
            "\t1.64s\t = Training runtime\n",
            "\t0.12s\t = Validation runtime\n",
            "Fitting model: RandomForestClassifierEntr ...\n",
            "\t0.7766\t = Validation accuracy score\n",
            "\t2.24s\t = Training runtime\n",
            "\t0.12s\t = Validation runtime\n",
            "Fitting model: ExtraTreesClassifierGini ...\n",
            "\t0.766\t = Validation accuracy score\n",
            "\t1.43s\t = Training runtime\n",
            "\t0.12s\t = Validation runtime\n",
            "Fitting model: ExtraTreesClassifierEntr ...\n",
            "\t0.7713\t = Validation accuracy score\n",
            "\t1.7s\t = Training runtime\n",
            "\t0.12s\t = Validation runtime\n",
            "Fitting model: KNeighborsClassifierUnif ...\n",
            "\t0.773\t = Validation accuracy score\n",
            "\t0.01s\t = Training runtime\n",
            "\t0.11s\t = Validation runtime\n",
            "Fitting model: KNeighborsClassifierDist ...\n",
            "\t0.7411\t = Validation accuracy score\n",
            "\t0.02s\t = Training runtime\n",
            "\t0.11s\t = Validation runtime\n",
            "Fitting model: LightGBMClassifier ...\n",
            "\t0.789\t = Validation accuracy score\n",
            "\t0.86s\t = Training runtime\n",
            "\t0.03s\t = Validation runtime\n",
            "Fitting model: CatboostClassifier ...\n",
            "\t0.7996\t = Validation accuracy score\n",
            "\t4.2s\t = Training runtime\n",
            "\t0.04s\t = Validation runtime\n",
            "Fitting model: NeuralNetClassifier ...\n",
            "\t0.773\t = Validation accuracy score\n",
            "\t23.45s\t = Training runtime\n",
            "\t0.39s\t = Validation runtime\n",
            "Fitting model: LightGBMClassifierCustom ...\n",
            "\t0.7784\t = Validation accuracy score\n",
            "\t1.3s\t = Training runtime\n",
            "\t0.03s\t = Validation runtime\n",
            "Fitting model: weighted_ensemble_k0_l1 ...\n",
            "\t0.8014\t = Validation accuracy score\n",
            "\t0.64s\t = Training runtime\n",
            "\t0.0s\t = Validation runtime\n",
            "AutoGluon training complete, total runtime = 41.73s ...\n"
          ],
          "name": "stderr"
        }
      ]
    },
    {
      "cell_type": "code",
      "metadata": {
        "id": "ILlsv887T8Ow",
        "colab_type": "code",
        "colab": {
          "base_uri": "https://localhost:8080/",
          "height": 153
        },
        "outputId": "9a4c2c8e-7ab6-478c-d3b7-81059eefd98d"
      },
      "source": [
        "\n",
        "y_test = test_data[label_column]\n",
        "\n",
        "test_data_nolab = test_data.drop(labels=[label_column],axis=1) \n",
        "print(test_data_nolab.head())"
      ],
      "execution_count": 18,
      "outputs": [
        {
          "output_type": "stream",
          "text": [
            "      customerID  gender  ...  MonthlyCharges TotalCharges\n",
            "5634  2320-JRSDE  Female  ...           19.90         19.9\n",
            "5635  2087-QAREY  Female  ...           54.70      1178.75\n",
            "5636  0601-WZHJF    Male  ...           46.35        667.7\n",
            "5637  4423-JWZJN    Male  ...           90.25      5629.15\n",
            "5638  5143-WMWOG    Male  ...           19.95        19.95\n",
            "\n",
            "[5 rows x 20 columns]\n"
          ],
          "name": "stdout"
        }
      ]
    },
    {
      "cell_type": "code",
      "metadata": {
        "id": "kxsrYO4JUAjy",
        "colab_type": "code",
        "colab": {
          "base_uri": "https://localhost:8080/",
          "height": 663
        },
        "outputId": "8d103f1c-1176-4388-cf20-229b99ceb224"
      },
      "source": [
        "y_pred = predictor.predict(test_data_nolab)\n",
        "print(\"Predictions:  \", y_pred)\n",
        "perf = predictor.evaluate_predictions(y_true=y_test, y_pred=y_pred, auxiliary_metrics=True)"
      ],
      "execution_count": 19,
      "outputs": [
        {
          "output_type": "stream",
          "text": [
            "Evaluation: accuracy on test data: 0.804116\n",
            "Evaluations on test data:\n",
            "{\n",
            "    \"accuracy\": 0.8041163946061036,\n",
            "    \"accuracy_score\": 0.8041163946061036,\n",
            "    \"balanced_accuracy_score\": 0.7113052381098277,\n",
            "    \"matthews_corrcoef\": 0.46852944639135363,\n",
            "    \"f1_score\": 0.8041163946061036\n",
            "}\n",
            "Detailed (per-class) classification report:\n",
            "{\n",
            "    \"No\": {\n",
            "        \"precision\": 0.8339253996447602,\n",
            "        \"recall\": 0.9134241245136187,\n",
            "        \"f1-score\": 0.871866295264624,\n",
            "        \"support\": 1028\n",
            "    },\n",
            "    \"Yes\": {\n",
            "        \"precision\": 0.6855123674911661,\n",
            "        \"recall\": 0.5091863517060368,\n",
            "        \"f1-score\": 0.5843373493975903,\n",
            "        \"support\": 381\n",
            "    },\n",
            "    \"accuracy\": 0.8041163946061036,\n",
            "    \"macro avg\": {\n",
            "        \"precision\": 0.7597188835679631,\n",
            "        \"recall\": 0.7113052381098277,\n",
            "        \"f1-score\": 0.7281018223311071,\n",
            "        \"support\": 1409\n",
            "    },\n",
            "    \"weighted avg\": {\n",
            "        \"precision\": 0.7937938416245194,\n",
            "        \"recall\": 0.8041163946061036,\n",
            "        \"f1-score\": 0.7941171622799967,\n",
            "        \"support\": 1409\n",
            "    }\n",
            "}\n"
          ],
          "name": "stderr"
        },
        {
          "output_type": "stream",
          "text": [
            "Predictions:   ['No' 'No' 'No' ... 'No' 'Yes' 'No']\n"
          ],
          "name": "stdout"
        }
      ]
    },
    {
      "cell_type": "code",
      "metadata": {
        "id": "zHfka4TXUDWp",
        "colab_type": "code",
        "colab": {
          "base_uri": "https://localhost:8080/",
          "height": 71
        },
        "outputId": "0958c784-f75b-4310-fba5-2a57035fc87b"
      },
      "source": [
        "print(predictor.problem_type)\n",
        "print(predictor.feature_types)"
      ],
      "execution_count": 20,
      "outputs": [
        {
          "output_type": "stream",
          "text": [
            "binary\n",
            "{'nlp': [], 'vectorizers': [], 'object': ['customerID', 'gender', 'Partner', 'Dependents', 'PhoneService', 'MultipleLines', 'InternetService', 'OnlineSecurity', 'OnlineBackup', 'DeviceProtection', 'TechSupport', 'StreamingTV', 'StreamingMovies', 'Contract', 'PaperlessBilling', 'PaymentMethod', 'TotalCharges'], 'int': ['SeniorCitizen', 'tenure'], 'float': ['MonthlyCharges']}\n"
          ],
          "name": "stdout"
        }
      ]
    },
    {
      "cell_type": "code",
      "metadata": {
        "id": "OgkNyuovUFtF",
        "colab_type": "code",
        "colab": {
          "base_uri": "https://localhost:8080/",
          "height": 51
        },
        "outputId": "7da78a38-2b66-4f2c-d62a-8ac57b35e4a1"
      },
      "source": [
        "predictor.predict_proba(test_data_nolab)"
      ],
      "execution_count": 21,
      "outputs": [
        {
          "output_type": "execute_result",
          "data": {
            "text/plain": [
              "array([0.27608219, 0.27686501, 0.39847497, ..., 0.35749585, 0.66865162,\n",
              "       0.11414762])"
            ]
          },
          "metadata": {
            "tags": []
          },
          "execution_count": 21
        }
      ]
    },
    {
      "cell_type": "code",
      "metadata": {
        "id": "dBA3Ty2MUHtV",
        "colab_type": "code",
        "colab": {
          "base_uri": "https://localhost:8080/",
          "height": 594
        },
        "outputId": "4b958db2-520c-44a1-d287-949cd498d933"
      },
      "source": [
        "predictor.leaderboard()"
      ],
      "execution_count": 22,
      "outputs": [
        {
          "output_type": "stream",
          "text": [
            "                         model  score_val   fit_time  pred_time_val  stack_level\n",
            "10     weighted_ensemble_k0_l1   0.801418   0.643797       0.001737            1\n",
            "7           CatboostClassifier   0.799645   4.201759       0.042032            0\n",
            "6           LightGBMClassifier   0.789007   0.861270       0.026480            0\n",
            "0   RandomForestClassifierGini   0.778369   1.639017       0.121800            0\n",
            "9     LightGBMClassifierCustom   0.778369   1.299482       0.027476            0\n",
            "1   RandomForestClassifierEntr   0.776596   2.240668       0.121401            0\n",
            "8          NeuralNetClassifier   0.773050  23.452832       0.388494            0\n",
            "4     KNeighborsClassifierUnif   0.773050   0.013277       0.111047            0\n",
            "3     ExtraTreesClassifierEntr   0.771277   1.703707       0.122855            0\n",
            "2     ExtraTreesClassifierGini   0.765957   1.431456       0.121592            0\n",
            "5     KNeighborsClassifierDist   0.741135   0.016746       0.111493            0\n"
          ],
          "name": "stdout"
        },
        {
          "output_type": "execute_result",
          "data": {
            "text/html": [
              "<div>\n",
              "<style scoped>\n",
              "    .dataframe tbody tr th:only-of-type {\n",
              "        vertical-align: middle;\n",
              "    }\n",
              "\n",
              "    .dataframe tbody tr th {\n",
              "        vertical-align: top;\n",
              "    }\n",
              "\n",
              "    .dataframe thead th {\n",
              "        text-align: right;\n",
              "    }\n",
              "</style>\n",
              "<table border=\"1\" class=\"dataframe\">\n",
              "  <thead>\n",
              "    <tr style=\"text-align: right;\">\n",
              "      <th></th>\n",
              "      <th>model</th>\n",
              "      <th>score_val</th>\n",
              "      <th>fit_time</th>\n",
              "      <th>pred_time_val</th>\n",
              "      <th>stack_level</th>\n",
              "    </tr>\n",
              "  </thead>\n",
              "  <tbody>\n",
              "    <tr>\n",
              "      <th>10</th>\n",
              "      <td>weighted_ensemble_k0_l1</td>\n",
              "      <td>0.801418</td>\n",
              "      <td>0.643797</td>\n",
              "      <td>0.001737</td>\n",
              "      <td>1</td>\n",
              "    </tr>\n",
              "    <tr>\n",
              "      <th>7</th>\n",
              "      <td>CatboostClassifier</td>\n",
              "      <td>0.799645</td>\n",
              "      <td>4.201759</td>\n",
              "      <td>0.042032</td>\n",
              "      <td>0</td>\n",
              "    </tr>\n",
              "    <tr>\n",
              "      <th>6</th>\n",
              "      <td>LightGBMClassifier</td>\n",
              "      <td>0.789007</td>\n",
              "      <td>0.861270</td>\n",
              "      <td>0.026480</td>\n",
              "      <td>0</td>\n",
              "    </tr>\n",
              "    <tr>\n",
              "      <th>0</th>\n",
              "      <td>RandomForestClassifierGini</td>\n",
              "      <td>0.778369</td>\n",
              "      <td>1.639017</td>\n",
              "      <td>0.121800</td>\n",
              "      <td>0</td>\n",
              "    </tr>\n",
              "    <tr>\n",
              "      <th>9</th>\n",
              "      <td>LightGBMClassifierCustom</td>\n",
              "      <td>0.778369</td>\n",
              "      <td>1.299482</td>\n",
              "      <td>0.027476</td>\n",
              "      <td>0</td>\n",
              "    </tr>\n",
              "    <tr>\n",
              "      <th>1</th>\n",
              "      <td>RandomForestClassifierEntr</td>\n",
              "      <td>0.776596</td>\n",
              "      <td>2.240668</td>\n",
              "      <td>0.121401</td>\n",
              "      <td>0</td>\n",
              "    </tr>\n",
              "    <tr>\n",
              "      <th>8</th>\n",
              "      <td>NeuralNetClassifier</td>\n",
              "      <td>0.773050</td>\n",
              "      <td>23.452832</td>\n",
              "      <td>0.388494</td>\n",
              "      <td>0</td>\n",
              "    </tr>\n",
              "    <tr>\n",
              "      <th>4</th>\n",
              "      <td>KNeighborsClassifierUnif</td>\n",
              "      <td>0.773050</td>\n",
              "      <td>0.013277</td>\n",
              "      <td>0.111047</td>\n",
              "      <td>0</td>\n",
              "    </tr>\n",
              "    <tr>\n",
              "      <th>3</th>\n",
              "      <td>ExtraTreesClassifierEntr</td>\n",
              "      <td>0.771277</td>\n",
              "      <td>1.703707</td>\n",
              "      <td>0.122855</td>\n",
              "      <td>0</td>\n",
              "    </tr>\n",
              "    <tr>\n",
              "      <th>2</th>\n",
              "      <td>ExtraTreesClassifierGini</td>\n",
              "      <td>0.765957</td>\n",
              "      <td>1.431456</td>\n",
              "      <td>0.121592</td>\n",
              "      <td>0</td>\n",
              "    </tr>\n",
              "    <tr>\n",
              "      <th>5</th>\n",
              "      <td>KNeighborsClassifierDist</td>\n",
              "      <td>0.741135</td>\n",
              "      <td>0.016746</td>\n",
              "      <td>0.111493</td>\n",
              "      <td>0</td>\n",
              "    </tr>\n",
              "  </tbody>\n",
              "</table>\n",
              "</div>"
            ],
            "text/plain": [
              "                         model  score_val  ...  pred_time_val  stack_level\n",
              "10     weighted_ensemble_k0_l1   0.801418  ...       0.001737            1\n",
              "7           CatboostClassifier   0.799645  ...       0.042032            0\n",
              "6           LightGBMClassifier   0.789007  ...       0.026480            0\n",
              "0   RandomForestClassifierGini   0.778369  ...       0.121800            0\n",
              "9     LightGBMClassifierCustom   0.778369  ...       0.027476            0\n",
              "1   RandomForestClassifierEntr   0.776596  ...       0.121401            0\n",
              "8          NeuralNetClassifier   0.773050  ...       0.388494            0\n",
              "4     KNeighborsClassifierUnif   0.773050  ...       0.111047            0\n",
              "3     ExtraTreesClassifierEntr   0.771277  ...       0.122855            0\n",
              "2     ExtraTreesClassifierGini   0.765957  ...       0.121592            0\n",
              "5     KNeighborsClassifierDist   0.741135  ...       0.111493            0\n",
              "\n",
              "[11 rows x 5 columns]"
            ]
          },
          "metadata": {
            "tags": []
          },
          "execution_count": 22
        }
      ]
    },
    {
      "cell_type": "code",
      "metadata": {
        "id": "DMdHLlX4UJUr",
        "colab_type": "code",
        "colab": {
          "base_uri": "https://localhost:8080/",
          "height": 869
        },
        "outputId": "03693c7b-19a9-467a-afb2-16210fb02ae2"
      },
      "source": [
        "hp_tune = True \n",
        "\n",
        "rf_options = { \n",
        "    'n_estimators': 100, \n",
        "}\n",
        "\n",
        "gbm_options = { \n",
        "    'num_boost_round': 100, \n",
        "    'num_leaves': ag.space.Int(lower=6, upper=20, default=8), \n",
        "}\n",
        "\n",
        "hyperparameters = {'RF':rf_options, 'GBM': gbm_options}  \n",
        "\n",
        "time_limits = 2*60  \n",
        "num_trials = 1  \n",
        "search_strategy = 'skopt'  \n",
        "\n",
        "predictor = task.fit(train_data=train_data, tuning_data=test_data, label=label_column,\n",
        "                     time_limits=time_limits, num_trials=num_trials,\n",
        "                     hyperparameter_tune=hp_tune, hyperparameters=hyperparameters,\n",
        "                     search_strategy=search_strategy, nthreads_per_trial=1, ngpus_per_trial=1)"
      ],
      "execution_count": 23,
      "outputs": [
        {
          "output_type": "stream",
          "text": [
            "Warning: `hyperparameter_tune=True` is currently experimental and may cause the process to hang. Setting `auto_stack=True` instead is recommended to achieve maximum quality models.\n",
            "No output_directory specified. Models will be saved in: AutogluonModels/ag-20200316_170850/\n",
            "Warning: Specified num_trials == 1 or time_limits is too small for hyperparameter_tune, setting to False.\n",
            "Beginning AutoGluon training ... Time limit = 120s\n",
            "AutoGluon will save models to AutogluonModels/ag-20200316_170850/\n",
            "Train Data Rows:    5634\n",
            "Train Data Columns: 21\n",
            "Tuning Data Rows:    1409\n",
            "Tuning Data Columns: 21\n",
            "Preprocessing data ...\n",
            "Here are the first 10 unique label values in your data:  ['No' 'Yes']\n",
            "AutoGluon infers your prediction problem is: binary  (because only two unique label-values observed)\n",
            "If this is wrong, please specify `problem_type` argument in fit() instead (You may specify problem_type as one of: ['binary', 'multiclass', 'regression'])\n",
            "\n",
            "Selected class <--> label mapping:  class 1 = Yes, class 0 = No\n",
            "Feature Generator processed 7043 data points with 20 features\n",
            "Original Features:\n",
            "\tobject features: 17\n",
            "\tint features: 2\n",
            "\tfloat features: 1\n",
            "Generated Features:\n",
            "\tint features: 0\n",
            "All Features:\n",
            "\tobject features: 17\n",
            "\tint features: 2\n",
            "\tfloat features: 1\n",
            "\tData preprocessing and feature engineering runtime = 0.25s ...\n",
            "AutoGluon will gauge predictive performance using evaluation metric: accuracy\n",
            "To change this, specify the eval_metric argument of fit()\n",
            "AutoGluon will early stop models using evaluation metric: accuracy\n",
            "Fitting model: RandomForestClassifierGini ... Training model for up to 119.75s of the 119.75s of remaining time.\n",
            "\t0.8013\t = Validation accuracy score\n",
            "\t0.67s\t = Training runtime\n",
            "\t0.13s\t = Validation runtime\n",
            "Fitting model: RandomForestClassifierEntr ... Training model for up to 118.89s of the 118.89s of remaining time.\n",
            "\t0.7949\t = Validation accuracy score\n",
            "\t0.87s\t = Training runtime\n",
            "\t0.12s\t = Validation runtime\n",
            "Fitting model: LightGBMClassifier ... Training model for up to 117.86s of the 117.86s of remaining time.\n",
            "Attempting to fit model without HPO, but search space is provided. fit() will only consider default hyperparameter values from search space.\n",
            "\t0.8027\t = Validation accuracy score\n",
            "\t0.61s\t = Training runtime\n",
            "\t0.03s\t = Validation runtime\n",
            "Fitting model: weighted_ensemble_k0_l1 ... Training model for up to 119.75s of the 116.87s of remaining time.\n",
            "\t0.8112\t = Validation accuracy score\n",
            "\t0.33s\t = Training runtime\n",
            "\t0.0s\t = Validation runtime\n",
            "AutoGluon training complete, total runtime = 3.48s ...\n"
          ],
          "name": "stderr"
        }
      ]
    },
    {
      "cell_type": "code",
      "metadata": {
        "id": "_XE_BC_ZUNzq",
        "colab_type": "code",
        "colab": {
          "base_uri": "https://localhost:8080/",
          "height": 1000
        },
        "outputId": "7d7de2e8-7688-442e-a01c-33429b0e6a29"
      },
      "source": [
        "predictor.fit_summary()"
      ],
      "execution_count": 24,
      "outputs": [
        {
          "output_type": "stream",
          "text": [
            "*** Summary of fit() ***\n",
            "Number of models trained: 4\n",
            "Types of models trained: \n",
            "{'WeightedEnsembleModel', 'RFModel', 'LGBModel'}\n",
            "Validation performance of individual models: {'RandomForestClassifierGini': 0.801277501774308, 'RandomForestClassifierEntr': 0.794889992902768, 'LightGBMClassifier': 0.8026969481902059, 'weighted_ensemble_k0_l1': 0.8112136266855926}\n",
            "Best model (based on validation performance): weighted_ensemble_k0_l1\n",
            "Hyperparameter-tuning used: False\n",
            "Bagging used: False \n",
            "Stack-ensembling used: False \n",
            "User-specified hyperparameters:\n",
            "{'RF': {'n_estimators': 100}, 'GBM': {'num_boost_round': 100, 'num_leaves': Int: lower=6, upper=20}}\n",
            "Plot summary of models saved to file: SummaryOfModels.html\n",
            "*** End of fit() summary ***\n"
          ],
          "name": "stdout"
        },
        {
          "output_type": "execute_result",
          "data": {
            "text/plain": [
              "{'feature_prune': False,\n",
              " 'hyperparameter_tune': False,\n",
              " 'hyperparameters_userspecified': {'GBM': {'num_boost_round': 100,\n",
              "   'num_leaves': Int: lower=6, upper=20},\n",
              "  'RF': {'n_estimators': 100}},\n",
              " 'model_best': 'weighted_ensemble_k0_l1',\n",
              " 'model_fit_times': {'LightGBMClassifier': 0.6060595512390137,\n",
              "  'RandomForestClassifierEntr': 0.8654561042785645,\n",
              "  'RandomForestClassifierGini': 0.6662893295288086,\n",
              "  'weighted_ensemble_k0_l1': 0.3250925540924072},\n",
              " 'model_hyperparams': {'LightGBMClassifier': {'boosting_type': 'gbdt',\n",
              "   'metric': 'binary_logloss,binary_error',\n",
              "   'num_boost_round': 100,\n",
              "   'num_leaves': Int: lower=6, upper=20,\n",
              "   'num_threads': -1,\n",
              "   'objective': 'binary',\n",
              "   'two_round': True,\n",
              "   'verbose': -1},\n",
              "  'RandomForestClassifierEntr': {'criterion': 'entropy',\n",
              "   'model_type': 'rf',\n",
              "   'n_estimators': 100,\n",
              "   'n_jobs': -1},\n",
              "  'RandomForestClassifierGini': {'criterion': 'gini',\n",
              "   'model_type': 'rf',\n",
              "   'n_estimators': 100,\n",
              "   'n_jobs': -1},\n",
              "  'weighted_ensemble_k0_l1': {'max_models': 25, 'max_models_per_type': 5}},\n",
              " 'model_paths': {'LightGBMClassifier': 'AutogluonModels/ag-20200316_170850/models/LightGBMClassifier/',\n",
              "  'RandomForestClassifierEntr': 'AutogluonModels/ag-20200316_170850/models/RandomForestClassifierEntr/',\n",
              "  'RandomForestClassifierGini': 'AutogluonModels/ag-20200316_170850/models/RandomForestClassifierGini/',\n",
              "  'weighted_ensemble_k0_l1': 'AutogluonModels/ag-20200316_170850/models/weighted_ensemble_k0_l1/'},\n",
              " 'model_performance': {'LightGBMClassifier': 0.8026969481902059,\n",
              "  'RandomForestClassifierEntr': 0.794889992902768,\n",
              "  'RandomForestClassifierGini': 0.801277501774308,\n",
              "  'weighted_ensemble_k0_l1': 0.8112136266855926},\n",
              " 'model_pred_times': {'LightGBMClassifier': 0.030324220657348633,\n",
              "  'RandomForestClassifierEntr': 0.12437891960144043,\n",
              "  'RandomForestClassifierGini': 0.12849712371826172,\n",
              "  'weighted_ensemble_k0_l1': 0.0015468597412109375},\n",
              " 'model_types': {'LightGBMClassifier': 'LGBModel',\n",
              "  'RandomForestClassifierEntr': 'RFModel',\n",
              "  'RandomForestClassifierGini': 'RFModel',\n",
              "  'weighted_ensemble_k0_l1': 'WeightedEnsembleModel'},\n",
              " 'num_bagging_folds': 0,\n",
              " 'num_classes': 2,\n",
              " 'stack_ensemble_levels': 0}"
            ]
          },
          "metadata": {
            "tags": []
          },
          "execution_count": 24
        }
      ]
    },
    {
      "cell_type": "code",
      "metadata": {
        "id": "Q4SRXzIlUOeH",
        "colab_type": "code",
        "colab": {
          "base_uri": "https://localhost:8080/",
          "height": 1000
        },
        "outputId": "b8771eb8-668a-4123-9674-2d52c84c3363"
      },
      "source": [
        "predictor.fit_summary()"
      ],
      "execution_count": 25,
      "outputs": [
        {
          "output_type": "stream",
          "text": [
            "*** Summary of fit() ***\n",
            "Number of models trained: 4\n",
            "Types of models trained: \n",
            "{'WeightedEnsembleModel', 'RFModel', 'LGBModel'}\n",
            "Validation performance of individual models: {'RandomForestClassifierGini': 0.801277501774308, 'RandomForestClassifierEntr': 0.794889992902768, 'LightGBMClassifier': 0.8026969481902059, 'weighted_ensemble_k0_l1': 0.8112136266855926}\n",
            "Best model (based on validation performance): weighted_ensemble_k0_l1\n",
            "Hyperparameter-tuning used: False\n",
            "Bagging used: False \n",
            "Stack-ensembling used: False \n",
            "User-specified hyperparameters:\n",
            "{'RF': {'n_estimators': 100}, 'GBM': {'num_boost_round': 100, 'num_leaves': Int: lower=6, upper=20}}\n",
            "Plot summary of models saved to file: SummaryOfModels.html\n",
            "*** End of fit() summary ***\n"
          ],
          "name": "stdout"
        },
        {
          "output_type": "execute_result",
          "data": {
            "text/plain": [
              "{'feature_prune': False,\n",
              " 'hyperparameter_tune': False,\n",
              " 'hyperparameters_userspecified': {'GBM': {'num_boost_round': 100,\n",
              "   'num_leaves': Int: lower=6, upper=20},\n",
              "  'RF': {'n_estimators': 100}},\n",
              " 'model_best': 'weighted_ensemble_k0_l1',\n",
              " 'model_fit_times': {'LightGBMClassifier': 0.6060595512390137,\n",
              "  'RandomForestClassifierEntr': 0.8654561042785645,\n",
              "  'RandomForestClassifierGini': 0.6662893295288086,\n",
              "  'weighted_ensemble_k0_l1': 0.3250925540924072},\n",
              " 'model_hyperparams': {'LightGBMClassifier': {'boosting_type': 'gbdt',\n",
              "   'metric': 'binary_logloss,binary_error',\n",
              "   'num_boost_round': 100,\n",
              "   'num_leaves': Int: lower=6, upper=20,\n",
              "   'num_threads': -1,\n",
              "   'objective': 'binary',\n",
              "   'two_round': True,\n",
              "   'verbose': -1},\n",
              "  'RandomForestClassifierEntr': {'criterion': 'entropy',\n",
              "   'model_type': 'rf',\n",
              "   'n_estimators': 100,\n",
              "   'n_jobs': -1},\n",
              "  'RandomForestClassifierGini': {'criterion': 'gini',\n",
              "   'model_type': 'rf',\n",
              "   'n_estimators': 100,\n",
              "   'n_jobs': -1},\n",
              "  'weighted_ensemble_k0_l1': {'max_models': 25, 'max_models_per_type': 5}},\n",
              " 'model_paths': {'LightGBMClassifier': 'AutogluonModels/ag-20200316_170850/models/LightGBMClassifier/',\n",
              "  'RandomForestClassifierEntr': 'AutogluonModels/ag-20200316_170850/models/RandomForestClassifierEntr/',\n",
              "  'RandomForestClassifierGini': 'AutogluonModels/ag-20200316_170850/models/RandomForestClassifierGini/',\n",
              "  'weighted_ensemble_k0_l1': 'AutogluonModels/ag-20200316_170850/models/weighted_ensemble_k0_l1/'},\n",
              " 'model_performance': {'LightGBMClassifier': 0.8026969481902059,\n",
              "  'RandomForestClassifierEntr': 0.794889992902768,\n",
              "  'RandomForestClassifierGini': 0.801277501774308,\n",
              "  'weighted_ensemble_k0_l1': 0.8112136266855926},\n",
              " 'model_pred_times': {'LightGBMClassifier': 0.030324220657348633,\n",
              "  'RandomForestClassifierEntr': 0.12437891960144043,\n",
              "  'RandomForestClassifierGini': 0.12849712371826172,\n",
              "  'weighted_ensemble_k0_l1': 0.0015468597412109375},\n",
              " 'model_types': {'LightGBMClassifier': 'LGBModel',\n",
              "  'RandomForestClassifierEntr': 'RFModel',\n",
              "  'RandomForestClassifierGini': 'RFModel',\n",
              "  'weighted_ensemble_k0_l1': 'WeightedEnsembleModel'},\n",
              " 'num_bagging_folds': 0,\n",
              " 'num_classes': 2,\n",
              " 'stack_ensemble_levels': 0}"
            ]
          },
          "metadata": {
            "tags": []
          },
          "execution_count": 25
        }
      ]
    },
    {
      "cell_type": "code",
      "metadata": {
        "id": "XavSlBE5UQiJ",
        "colab_type": "code",
        "colab": {
          "base_uri": "https://localhost:8080/",
          "height": 258
        },
        "outputId": "909e61c0-8ca9-4508-985c-c19b15158309"
      },
      "source": [
        "predictor.leaderboard()"
      ],
      "execution_count": 26,
      "outputs": [
        {
          "output_type": "stream",
          "text": [
            "                        model  score_val  fit_time  pred_time_val  stack_level\n",
            "3     weighted_ensemble_k0_l1   0.811214  0.325093       0.001547            1\n",
            "2          LightGBMClassifier   0.802697  0.606060       0.030324            0\n",
            "0  RandomForestClassifierGini   0.801278  0.666289       0.128497            0\n",
            "1  RandomForestClassifierEntr   0.794890  0.865456       0.124379            0\n"
          ],
          "name": "stdout"
        },
        {
          "output_type": "execute_result",
          "data": {
            "text/html": [
              "<div>\n",
              "<style scoped>\n",
              "    .dataframe tbody tr th:only-of-type {\n",
              "        vertical-align: middle;\n",
              "    }\n",
              "\n",
              "    .dataframe tbody tr th {\n",
              "        vertical-align: top;\n",
              "    }\n",
              "\n",
              "    .dataframe thead th {\n",
              "        text-align: right;\n",
              "    }\n",
              "</style>\n",
              "<table border=\"1\" class=\"dataframe\">\n",
              "  <thead>\n",
              "    <tr style=\"text-align: right;\">\n",
              "      <th></th>\n",
              "      <th>model</th>\n",
              "      <th>score_val</th>\n",
              "      <th>fit_time</th>\n",
              "      <th>pred_time_val</th>\n",
              "      <th>stack_level</th>\n",
              "    </tr>\n",
              "  </thead>\n",
              "  <tbody>\n",
              "    <tr>\n",
              "      <th>3</th>\n",
              "      <td>weighted_ensemble_k0_l1</td>\n",
              "      <td>0.811214</td>\n",
              "      <td>0.325093</td>\n",
              "      <td>0.001547</td>\n",
              "      <td>1</td>\n",
              "    </tr>\n",
              "    <tr>\n",
              "      <th>2</th>\n",
              "      <td>LightGBMClassifier</td>\n",
              "      <td>0.802697</td>\n",
              "      <td>0.606060</td>\n",
              "      <td>0.030324</td>\n",
              "      <td>0</td>\n",
              "    </tr>\n",
              "    <tr>\n",
              "      <th>0</th>\n",
              "      <td>RandomForestClassifierGini</td>\n",
              "      <td>0.801278</td>\n",
              "      <td>0.666289</td>\n",
              "      <td>0.128497</td>\n",
              "      <td>0</td>\n",
              "    </tr>\n",
              "    <tr>\n",
              "      <th>1</th>\n",
              "      <td>RandomForestClassifierEntr</td>\n",
              "      <td>0.794890</td>\n",
              "      <td>0.865456</td>\n",
              "      <td>0.124379</td>\n",
              "      <td>0</td>\n",
              "    </tr>\n",
              "  </tbody>\n",
              "</table>\n",
              "</div>"
            ],
            "text/plain": [
              "                        model  score_val  fit_time  pred_time_val  stack_level\n",
              "3     weighted_ensemble_k0_l1   0.811214  0.325093       0.001547            1\n",
              "2          LightGBMClassifier   0.802697  0.606060       0.030324            0\n",
              "0  RandomForestClassifierGini   0.801278  0.666289       0.128497            0\n",
              "1  RandomForestClassifierEntr   0.794890  0.865456       0.124379            0"
            ]
          },
          "metadata": {
            "tags": []
          },
          "execution_count": 26
        }
      ]
    },
    {
      "cell_type": "code",
      "metadata": {
        "id": "zNdwjEzqUeZW",
        "colab_type": "code",
        "colab": {}
      },
      "source": [
        ""
      ],
      "execution_count": 0,
      "outputs": []
    }
  ]
}