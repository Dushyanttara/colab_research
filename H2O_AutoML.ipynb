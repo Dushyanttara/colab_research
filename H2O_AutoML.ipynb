{
  "nbformat": 4,
  "nbformat_minor": 0,
  "metadata": {
    "colab": {
      "name": "H2O AutoML",
      "provenance": [],
      "collapsed_sections": [],
      "authorship_tag": "ABX9TyMlkppRpm/2zsY/h+F7TS45",
      "include_colab_link": true
    },
    "kernelspec": {
      "name": "python3",
      "display_name": "Python 3"
    },
    "accelerator": "GPU"
  },
  "cells": [
    {
      "cell_type": "markdown",
      "metadata": {
        "id": "view-in-github",
        "colab_type": "text"
      },
      "source": [
        "<a href=\"https://colab.research.google.com/github/Dushyanttara/colab_research/blob/master/H2O_AutoML.ipynb\" target=\"_parent\"><img src=\"https://colab.research.google.com/assets/colab-badge.svg\" alt=\"Open In Colab\"/></a>"
      ]
    },
    {
      "cell_type": "code",
      "metadata": {
        "id": "FVhRWQ8_xkc-",
        "colab_type": "code",
        "colab": {
          "base_uri": "https://localhost:8080/",
          "height": 306
        },
        "outputId": "c9f2db30-f621-461c-807e-505d7ec7ac28"
      },
      "source": [
        "#this command might be relevant only on GPU nodes. But the notebook will run on CPU as well \n",
        "#If running on CPU remove the command wherever it appears\n",
        "#H2o provides deployment ready course, mojo, pojo and binary\n",
        "!nvidia-smi"
      ],
      "execution_count": 1,
      "outputs": [
        {
          "output_type": "stream",
          "text": [
            "Mon Mar 16 14:38:25 2020       \n",
            "+-----------------------------------------------------------------------------+\n",
            "| NVIDIA-SMI 440.59       Driver Version: 418.67       CUDA Version: 10.1     |\n",
            "|-------------------------------+----------------------+----------------------+\n",
            "| GPU  Name        Persistence-M| Bus-Id        Disp.A | Volatile Uncorr. ECC |\n",
            "| Fan  Temp  Perf  Pwr:Usage/Cap|         Memory-Usage | GPU-Util  Compute M. |\n",
            "|===============================+======================+======================|\n",
            "|   0  Tesla K80           Off  | 00000000:00:04.0 Off |                    0 |\n",
            "| N/A   70C    P8    33W / 149W |      0MiB / 11441MiB |      0%      Default |\n",
            "+-------------------------------+----------------------+----------------------+\n",
            "                                                                               \n",
            "+-----------------------------------------------------------------------------+\n",
            "| Processes:                                                       GPU Memory |\n",
            "|  GPU       PID   Type   Process name                             Usage      |\n",
            "|=============================================================================|\n",
            "|  No running processes found                                                 |\n",
            "+-----------------------------------------------------------------------------+\n"
          ],
          "name": "stdout"
        }
      ]
    },
    {
      "cell_type": "code",
      "metadata": {
        "id": "axrYSATqx_0S",
        "colab_type": "code",
        "colab": {
          "base_uri": "https://localhost:8080/",
          "height": 170
        },
        "outputId": "bb0ca146-5e72-42af-bf9a-db504500debc"
      },
      "source": [
        "!apt-get install default-jre\n",
        "!java -version"
      ],
      "execution_count": 2,
      "outputs": [
        {
          "output_type": "stream",
          "text": [
            "Reading package lists... Done\n",
            "Building dependency tree       \n",
            "Reading state information... Done\n",
            "default-jre is already the newest version (2:1.11-68ubuntu1~18.04.1).\n",
            "default-jre set to manually installed.\n",
            "0 upgraded, 0 newly installed, 0 to remove and 25 not upgraded.\n",
            "openjdk version \"11.0.6\" 2020-01-14\n",
            "OpenJDK Runtime Environment (build 11.0.6+10-post-Ubuntu-1ubuntu118.04.1)\n",
            "OpenJDK 64-Bit Server VM (build 11.0.6+10-post-Ubuntu-1ubuntu118.04.1, mixed mode, sharing)\n"
          ],
          "name": "stdout"
        }
      ]
    },
    {
      "cell_type": "code",
      "metadata": {
        "id": "vYr-bKcbySAq",
        "colab_type": "code",
        "colab": {
          "base_uri": "https://localhost:8080/",
          "height": 340
        },
        "outputId": "3a434a59-3788-49a0-c7a7-39dcb75d3269"
      },
      "source": [
        "!pip install h2o"
      ],
      "execution_count": 3,
      "outputs": [
        {
          "output_type": "stream",
          "text": [
            "Collecting h2o\n",
            "\u001b[?25l  Downloading https://files.pythonhosted.org/packages/ef/f5/23c0d33d0b4880cbb09327ba8bc0072d366bc80eada9122bd6758ef1d365/h2o-3.28.0.3.tar.gz (126.2MB)\n",
            "\u001b[K     |████████████████████████████████| 126.2MB 91kB/s \n",
            "\u001b[?25hRequirement already satisfied: requests in /usr/local/lib/python3.6/dist-packages (from h2o) (2.21.0)\n",
            "Requirement already satisfied: tabulate in /usr/local/lib/python3.6/dist-packages (from h2o) (0.8.6)\n",
            "Requirement already satisfied: future in /usr/local/lib/python3.6/dist-packages (from h2o) (0.16.0)\n",
            "Collecting colorama>=0.3.8\n",
            "  Downloading https://files.pythonhosted.org/packages/c9/dc/45cdef1b4d119eb96316b3117e6d5708a08029992b2fee2c143c7a0a5cc5/colorama-0.4.3-py2.py3-none-any.whl\n",
            "Requirement already satisfied: idna<2.9,>=2.5 in /usr/local/lib/python3.6/dist-packages (from requests->h2o) (2.8)\n",
            "Requirement already satisfied: urllib3<1.25,>=1.21.1 in /usr/local/lib/python3.6/dist-packages (from requests->h2o) (1.24.3)\n",
            "Requirement already satisfied: chardet<3.1.0,>=3.0.2 in /usr/local/lib/python3.6/dist-packages (from requests->h2o) (3.0.4)\n",
            "Requirement already satisfied: certifi>=2017.4.17 in /usr/local/lib/python3.6/dist-packages (from requests->h2o) (2019.11.28)\n",
            "Building wheels for collected packages: h2o\n",
            "  Building wheel for h2o (setup.py) ... \u001b[?25l\u001b[?25hdone\n",
            "  Created wheel for h2o: filename=h2o-3.28.0.3-py2.py3-none-any.whl size=126303006 sha256=ba870e74c692317b5da167f50980bc0d3462bb42c5cb49bfcb59297eb3603894\n",
            "  Stored in directory: /root/.cache/pip/wheels/fa/7c/ce/95ae52b4d3f1b14a27c3c961c1f94635aee841ab1eec3aeeca\n",
            "Successfully built h2o\n",
            "Installing collected packages: colorama, h2o\n",
            "Successfully installed colorama-0.4.3 h2o-3.28.0.3\n"
          ],
          "name": "stdout"
        }
      ]
    },
    {
      "cell_type": "code",
      "metadata": {
        "id": "9nKyQxhvydd8",
        "colab_type": "code",
        "colab": {}
      },
      "source": [
        "import h2o"
      ],
      "execution_count": 0,
      "outputs": []
    },
    {
      "cell_type": "code",
      "metadata": {
        "id": "491_D_CkzM3q",
        "colab_type": "code",
        "colab": {
          "base_uri": "https://localhost:8080/",
          "height": 528
        },
        "outputId": "2dabded2-636a-4845-922f-8ad73d6288ef"
      },
      "source": [
        "h2o.init()"
      ],
      "execution_count": 5,
      "outputs": [
        {
          "output_type": "stream",
          "text": [
            "Checking whether there is an H2O instance running at http://localhost:54321 ..... not found.\n",
            "Attempting to start a local H2O server...\n",
            "  Java Version: openjdk version \"11.0.6\" 2020-01-14; OpenJDK Runtime Environment (build 11.0.6+10-post-Ubuntu-1ubuntu118.04.1); OpenJDK 64-Bit Server VM (build 11.0.6+10-post-Ubuntu-1ubuntu118.04.1, mixed mode, sharing)\n",
            "  Starting server from /usr/local/lib/python3.6/dist-packages/h2o/backend/bin/h2o.jar\n",
            "  Ice root: /tmp/tmpgfrvkzgx\n",
            "  JVM stdout: /tmp/tmpgfrvkzgx/h2o_unknownUser_started_from_python.out\n",
            "  JVM stderr: /tmp/tmpgfrvkzgx/h2o_unknownUser_started_from_python.err\n",
            "  Server is running at http://127.0.0.1:54321\n",
            "Connecting to H2O server at http://127.0.0.1:54321 ... successful.\n"
          ],
          "name": "stdout"
        },
        {
          "output_type": "display_data",
          "data": {
            "text/html": [
              "<div style=\"overflow:auto\"><table style=\"width:50%\"><tr><td>H2O cluster uptime:</td>\n",
              "<td>03 secs</td></tr>\n",
              "<tr><td>H2O cluster timezone:</td>\n",
              "<td>Etc/UTC</td></tr>\n",
              "<tr><td>H2O data parsing timezone:</td>\n",
              "<td>UTC</td></tr>\n",
              "<tr><td>H2O cluster version:</td>\n",
              "<td>3.28.0.3</td></tr>\n",
              "<tr><td>H2O cluster version age:</td>\n",
              "<td>1 month and 10 days </td></tr>\n",
              "<tr><td>H2O cluster name:</td>\n",
              "<td>H2O_from_python_unknownUser_0oun6a</td></tr>\n",
              "<tr><td>H2O cluster total nodes:</td>\n",
              "<td>1</td></tr>\n",
              "<tr><td>H2O cluster free memory:</td>\n",
              "<td>2.938 Gb</td></tr>\n",
              "<tr><td>H2O cluster total cores:</td>\n",
              "<td>2</td></tr>\n",
              "<tr><td>H2O cluster allowed cores:</td>\n",
              "<td>2</td></tr>\n",
              "<tr><td>H2O cluster status:</td>\n",
              "<td>accepting new members, healthy</td></tr>\n",
              "<tr><td>H2O connection url:</td>\n",
              "<td>http://127.0.0.1:54321</td></tr>\n",
              "<tr><td>H2O connection proxy:</td>\n",
              "<td>{'http': None, 'https': None}</td></tr>\n",
              "<tr><td>H2O internal security:</td>\n",
              "<td>False</td></tr>\n",
              "<tr><td>H2O API Extensions:</td>\n",
              "<td>Amazon S3, XGBoost, Algos, AutoML, Core V3, TargetEncoder, Core V4</td></tr>\n",
              "<tr><td>Python version:</td>\n",
              "<td>3.6.9 final</td></tr></table></div>"
            ],
            "text/plain": [
              "--------------------------  ------------------------------------------------------------------\n",
              "H2O cluster uptime:         03 secs\n",
              "H2O cluster timezone:       Etc/UTC\n",
              "H2O data parsing timezone:  UTC\n",
              "H2O cluster version:        3.28.0.3\n",
              "H2O cluster version age:    1 month and 10 days\n",
              "H2O cluster name:           H2O_from_python_unknownUser_0oun6a\n",
              "H2O cluster total nodes:    1\n",
              "H2O cluster free memory:    2.938 Gb\n",
              "H2O cluster total cores:    2\n",
              "H2O cluster allowed cores:  2\n",
              "H2O cluster status:         accepting new members, healthy\n",
              "H2O connection url:         http://127.0.0.1:54321\n",
              "H2O connection proxy:       {'http': None, 'https': None}\n",
              "H2O internal security:      False\n",
              "H2O API Extensions:         Amazon S3, XGBoost, Algos, AutoML, Core V3, TargetEncoder, Core V4\n",
              "Python version:             3.6.9 final\n",
              "--------------------------  ------------------------------------------------------------------"
            ]
          },
          "metadata": {
            "tags": []
          }
        }
      ]
    },
    {
      "cell_type": "code",
      "metadata": {
        "id": "4h4JE5SzzOma",
        "colab_type": "code",
        "colab": {}
      },
      "source": [
        "from h2o.automl import H2OAutoML"
      ],
      "execution_count": 0,
      "outputs": []
    },
    {
      "cell_type": "code",
      "metadata": {
        "id": "448Ty4GEzgoJ",
        "colab_type": "code",
        "colab": {
          "base_uri": "https://localhost:8080/",
          "height": 34
        },
        "outputId": "07167cd1-9d12-4118-c2c2-8fc1c9b71920"
      },
      "source": [
        "churn_df = h2o.import_file('/content/churn_data.csv')"
      ],
      "execution_count": 7,
      "outputs": [
        {
          "output_type": "stream",
          "text": [
            "Parse progress: |█████████████████████████████████████████████████████████| 100%\n"
          ],
          "name": "stdout"
        }
      ]
    },
    {
      "cell_type": "code",
      "metadata": {
        "id": "993Ni-9kzmlJ",
        "colab_type": "code",
        "colab": {
          "base_uri": "https://localhost:8080/",
          "height": 374
        },
        "outputId": "a75943dd-e8f4-48d3-eb68-403a3e7e31cd"
      },
      "source": [
        "churn_df.types"
      ],
      "execution_count": 8,
      "outputs": [
        {
          "output_type": "execute_result",
          "data": {
            "text/plain": [
              "{'Churn': 'enum',\n",
              " 'Contract': 'enum',\n",
              " 'Dependents': 'enum',\n",
              " 'DeviceProtection': 'enum',\n",
              " 'InternetService': 'enum',\n",
              " 'MonthlyCharges': 'real',\n",
              " 'MultipleLines': 'enum',\n",
              " 'OnlineBackup': 'enum',\n",
              " 'OnlineSecurity': 'enum',\n",
              " 'PaperlessBilling': 'enum',\n",
              " 'Partner': 'enum',\n",
              " 'PaymentMethod': 'enum',\n",
              " 'PhoneService': 'enum',\n",
              " 'SeniorCitizen': 'int',\n",
              " 'StreamingMovies': 'enum',\n",
              " 'StreamingTV': 'enum',\n",
              " 'TechSupport': 'enum',\n",
              " 'TotalCharges': 'real',\n",
              " 'customerID': 'string',\n",
              " 'gender': 'enum',\n",
              " 'tenure': 'int'}"
            ]
          },
          "metadata": {
            "tags": []
          },
          "execution_count": 8
        }
      ]
    },
    {
      "cell_type": "code",
      "metadata": {
        "id": "EQC9OLVczp17",
        "colab_type": "code",
        "colab": {
          "base_uri": "https://localhost:8080/",
          "height": 655
        },
        "outputId": "93b5976d-9680-407f-c5d3-c4898fc68887"
      },
      "source": [
        "churn_df.describe()"
      ],
      "execution_count": 9,
      "outputs": [
        {
          "output_type": "stream",
          "text": [
            "Rows:7043\n",
            "Cols:21\n",
            "\n",
            "\n"
          ],
          "name": "stdout"
        },
        {
          "output_type": "display_data",
          "data": {
            "text/html": [
              "<table>\n",
              "<thead>\n",
              "<tr><th>       </th><th>customerID  </th><th>gender  </th><th>SeniorCitizen     </th><th>Partner  </th><th>Dependents  </th><th>tenure            </th><th>PhoneService  </th><th>MultipleLines   </th><th>InternetService  </th><th>OnlineSecurity  </th><th>OnlineBackup  </th><th>DeviceProtection  </th><th>TechSupport  </th><th>StreamingTV  </th><th>StreamingMovies  </th><th>Contract      </th><th>PaperlessBilling  </th><th>PaymentMethod            </th><th>MonthlyCharges    </th><th>TotalCharges     </th><th>Churn  </th></tr>\n",
              "</thead>\n",
              "<tbody>\n",
              "<tr><td>type   </td><td>string      </td><td>enum    </td><td>int               </td><td>enum     </td><td>enum        </td><td>int               </td><td>enum          </td><td>enum            </td><td>enum             </td><td>enum            </td><td>enum          </td><td>enum              </td><td>enum         </td><td>enum         </td><td>enum             </td><td>enum          </td><td>enum              </td><td>enum                     </td><td>real              </td><td>real             </td><td>enum   </td></tr>\n",
              "<tr><td>mins   </td><td>NaN         </td><td>        </td><td>0.0               </td><td>         </td><td>            </td><td>0.0               </td><td>              </td><td>                </td><td>                 </td><td>                </td><td>              </td><td>                  </td><td>             </td><td>             </td><td>                 </td><td>              </td><td>                  </td><td>                         </td><td>18.25             </td><td>18.8             </td><td>       </td></tr>\n",
              "<tr><td>mean   </td><td>NaN         </td><td>        </td><td>0.1621468124378816</td><td>         </td><td>            </td><td>32.37114865824223 </td><td>              </td><td>                </td><td>                 </td><td>                </td><td>              </td><td>                  </td><td>             </td><td>             </td><td>                 </td><td>              </td><td>                  </td><td>                         </td><td>64.76169246059916 </td><td>2283.300440841865</td><td>       </td></tr>\n",
              "<tr><td>maxs   </td><td>NaN         </td><td>        </td><td>1.0               </td><td>         </td><td>            </td><td>72.0              </td><td>              </td><td>                </td><td>                 </td><td>                </td><td>              </td><td>                  </td><td>             </td><td>             </td><td>                 </td><td>              </td><td>                  </td><td>                         </td><td>118.75            </td><td>8684.8           </td><td>       </td></tr>\n",
              "<tr><td>sigma  </td><td>NaN         </td><td>        </td><td>0.3686116056100131</td><td>         </td><td>            </td><td>24.559481023094456</td><td>              </td><td>                </td><td>                 </td><td>                </td><td>              </td><td>                  </td><td>             </td><td>             </td><td>                 </td><td>              </td><td>                  </td><td>                         </td><td>30.090047097678482</td><td>2266.771361883145</td><td>       </td></tr>\n",
              "<tr><td>zeros  </td><td>0           </td><td>        </td><td>5901              </td><td>         </td><td>            </td><td>11                </td><td>              </td><td>                </td><td>                 </td><td>                </td><td>              </td><td>                  </td><td>             </td><td>             </td><td>                 </td><td>              </td><td>                  </td><td>                         </td><td>0                 </td><td>0                </td><td>       </td></tr>\n",
              "<tr><td>missing</td><td>0           </td><td>0       </td><td>0                 </td><td>0        </td><td>0           </td><td>0                 </td><td>0             </td><td>0               </td><td>0                </td><td>0               </td><td>0             </td><td>0                 </td><td>0            </td><td>0            </td><td>0                </td><td>0             </td><td>0                 </td><td>0                        </td><td>0                 </td><td>11               </td><td>0      </td></tr>\n",
              "<tr><td>0      </td><td>7590-VHVEG  </td><td>Female  </td><td>0.0               </td><td>Yes      </td><td>No          </td><td>1.0               </td><td>No            </td><td>No phone service</td><td>DSL              </td><td>No              </td><td>Yes           </td><td>No                </td><td>No           </td><td>No           </td><td>No               </td><td>Month-to-month</td><td>Yes               </td><td>Electronic check         </td><td>29.85             </td><td>29.85            </td><td>No     </td></tr>\n",
              "<tr><td>1      </td><td>5575-GNVDE  </td><td>Male    </td><td>0.0               </td><td>No       </td><td>No          </td><td>34.0              </td><td>Yes           </td><td>No              </td><td>DSL              </td><td>Yes             </td><td>No            </td><td>Yes               </td><td>No           </td><td>No           </td><td>No               </td><td>One year      </td><td>No                </td><td>Mailed check             </td><td>56.95             </td><td>1889.5           </td><td>No     </td></tr>\n",
              "<tr><td>2      </td><td>3668-QPYBK  </td><td>Male    </td><td>0.0               </td><td>No       </td><td>No          </td><td>2.0               </td><td>Yes           </td><td>No              </td><td>DSL              </td><td>Yes             </td><td>Yes           </td><td>No                </td><td>No           </td><td>No           </td><td>No               </td><td>Month-to-month</td><td>Yes               </td><td>Mailed check             </td><td>53.85             </td><td>108.15           </td><td>Yes    </td></tr>\n",
              "<tr><td>3      </td><td>7795-CFOCW  </td><td>Male    </td><td>0.0               </td><td>No       </td><td>No          </td><td>45.0              </td><td>No            </td><td>No phone service</td><td>DSL              </td><td>Yes             </td><td>No            </td><td>Yes               </td><td>Yes          </td><td>No           </td><td>No               </td><td>One year      </td><td>No                </td><td>Bank transfer (automatic)</td><td>42.3              </td><td>1840.75          </td><td>No     </td></tr>\n",
              "<tr><td>4      </td><td>9237-HQITU  </td><td>Female  </td><td>0.0               </td><td>No       </td><td>No          </td><td>2.0               </td><td>Yes           </td><td>No              </td><td>Fiber optic      </td><td>No              </td><td>No            </td><td>No                </td><td>No           </td><td>No           </td><td>No               </td><td>Month-to-month</td><td>Yes               </td><td>Electronic check         </td><td>70.7              </td><td>151.65           </td><td>Yes    </td></tr>\n",
              "<tr><td>5      </td><td>9305-CDSKC  </td><td>Female  </td><td>0.0               </td><td>No       </td><td>No          </td><td>8.0               </td><td>Yes           </td><td>Yes             </td><td>Fiber optic      </td><td>No              </td><td>No            </td><td>Yes               </td><td>No           </td><td>Yes          </td><td>Yes              </td><td>Month-to-month</td><td>Yes               </td><td>Electronic check         </td><td>99.65             </td><td>820.5            </td><td>Yes    </td></tr>\n",
              "<tr><td>6      </td><td>1452-KIOVK  </td><td>Male    </td><td>0.0               </td><td>No       </td><td>Yes         </td><td>22.0              </td><td>Yes           </td><td>Yes             </td><td>Fiber optic      </td><td>No              </td><td>Yes           </td><td>No                </td><td>No           </td><td>Yes          </td><td>No               </td><td>Month-to-month</td><td>Yes               </td><td>Credit card (automatic)  </td><td>89.1              </td><td>1949.4           </td><td>No     </td></tr>\n",
              "<tr><td>7      </td><td>6713-OKOMC  </td><td>Female  </td><td>0.0               </td><td>No       </td><td>No          </td><td>10.0              </td><td>No            </td><td>No phone service</td><td>DSL              </td><td>Yes             </td><td>No            </td><td>No                </td><td>No           </td><td>No           </td><td>No               </td><td>Month-to-month</td><td>No                </td><td>Mailed check             </td><td>29.75             </td><td>301.9            </td><td>No     </td></tr>\n",
              "<tr><td>8      </td><td>7892-POOKP  </td><td>Female  </td><td>0.0               </td><td>Yes      </td><td>No          </td><td>28.0              </td><td>Yes           </td><td>Yes             </td><td>Fiber optic      </td><td>No              </td><td>No            </td><td>Yes               </td><td>Yes          </td><td>Yes          </td><td>Yes              </td><td>Month-to-month</td><td>Yes               </td><td>Electronic check         </td><td>104.8             </td><td>3046.05          </td><td>Yes    </td></tr>\n",
              "<tr><td>9      </td><td>6388-TABGU  </td><td>Male    </td><td>0.0               </td><td>No       </td><td>Yes         </td><td>62.0              </td><td>Yes           </td><td>No              </td><td>DSL              </td><td>Yes             </td><td>Yes           </td><td>No                </td><td>No           </td><td>No           </td><td>No               </td><td>One year      </td><td>No                </td><td>Bank transfer (automatic)</td><td>56.15             </td><td>3487.95          </td><td>No     </td></tr>\n",
              "</tbody>\n",
              "</table>"
            ]
          },
          "metadata": {
            "tags": []
          }
        }
      ]
    },
    {
      "cell_type": "code",
      "metadata": {
        "id": "b4l6PlB8zrkb",
        "colab_type": "code",
        "colab": {}
      },
      "source": [
        "churn_train, churn_test, churn_valid = churn_df.split_frame(ratios = [.7, .15])"
      ],
      "execution_count": 0,
      "outputs": []
    },
    {
      "cell_type": "code",
      "metadata": {
        "id": "PoIszDIC0PXL",
        "colab_type": "code",
        "colab": {
          "base_uri": "https://localhost:8080/",
          "height": 440
        },
        "outputId": "245d9491-926e-4037-d856-46baa364f5d9"
      },
      "source": [
        "churn_train"
      ],
      "execution_count": 11,
      "outputs": [
        {
          "output_type": "display_data",
          "data": {
            "text/html": [
              "<table>\n",
              "<thead>\n",
              "<tr><th>customerID  </th><th>gender  </th><th style=\"text-align: right;\">  SeniorCitizen</th><th>Partner  </th><th>Dependents  </th><th style=\"text-align: right;\">  tenure</th><th>PhoneService  </th><th>MultipleLines   </th><th>InternetService  </th><th>OnlineSecurity  </th><th>OnlineBackup  </th><th>DeviceProtection  </th><th>TechSupport  </th><th>StreamingTV  </th><th>StreamingMovies  </th><th>Contract      </th><th>PaperlessBilling  </th><th>PaymentMethod            </th><th style=\"text-align: right;\">  MonthlyCharges</th><th style=\"text-align: right;\">  TotalCharges</th><th>Churn  </th></tr>\n",
              "</thead>\n",
              "<tbody>\n",
              "<tr><td>3668-QPYBK  </td><td>Male    </td><td style=\"text-align: right;\">              0</td><td>No       </td><td>No          </td><td style=\"text-align: right;\">       2</td><td>Yes           </td><td>No              </td><td>DSL              </td><td>Yes             </td><td>Yes           </td><td>No                </td><td>No           </td><td>No           </td><td>No               </td><td>Month-to-month</td><td>Yes               </td><td>Mailed check             </td><td style=\"text-align: right;\">           53.85</td><td style=\"text-align: right;\">        108.15</td><td>Yes    </td></tr>\n",
              "<tr><td>7795-CFOCW  </td><td>Male    </td><td style=\"text-align: right;\">              0</td><td>No       </td><td>No          </td><td style=\"text-align: right;\">      45</td><td>No            </td><td>No phone service</td><td>DSL              </td><td>Yes             </td><td>No            </td><td>Yes               </td><td>Yes          </td><td>No           </td><td>No               </td><td>One year      </td><td>No                </td><td>Bank transfer (automatic)</td><td style=\"text-align: right;\">           42.3 </td><td style=\"text-align: right;\">       1840.75</td><td>No     </td></tr>\n",
              "<tr><td>1452-KIOVK  </td><td>Male    </td><td style=\"text-align: right;\">              0</td><td>No       </td><td>Yes         </td><td style=\"text-align: right;\">      22</td><td>Yes           </td><td>Yes             </td><td>Fiber optic      </td><td>No              </td><td>Yes           </td><td>No                </td><td>No           </td><td>Yes          </td><td>No               </td><td>Month-to-month</td><td>Yes               </td><td>Credit card (automatic)  </td><td style=\"text-align: right;\">           89.1 </td><td style=\"text-align: right;\">       1949.4 </td><td>No     </td></tr>\n",
              "<tr><td>6713-OKOMC  </td><td>Female  </td><td style=\"text-align: right;\">              0</td><td>No       </td><td>No          </td><td style=\"text-align: right;\">      10</td><td>No            </td><td>No phone service</td><td>DSL              </td><td>Yes             </td><td>No            </td><td>No                </td><td>No           </td><td>No           </td><td>No               </td><td>Month-to-month</td><td>No                </td><td>Mailed check             </td><td style=\"text-align: right;\">           29.75</td><td style=\"text-align: right;\">        301.9 </td><td>No     </td></tr>\n",
              "<tr><td>6388-TABGU  </td><td>Male    </td><td style=\"text-align: right;\">              0</td><td>No       </td><td>Yes         </td><td style=\"text-align: right;\">      62</td><td>Yes           </td><td>No              </td><td>DSL              </td><td>Yes             </td><td>Yes           </td><td>No                </td><td>No           </td><td>No           </td><td>No               </td><td>One year      </td><td>No                </td><td>Bank transfer (automatic)</td><td style=\"text-align: right;\">           56.15</td><td style=\"text-align: right;\">       3487.95</td><td>No     </td></tr>\n",
              "<tr><td>8091-TTVAX  </td><td>Male    </td><td style=\"text-align: right;\">              0</td><td>Yes      </td><td>No          </td><td style=\"text-align: right;\">      58</td><td>Yes           </td><td>Yes             </td><td>Fiber optic      </td><td>No              </td><td>No            </td><td>Yes               </td><td>No           </td><td>Yes          </td><td>Yes              </td><td>One year      </td><td>No                </td><td>Credit card (automatic)  </td><td style=\"text-align: right;\">          100.35</td><td style=\"text-align: right;\">       5681.1 </td><td>No     </td></tr>\n",
              "<tr><td>0280-XJGEX  </td><td>Male    </td><td style=\"text-align: right;\">              0</td><td>No       </td><td>No          </td><td style=\"text-align: right;\">      49</td><td>Yes           </td><td>Yes             </td><td>Fiber optic      </td><td>No              </td><td>Yes           </td><td>Yes               </td><td>No           </td><td>Yes          </td><td>Yes              </td><td>Month-to-month</td><td>Yes               </td><td>Bank transfer (automatic)</td><td style=\"text-align: right;\">          103.7 </td><td style=\"text-align: right;\">       5036.3 </td><td>Yes    </td></tr>\n",
              "<tr><td>5129-JLPIS  </td><td>Male    </td><td style=\"text-align: right;\">              0</td><td>No       </td><td>No          </td><td style=\"text-align: right;\">      25</td><td>Yes           </td><td>No              </td><td>Fiber optic      </td><td>Yes             </td><td>No            </td><td>Yes               </td><td>Yes          </td><td>Yes          </td><td>Yes              </td><td>Month-to-month</td><td>Yes               </td><td>Electronic check         </td><td style=\"text-align: right;\">          105.5 </td><td style=\"text-align: right;\">       2686.05</td><td>No     </td></tr>\n",
              "<tr><td>3655-SNQYZ  </td><td>Female  </td><td style=\"text-align: right;\">              0</td><td>Yes      </td><td>Yes         </td><td style=\"text-align: right;\">      69</td><td>Yes           </td><td>Yes             </td><td>Fiber optic      </td><td>Yes             </td><td>Yes           </td><td>Yes               </td><td>Yes          </td><td>Yes          </td><td>Yes              </td><td>Two year      </td><td>No                </td><td>Credit card (automatic)  </td><td style=\"text-align: right;\">          113.25</td><td style=\"text-align: right;\">       7895.15</td><td>No     </td></tr>\n",
              "<tr><td>9959-WOFKT  </td><td>Male    </td><td style=\"text-align: right;\">              0</td><td>No       </td><td>Yes         </td><td style=\"text-align: right;\">      71</td><td>Yes           </td><td>Yes             </td><td>Fiber optic      </td><td>Yes             </td><td>No            </td><td>Yes               </td><td>No           </td><td>Yes          </td><td>Yes              </td><td>Two year      </td><td>No                </td><td>Bank transfer (automatic)</td><td style=\"text-align: right;\">          106.7 </td><td style=\"text-align: right;\">       7382.25</td><td>No     </td></tr>\n",
              "</tbody>\n",
              "</table>"
            ]
          },
          "metadata": {
            "tags": []
          }
        },
        {
          "output_type": "execute_result",
          "data": {
            "text/plain": [
              ""
            ]
          },
          "metadata": {
            "tags": []
          },
          "execution_count": 11
        }
      ]
    },
    {
      "cell_type": "code",
      "metadata": {
        "id": "xPJG0JGJ0RdC",
        "colab_type": "code",
        "colab": {}
      },
      "source": [
        "y = \"Churn\"\n",
        "x = churn_df.columns\n",
        "x.remove(y)\n",
        "x.remove(\"customerID\")"
      ],
      "execution_count": 0,
      "outputs": []
    },
    {
      "cell_type": "code",
      "metadata": {
        "id": "ffFuqA3x0jw6",
        "colab_type": "code",
        "colab": {}
      },
      "source": [
        "aml = H2OAutoML(max_models= 10 , seed = 10, exclude_algos= [\"StackedEnsemble\", \"DeepLearning\"], verbosity= \"info\", nfolds = 0)"
      ],
      "execution_count": 0,
      "outputs": []
    },
    {
      "cell_type": "code",
      "metadata": {
        "id": "r4W-dJAK1Rmt",
        "colab_type": "code",
        "colab": {
          "base_uri": "https://localhost:8080/",
          "height": 306
        },
        "outputId": "28310039-4e9a-4d52-8313-8ede698a006c"
      },
      "source": [
        "!nvidia-smi"
      ],
      "execution_count": 16,
      "outputs": [
        {
          "output_type": "stream",
          "text": [
            "Mon Mar 16 14:52:56 2020       \n",
            "+-----------------------------------------------------------------------------+\n",
            "| NVIDIA-SMI 440.59       Driver Version: 418.67       CUDA Version: 10.1     |\n",
            "|-------------------------------+----------------------+----------------------+\n",
            "| GPU  Name        Persistence-M| Bus-Id        Disp.A | Volatile Uncorr. ECC |\n",
            "| Fan  Temp  Perf  Pwr:Usage/Cap|         Memory-Usage | GPU-Util  Compute M. |\n",
            "|===============================+======================+======================|\n",
            "|   0  Tesla K80           Off  | 00000000:00:04.0 Off |                    0 |\n",
            "| N/A   73C    P8    34W / 149W |      0MiB / 11441MiB |      0%      Default |\n",
            "+-------------------------------+----------------------+----------------------+\n",
            "                                                                               \n",
            "+-----------------------------------------------------------------------------+\n",
            "| Processes:                                                       GPU Memory |\n",
            "|  GPU       PID   Type   Process name                             Usage      |\n",
            "|=============================================================================|\n",
            "|  No running processes found                                                 |\n",
            "+-----------------------------------------------------------------------------+\n"
          ],
          "name": "stdout"
        }
      ]
    },
    {
      "cell_type": "code",
      "metadata": {
        "id": "Jn1PqCWn1UeZ",
        "colab_type": "code",
        "colab": {
          "base_uri": "https://localhost:8080/",
          "height": 989
        },
        "outputId": "d63787e8-229a-495c-e4e5-5801ba81969c"
      },
      "source": [
        "aml.train(x =x, y = y, training_frame= churn_train, validation_frame= churn_valid)"
      ],
      "execution_count": 17,
      "outputs": [
        {
          "output_type": "stream",
          "text": [
            "AutoML progress: |\n",
            "14:53:25.951: Project: AutoML_20200316_145325945\n",
            "14:53:25.952: Cross-validation disabled by user: no fold column nor nfolds > 1.\n",
            "14:53:25.952: Setting stopping tolerance adaptively based on the training frame: 0.014250856858528702\n",
            "14:53:25.952: Build control seed: 10\n",
            "14:53:25.953: Since cross-validation is disabled, and no leaderboard frame was provided, automatically split the training data into training and leaderboard frames in the ratio 90/10\n",
            "14:53:26.58: training frame: Frame key: automl_training_py_3_sid_9198    cols: 21    rows: 4448  chunks: 8    size: 254213  checksum: 5297930617938246158\n",
            "14:53:26.58: validation frame: Frame key: py_5_sid_9198    cols: 21    rows: 1050  chunks: 8    size: 98292  checksum: -483931244574965820\n",
            "14:53:26.69: leaderboard frame: Frame key: automl_leaderboard_py_3_sid_9198    cols: 21    rows: 476  chunks: 8    size: 83948  checksum: -2879273804623512111\n",
            "14:53:26.69: blending frame: NULL\n",
            "14:53:26.69: response column: Churn\n",
            "14:53:26.69: fold column: null\n",
            "14:53:26.69: weights column: null\n",
            "14:53:26.88: Loading execution steps: [{XGBoost : defaults}, {GLM : defaults}, {DRF : [def_1]}, {GBM : defaults}, {DeepLearning : defaults}, {DRF : [XRT]}, {XGBoost : grids}, {GBM : grids}, {DeepLearning : grids}, {StackedEnsemble : defaults}]\n",
            "14:53:26.101: Disabling Algo: DeepLearning as requested by the user.\n",
            "14:53:26.101: Disabling Algo: StackedEnsemble as requested by the user.\n",
            "14:53:26.103: AutoML job created: 2020.03.16 14:53:25.945\n",
            "14:53:26.103: AutoML build started: 2020.03.16 14:53:26.103\n",
            "14:53:26.116: AutoML: starting XGBoost_1_AutoML_20200316_145325 model training\n",
            "\n",
            "█\n",
            "14:53:34.595: New leader: XGBoost_1_AutoML_20200316_145325, auc: 0.898340592746899\n",
            "14:53:34.595: AutoML: starting XGBoost_2_AutoML_20200316_145325 model training\n",
            "\n",
            "█\n",
            "14:53:39.636: AutoML: starting XGBoost_3_AutoML_20200316_145325 model training\n",
            "\n",
            "██\n",
            "14:53:43.657: New leader: XGBoost_3_AutoML_20200316_145325, auc: 0.9017611968563584\n",
            "14:53:43.661: AutoML: starting GLM_1_AutoML_20200316_145325 model training\n",
            "14:53:45.687: AutoML: starting DRF_1_AutoML_20200316_145325 model training\n",
            "\n",
            "█████\n",
            "14:53:50.747: AutoML: starting GBM_1_AutoML_20200316_145325 model training\n",
            "\n",
            "█\n",
            "14:53:52.803: AutoML: starting GBM_2_AutoML_20200316_145325 model training\n",
            "\n",
            "█\n",
            "14:53:54.828: AutoML: starting GBM_3_AutoML_20200316_145325 model training\n",
            "\n",
            "█\n",
            "14:53:56.856: AutoML: starting GBM_4_AutoML_20200316_145325 model training\n",
            "\n",
            "███\n",
            "14:53:58.881: AutoML: starting GBM_5_AutoML_20200316_145325 model training\n",
            "\n",
            "█████████████████████████████████████████| 100%\n",
            "\n",
            "14:54:00.903: Skipping StackedEnsemble 'best' due to the exclude_algos option.\n",
            "14:54:00.905: Skipping StackedEnsemble 'all' due to the exclude_algos option.\n",
            "14:54:00.905: Actual modeling steps: [{XGBoost : [def_1 (10), def_2 (10), def_3 (10)]}, {GLM : [def_1 (10)]}, {DRF : [def_1 (10)]}, {GBM : [def_1 (10), def_2 (10), def_3 (10), def_4 (10), def_5 (10)]}]\n",
            "14:54:00.905: AutoML build stopped: 2020.03.16 14:54:00.905\n",
            "14:54:00.905: AutoML build done: built 10 models\n",
            "14:54:00.908: AutoML duration: 34.802 sec\n",
            "\n"
          ],
          "name": "stdout"
        }
      ]
    },
    {
      "cell_type": "code",
      "metadata": {
        "id": "EaV6xx4Q1cA6",
        "colab_type": "code",
        "colab": {
          "base_uri": "https://localhost:8080/",
          "height": 289
        },
        "outputId": "96ec5bba-9222-4094-daf3-1529f521edc5"
      },
      "source": [
        "!nvidia-smi"
      ],
      "execution_count": 18,
      "outputs": [
        {
          "output_type": "stream",
          "text": [
            "Mon Mar 16 14:54:31 2020       \n",
            "+-----------------------------------------------------------------------------+\n",
            "| NVIDIA-SMI 440.59       Driver Version: 418.67       CUDA Version: 10.1     |\n",
            "|-------------------------------+----------------------+----------------------+\n",
            "| GPU  Name        Persistence-M| Bus-Id        Disp.A | Volatile Uncorr. ECC |\n",
            "| Fan  Temp  Perf  Pwr:Usage/Cap|         Memory-Usage | GPU-Util  Compute M. |\n",
            "|===============================+======================+======================|\n",
            "|   0  Tesla K80           Off  | 00000000:00:04.0 Off |                    0 |\n",
            "| N/A   73C    P0    73W / 149W |     85MiB / 11441MiB |      0%      Default |\n",
            "+-------------------------------+----------------------+----------------------+\n",
            "                                                                               \n",
            "+-----------------------------------------------------------------------------+\n",
            "| Processes:                                                       GPU Memory |\n",
            "|  GPU       PID   Type   Process name                             Usage      |\n",
            "|=============================================================================|\n",
            "+-----------------------------------------------------------------------------+\n"
          ],
          "name": "stdout"
        }
      ]
    },
    {
      "cell_type": "code",
      "metadata": {
        "id": "Py3-jmHS1rpb",
        "colab_type": "code",
        "colab": {}
      },
      "source": [
        "lb = aml.leaderboard"
      ],
      "execution_count": 0,
      "outputs": []
    },
    {
      "cell_type": "code",
      "metadata": {
        "id": "6VsJs8k41wer",
        "colab_type": "code",
        "colab": {
          "base_uri": "https://localhost:8080/",
          "height": 247
        },
        "outputId": "17d5358b-255d-495d-e5ea-0b2c9b639830"
      },
      "source": [
        "lb.head()"
      ],
      "execution_count": 20,
      "outputs": [
        {
          "output_type": "display_data",
          "data": {
            "text/html": [
              "<table>\n",
              "<thead>\n",
              "<tr><th>model_id                        </th><th style=\"text-align: right;\">     auc</th><th style=\"text-align: right;\">  logloss</th><th style=\"text-align: right;\">   aucpr</th><th style=\"text-align: right;\">  mean_per_class_error</th><th style=\"text-align: right;\">    rmse</th><th style=\"text-align: right;\">     mse</th></tr>\n",
              "</thead>\n",
              "<tbody>\n",
              "<tr><td>XGBoost_3_AutoML_20200316_145325</td><td style=\"text-align: right;\">0.901761</td><td style=\"text-align: right;\"> 0.347978</td><td style=\"text-align: right;\">0.700357</td><td style=\"text-align: right;\">              0.160259</td><td style=\"text-align: right;\">0.330572</td><td style=\"text-align: right;\">0.109278</td></tr>\n",
              "<tr><td>GLM_1_AutoML_20200316_145325    </td><td style=\"text-align: right;\">0.898589</td><td style=\"text-align: right;\"> 0.348175</td><td style=\"text-align: right;\">0.716094</td><td style=\"text-align: right;\">              0.173161</td><td style=\"text-align: right;\">0.331063</td><td style=\"text-align: right;\">0.109603</td></tr>\n",
              "<tr><td>XGBoost_1_AutoML_20200316_145325</td><td style=\"text-align: right;\">0.898341</td><td style=\"text-align: right;\"> 0.352895</td><td style=\"text-align: right;\">0.698195</td><td style=\"text-align: right;\">              0.177303</td><td style=\"text-align: right;\">0.33343 </td><td style=\"text-align: right;\">0.111176</td></tr>\n",
              "<tr><td>GBM_2_AutoML_20200316_145325    </td><td style=\"text-align: right;\">0.897903</td><td style=\"text-align: right;\"> 0.352801</td><td style=\"text-align: right;\">0.670781</td><td style=\"text-align: right;\">              0.178795</td><td style=\"text-align: right;\">0.334292</td><td style=\"text-align: right;\">0.111751</td></tr>\n",
              "<tr><td>XGBoost_2_AutoML_20200316_145325</td><td style=\"text-align: right;\">0.896364</td><td style=\"text-align: right;\"> 0.353462</td><td style=\"text-align: right;\">0.689359</td><td style=\"text-align: right;\">              0.164449</td><td style=\"text-align: right;\">0.33394 </td><td style=\"text-align: right;\">0.111516</td></tr>\n",
              "<tr><td>GBM_5_AutoML_20200316_145325    </td><td style=\"text-align: right;\">0.894068</td><td style=\"text-align: right;\"> 0.35521 </td><td style=\"text-align: right;\">0.685041</td><td style=\"text-align: right;\">              0.190205</td><td style=\"text-align: right;\">0.334613</td><td style=\"text-align: right;\">0.111966</td></tr>\n",
              "<tr><td>GBM_1_AutoML_20200316_145325    </td><td style=\"text-align: right;\">0.893358</td><td style=\"text-align: right;\"> 0.357066</td><td style=\"text-align: right;\">0.674446</td><td style=\"text-align: right;\">              0.170225</td><td style=\"text-align: right;\">0.335392</td><td style=\"text-align: right;\">0.112487</td></tr>\n",
              "<tr><td>GBM_4_AutoML_20200316_145325    </td><td style=\"text-align: right;\">0.885001</td><td style=\"text-align: right;\"> 0.365081</td><td style=\"text-align: right;\">0.658664</td><td style=\"text-align: right;\">              0.18708 </td><td style=\"text-align: right;\">0.342043</td><td style=\"text-align: right;\">0.116994</td></tr>\n",
              "<tr><td>GBM_3_AutoML_20200316_145325    </td><td style=\"text-align: right;\">0.884907</td><td style=\"text-align: right;\"> 0.36389 </td><td style=\"text-align: right;\">0.662132</td><td style=\"text-align: right;\">              0.192903</td><td style=\"text-align: right;\">0.339432</td><td style=\"text-align: right;\">0.115214</td></tr>\n",
              "<tr><td>DRF_1_AutoML_20200316_145325    </td><td style=\"text-align: right;\">0.874515</td><td style=\"text-align: right;\"> 0.379054</td><td style=\"text-align: right;\">0.637488</td><td style=\"text-align: right;\">              0.191317</td><td style=\"text-align: right;\">0.350025</td><td style=\"text-align: right;\">0.122518</td></tr>\n",
              "</tbody>\n",
              "</table>"
            ]
          },
          "metadata": {
            "tags": []
          }
        },
        {
          "output_type": "execute_result",
          "data": {
            "text/plain": [
              ""
            ]
          },
          "metadata": {
            "tags": []
          },
          "execution_count": 20
        }
      ]
    },
    {
      "cell_type": "code",
      "metadata": {
        "id": "KS6QDIsE1ykC",
        "colab_type": "code",
        "colab": {
          "base_uri": "https://localhost:8080/",
          "height": 34
        },
        "outputId": "5ee04ed5-2f87-479d-95a0-a05dc328c77a"
      },
      "source": [
        "churn_pred = aml.leader.predict(churn_test)"
      ],
      "execution_count": 22,
      "outputs": [
        {
          "output_type": "stream",
          "text": [
            "xgboost prediction progress: |████████████████████████████████████████████| 100%\n"
          ],
          "name": "stdout"
        }
      ]
    },
    {
      "cell_type": "code",
      "metadata": {
        "id": "9niYyv3b17Pr",
        "colab_type": "code",
        "colab": {
          "base_uri": "https://localhost:8080/",
          "height": 250
        },
        "outputId": "40505f1c-462e-4290-ce8b-7a573cb15131"
      },
      "source": [
        "churn_pred.head()"
      ],
      "execution_count": 23,
      "outputs": [
        {
          "output_type": "display_data",
          "data": {
            "text/html": [
              "<table>\n",
              "<thead>\n",
              "<tr><th>predict  </th><th style=\"text-align: right;\">      No</th><th style=\"text-align: right;\">      Yes</th></tr>\n",
              "</thead>\n",
              "<tbody>\n",
              "<tr><td>Yes      </td><td style=\"text-align: right;\">0.296822</td><td style=\"text-align: right;\">0.703178 </td></tr>\n",
              "<tr><td>Yes      </td><td style=\"text-align: right;\">0.459452</td><td style=\"text-align: right;\">0.540548 </td></tr>\n",
              "<tr><td>No       </td><td style=\"text-align: right;\">0.974151</td><td style=\"text-align: right;\">0.0258486</td></tr>\n",
              "<tr><td>No       </td><td style=\"text-align: right;\">0.973287</td><td style=\"text-align: right;\">0.0267127</td></tr>\n",
              "<tr><td>No       </td><td style=\"text-align: right;\">0.987175</td><td style=\"text-align: right;\">0.0128246</td></tr>\n",
              "<tr><td>Yes      </td><td style=\"text-align: right;\">0.214684</td><td style=\"text-align: right;\">0.785316 </td></tr>\n",
              "<tr><td>No       </td><td style=\"text-align: right;\">0.97859 </td><td style=\"text-align: right;\">0.0214095</td></tr>\n",
              "<tr><td>No       </td><td style=\"text-align: right;\">0.981996</td><td style=\"text-align: right;\">0.0180038</td></tr>\n",
              "<tr><td>Yes      </td><td style=\"text-align: right;\">0.570624</td><td style=\"text-align: right;\">0.429376 </td></tr>\n",
              "<tr><td>No       </td><td style=\"text-align: right;\">0.781751</td><td style=\"text-align: right;\">0.218249 </td></tr>\n",
              "</tbody>\n",
              "</table>"
            ]
          },
          "metadata": {
            "tags": []
          }
        },
        {
          "output_type": "execute_result",
          "data": {
            "text/plain": [
              ""
            ]
          },
          "metadata": {
            "tags": []
          },
          "execution_count": 23
        }
      ]
    },
    {
      "cell_type": "code",
      "metadata": {
        "id": "t3VCIQ2C2C56",
        "colab_type": "code",
        "colab": {
          "base_uri": "https://localhost:8080/",
          "height": 34
        },
        "outputId": "fbf5085e-26ac-4296-bb61-565efe0d978d"
      },
      "source": [
        "type(churn_pred)"
      ],
      "execution_count": 24,
      "outputs": [
        {
          "output_type": "execute_result",
          "data": {
            "text/plain": [
              "h2o.frame.H2OFrame"
            ]
          },
          "metadata": {
            "tags": []
          },
          "execution_count": 24
        }
      ]
    },
    {
      "cell_type": "code",
      "metadata": {
        "id": "mKcJxl5k2EPi",
        "colab_type": "code",
        "colab": {}
      },
      "source": [
        "aml.leader.model_performance(churn_test)"
      ],
      "execution_count": 0,
      "outputs": []
    },
    {
      "cell_type": "code",
      "metadata": {
        "id": "mUdROFuX2KNC",
        "colab_type": "code",
        "colab": {}
      },
      "source": [
        "model_ids = list(aml.leaderboard['model_id'].as_data_frame().iloc[:,0])\n",
        "#se = h2o.get_model([mid for mid in moel_ids if \"StackedEnsemble_allModels\" in mid][0])\n",
        "#metalearner = h2o.get_model(se.metalearner()['name'])"
      ],
      "execution_count": 0,
      "outputs": []
    },
    {
      "cell_type": "code",
      "metadata": {
        "id": "BrTIf1k42vup",
        "colab_type": "code",
        "colab": {
          "base_uri": "https://localhost:8080/",
          "height": 187
        },
        "outputId": "897513f3-f2b9-4307-db82-4e59d57482d6"
      },
      "source": [
        "model_ids"
      ],
      "execution_count": 27,
      "outputs": [
        {
          "output_type": "execute_result",
          "data": {
            "text/plain": [
              "['XGBoost_3_AutoML_20200316_145325',\n",
              " 'GLM_1_AutoML_20200316_145325',\n",
              " 'XGBoost_1_AutoML_20200316_145325',\n",
              " 'GBM_2_AutoML_20200316_145325',\n",
              " 'XGBoost_2_AutoML_20200316_145325',\n",
              " 'GBM_5_AutoML_20200316_145325',\n",
              " 'GBM_1_AutoML_20200316_145325',\n",
              " 'GBM_4_AutoML_20200316_145325',\n",
              " 'GBM_3_AutoML_20200316_145325',\n",
              " 'DRF_1_AutoML_20200316_145325']"
            ]
          },
          "metadata": {
            "tags": []
          },
          "execution_count": 27
        }
      ]
    },
    {
      "cell_type": "code",
      "metadata": {
        "id": "aV53tYez2xOk",
        "colab_type": "code",
        "colab": {}
      },
      "source": [
        "h2o.get_model([mid for mid in model_ids if \"XGBoost\" in mid][0])"
      ],
      "execution_count": 0,
      "outputs": []
    },
    {
      "cell_type": "code",
      "metadata": {
        "id": "Du2FDS_v29G7",
        "colab_type": "code",
        "colab": {}
      },
      "source": [
        "out = h2o.get_model([mid for mid in model_ids if \"XGBoost\" in mid][0])"
      ],
      "execution_count": 0,
      "outputs": []
    },
    {
      "cell_type": "code",
      "metadata": {
        "id": "8XnH_qlO3DfJ",
        "colab_type": "code",
        "colab": {}
      },
      "source": [
        "out.params"
      ],
      "execution_count": 0,
      "outputs": []
    },
    {
      "cell_type": "code",
      "metadata": {
        "id": "WfRmagxO3Lu6",
        "colab_type": "code",
        "colab": {
          "base_uri": "https://localhost:8080/",
          "height": 374
        },
        "outputId": "6164dcfe-8a3f-499d-c089-3513edfae219"
      },
      "source": [
        "out.convert_H2OXGBoostParams_2_XGBoostParams()"
      ],
      "execution_count": 32,
      "outputs": [
        {
          "output_type": "execute_result",
          "data": {
            "text/plain": [
              "({'alpha': 0.0,\n",
              "  'booster': 'gbtree',\n",
              "  'colsample_bylevel': 0.8,\n",
              "  'colsample_bytree': 0.8,\n",
              "  'eta': 0.05,\n",
              "  'gamma': 0.0,\n",
              "  'gpu_id': 0,\n",
              "  'grow_policy': 'depthwise',\n",
              "  'lambda': 1.0,\n",
              "  'max_bin': 256,\n",
              "  'max_delta_step': 0.0,\n",
              "  'max_depth': 5,\n",
              "  'min_child_weight': 3.0,\n",
              "  'nround': 10000,\n",
              "  'nthread': 2,\n",
              "  'objective': 'binary:logistic',\n",
              "  'seed': 12,\n",
              "  'silent': True,\n",
              "  'subsample': 0.8,\n",
              "  'updater': 'grow_gpu_hist'},\n",
              " 10000)"
            ]
          },
          "metadata": {
            "tags": []
          },
          "execution_count": 32
        }
      ]
    },
    {
      "cell_type": "code",
      "metadata": {
        "id": "-iMHwcyK3REi",
        "colab_type": "code",
        "colab": {}
      },
      "source": [
        "out"
      ],
      "execution_count": 0,
      "outputs": []
    },
    {
      "cell_type": "code",
      "metadata": {
        "id": "Rorugnxz3T7E",
        "colab_type": "code",
        "colab": {}
      },
      "source": [
        "out_gbm = h2o.get_model([mid for mid in model_ids if \"GBM\" in mid][0])"
      ],
      "execution_count": 0,
      "outputs": []
    },
    {
      "cell_type": "code",
      "metadata": {
        "id": "VPI9NTXT3aLd",
        "colab_type": "code",
        "colab": {
          "base_uri": "https://localhost:8080/",
          "height": 176
        },
        "outputId": "b55f5ba8-4830-4b26-9c14-9780eb26ec91"
      },
      "source": [
        "out.confusion_matrix()"
      ],
      "execution_count": 35,
      "outputs": [
        {
          "output_type": "stream",
          "text": [
            "\n",
            "Confusion Matrix (Act/Pred) for max f1 @ threshold = 0.34512156546115874: \n"
          ],
          "name": "stdout"
        },
        {
          "output_type": "display_data",
          "data": {
            "text/html": [
              "<div>\n",
              "<style scoped>\n",
              "    .dataframe tbody tr th:only-of-type {\n",
              "        vertical-align: middle;\n",
              "    }\n",
              "\n",
              "    .dataframe tbody tr th {\n",
              "        vertical-align: top;\n",
              "    }\n",
              "\n",
              "    .dataframe thead th {\n",
              "        text-align: right;\n",
              "    }\n",
              "</style>\n",
              "<table border=\"1\" class=\"dataframe\">\n",
              "  <thead>\n",
              "    <tr style=\"text-align: right;\">\n",
              "      <th></th>\n",
              "      <th></th>\n",
              "      <th>No</th>\n",
              "      <th>Yes</th>\n",
              "      <th>Error</th>\n",
              "      <th>Rate</th>\n",
              "    </tr>\n",
              "  </thead>\n",
              "  <tbody>\n",
              "    <tr>\n",
              "      <th>0</th>\n",
              "      <td>No</td>\n",
              "      <td>2680.0</td>\n",
              "      <td>577.0</td>\n",
              "      <td>0.1772</td>\n",
              "      <td>(577.0/3257.0)</td>\n",
              "    </tr>\n",
              "    <tr>\n",
              "      <th>1</th>\n",
              "      <td>Yes</td>\n",
              "      <td>253.0</td>\n",
              "      <td>938.0</td>\n",
              "      <td>0.2124</td>\n",
              "      <td>(253.0/1191.0)</td>\n",
              "    </tr>\n",
              "    <tr>\n",
              "      <th>2</th>\n",
              "      <td>Total</td>\n",
              "      <td>2933.0</td>\n",
              "      <td>1515.0</td>\n",
              "      <td>0.1866</td>\n",
              "      <td>(830.0/4448.0)</td>\n",
              "    </tr>\n",
              "  </tbody>\n",
              "</table>\n",
              "</div>"
            ],
            "text/plain": [
              "              No     Yes   Error             Rate\n",
              "0     No  2680.0   577.0  0.1772   (577.0/3257.0)\n",
              "1    Yes   253.0   938.0  0.2124   (253.0/1191.0)\n",
              "2  Total  2933.0  1515.0  0.1866   (830.0/4448.0)"
            ]
          },
          "metadata": {
            "tags": []
          }
        },
        {
          "output_type": "execute_result",
          "data": {
            "text/plain": [
              ""
            ]
          },
          "metadata": {
            "tags": []
          },
          "execution_count": 35
        }
      ]
    },
    {
      "cell_type": "code",
      "metadata": {
        "id": "A4cWoUqV3crj",
        "colab_type": "code",
        "colab": {
          "base_uri": "https://localhost:8080/",
          "height": 612
        },
        "outputId": "ce77fb41-c15e-4970-badb-df3b83d016f3"
      },
      "source": [
        "out.varimp_plot()"
      ],
      "execution_count": 36,
      "outputs": [
        {
          "output_type": "display_data",
          "data": {
            "image/png": "[encoded data removed]",
            "text/plain": [
              "<Figure size 1008x720 with 1 Axes>"
            ]
          },
          "metadata": {
            "tags": []
          }
        }
      ]
    },
    {
      "cell_type": "code",
      "metadata": {
        "id": "67WgeH2p3eST",
        "colab_type": "code",
        "colab": {
          "base_uri": "https://localhost:8080/",
          "height": 34
        },
        "outputId": "81e0e924-0403-43a1-bf83-b339512fb4f3"
      },
      "source": [
        "aml.leader.download_mojo(path = \"./\")#mojo is a binary file and it can be deployed in python, java programs for fast execution"
      ],
      "execution_count": 37,
      "outputs": [
        {
          "output_type": "execute_result",
          "data": {
            "text/plain": [
              "'/content/XGBoost_3_AutoML_20200316_145325.zip'"
            ]
          },
          "metadata": {
            "tags": []
          },
          "execution_count": 37
        }
      ]
    },
    {
      "cell_type": "code",
      "metadata": {
        "id": "QhZYlQif3-tq",
        "colab_type": "code",
        "colab": {}
      },
      "source": [
        ""
      ],
      "execution_count": 0,
      "outputs": []
    }
  ]
}