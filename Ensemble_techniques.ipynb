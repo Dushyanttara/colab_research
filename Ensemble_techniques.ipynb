{
  "nbformat": 4,
  "nbformat_minor": 0,
  "metadata": {
    "colab": {
      "name": "Ensemble techniques.ipynb",
      "provenance": [],
      "collapsed_sections": [],
      "authorship_tag": "ABX9TyOeEnCxdbudv7SdhyQPM2EL",
      "include_colab_link": true
    },
    "kernelspec": {
      "name": "python3",
      "display_name": "Python 3"
    }
  },
  "cells": [
    {
      "cell_type": "markdown",
      "metadata": {
        "id": "view-in-github",
        "colab_type": "text"
      },
      "source": [
        "<a href=\"https://colab.research.google.com/github/Dushyanttara/colab_research/blob/master/Ensemble_techniques.ipynb\" target=\"_parent\"><img src=\"https://colab.research.google.com/assets/colab-badge.svg\" alt=\"Open In Colab\"/></a>"
      ]
    },
    {
      "cell_type": "code",
      "metadata": {
        "id": "h3IRZzTr0mBn",
        "colab_type": "code",
        "outputId": "54204f91-3a91-4d9a-b226-4b280f24a3c4",
        "colab": {
          "base_uri": "https://localhost:8080/",
          "height": 349
        }
      },
      "source": [
        "!pip install catboost"
      ],
      "execution_count": 0,
      "outputs": [
        {
          "output_type": "stream",
          "text": [
            "Collecting catboost\n",
            "\u001b[?25l  Downloading https://files.pythonhosted.org/packages/b1/61/2b8106c8870601671d99ca94d8b8d180f2b740b7cdb95c930147508abcf9/catboost-0.23-cp36-none-manylinux1_x86_64.whl (64.7MB)\n",
            "\u001b[K     |████████████████████████████████| 64.8MB 64kB/s \n",
            "\u001b[?25hRequirement already satisfied: graphviz in /usr/local/lib/python3.6/dist-packages (from catboost) (0.10.1)\n",
            "Requirement already satisfied: six in /usr/local/lib/python3.6/dist-packages (from catboost) (1.12.0)\n",
            "Requirement already satisfied: plotly in /usr/local/lib/python3.6/dist-packages (from catboost) (4.4.1)\n",
            "Requirement already satisfied: pandas>=0.24.0 in /usr/local/lib/python3.6/dist-packages (from catboost) (1.0.3)\n",
            "Requirement already satisfied: matplotlib in /usr/local/lib/python3.6/dist-packages (from catboost) (3.2.1)\n",
            "Requirement already satisfied: scipy in /usr/local/lib/python3.6/dist-packages (from catboost) (1.4.1)\n",
            "Requirement already satisfied: numpy>=1.16.0 in /usr/local/lib/python3.6/dist-packages (from catboost) (1.18.3)\n",
            "Requirement already satisfied: retrying>=1.3.3 in /usr/local/lib/python3.6/dist-packages (from plotly->catboost) (1.3.3)\n",
            "Requirement already satisfied: python-dateutil>=2.6.1 in /usr/local/lib/python3.6/dist-packages (from pandas>=0.24.0->catboost) (2.8.1)\n",
            "Requirement already satisfied: pytz>=2017.2 in /usr/local/lib/python3.6/dist-packages (from pandas>=0.24.0->catboost) (2018.9)\n",
            "Requirement already satisfied: pyparsing!=2.0.4,!=2.1.2,!=2.1.6,>=2.0.1 in /usr/local/lib/python3.6/dist-packages (from matplotlib->catboost) (2.4.7)\n",
            "Requirement already satisfied: cycler>=0.10 in /usr/local/lib/python3.6/dist-packages (from matplotlib->catboost) (0.10.0)\n",
            "Requirement already satisfied: kiwisolver>=1.0.1 in /usr/local/lib/python3.6/dist-packages (from matplotlib->catboost) (1.2.0)\n",
            "Installing collected packages: catboost\n",
            "Successfully installed catboost-0.23\n"
          ],
          "name": "stdout"
        }
      ]
    },
    {
      "cell_type": "code",
      "metadata": {
        "id": "kuBDjLX6HjSs",
        "colab_type": "code",
        "colab": {}
      },
      "source": [
        "import matplotlib.pyplot as plt\n",
        "import numpy as np\n",
        "import pandas as pd\n",
        "from sklearn.model_selection import train_test_split\n",
        "from sklearn.datasets import load_breast_cancer, load_boston\n",
        "from sklearn.ensemble import VotingClassifier\n",
        "from sklearn.linear_model import LogisticRegression\n",
        "from sklearn.tree import DecisionTreeClassifier\n",
        "from sklearn.preprocessing import StandardScaler\n",
        "from sklearn.neighbors import KNeighborsClassifier\n",
        "from sklearn.metrics import confusion_matrix\n",
        "from sklearn.model_selection import StratifiedKFold\n",
        "from sklearn.ensemble import BaggingClassifier\n",
        "from sklearn.ensemble import BaggingRegressor\n",
        "from sklearn.ensemble import RandomForestClassifier\n",
        "from sklearn.ensemble import AdaBoostClassifier\n",
        "from sklearn.ensemble import AdaBoostRegressor\n",
        "from sklearn.ensemble import GradientBoostingClassifier\n",
        "from sklearn.ensemble import GradientBoostingRegressor\n",
        "import xgboost as xgb\n",
        "import lightgbm as lgb\n",
        "from catboost import CatBoostClassifier\n",
        "from catboost import CatBoostRegressor"
      ],
      "execution_count": 0,
      "outputs": []
    },
    {
      "cell_type": "markdown",
      "metadata": {
        "id": "UDfo9GZAFKU9",
        "colab_type": "text"
      },
      "source": [
        "## Simple Ensemble techniques"
      ]
    },
    {
      "cell_type": "markdown",
      "metadata": {
        "id": "MaO219s3FO1W",
        "colab_type": "text"
      },
      "source": [
        "### Max Voting\n",
        "You can consider this as taking the mode of all the predictions."
      ]
    },
    {
      "cell_type": "markdown",
      "metadata": {
        "id": "9AKHOjw3F0Cz",
        "colab_type": "text"
      },
      "source": [
        "Alternatively you can use \"Voting Classifier\" module in sklearn:"
      ]
    },
    {
      "cell_type": "code",
      "metadata": {
        "id": "bMltjQDsH1QA",
        "colab_type": "code",
        "colab": {}
      },
      "source": [
        "#Load dataset for breast cancer detection\n",
        "X, y = load_breast_cancer(return_X_y=True)\n",
        "x_train,x_test, y_train, y_test = train_test_split(X,y, random_state = 1, test_size = 0.2)"
      ],
      "execution_count": 0,
      "outputs": []
    },
    {
      "cell_type": "code",
      "metadata": {
        "id": "QCuTQpylJbdv",
        "colab_type": "code",
        "colab": {}
      },
      "source": [
        "scaler = StandardScaler().fit(x_train)"
      ],
      "execution_count": 0,
      "outputs": []
    },
    {
      "cell_type": "code",
      "metadata": {
        "id": "R1tDWo35JvCA",
        "colab_type": "code",
        "outputId": "bc190de7-1204-4abf-8404-7f8372b64256",
        "colab": {
          "base_uri": "https://localhost:8080/",
          "height": 312
        }
      },
      "source": [
        "print('scaler mean:', scaler.mean_, '\\n\\n','scaler scale :', scaler.scale_ )"
      ],
      "execution_count": 0,
      "outputs": [
        {
          "output_type": "stream",
          "text": [
            "scaler mean: [1.42134923e+01 1.93543736e+01 9.25727912e+01 6.64583077e+02\n",
            " 9.63717582e-02 1.05058879e-01 8.96509136e-02 4.95899780e-02\n",
            " 1.81131209e-01 6.27204835e-02 4.12704615e-01 1.22476747e+00\n",
            " 2.91436725e+00 4.17422967e+01 7.01670989e-03 2.58046242e-02\n",
            " 3.18617881e-02 1.18816593e-02 2.05152879e-02 3.82098967e-03\n",
            " 1.64117868e+01 2.57051648e+01 1.08253319e+02 9.00190549e+02\n",
            " 1.32138198e-01 2.56131407e-01 2.72104193e-01 1.15820371e-01\n",
            " 2.88476484e-01 8.36364615e-02] \n",
            "\n",
            " scaler scale : [3.61393415e+00 4.39478887e+00 2.49663565e+01 3.62204367e+02\n",
            " 1.37309337e-02 5.19197492e-02 8.01752926e-02 3.93686243e-02\n",
            " 2.72271211e-02 6.71035406e-03 2.87068914e-01 5.74298327e-01\n",
            " 2.09734645e+00 4.85007708e+01 3.05760659e-03 1.80992367e-02\n",
            " 2.91334637e-02 6.28200536e-03 8.26851979e-03 2.76617334e-03\n",
            " 5.00827710e+00 6.28235900e+00 3.48114950e+01 5.94523660e+02\n",
            " 2.21654518e-02 1.54650615e-01 2.04049117e-01 6.69564801e-02\n",
            " 5.87803649e-02 1.66278736e-02]\n"
          ],
          "name": "stdout"
        }
      ]
    },
    {
      "cell_type": "code",
      "metadata": {
        "id": "hURrGMFyKMMI",
        "colab_type": "code",
        "colab": {}
      },
      "source": [
        "#now use the same mean and scale to transform both train and test datasets\n",
        "x_train = scaler.transform(x_train)\n",
        "x_test = scaler.transform(x_test)"
      ],
      "execution_count": 0,
      "outputs": []
    },
    {
      "cell_type": "code",
      "metadata": {
        "id": "dMEroDh9F4bg",
        "colab_type": "code",
        "outputId": "dc1ff722-0bcf-46f2-b200-88b34c8dddb4",
        "colab": {
          "base_uri": "https://localhost:8080/",
          "height": 52
        }
      },
      "source": [
        "\n",
        "model1 = LogisticRegression(random_state =1)\n",
        "model2 = DecisionTreeClassifier(random_state =1)\n",
        "model = VotingClassifier(estimators= [('lr', model1), ('dt', model2)], voting = 'hard')\n",
        "model.fit(x_train, y_train)\n",
        "print('model score for max voting :\\n', model.score(x_test, y_test))"
      ],
      "execution_count": 0,
      "outputs": [
        {
          "output_type": "stream",
          "text": [
            "model score for max voting :\n",
            " 0.9649122807017544\n"
          ],
          "name": "stdout"
        }
      ]
    },
    {
      "cell_type": "code",
      "metadata": {
        "id": "zM6ErXZ9a9Rk",
        "colab_type": "code",
        "outputId": "04b74149-d92f-413a-cff7-b11105bb7c05",
        "colab": {
          "base_uri": "https://localhost:8080/",
          "height": 52
        }
      },
      "source": [
        "y_pred = model.predict(x_test)\n",
        "print(confusion_matrix(y_test, y_pred))"
      ],
      "execution_count": 0,
      "outputs": [
        {
          "output_type": "stream",
          "text": [
            "[[40  2]\n",
            " [ 2 70]]\n"
          ],
          "name": "stdout"
        }
      ]
    },
    {
      "cell_type": "markdown",
      "metadata": {
        "id": "_Uue-tLzXQBP",
        "colab_type": "text"
      },
      "source": [
        "### Averaging\n",
        "Averaging can be used for making predictions in regression problems or while calculating probabilities for classification problems."
      ]
    },
    {
      "cell_type": "code",
      "metadata": {
        "id": "s-CqGU8kG2nM",
        "colab_type": "code",
        "colab": {}
      },
      "source": [
        "model1 = DecisionTreeClassifier()\n",
        "model2 = KNeighborsClassifier()\n",
        "model3 = LogisticRegression()\n",
        "\n",
        "model1.fit(x_train, y_train)\n",
        "model2.fit(x_train, y_train)\n",
        "model3.fit(x_train, y_train)\n",
        "\n",
        "pred1 = model1.predict_proba(x_test)\n",
        "pred2 = model2.predict_proba(x_test)\n",
        "pred3 = model3.predict_proba(x_test)\n",
        "\n",
        "\n",
        "final_pred = (pred1 + pred2 + pred3) / 3"
      ],
      "execution_count": 0,
      "outputs": []
    },
    {
      "cell_type": "code",
      "metadata": {
        "id": "Np71E70oYA2p",
        "colab_type": "code",
        "colab": {}
      },
      "source": [
        "final_pred1 = (final_pred > 0.5).astype(int)"
      ],
      "execution_count": 0,
      "outputs": []
    },
    {
      "cell_type": "code",
      "metadata": {
        "id": "NCmUE0h3YKLP",
        "colab_type": "code",
        "outputId": "8afe382c-53dd-4e2b-9909-854aa447dae6",
        "colab": {
          "base_uri": "https://localhost:8080/",
          "height": 52
        }
      },
      "source": [
        "confusion_matrix(y_test, final_pred1[:,1])"
      ],
      "execution_count": 0,
      "outputs": [
        {
          "output_type": "execute_result",
          "data": {
            "text/plain": [
              "array([[39,  3],\n",
              "       [ 1, 71]])"
            ]
          },
          "metadata": {
            "tags": []
          },
          "execution_count": 32
        }
      ]
    },
    {
      "cell_type": "markdown",
      "metadata": {
        "id": "k-hz_xVYbNei",
        "colab_type": "text"
      },
      "source": [
        "### Weighted Average"
      ]
    },
    {
      "cell_type": "code",
      "metadata": {
        "id": "281nKNCCani5",
        "colab_type": "code",
        "colab": {}
      },
      "source": [
        "model1 = DecisionTreeClassifier()\n",
        "model2 = KNeighborsClassifier()\n",
        "model3 = LogisticRegression()\n",
        "\n",
        "model1.fit(x_train, y_train)\n",
        "model2.fit(x_train, y_train)\n",
        "model3.fit(x_train, y_train)\n",
        "\n",
        "pred1 = model1.predict_proba(x_test)\n",
        "pred2 = model2.predict_proba(x_test)\n",
        "pred3 = model3.predict_proba(x_test)\n",
        "\n",
        "final_pred = (pred1 * 0.3 + pred2 * 0.3 + pred3*0.4)"
      ],
      "execution_count": 0,
      "outputs": []
    },
    {
      "cell_type": "code",
      "metadata": {
        "id": "fviI26Uvb0KZ",
        "colab_type": "code",
        "outputId": "c9e5b630-6ef2-4aec-f538-47ae9728460f",
        "colab": {
          "base_uri": "https://localhost:8080/",
          "height": 52
        }
      },
      "source": [
        "final_pred1 = (final_pred > 0.5).astype(int)\n",
        "confusion_matrix(y_test, final_pred1[:,1])"
      ],
      "execution_count": 0,
      "outputs": [
        {
          "output_type": "execute_result",
          "data": {
            "text/plain": [
              "array([[40,  2],\n",
              "       [ 0, 72]])"
            ]
          },
          "metadata": {
            "tags": []
          },
          "execution_count": 35
        }
      ]
    },
    {
      "cell_type": "markdown",
      "metadata": {
        "id": "_5Cf-jgwcKEH",
        "colab_type": "text"
      },
      "source": [
        "## Advanced Ensemble Techniques"
      ]
    },
    {
      "cell_type": "markdown",
      "metadata": {
        "id": "eWtjaaWXcOEd",
        "colab_type": "text"
      },
      "source": [
        "### Stacking"
      ]
    },
    {
      "cell_type": "code",
      "metadata": {
        "id": "CJCv-q65b_YI",
        "colab_type": "code",
        "colab": {}
      },
      "source": [
        "\n",
        "#First we'll define stacking function which does k fold cross validation on the dataset\n",
        "def Stacking(model, train, y, test, n_fold):\n",
        "  folds  = StratifiedKFold(n_splits=n_fold, random_state=1)\n",
        "  test_pred = np.empty((0, 1), float)\n",
        "  train_pred = np.empty((0,1), float)\n",
        "  for train_indices, val_indices in folds.split(train, y):\n",
        "    x_train, x_val = train[train_indices], train[val_indices]\n",
        "    y_train, y_val = y[train_indices], y[val_indices]\n",
        "    \n",
        "    model.fit(X=x_train, y=y_train)\n",
        "    train_pred = np.append(train_pred, model.predict(x_val))\n",
        "  test_pred = np.append(test_pred, model.predict(test))\n",
        "  return test_pred, train_pred"
      ],
      "execution_count": 0,
      "outputs": []
    },
    {
      "cell_type": "code",
      "metadata": {
        "id": "80kn5_e8e4kV",
        "colab_type": "code",
        "outputId": "5a5327c2-17be-4d41-a021-e532ceb3a0fe",
        "colab": {
          "base_uri": "https://localhost:8080/",
          "height": 72
        }
      },
      "source": [
        "#Now we'll create two base models -decision tree and KNN\n",
        "model1 = DecisionTreeClassifier(random_state=1)\n",
        "\n",
        "test_pred1, train_pred1 = Stacking(model= model1, n_fold = 10, train = x_train, test = x_test, y= y_train)\n",
        "\n",
        "train_pred1 = pd.DataFrame(train_pred1)\n",
        "\n",
        "test_pred1 = pd.DataFrame(test_pred1)"
      ],
      "execution_count": 0,
      "outputs": [
        {
          "output_type": "stream",
          "text": [
            "/usr/local/lib/python3.6/dist-packages/sklearn/model_selection/_split.py:296: FutureWarning: Setting a random_state has no effect since shuffle is False. This will raise an error in 0.24. You should leave random_state to its default (None), or set shuffle=True.\n",
            "  FutureWarning\n"
          ],
          "name": "stderr"
        }
      ]
    },
    {
      "cell_type": "code",
      "metadata": {
        "id": "KWilq8aSfkux",
        "colab_type": "code",
        "outputId": "11367695-8967-4588-8f6a-d50c30f75a46",
        "colab": {
          "base_uri": "https://localhost:8080/",
          "height": 72
        }
      },
      "source": [
        "model2 = KNeighborsClassifier()\n",
        "\n",
        "test_pred2, train_pred2 = Stacking(model = model2, n_fold= 10, train = x_train, test= x_test, y = y_train)\n",
        "\n",
        "train_pred2 = pd.DataFrame(train_pred2)\n",
        "\n",
        "test_pred2 = pd.DataFrame(test_pred2)"
      ],
      "execution_count": 0,
      "outputs": [
        {
          "output_type": "stream",
          "text": [
            "/usr/local/lib/python3.6/dist-packages/sklearn/model_selection/_split.py:296: FutureWarning: Setting a random_state has no effect since shuffle is False. This will raise an error in 0.24. You should leave random_state to its default (None), or set shuffle=True.\n",
            "  FutureWarning\n"
          ],
          "name": "stderr"
        }
      ]
    },
    {
      "cell_type": "code",
      "metadata": {
        "id": "Q713O_f6fw-W",
        "colab_type": "code",
        "outputId": "6fdcbf36-019a-46e7-8e5e-738904c09431",
        "colab": {
          "base_uri": "https://localhost:8080/",
          "height": 35
        }
      },
      "source": [
        "#create a third model, logistic regression, on the predictions of the decision tree and knn models\n",
        "\n",
        "df = pd.concat([train_pred1, train_pred2], axis=1)\n",
        "df_test = pd.concat([test_pred1, test_pred2], axis =1)\n",
        "\n",
        "model = LogisticRegression(random_state=1)\n",
        "model.fit(df, y_train)\n",
        "model.score(df_test, y_test)"
      ],
      "execution_count": 0,
      "outputs": [
        {
          "output_type": "execute_result",
          "data": {
            "text/plain": [
              "0.956140350877193"
            ]
          },
          "metadata": {
            "tags": []
          },
          "execution_count": 79
        }
      ]
    },
    {
      "cell_type": "code",
      "metadata": {
        "id": "RXa6KY1Jj-LE",
        "colab_type": "code",
        "outputId": "134a566a-d51b-4da9-e49e-0dc3bf4162ce",
        "colab": {
          "base_uri": "https://localhost:8080/",
          "height": 52
        }
      },
      "source": [
        "y_pred = model.predict(df_test)\n",
        "confusion_matrix(y_test, y_pred)"
      ],
      "execution_count": 0,
      "outputs": [
        {
          "output_type": "execute_result",
          "data": {
            "text/plain": [
              "array([[37,  5],\n",
              "       [ 0, 72]])"
            ]
          },
          "metadata": {
            "tags": []
          },
          "execution_count": 81
        }
      ]
    },
    {
      "cell_type": "code",
      "metadata": {
        "id": "Kkv0CbavhPbu",
        "colab_type": "code",
        "colab": {}
      },
      "source": [
        "df_test.shape"
      ],
      "execution_count": 0,
      "outputs": []
    },
    {
      "cell_type": "code",
      "metadata": {
        "id": "DoM9Yq1bhY2t",
        "colab_type": "code",
        "colab": {}
      },
      "source": [
        "y_test.shape"
      ],
      "execution_count": 0,
      "outputs": []
    },
    {
      "cell_type": "code",
      "metadata": {
        "id": "wOo3T7VUha4m",
        "colab_type": "code",
        "colab": {}
      },
      "source": [
        "df.shape"
      ],
      "execution_count": 0,
      "outputs": []
    },
    {
      "cell_type": "code",
      "metadata": {
        "id": "rY0eBq7sh154",
        "colab_type": "code",
        "colab": {}
      },
      "source": [
        "test_pred2.shape"
      ],
      "execution_count": 0,
      "outputs": []
    },
    {
      "cell_type": "code",
      "metadata": {
        "id": "l397V_N2h6NP",
        "colab_type": "code",
        "colab": {}
      },
      "source": [
        "x_test.shape"
      ],
      "execution_count": 0,
      "outputs": []
    },
    {
      "cell_type": "code",
      "metadata": {
        "id": "tbACy4jOh-dO",
        "colab_type": "code",
        "colab": {}
      },
      "source": [
        "x_train.shape"
      ],
      "execution_count": 0,
      "outputs": []
    },
    {
      "cell_type": "code",
      "metadata": {
        "id": "zjsxLUCYiBXf",
        "colab_type": "code",
        "colab": {}
      },
      "source": [
        "train_pred1.shape"
      ],
      "execution_count": 0,
      "outputs": []
    },
    {
      "cell_type": "markdown",
      "metadata": {
        "id": "PlouT3nukXfu",
        "colab_type": "text"
      },
      "source": [
        "### Blending"
      ]
    },
    {
      "cell_type": "code",
      "metadata": {
        "id": "Vvg5mhF5ln9j",
        "colab_type": "code",
        "colab": {}
      },
      "source": [
        "x_train,x_val, y_train, y_val = train_test_split(x_train, y_train, test_size = 0.2, random_state = 1)"
      ],
      "execution_count": 0,
      "outputs": []
    },
    {
      "cell_type": "code",
      "metadata": {
        "id": "yp1H2C36iSs9",
        "colab_type": "code",
        "colab": {}
      },
      "source": [
        "model1 = DecisionTreeClassifier()\n",
        "model1.fit(x_train, y_train)\n",
        "val_pred1 = model1.predict(x_val)\n",
        "test_pred1 = model1.predict(x_test)\n",
        "val_pred1 = pd.DataFrame(val_pred1)\n",
        "test_pred1 = pd.DataFrame(test_pred1)\n",
        "\n",
        "model2 = KNeighborsClassifier()\n",
        "model2.fit(x_train,y_train)\n",
        "val_pred2=model2.predict(x_val)\n",
        "test_pred2=model2.predict(x_test)\n",
        "val_pred2=pd.DataFrame(val_pred2)\n",
        "test_pred2=pd.DataFrame(test_pred2)\n",
        "\n"
      ],
      "execution_count": 0,
      "outputs": []
    },
    {
      "cell_type": "code",
      "metadata": {
        "id": "MLHz-EWEmjjW",
        "colab_type": "code",
        "colab": {}
      },
      "source": [
        "x_val = pd.DataFrame(x_val)\n",
        "x_test = pd.DataFrame(x_test)"
      ],
      "execution_count": 0,
      "outputs": []
    },
    {
      "cell_type": "code",
      "metadata": {
        "id": "HcMXd9pblgkc",
        "colab_type": "code",
        "colab": {}
      },
      "source": [
        "df_val=pd.concat([x_val, val_pred1,val_pred2],axis=1)\n",
        "df_test=pd.concat([x_test, test_pred1,test_pred2],axis=1)"
      ],
      "execution_count": 0,
      "outputs": []
    },
    {
      "cell_type": "code",
      "metadata": {
        "id": "9lBVFSWwlhRr",
        "colab_type": "code",
        "outputId": "a8b962fe-da05-4426-f597-dda30a9e4cc9",
        "colab": {
          "base_uri": "https://localhost:8080/",
          "height": 35
        }
      },
      "source": [
        "model = LogisticRegression()\n",
        "model.fit(df_val,y_val)\n",
        "model.score(df_test,y_test)"
      ],
      "execution_count": 0,
      "outputs": [
        {
          "output_type": "execute_result",
          "data": {
            "text/plain": [
              "0.9649122807017544"
            ]
          },
          "metadata": {
            "tags": []
          },
          "execution_count": 91
        }
      ]
    },
    {
      "cell_type": "code",
      "metadata": {
        "id": "y2ig6LrkmwiF",
        "colab_type": "code",
        "outputId": "6b18fab0-e904-429f-d6c3-8a2d1a2436a7",
        "colab": {
          "base_uri": "https://localhost:8080/",
          "height": 52
        }
      },
      "source": [
        "y_pred = model.predict(df_test)\n",
        "confusion_matrix(y_test, y_pred)"
      ],
      "execution_count": 0,
      "outputs": [
        {
          "output_type": "execute_result",
          "data": {
            "text/plain": [
              "array([[38,  4],\n",
              "       [ 0, 72]])"
            ]
          },
          "metadata": {
            "tags": []
          },
          "execution_count": 93
        }
      ]
    },
    {
      "cell_type": "markdown",
      "metadata": {
        "id": "hshDzFGM0-2a",
        "colab_type": "text"
      },
      "source": [
        "## Bagging & Boosting"
      ]
    },
    {
      "cell_type": "code",
      "metadata": {
        "id": "bRL7ixnQoCVO",
        "colab_type": "code",
        "colab": {}
      },
      "source": [
        "#reading the dataset\n",
        "df = pd.read_csv('train.csv')\n",
        "\n",
        "#filling missing values\n",
        "df['Gender'].fillna('Male', inplace = True)\n",
        "df.dropna(inplace=True)"
      ],
      "execution_count": 0,
      "outputs": []
    },
    {
      "cell_type": "code",
      "metadata": {
        "id": "7tum7RmtydjA",
        "colab_type": "code",
        "outputId": "35b6cd3e-9bba-431a-f925-2c1d411aa002",
        "colab": {
          "base_uri": "https://localhost:8080/",
          "height": 239
        }
      },
      "source": [
        "df.head()"
      ],
      "execution_count": 0,
      "outputs": [
        {
          "output_type": "execute_result",
          "data": {
            "text/html": [
              "<div>\n",
              "<style scoped>\n",
              "    .dataframe tbody tr th:only-of-type {\n",
              "        vertical-align: middle;\n",
              "    }\n",
              "\n",
              "    .dataframe tbody tr th {\n",
              "        vertical-align: top;\n",
              "    }\n",
              "\n",
              "    .dataframe thead th {\n",
              "        text-align: right;\n",
              "    }\n",
              "</style>\n",
              "<table border=\"1\" class=\"dataframe\">\n",
              "  <thead>\n",
              "    <tr style=\"text-align: right;\">\n",
              "      <th></th>\n",
              "      <th>Loan_ID</th>\n",
              "      <th>Gender</th>\n",
              "      <th>Married</th>\n",
              "      <th>Dependents</th>\n",
              "      <th>Education</th>\n",
              "      <th>Self_Employed</th>\n",
              "      <th>ApplicantIncome</th>\n",
              "      <th>CoapplicantIncome</th>\n",
              "      <th>LoanAmount</th>\n",
              "      <th>Loan_Amount_Term</th>\n",
              "      <th>Credit_History</th>\n",
              "      <th>Property_Area</th>\n",
              "      <th>Loan_Status</th>\n",
              "    </tr>\n",
              "  </thead>\n",
              "  <tbody>\n",
              "    <tr>\n",
              "      <th>1</th>\n",
              "      <td>LP001003</td>\n",
              "      <td>Male</td>\n",
              "      <td>Yes</td>\n",
              "      <td>1</td>\n",
              "      <td>Graduate</td>\n",
              "      <td>No</td>\n",
              "      <td>4583</td>\n",
              "      <td>1508.0</td>\n",
              "      <td>128.0</td>\n",
              "      <td>360.0</td>\n",
              "      <td>1.0</td>\n",
              "      <td>Rural</td>\n",
              "      <td>N</td>\n",
              "    </tr>\n",
              "    <tr>\n",
              "      <th>2</th>\n",
              "      <td>LP001005</td>\n",
              "      <td>Male</td>\n",
              "      <td>Yes</td>\n",
              "      <td>0</td>\n",
              "      <td>Graduate</td>\n",
              "      <td>Yes</td>\n",
              "      <td>3000</td>\n",
              "      <td>0.0</td>\n",
              "      <td>66.0</td>\n",
              "      <td>360.0</td>\n",
              "      <td>1.0</td>\n",
              "      <td>Urban</td>\n",
              "      <td>Y</td>\n",
              "    </tr>\n",
              "    <tr>\n",
              "      <th>3</th>\n",
              "      <td>LP001006</td>\n",
              "      <td>Male</td>\n",
              "      <td>Yes</td>\n",
              "      <td>0</td>\n",
              "      <td>Not Graduate</td>\n",
              "      <td>No</td>\n",
              "      <td>2583</td>\n",
              "      <td>2358.0</td>\n",
              "      <td>120.0</td>\n",
              "      <td>360.0</td>\n",
              "      <td>1.0</td>\n",
              "      <td>Urban</td>\n",
              "      <td>Y</td>\n",
              "    </tr>\n",
              "    <tr>\n",
              "      <th>4</th>\n",
              "      <td>LP001008</td>\n",
              "      <td>Male</td>\n",
              "      <td>No</td>\n",
              "      <td>0</td>\n",
              "      <td>Graduate</td>\n",
              "      <td>No</td>\n",
              "      <td>6000</td>\n",
              "      <td>0.0</td>\n",
              "      <td>141.0</td>\n",
              "      <td>360.0</td>\n",
              "      <td>1.0</td>\n",
              "      <td>Urban</td>\n",
              "      <td>Y</td>\n",
              "    </tr>\n",
              "    <tr>\n",
              "      <th>5</th>\n",
              "      <td>LP001011</td>\n",
              "      <td>Male</td>\n",
              "      <td>Yes</td>\n",
              "      <td>2</td>\n",
              "      <td>Graduate</td>\n",
              "      <td>Yes</td>\n",
              "      <td>5417</td>\n",
              "      <td>4196.0</td>\n",
              "      <td>267.0</td>\n",
              "      <td>360.0</td>\n",
              "      <td>1.0</td>\n",
              "      <td>Urban</td>\n",
              "      <td>Y</td>\n",
              "    </tr>\n",
              "  </tbody>\n",
              "</table>\n",
              "</div>"
            ],
            "text/plain": [
              "    Loan_ID Gender Married  ... Credit_History Property_Area Loan_Status\n",
              "1  LP001003   Male     Yes  ...            1.0         Rural           N\n",
              "2  LP001005   Male     Yes  ...            1.0         Urban           Y\n",
              "3  LP001006   Male     Yes  ...            1.0         Urban           Y\n",
              "4  LP001008   Male      No  ...            1.0         Urban           Y\n",
              "5  LP001011   Male     Yes  ...            1.0         Urban           Y\n",
              "\n",
              "[5 rows x 13 columns]"
            ]
          },
          "metadata": {
            "tags": []
          },
          "execution_count": 186
        }
      ]
    },
    {
      "cell_type": "code",
      "metadata": {
        "id": "luF6MBg73R78",
        "colab_type": "code",
        "colab": {}
      },
      "source": [
        "X = df.iloc[:,:-1]\n",
        "y = df.iloc[:,-1]"
      ],
      "execution_count": 0,
      "outputs": []
    },
    {
      "cell_type": "code",
      "metadata": {
        "id": "rY7-B0C13vUY",
        "colab_type": "code",
        "outputId": "396bb77d-f615-46db-dca9-8d7a3676a1e1",
        "colab": {
          "base_uri": "https://localhost:8080/",
          "height": 35
        }
      },
      "source": [
        "X.shape"
      ],
      "execution_count": 0,
      "outputs": [
        {
          "output_type": "execute_result",
          "data": {
            "text/plain": [
              "(492, 12)"
            ]
          },
          "metadata": {
            "tags": []
          },
          "execution_count": 188
        }
      ]
    },
    {
      "cell_type": "code",
      "metadata": {
        "id": "YOu-oGZQ33X5",
        "colab_type": "code",
        "outputId": "1e320810-546a-4145-d3ae-804b874aafe0",
        "colab": {
          "base_uri": "https://localhost:8080/",
          "height": 35
        }
      },
      "source": [
        "y.shape"
      ],
      "execution_count": 0,
      "outputs": [
        {
          "output_type": "execute_result",
          "data": {
            "text/plain": [
              "(492,)"
            ]
          },
          "metadata": {
            "tags": []
          },
          "execution_count": 189
        }
      ]
    },
    {
      "cell_type": "code",
      "metadata": {
        "id": "uKlTRMFn3LeA",
        "colab_type": "code",
        "colab": {}
      },
      "source": [
        "#create dummies\n",
        "X=pd.get_dummies(X)"
      ],
      "execution_count": 0,
      "outputs": []
    },
    {
      "cell_type": "code",
      "metadata": {
        "id": "crzWF2Bkym-a",
        "colab_type": "code",
        "colab": {}
      },
      "source": [
        "#split dataset into train and test\n",
        "\n",
        "from sklearn.model_selection import train_test_split\n",
        "x_train, x_test, y_train, y_test = train_test_split(X,y, test_size=0.3, random_state=0)"
      ],
      "execution_count": 0,
      "outputs": []
    },
    {
      "cell_type": "code",
      "metadata": {
        "id": "i0xj6nNq1lx7",
        "colab_type": "code",
        "outputId": "bed8fb2f-251c-40bc-91a1-a3e71ba1fb66",
        "colab": {
          "base_uri": "https://localhost:8080/",
          "height": 269
        }
      },
      "source": [
        "x_train.head()"
      ],
      "execution_count": 0,
      "outputs": [
        {
          "output_type": "execute_result",
          "data": {
            "text/html": [
              "<div>\n",
              "<style scoped>\n",
              "    .dataframe tbody tr th:only-of-type {\n",
              "        vertical-align: middle;\n",
              "    }\n",
              "\n",
              "    .dataframe tbody tr th {\n",
              "        vertical-align: top;\n",
              "    }\n",
              "\n",
              "    .dataframe thead th {\n",
              "        text-align: right;\n",
              "    }\n",
              "</style>\n",
              "<table border=\"1\" class=\"dataframe\">\n",
              "  <thead>\n",
              "    <tr style=\"text-align: right;\">\n",
              "      <th></th>\n",
              "      <th>ApplicantIncome</th>\n",
              "      <th>CoapplicantIncome</th>\n",
              "      <th>LoanAmount</th>\n",
              "      <th>Loan_Amount_Term</th>\n",
              "      <th>Credit_History</th>\n",
              "      <th>Loan_ID_LP001003</th>\n",
              "      <th>Loan_ID_LP001005</th>\n",
              "      <th>Loan_ID_LP001006</th>\n",
              "      <th>Loan_ID_LP001008</th>\n",
              "      <th>Loan_ID_LP001011</th>\n",
              "      <th>Loan_ID_LP001013</th>\n",
              "      <th>Loan_ID_LP001014</th>\n",
              "      <th>Loan_ID_LP001018</th>\n",
              "      <th>Loan_ID_LP001020</th>\n",
              "      <th>Loan_ID_LP001024</th>\n",
              "      <th>Loan_ID_LP001028</th>\n",
              "      <th>Loan_ID_LP001029</th>\n",
              "      <th>Loan_ID_LP001030</th>\n",
              "      <th>Loan_ID_LP001032</th>\n",
              "      <th>Loan_ID_LP001036</th>\n",
              "      <th>Loan_ID_LP001038</th>\n",
              "      <th>Loan_ID_LP001043</th>\n",
              "      <th>Loan_ID_LP001046</th>\n",
              "      <th>Loan_ID_LP001047</th>\n",
              "      <th>Loan_ID_LP001050</th>\n",
              "      <th>Loan_ID_LP001066</th>\n",
              "      <th>Loan_ID_LP001068</th>\n",
              "      <th>Loan_ID_LP001073</th>\n",
              "      <th>Loan_ID_LP001086</th>\n",
              "      <th>Loan_ID_LP001095</th>\n",
              "      <th>Loan_ID_LP001097</th>\n",
              "      <th>Loan_ID_LP001098</th>\n",
              "      <th>Loan_ID_LP001100</th>\n",
              "      <th>Loan_ID_LP001112</th>\n",
              "      <th>Loan_ID_LP001114</th>\n",
              "      <th>Loan_ID_LP001116</th>\n",
              "      <th>Loan_ID_LP001119</th>\n",
              "      <th>Loan_ID_LP001120</th>\n",
              "      <th>Loan_ID_LP001131</th>\n",
              "      <th>Loan_ID_LP001138</th>\n",
              "      <th>...</th>\n",
              "      <th>Loan_ID_LP002912</th>\n",
              "      <th>Loan_ID_LP002916</th>\n",
              "      <th>Loan_ID_LP002917</th>\n",
              "      <th>Loan_ID_LP002925</th>\n",
              "      <th>Loan_ID_LP002926</th>\n",
              "      <th>Loan_ID_LP002928</th>\n",
              "      <th>Loan_ID_LP002931</th>\n",
              "      <th>Loan_ID_LP002933</th>\n",
              "      <th>Loan_ID_LP002936</th>\n",
              "      <th>Loan_ID_LP002938</th>\n",
              "      <th>Loan_ID_LP002940</th>\n",
              "      <th>Loan_ID_LP002941</th>\n",
              "      <th>Loan_ID_LP002945</th>\n",
              "      <th>Loan_ID_LP002948</th>\n",
              "      <th>Loan_ID_LP002953</th>\n",
              "      <th>Loan_ID_LP002958</th>\n",
              "      <th>Loan_ID_LP002959</th>\n",
              "      <th>Loan_ID_LP002961</th>\n",
              "      <th>Loan_ID_LP002964</th>\n",
              "      <th>Loan_ID_LP002974</th>\n",
              "      <th>Loan_ID_LP002978</th>\n",
              "      <th>Loan_ID_LP002979</th>\n",
              "      <th>Loan_ID_LP002983</th>\n",
              "      <th>Loan_ID_LP002984</th>\n",
              "      <th>Loan_ID_LP002990</th>\n",
              "      <th>Gender_Female</th>\n",
              "      <th>Gender_Male</th>\n",
              "      <th>Married_No</th>\n",
              "      <th>Married_Yes</th>\n",
              "      <th>Dependents_0</th>\n",
              "      <th>Dependents_1</th>\n",
              "      <th>Dependents_2</th>\n",
              "      <th>Dependents_3+</th>\n",
              "      <th>Education_Graduate</th>\n",
              "      <th>Education_Not Graduate</th>\n",
              "      <th>Self_Employed_No</th>\n",
              "      <th>Self_Employed_Yes</th>\n",
              "      <th>Property_Area_Rural</th>\n",
              "      <th>Property_Area_Semiurban</th>\n",
              "      <th>Property_Area_Urban</th>\n",
              "    </tr>\n",
              "  </thead>\n",
              "  <tbody>\n",
              "    <tr>\n",
              "      <th>376</th>\n",
              "      <td>8750</td>\n",
              "      <td>4996.0</td>\n",
              "      <td>130.0</td>\n",
              "      <td>360.0</td>\n",
              "      <td>1.0</td>\n",
              "      <td>0</td>\n",
              "      <td>0</td>\n",
              "      <td>0</td>\n",
              "      <td>0</td>\n",
              "      <td>0</td>\n",
              "      <td>0</td>\n",
              "      <td>0</td>\n",
              "      <td>0</td>\n",
              "      <td>0</td>\n",
              "      <td>0</td>\n",
              "      <td>0</td>\n",
              "      <td>0</td>\n",
              "      <td>0</td>\n",
              "      <td>0</td>\n",
              "      <td>0</td>\n",
              "      <td>0</td>\n",
              "      <td>0</td>\n",
              "      <td>0</td>\n",
              "      <td>0</td>\n",
              "      <td>0</td>\n",
              "      <td>0</td>\n",
              "      <td>0</td>\n",
              "      <td>0</td>\n",
              "      <td>0</td>\n",
              "      <td>0</td>\n",
              "      <td>0</td>\n",
              "      <td>0</td>\n",
              "      <td>0</td>\n",
              "      <td>0</td>\n",
              "      <td>0</td>\n",
              "      <td>0</td>\n",
              "      <td>0</td>\n",
              "      <td>0</td>\n",
              "      <td>0</td>\n",
              "      <td>0</td>\n",
              "      <td>...</td>\n",
              "      <td>0</td>\n",
              "      <td>0</td>\n",
              "      <td>0</td>\n",
              "      <td>0</td>\n",
              "      <td>0</td>\n",
              "      <td>0</td>\n",
              "      <td>0</td>\n",
              "      <td>0</td>\n",
              "      <td>0</td>\n",
              "      <td>0</td>\n",
              "      <td>0</td>\n",
              "      <td>0</td>\n",
              "      <td>0</td>\n",
              "      <td>0</td>\n",
              "      <td>0</td>\n",
              "      <td>0</td>\n",
              "      <td>0</td>\n",
              "      <td>0</td>\n",
              "      <td>0</td>\n",
              "      <td>0</td>\n",
              "      <td>0</td>\n",
              "      <td>0</td>\n",
              "      <td>0</td>\n",
              "      <td>0</td>\n",
              "      <td>0</td>\n",
              "      <td>0</td>\n",
              "      <td>1</td>\n",
              "      <td>0</td>\n",
              "      <td>1</td>\n",
              "      <td>0</td>\n",
              "      <td>0</td>\n",
              "      <td>0</td>\n",
              "      <td>1</td>\n",
              "      <td>1</td>\n",
              "      <td>0</td>\n",
              "      <td>1</td>\n",
              "      <td>0</td>\n",
              "      <td>1</td>\n",
              "      <td>0</td>\n",
              "      <td>0</td>\n",
              "    </tr>\n",
              "    <tr>\n",
              "      <th>17</th>\n",
              "      <td>3510</td>\n",
              "      <td>0.0</td>\n",
              "      <td>76.0</td>\n",
              "      <td>360.0</td>\n",
              "      <td>0.0</td>\n",
              "      <td>0</td>\n",
              "      <td>0</td>\n",
              "      <td>0</td>\n",
              "      <td>0</td>\n",
              "      <td>0</td>\n",
              "      <td>0</td>\n",
              "      <td>0</td>\n",
              "      <td>0</td>\n",
              "      <td>0</td>\n",
              "      <td>0</td>\n",
              "      <td>0</td>\n",
              "      <td>0</td>\n",
              "      <td>0</td>\n",
              "      <td>0</td>\n",
              "      <td>1</td>\n",
              "      <td>0</td>\n",
              "      <td>0</td>\n",
              "      <td>0</td>\n",
              "      <td>0</td>\n",
              "      <td>0</td>\n",
              "      <td>0</td>\n",
              "      <td>0</td>\n",
              "      <td>0</td>\n",
              "      <td>0</td>\n",
              "      <td>0</td>\n",
              "      <td>0</td>\n",
              "      <td>0</td>\n",
              "      <td>0</td>\n",
              "      <td>0</td>\n",
              "      <td>0</td>\n",
              "      <td>0</td>\n",
              "      <td>0</td>\n",
              "      <td>0</td>\n",
              "      <td>0</td>\n",
              "      <td>0</td>\n",
              "      <td>...</td>\n",
              "      <td>0</td>\n",
              "      <td>0</td>\n",
              "      <td>0</td>\n",
              "      <td>0</td>\n",
              "      <td>0</td>\n",
              "      <td>0</td>\n",
              "      <td>0</td>\n",
              "      <td>0</td>\n",
              "      <td>0</td>\n",
              "      <td>0</td>\n",
              "      <td>0</td>\n",
              "      <td>0</td>\n",
              "      <td>0</td>\n",
              "      <td>0</td>\n",
              "      <td>0</td>\n",
              "      <td>0</td>\n",
              "      <td>0</td>\n",
              "      <td>0</td>\n",
              "      <td>0</td>\n",
              "      <td>0</td>\n",
              "      <td>0</td>\n",
              "      <td>0</td>\n",
              "      <td>0</td>\n",
              "      <td>0</td>\n",
              "      <td>0</td>\n",
              "      <td>1</td>\n",
              "      <td>0</td>\n",
              "      <td>1</td>\n",
              "      <td>0</td>\n",
              "      <td>1</td>\n",
              "      <td>0</td>\n",
              "      <td>0</td>\n",
              "      <td>0</td>\n",
              "      <td>1</td>\n",
              "      <td>0</td>\n",
              "      <td>1</td>\n",
              "      <td>0</td>\n",
              "      <td>0</td>\n",
              "      <td>0</td>\n",
              "      <td>1</td>\n",
              "    </tr>\n",
              "    <tr>\n",
              "      <th>585</th>\n",
              "      <td>4283</td>\n",
              "      <td>3000.0</td>\n",
              "      <td>172.0</td>\n",
              "      <td>84.0</td>\n",
              "      <td>1.0</td>\n",
              "      <td>0</td>\n",
              "      <td>0</td>\n",
              "      <td>0</td>\n",
              "      <td>0</td>\n",
              "      <td>0</td>\n",
              "      <td>0</td>\n",
              "      <td>0</td>\n",
              "      <td>0</td>\n",
              "      <td>0</td>\n",
              "      <td>0</td>\n",
              "      <td>0</td>\n",
              "      <td>0</td>\n",
              "      <td>0</td>\n",
              "      <td>0</td>\n",
              "      <td>0</td>\n",
              "      <td>0</td>\n",
              "      <td>0</td>\n",
              "      <td>0</td>\n",
              "      <td>0</td>\n",
              "      <td>0</td>\n",
              "      <td>0</td>\n",
              "      <td>0</td>\n",
              "      <td>0</td>\n",
              "      <td>0</td>\n",
              "      <td>0</td>\n",
              "      <td>0</td>\n",
              "      <td>0</td>\n",
              "      <td>0</td>\n",
              "      <td>0</td>\n",
              "      <td>0</td>\n",
              "      <td>0</td>\n",
              "      <td>0</td>\n",
              "      <td>0</td>\n",
              "      <td>0</td>\n",
              "      <td>0</td>\n",
              "      <td>...</td>\n",
              "      <td>1</td>\n",
              "      <td>0</td>\n",
              "      <td>0</td>\n",
              "      <td>0</td>\n",
              "      <td>0</td>\n",
              "      <td>0</td>\n",
              "      <td>0</td>\n",
              "      <td>0</td>\n",
              "      <td>0</td>\n",
              "      <td>0</td>\n",
              "      <td>0</td>\n",
              "      <td>0</td>\n",
              "      <td>0</td>\n",
              "      <td>0</td>\n",
              "      <td>0</td>\n",
              "      <td>0</td>\n",
              "      <td>0</td>\n",
              "      <td>0</td>\n",
              "      <td>0</td>\n",
              "      <td>0</td>\n",
              "      <td>0</td>\n",
              "      <td>0</td>\n",
              "      <td>0</td>\n",
              "      <td>0</td>\n",
              "      <td>0</td>\n",
              "      <td>0</td>\n",
              "      <td>1</td>\n",
              "      <td>0</td>\n",
              "      <td>1</td>\n",
              "      <td>0</td>\n",
              "      <td>1</td>\n",
              "      <td>0</td>\n",
              "      <td>0</td>\n",
              "      <td>1</td>\n",
              "      <td>0</td>\n",
              "      <td>1</td>\n",
              "      <td>0</td>\n",
              "      <td>1</td>\n",
              "      <td>0</td>\n",
              "      <td>0</td>\n",
              "    </tr>\n",
              "    <tr>\n",
              "      <th>416</th>\n",
              "      <td>2600</td>\n",
              "      <td>0.0</td>\n",
              "      <td>160.0</td>\n",
              "      <td>360.0</td>\n",
              "      <td>1.0</td>\n",
              "      <td>0</td>\n",
              "      <td>0</td>\n",
              "      <td>0</td>\n",
              "      <td>0</td>\n",
              "      <td>0</td>\n",
              "      <td>0</td>\n",
              "      <td>0</td>\n",
              "      <td>0</td>\n",
              "      <td>0</td>\n",
              "      <td>0</td>\n",
              "      <td>0</td>\n",
              "      <td>0</td>\n",
              "      <td>0</td>\n",
              "      <td>0</td>\n",
              "      <td>0</td>\n",
              "      <td>0</td>\n",
              "      <td>0</td>\n",
              "      <td>0</td>\n",
              "      <td>0</td>\n",
              "      <td>0</td>\n",
              "      <td>0</td>\n",
              "      <td>0</td>\n",
              "      <td>0</td>\n",
              "      <td>0</td>\n",
              "      <td>0</td>\n",
              "      <td>0</td>\n",
              "      <td>0</td>\n",
              "      <td>0</td>\n",
              "      <td>0</td>\n",
              "      <td>0</td>\n",
              "      <td>0</td>\n",
              "      <td>0</td>\n",
              "      <td>0</td>\n",
              "      <td>0</td>\n",
              "      <td>0</td>\n",
              "      <td>...</td>\n",
              "      <td>0</td>\n",
              "      <td>0</td>\n",
              "      <td>0</td>\n",
              "      <td>0</td>\n",
              "      <td>0</td>\n",
              "      <td>0</td>\n",
              "      <td>0</td>\n",
              "      <td>0</td>\n",
              "      <td>0</td>\n",
              "      <td>0</td>\n",
              "      <td>0</td>\n",
              "      <td>0</td>\n",
              "      <td>0</td>\n",
              "      <td>0</td>\n",
              "      <td>0</td>\n",
              "      <td>0</td>\n",
              "      <td>0</td>\n",
              "      <td>0</td>\n",
              "      <td>0</td>\n",
              "      <td>0</td>\n",
              "      <td>0</td>\n",
              "      <td>0</td>\n",
              "      <td>0</td>\n",
              "      <td>0</td>\n",
              "      <td>0</td>\n",
              "      <td>1</td>\n",
              "      <td>0</td>\n",
              "      <td>1</td>\n",
              "      <td>0</td>\n",
              "      <td>0</td>\n",
              "      <td>1</td>\n",
              "      <td>0</td>\n",
              "      <td>0</td>\n",
              "      <td>1</td>\n",
              "      <td>0</td>\n",
              "      <td>1</td>\n",
              "      <td>0</td>\n",
              "      <td>0</td>\n",
              "      <td>0</td>\n",
              "      <td>1</td>\n",
              "    </tr>\n",
              "    <tr>\n",
              "      <th>78</th>\n",
              "      <td>3167</td>\n",
              "      <td>4000.0</td>\n",
              "      <td>180.0</td>\n",
              "      <td>300.0</td>\n",
              "      <td>0.0</td>\n",
              "      <td>0</td>\n",
              "      <td>0</td>\n",
              "      <td>0</td>\n",
              "      <td>0</td>\n",
              "      <td>0</td>\n",
              "      <td>0</td>\n",
              "      <td>0</td>\n",
              "      <td>0</td>\n",
              "      <td>0</td>\n",
              "      <td>0</td>\n",
              "      <td>0</td>\n",
              "      <td>0</td>\n",
              "      <td>0</td>\n",
              "      <td>0</td>\n",
              "      <td>0</td>\n",
              "      <td>0</td>\n",
              "      <td>0</td>\n",
              "      <td>0</td>\n",
              "      <td>0</td>\n",
              "      <td>0</td>\n",
              "      <td>0</td>\n",
              "      <td>0</td>\n",
              "      <td>0</td>\n",
              "      <td>0</td>\n",
              "      <td>0</td>\n",
              "      <td>0</td>\n",
              "      <td>0</td>\n",
              "      <td>0</td>\n",
              "      <td>0</td>\n",
              "      <td>0</td>\n",
              "      <td>0</td>\n",
              "      <td>0</td>\n",
              "      <td>0</td>\n",
              "      <td>0</td>\n",
              "      <td>0</td>\n",
              "      <td>...</td>\n",
              "      <td>0</td>\n",
              "      <td>0</td>\n",
              "      <td>0</td>\n",
              "      <td>0</td>\n",
              "      <td>0</td>\n",
              "      <td>0</td>\n",
              "      <td>0</td>\n",
              "      <td>0</td>\n",
              "      <td>0</td>\n",
              "      <td>0</td>\n",
              "      <td>0</td>\n",
              "      <td>0</td>\n",
              "      <td>0</td>\n",
              "      <td>0</td>\n",
              "      <td>0</td>\n",
              "      <td>0</td>\n",
              "      <td>0</td>\n",
              "      <td>0</td>\n",
              "      <td>0</td>\n",
              "      <td>0</td>\n",
              "      <td>0</td>\n",
              "      <td>0</td>\n",
              "      <td>0</td>\n",
              "      <td>0</td>\n",
              "      <td>0</td>\n",
              "      <td>0</td>\n",
              "      <td>1</td>\n",
              "      <td>0</td>\n",
              "      <td>1</td>\n",
              "      <td>0</td>\n",
              "      <td>0</td>\n",
              "      <td>0</td>\n",
              "      <td>1</td>\n",
              "      <td>1</td>\n",
              "      <td>0</td>\n",
              "      <td>1</td>\n",
              "      <td>0</td>\n",
              "      <td>0</td>\n",
              "      <td>1</td>\n",
              "      <td>0</td>\n",
              "    </tr>\n",
              "  </tbody>\n",
              "</table>\n",
              "<p>5 rows × 512 columns</p>\n",
              "</div>"
            ],
            "text/plain": [
              "     ApplicantIncome  ...  Property_Area_Urban\n",
              "376             8750  ...                    0\n",
              "17              3510  ...                    1\n",
              "585             4283  ...                    0\n",
              "416             2600  ...                    1\n",
              "78              3167  ...                    0\n",
              "\n",
              "[5 rows x 512 columns]"
            ]
          },
          "metadata": {
            "tags": []
          },
          "execution_count": 192
        }
      ]
    },
    {
      "cell_type": "code",
      "metadata": {
        "id": "ntxnBc_a11er",
        "colab_type": "code",
        "outputId": "73a03afb-33dd-4844-e604-b61a8d1bab2f",
        "colab": {
          "base_uri": "https://localhost:8080/",
          "height": 35
        }
      },
      "source": [
        "np.any(np.isnan(x_test))"
      ],
      "execution_count": 0,
      "outputs": [
        {
          "output_type": "execute_result",
          "data": {
            "text/plain": [
              "False"
            ]
          },
          "metadata": {
            "tags": []
          },
          "execution_count": 193
        }
      ]
    },
    {
      "cell_type": "code",
      "metadata": {
        "id": "ey7bk7cl2BVW",
        "colab_type": "code",
        "outputId": "31b5d88e-0d67-4dbf-aa01-843d68ef7b3a",
        "colab": {
          "base_uri": "https://localhost:8080/",
          "height": 35
        }
      },
      "source": [
        "np.any(np.isnan(x_train))"
      ],
      "execution_count": 0,
      "outputs": [
        {
          "output_type": "execute_result",
          "data": {
            "text/plain": [
              "False"
            ]
          },
          "metadata": {
            "tags": []
          },
          "execution_count": 194
        }
      ]
    },
    {
      "cell_type": "markdown",
      "metadata": {
        "id": "dz3DbzlnnAsF",
        "colab_type": "text"
      },
      "source": [
        "### Bagging\n",
        "We create n subsets(bags) of observations from the original dataset, **with replacement**. The size of subsets created for bagging may be less than the original set. Independent models are created on these subsets."
      ]
    },
    {
      "cell_type": "markdown",
      "metadata": {
        "id": "mqEB7epEwWMW",
        "colab_type": "text"
      },
      "source": [
        "#### Bagging Meta Estimator\n",
        "1. Random subsets are created from the original dataset(Bootstrapping)\n",
        "2. Subset of the dataset includes all features\n",
        "3. A user-specified base estimator is fitted on each of these smaller sets\n",
        "4. Predictions from each model are combined to get the final result"
      ]
    },
    {
      "cell_type": "code",
      "metadata": {
        "id": "JGfhxp7yywU7",
        "colab_type": "code",
        "colab": {}
      },
      "source": [
        "model = BaggingClassifier(DecisionTreeClassifier(random_state=1))"
      ],
      "execution_count": 0,
      "outputs": []
    },
    {
      "cell_type": "code",
      "metadata": {
        "id": "4x4uR31c2kAD",
        "colab_type": "code",
        "outputId": "3f763586-c336-47cd-a3b7-6787f1557784",
        "colab": {
          "base_uri": "https://localhost:8080/",
          "height": 329
        }
      },
      "source": [
        "model.fit(x_train, y_train)"
      ],
      "execution_count": 0,
      "outputs": [
        {
          "output_type": "execute_result",
          "data": {
            "text/plain": [
              "BaggingClassifier(base_estimator=DecisionTreeClassifier(ccp_alpha=0.0,\n",
              "                                                        class_weight=None,\n",
              "                                                        criterion='gini',\n",
              "                                                        max_depth=None,\n",
              "                                                        max_features=None,\n",
              "                                                        max_leaf_nodes=None,\n",
              "                                                        min_impurity_decrease=0.0,\n",
              "                                                        min_impurity_split=None,\n",
              "                                                        min_samples_leaf=1,\n",
              "                                                        min_samples_split=2,\n",
              "                                                        min_weight_fraction_leaf=0.0,\n",
              "                                                        presort='deprecated',\n",
              "                                                        random_state=1,\n",
              "                                                        splitter='best'),\n",
              "                  bootstrap=True, bootstrap_features=False, max_features=1.0,\n",
              "                  max_samples=1.0, n_estimators=10, n_jobs=None,\n",
              "                  oob_score=False, random_state=None, verbose=0,\n",
              "                  warm_start=False)"
            ]
          },
          "metadata": {
            "tags": []
          },
          "execution_count": 145
        }
      ]
    },
    {
      "cell_type": "code",
      "metadata": {
        "id": "_E9JVSU42npo",
        "colab_type": "code",
        "outputId": "d135d9c8-32f7-4894-bd70-01669a77ad43",
        "colab": {
          "base_uri": "https://localhost:8080/",
          "height": 35
        }
      },
      "source": [
        "model.score(x_test, y_test)"
      ],
      "execution_count": 0,
      "outputs": [
        {
          "output_type": "execute_result",
          "data": {
            "text/plain": [
              "0.8040540540540541"
            ]
          },
          "metadata": {
            "tags": []
          },
          "execution_count": 146
        }
      ]
    },
    {
      "cell_type": "code",
      "metadata": {
        "id": "qtvryI9S4YeX",
        "colab_type": "code",
        "outputId": "6958b1c5-8c40-44a1-9ce5-df19c8326751",
        "colab": {
          "base_uri": "https://localhost:8080/",
          "height": 52
        }
      },
      "source": [
        "y_pred = model.predict(x_test)\n",
        "confusion_matrix(y_test, y_pred)"
      ],
      "execution_count": 0,
      "outputs": [
        {
          "output_type": "execute_result",
          "data": {
            "text/plain": [
              "array([[ 19,  25],\n",
              "       [  4, 100]])"
            ]
          },
          "metadata": {
            "tags": []
          },
          "execution_count": 147
        }
      ]
    },
    {
      "cell_type": "markdown",
      "metadata": {
        "id": "RwR0gVwmwcY6",
        "colab_type": "text"
      },
      "source": [
        "#### Random Forest\n",
        "Random forest is another ensemble machine learning algo that follows bagging technique. The base estimator in random forest are decision trees. Unlike BME, RF randomly selects a set of features which are used to decide the best split at each node of the decision tree. \n",
        "Steps:\n",
        "\n",
        "1. Random subsets are created from original dataset(Bootstrap)\n",
        "2. At each node in the decision tree, only a random set of features are considered to decide the best split.\n",
        "3. A decision tree model is fitted on each of the subsets\n",
        "4. The final prediction is calculated by averaging the predictions from all the decision trees\n",
        "\n",
        "*Note: The decision trees in random forest can be built on a subset of data and features. Particularly, the sklearn model of random forest uses all features for decision tree and a subset of features are randomly selected for splitting at each node.*"
      ]
    },
    {
      "cell_type": "code",
      "metadata": {
        "id": "UnNhjRVJwfFc",
        "colab_type": "code",
        "outputId": "ff373223-2f4d-45ab-b7ae-f2ad825b52c0",
        "colab": {
          "base_uri": "https://localhost:8080/",
          "height": 156
        }
      },
      "source": [
        "model = RandomForestClassifier(random_state=1)\n",
        "\n",
        "model.fit(x_train, y_train)"
      ],
      "execution_count": 0,
      "outputs": [
        {
          "output_type": "execute_result",
          "data": {
            "text/plain": [
              "RandomForestClassifier(bootstrap=True, ccp_alpha=0.0, class_weight=None,\n",
              "                       criterion='gini', max_depth=None, max_features='auto',\n",
              "                       max_leaf_nodes=None, max_samples=None,\n",
              "                       min_impurity_decrease=0.0, min_impurity_split=None,\n",
              "                       min_samples_leaf=1, min_samples_split=2,\n",
              "                       min_weight_fraction_leaf=0.0, n_estimators=100,\n",
              "                       n_jobs=None, oob_score=False, random_state=1, verbose=0,\n",
              "                       warm_start=False)"
            ]
          },
          "metadata": {
            "tags": []
          },
          "execution_count": 153
        }
      ]
    },
    {
      "cell_type": "code",
      "metadata": {
        "id": "Ko12s7NO759H",
        "colab_type": "code",
        "outputId": "cf7dd3a3-29e3-4a1e-e079-310723b7dc41",
        "colab": {
          "base_uri": "https://localhost:8080/",
          "height": 35
        }
      },
      "source": [
        "model.score(x_test, y_test)"
      ],
      "execution_count": 0,
      "outputs": [
        {
          "output_type": "execute_result",
          "data": {
            "text/plain": [
              "0.8243243243243243"
            ]
          },
          "metadata": {
            "tags": []
          },
          "execution_count": 154
        }
      ]
    },
    {
      "cell_type": "code",
      "metadata": {
        "id": "U6-GWJ1K7nHc",
        "colab_type": "code",
        "outputId": "17243401-0c2d-4d88-bc24-584aa82c7c71",
        "colab": {
          "base_uri": "https://localhost:8080/",
          "height": 52
        }
      },
      "source": [
        "y_pred = model.predict(x_test)\n",
        "confusion_matrix(y_test, y_pred)"
      ],
      "execution_count": 0,
      "outputs": [
        {
          "output_type": "execute_result",
          "data": {
            "text/plain": [
              "array([[ 19,  25],\n",
              "       [  1, 103]])"
            ]
          },
          "metadata": {
            "tags": []
          },
          "execution_count": 155
        }
      ]
    },
    {
      "cell_type": "markdown",
      "metadata": {
        "id": "qYhuDCyAn-kO",
        "colab_type": "text"
      },
      "source": [
        "### Boosting\n",
        "Boosting is a sequential process, where each subsequent model attempts to correct the errors of the previous model. The succeeding models are dependent on previous models. \n",
        "The final model(strong learner) is the weighted mean of all the models(week learners)"
      ]
    },
    {
      "cell_type": "markdown",
      "metadata": {
        "id": "SIGYenV1wg9U",
        "colab_type": "text"
      },
      "source": [
        "#### AdaBoost\n",
        "Adaptive Boosting or AdaBoost is one of the simplest boosting algorithms. usually decision trees are used for modeling. Multiple sequential models are created, each correcting the errors from the last model.AdaBoost assigns weights to the observations which are incorrectly predicted and the subsequent model works to predict these values correctly.\n",
        "Steps:\n",
        "1. Initially, all observations in the dataset are given equal weights\n",
        "2. A model is built on a subset of data\n",
        "3. Using this model, predictions are made on the whole dataset\n",
        "4. Errors are calculated by comparing the predictions and actual values.\n",
        "5. While creating the next model, higher weights are given to the data points which were predicted incorrectly. \n",
        "6. Weights can be determined using the error value. For instance, higher the error more is the weight assigned to the observation. \n",
        "7. This process is repeated until the error function does not change, or the maximum limit of the number of estimators is reached."
      ]
    },
    {
      "cell_type": "code",
      "metadata": {
        "id": "Mhh9wQAzm4ZX",
        "colab_type": "code",
        "outputId": "9127bba6-8b5f-428c-a136-edfee6d88c3f",
        "colab": {
          "base_uri": "https://localhost:8080/",
          "height": 52
        }
      },
      "source": [
        "#model = AdaBoostClassifier(random_state=1)\n",
        "model = AdaBoostClassifier(random_state=1, n_estimators= 1000, learning_rate= 0.001)\n",
        "model.fit(x_train, y_train)"
      ],
      "execution_count": 0,
      "outputs": [
        {
          "output_type": "execute_result",
          "data": {
            "text/plain": [
              "AdaBoostClassifier(algorithm='SAMME.R', base_estimator=None,\n",
              "                   learning_rate=0.001, n_estimators=1000, random_state=1)"
            ]
          },
          "metadata": {
            "tags": []
          },
          "execution_count": 171
        }
      ]
    },
    {
      "cell_type": "code",
      "metadata": {
        "id": "eJh6KF0m9ZgR",
        "colab_type": "code",
        "outputId": "9f5e8f31-c3ec-4096-e37b-4152a7fcef28",
        "colab": {
          "base_uri": "https://localhost:8080/",
          "height": 35
        }
      },
      "source": [
        "model.score(x_test, y_test)"
      ],
      "execution_count": 0,
      "outputs": [
        {
          "output_type": "execute_result",
          "data": {
            "text/plain": [
              "0.8243243243243243"
            ]
          },
          "metadata": {
            "tags": []
          },
          "execution_count": 172
        }
      ]
    },
    {
      "cell_type": "code",
      "metadata": {
        "id": "Eb1_n2fh9fYm",
        "colab_type": "code",
        "outputId": "4fb4a9b9-9f66-44f1-9a6e-e0d23fe3f3c2",
        "colab": {
          "base_uri": "https://localhost:8080/",
          "height": 52
        }
      },
      "source": [
        "y_pred = model.predict(x_test)\n",
        "confusion_matrix(y_test, y_pred)"
      ],
      "execution_count": 0,
      "outputs": [
        {
          "output_type": "execute_result",
          "data": {
            "text/plain": [
              "array([[ 19,  25],\n",
              "       [  1, 103]])"
            ]
          },
          "metadata": {
            "tags": []
          },
          "execution_count": 173
        }
      ]
    },
    {
      "cell_type": "markdown",
      "metadata": {
        "id": "LZ1yekqtwjbA",
        "colab_type": "text"
      },
      "source": [
        "#### GBM"
      ]
    },
    {
      "cell_type": "code",
      "metadata": {
        "id": "_fIrLvmXwlm5",
        "colab_type": "code",
        "outputId": "70f5fd13-dd6d-47e2-f193-7abcb877ff2d",
        "colab": {
          "base_uri": "https://localhost:8080/",
          "height": 191
        }
      },
      "source": [
        "model = GradientBoostingClassifier(learning_rate=0.01, random_state=1)\n",
        "model.fit(x_train, y_train)"
      ],
      "execution_count": 0,
      "outputs": [
        {
          "output_type": "execute_result",
          "data": {
            "text/plain": [
              "GradientBoostingClassifier(ccp_alpha=0.0, criterion='friedman_mse', init=None,\n",
              "                           learning_rate=0.01, loss='deviance', max_depth=3,\n",
              "                           max_features=None, max_leaf_nodes=None,\n",
              "                           min_impurity_decrease=0.0, min_impurity_split=None,\n",
              "                           min_samples_leaf=1, min_samples_split=2,\n",
              "                           min_weight_fraction_leaf=0.0, n_estimators=100,\n",
              "                           n_iter_no_change=None, presort='deprecated',\n",
              "                           random_state=1, subsample=1.0, tol=0.0001,\n",
              "                           validation_fraction=0.1, verbose=0,\n",
              "                           warm_start=False)"
            ]
          },
          "metadata": {
            "tags": []
          },
          "execution_count": 174
        }
      ]
    },
    {
      "cell_type": "code",
      "metadata": {
        "id": "C1n7aE5u_FZJ",
        "colab_type": "code",
        "outputId": "af4dbf88-6550-4915-d99c-3e4be0208af2",
        "colab": {
          "base_uri": "https://localhost:8080/",
          "height": 35
        }
      },
      "source": [
        "model.score(x_test, y_test)"
      ],
      "execution_count": 0,
      "outputs": [
        {
          "output_type": "execute_result",
          "data": {
            "text/plain": [
              "0.8243243243243243"
            ]
          },
          "metadata": {
            "tags": []
          },
          "execution_count": 175
        }
      ]
    },
    {
      "cell_type": "code",
      "metadata": {
        "id": "jE5e3sNE_Hhk",
        "colab_type": "code",
        "outputId": "1e8800f1-e7f0-4802-bff9-3d4586a0a2a7",
        "colab": {
          "base_uri": "https://localhost:8080/",
          "height": 52
        }
      },
      "source": [
        "y_pred = model.predict(x_test)\n",
        "confusion_matrix(y_test, y_pred)"
      ],
      "execution_count": 0,
      "outputs": [
        {
          "output_type": "execute_result",
          "data": {
            "text/plain": [
              "array([[ 19,  25],\n",
              "       [  1, 103]])"
            ]
          },
          "metadata": {
            "tags": []
          },
          "execution_count": 176
        }
      ]
    },
    {
      "cell_type": "markdown",
      "metadata": {
        "id": "8XjonLOywmdm",
        "colab_type": "text"
      },
      "source": [
        "#### XGBM\n",
        "It is also known as regularized boosting technique"
      ]
    },
    {
      "cell_type": "code",
      "metadata": {
        "id": "37XkoDujwos_",
        "colab_type": "code",
        "outputId": "9396b854-4aa5-4d36-a5b3-01d9ce6a2933",
        "colab": {
          "base_uri": "https://localhost:8080/",
          "height": 139
        }
      },
      "source": [
        "model = xgb.XGBClassifier(random_state=1, learning_rate= 0.01)\n",
        "model.fit(x_train, y_train)"
      ],
      "execution_count": 0,
      "outputs": [
        {
          "output_type": "execute_result",
          "data": {
            "text/plain": [
              "XGBClassifier(base_score=0.5, booster='gbtree', colsample_bylevel=1,\n",
              "              colsample_bynode=1, colsample_bytree=1, gamma=0,\n",
              "              learning_rate=0.01, max_delta_step=0, max_depth=3,\n",
              "              min_child_weight=1, missing=None, n_estimators=100, n_jobs=1,\n",
              "              nthread=None, objective='binary:logistic', random_state=1,\n",
              "              reg_alpha=0, reg_lambda=1, scale_pos_weight=1, seed=None,\n",
              "              silent=None, subsample=1, verbosity=1)"
            ]
          },
          "metadata": {
            "tags": []
          },
          "execution_count": 177
        }
      ]
    },
    {
      "cell_type": "code",
      "metadata": {
        "id": "LQFD_YVl_h8Q",
        "colab_type": "code",
        "outputId": "1cc0f4a1-d387-4937-d222-c387d942dc97",
        "colab": {
          "base_uri": "https://localhost:8080/",
          "height": 35
        }
      },
      "source": [
        "model.score(x_test, y_test)"
      ],
      "execution_count": 0,
      "outputs": [
        {
          "output_type": "execute_result",
          "data": {
            "text/plain": [
              "0.7905405405405406"
            ]
          },
          "metadata": {
            "tags": []
          },
          "execution_count": 178
        }
      ]
    },
    {
      "cell_type": "code",
      "metadata": {
        "id": "ZIi1Kt_P_kN2",
        "colab_type": "code",
        "outputId": "4633ed79-584f-45a0-f62b-714044b64d3f",
        "colab": {
          "base_uri": "https://localhost:8080/",
          "height": 52
        }
      },
      "source": [
        "y_pred = model.predict(x_test)\n",
        "confusion_matrix(y_test, y_pred)"
      ],
      "execution_count": 0,
      "outputs": [
        {
          "output_type": "execute_result",
          "data": {
            "text/plain": [
              "array([[19, 25],\n",
              "       [ 6, 98]])"
            ]
          },
          "metadata": {
            "tags": []
          },
          "execution_count": 179
        }
      ]
    },
    {
      "cell_type": "markdown",
      "metadata": {
        "id": "EkTqEB4iwpeK",
        "colab_type": "text"
      },
      "source": [
        "#### Light GBM\n",
        "When you have a large dataset, usually this performs really well and fast. \n",
        "The major difference is how the trees grow. In LGBM trees grow leaf wise, while in other algorithms tree grows level wise."
      ]
    },
    {
      "cell_type": "code",
      "metadata": {
        "id": "ENoH9cUsBHXA",
        "colab_type": "code",
        "colab": {}
      },
      "source": [
        "y_train = (y_train == 'Y').astype(int)\n",
        "y_test = (y_test == 'Y').astype(int)"
      ],
      "execution_count": 0,
      "outputs": []
    },
    {
      "cell_type": "code",
      "metadata": {
        "id": "vCq4KWTAwrVO",
        "colab_type": "code",
        "colab": {}
      },
      "source": [
        "train_data = lgb.Dataset(x_train, label = y_train)\n",
        "#define params\n",
        "params = {'learning_rate': 0.001}\n",
        "model = lgb.train(params, train_data, 100)\n",
        "\n",
        "y_pred = model.predict(x_test)\n",
        "y_pred = (y_pred > 0.5).astype(int)\n"
      ],
      "execution_count": 0,
      "outputs": []
    },
    {
      "cell_type": "markdown",
      "metadata": {
        "id": "t4knYwKgwr7m",
        "colab_type": "text"
      },
      "source": [
        "#### CatBoost"
      ]
    },
    {
      "cell_type": "code",
      "metadata": {
        "id": "k9yhr-pyHj7K",
        "colab_type": "code",
        "colab": {}
      },
      "source": [
        "#reading the dataset\n",
        "df = pd.read_csv('train.csv')\n",
        "df = df.iloc[:,1:]\n",
        "#filling missing values\n",
        "df['Gender'].fillna('Male', inplace = True)\n",
        "df.dropna(inplace=True)"
      ],
      "execution_count": 0,
      "outputs": []
    },
    {
      "cell_type": "code",
      "metadata": {
        "id": "1G7utqzpIJBd",
        "colab_type": "code",
        "outputId": "83da7507-8d98-45b4-be1e-098df8c8c8c0",
        "colab": {
          "base_uri": "https://localhost:8080/",
          "height": 239
        }
      },
      "source": [
        "#df.iloc[:,1:].head()"
      ],
      "execution_count": 0,
      "outputs": [
        {
          "output_type": "execute_result",
          "data": {
            "text/html": [
              "<div>\n",
              "<style scoped>\n",
              "    .dataframe tbody tr th:only-of-type {\n",
              "        vertical-align: middle;\n",
              "    }\n",
              "\n",
              "    .dataframe tbody tr th {\n",
              "        vertical-align: top;\n",
              "    }\n",
              "\n",
              "    .dataframe thead th {\n",
              "        text-align: right;\n",
              "    }\n",
              "</style>\n",
              "<table border=\"1\" class=\"dataframe\">\n",
              "  <thead>\n",
              "    <tr style=\"text-align: right;\">\n",
              "      <th></th>\n",
              "      <th>Gender</th>\n",
              "      <th>Married</th>\n",
              "      <th>Dependents</th>\n",
              "      <th>Education</th>\n",
              "      <th>Self_Employed</th>\n",
              "      <th>ApplicantIncome</th>\n",
              "      <th>CoapplicantIncome</th>\n",
              "      <th>LoanAmount</th>\n",
              "      <th>Loan_Amount_Term</th>\n",
              "      <th>Credit_History</th>\n",
              "      <th>Property_Area</th>\n",
              "      <th>Loan_Status</th>\n",
              "    </tr>\n",
              "  </thead>\n",
              "  <tbody>\n",
              "    <tr>\n",
              "      <th>1</th>\n",
              "      <td>Male</td>\n",
              "      <td>Yes</td>\n",
              "      <td>1</td>\n",
              "      <td>Graduate</td>\n",
              "      <td>No</td>\n",
              "      <td>4583</td>\n",
              "      <td>1508.0</td>\n",
              "      <td>128.0</td>\n",
              "      <td>360.0</td>\n",
              "      <td>1.0</td>\n",
              "      <td>Rural</td>\n",
              "      <td>N</td>\n",
              "    </tr>\n",
              "    <tr>\n",
              "      <th>2</th>\n",
              "      <td>Male</td>\n",
              "      <td>Yes</td>\n",
              "      <td>0</td>\n",
              "      <td>Graduate</td>\n",
              "      <td>Yes</td>\n",
              "      <td>3000</td>\n",
              "      <td>0.0</td>\n",
              "      <td>66.0</td>\n",
              "      <td>360.0</td>\n",
              "      <td>1.0</td>\n",
              "      <td>Urban</td>\n",
              "      <td>Y</td>\n",
              "    </tr>\n",
              "    <tr>\n",
              "      <th>3</th>\n",
              "      <td>Male</td>\n",
              "      <td>Yes</td>\n",
              "      <td>0</td>\n",
              "      <td>Not Graduate</td>\n",
              "      <td>No</td>\n",
              "      <td>2583</td>\n",
              "      <td>2358.0</td>\n",
              "      <td>120.0</td>\n",
              "      <td>360.0</td>\n",
              "      <td>1.0</td>\n",
              "      <td>Urban</td>\n",
              "      <td>Y</td>\n",
              "    </tr>\n",
              "    <tr>\n",
              "      <th>4</th>\n",
              "      <td>Male</td>\n",
              "      <td>No</td>\n",
              "      <td>0</td>\n",
              "      <td>Graduate</td>\n",
              "      <td>No</td>\n",
              "      <td>6000</td>\n",
              "      <td>0.0</td>\n",
              "      <td>141.0</td>\n",
              "      <td>360.0</td>\n",
              "      <td>1.0</td>\n",
              "      <td>Urban</td>\n",
              "      <td>Y</td>\n",
              "    </tr>\n",
              "    <tr>\n",
              "      <th>5</th>\n",
              "      <td>Male</td>\n",
              "      <td>Yes</td>\n",
              "      <td>2</td>\n",
              "      <td>Graduate</td>\n",
              "      <td>Yes</td>\n",
              "      <td>5417</td>\n",
              "      <td>4196.0</td>\n",
              "      <td>267.0</td>\n",
              "      <td>360.0</td>\n",
              "      <td>1.0</td>\n",
              "      <td>Urban</td>\n",
              "      <td>Y</td>\n",
              "    </tr>\n",
              "  </tbody>\n",
              "</table>\n",
              "</div>"
            ],
            "text/plain": [
              "  Gender Married Dependents  ... Credit_History Property_Area  Loan_Status\n",
              "1   Male     Yes          1  ...            1.0         Rural            N\n",
              "2   Male     Yes          0  ...            1.0         Urban            Y\n",
              "3   Male     Yes          0  ...            1.0         Urban            Y\n",
              "4   Male      No          0  ...            1.0         Urban            Y\n",
              "5   Male     Yes          2  ...            1.0         Urban            Y\n",
              "\n",
              "[5 rows x 12 columns]"
            ]
          },
          "metadata": {
            "tags": []
          },
          "execution_count": 210
        }
      ]
    },
    {
      "cell_type": "code",
      "metadata": {
        "id": "Vbza8ntFHpag",
        "colab_type": "code",
        "colab": {}
      },
      "source": [
        "X = df.iloc[:,:-1]\n",
        "y = df.iloc[:,-1]"
      ],
      "execution_count": 0,
      "outputs": []
    },
    {
      "cell_type": "code",
      "metadata": {
        "id": "qdaGz7QJHqJM",
        "colab_type": "code",
        "colab": {}
      },
      "source": [
        "#split dataset into train and test\n",
        "\n",
        "from sklearn.model_selection import train_test_split\n",
        "x_train, x_test, y_train, y_test = train_test_split(X,y, test_size=0.3, random_state=0)"
      ],
      "execution_count": 0,
      "outputs": []
    },
    {
      "cell_type": "code",
      "metadata": {
        "id": "4L_G2YwoH1-8",
        "colab_type": "code",
        "outputId": "dd9a80a7-a04a-4e64-c251-5e9a7702e033",
        "colab": {
          "base_uri": "https://localhost:8080/",
          "height": 222
        }
      },
      "source": [
        "x_train.head()"
      ],
      "execution_count": 0,
      "outputs": [
        {
          "output_type": "execute_result",
          "data": {
            "text/html": [
              "<div>\n",
              "<style scoped>\n",
              "    .dataframe tbody tr th:only-of-type {\n",
              "        vertical-align: middle;\n",
              "    }\n",
              "\n",
              "    .dataframe tbody tr th {\n",
              "        vertical-align: top;\n",
              "    }\n",
              "\n",
              "    .dataframe thead th {\n",
              "        text-align: right;\n",
              "    }\n",
              "</style>\n",
              "<table border=\"1\" class=\"dataframe\">\n",
              "  <thead>\n",
              "    <tr style=\"text-align: right;\">\n",
              "      <th></th>\n",
              "      <th>Gender</th>\n",
              "      <th>Married</th>\n",
              "      <th>Dependents</th>\n",
              "      <th>Education</th>\n",
              "      <th>Self_Employed</th>\n",
              "      <th>ApplicantIncome</th>\n",
              "      <th>CoapplicantIncome</th>\n",
              "      <th>LoanAmount</th>\n",
              "      <th>Loan_Amount_Term</th>\n",
              "      <th>Credit_History</th>\n",
              "      <th>Property_Area</th>\n",
              "    </tr>\n",
              "  </thead>\n",
              "  <tbody>\n",
              "    <tr>\n",
              "      <th>376</th>\n",
              "      <td>Male</td>\n",
              "      <td>Yes</td>\n",
              "      <td>3+</td>\n",
              "      <td>Graduate</td>\n",
              "      <td>No</td>\n",
              "      <td>8750</td>\n",
              "      <td>4996.0</td>\n",
              "      <td>130.0</td>\n",
              "      <td>360.0</td>\n",
              "      <td>1.0</td>\n",
              "      <td>Rural</td>\n",
              "    </tr>\n",
              "    <tr>\n",
              "      <th>17</th>\n",
              "      <td>Female</td>\n",
              "      <td>No</td>\n",
              "      <td>0</td>\n",
              "      <td>Graduate</td>\n",
              "      <td>No</td>\n",
              "      <td>3510</td>\n",
              "      <td>0.0</td>\n",
              "      <td>76.0</td>\n",
              "      <td>360.0</td>\n",
              "      <td>0.0</td>\n",
              "      <td>Urban</td>\n",
              "    </tr>\n",
              "    <tr>\n",
              "      <th>585</th>\n",
              "      <td>Male</td>\n",
              "      <td>Yes</td>\n",
              "      <td>1</td>\n",
              "      <td>Graduate</td>\n",
              "      <td>No</td>\n",
              "      <td>4283</td>\n",
              "      <td>3000.0</td>\n",
              "      <td>172.0</td>\n",
              "      <td>84.0</td>\n",
              "      <td>1.0</td>\n",
              "      <td>Rural</td>\n",
              "    </tr>\n",
              "    <tr>\n",
              "      <th>416</th>\n",
              "      <td>Female</td>\n",
              "      <td>No</td>\n",
              "      <td>1</td>\n",
              "      <td>Graduate</td>\n",
              "      <td>No</td>\n",
              "      <td>2600</td>\n",
              "      <td>0.0</td>\n",
              "      <td>160.0</td>\n",
              "      <td>360.0</td>\n",
              "      <td>1.0</td>\n",
              "      <td>Urban</td>\n",
              "    </tr>\n",
              "    <tr>\n",
              "      <th>78</th>\n",
              "      <td>Male</td>\n",
              "      <td>Yes</td>\n",
              "      <td>3+</td>\n",
              "      <td>Graduate</td>\n",
              "      <td>No</td>\n",
              "      <td>3167</td>\n",
              "      <td>4000.0</td>\n",
              "      <td>180.0</td>\n",
              "      <td>300.0</td>\n",
              "      <td>0.0</td>\n",
              "      <td>Semiurban</td>\n",
              "    </tr>\n",
              "  </tbody>\n",
              "</table>\n",
              "</div>"
            ],
            "text/plain": [
              "     Gender Married Dependents  ... Loan_Amount_Term Credit_History  Property_Area\n",
              "376    Male     Yes         3+  ...            360.0            1.0          Rural\n",
              "17   Female      No          0  ...            360.0            0.0          Urban\n",
              "585    Male     Yes          1  ...             84.0            1.0          Rural\n",
              "416  Female      No          1  ...            360.0            1.0          Urban\n",
              "78     Male     Yes         3+  ...            300.0            0.0      Semiurban\n",
              "\n",
              "[5 rows x 11 columns]"
            ]
          },
          "metadata": {
            "tags": []
          },
          "execution_count": 214
        }
      ]
    },
    {
      "cell_type": "code",
      "metadata": {
        "id": "LA5epS6MwtzR",
        "colab_type": "code",
        "outputId": "1ccba9fc-017c-4ead-b363-603dc98baca3",
        "colab": {
          "base_uri": "https://localhost:8080/",
          "height": 1000
        }
      },
      "source": [
        "model = CatBoostClassifier()\n",
        "categorical_features_indices = np.where(df.dtypes != np.float)[0]\n",
        "model.fit(x_train, y_train, cat_features = ([0,1,2,3,4,10]), eval_set = (x_test, y_test))\n",
        "\n",
        "model.score(x_test, y_test)"
      ],
      "execution_count": 0,
      "outputs": [
        {
          "output_type": "stream",
          "text": [
            "Learning rate set to 0.024347\n",
            "0:\tlearn: 0.6797082\ttest: 0.6817102\tbest: 0.6817102 (0)\ttotal: 51.4ms\tremaining: 51.3s\n",
            "1:\tlearn: 0.6673778\ttest: 0.6705005\tbest: 0.6705005 (1)\ttotal: 53.8ms\tremaining: 26.9s\n",
            "2:\tlearn: 0.6554170\ttest: 0.6605707\tbest: 0.6605707 (2)\ttotal: 56.2ms\tremaining: 18.7s\n",
            "3:\tlearn: 0.6455497\ttest: 0.6510864\tbest: 0.6510864 (3)\ttotal: 58.5ms\tremaining: 14.6s\n",
            "4:\tlearn: 0.6365487\ttest: 0.6419451\tbest: 0.6419451 (4)\ttotal: 59.9ms\tremaining: 11.9s\n",
            "5:\tlearn: 0.6269127\ttest: 0.6323059\tbest: 0.6323059 (5)\ttotal: 62.3ms\tremaining: 10.3s\n",
            "6:\tlearn: 0.6171128\ttest: 0.6249543\tbest: 0.6249543 (6)\ttotal: 64.7ms\tremaining: 9.17s\n",
            "7:\tlearn: 0.6095292\ttest: 0.6177577\tbest: 0.6177577 (7)\ttotal: 66.4ms\tremaining: 8.24s\n",
            "8:\tlearn: 0.6019682\ttest: 0.6105984\tbest: 0.6105984 (8)\ttotal: 68.7ms\tremaining: 7.56s\n",
            "9:\tlearn: 0.5939462\ttest: 0.6025812\tbest: 0.6025812 (9)\ttotal: 70.9ms\tremaining: 7.02s\n",
            "10:\tlearn: 0.5866590\ttest: 0.5963500\tbest: 0.5963500 (10)\ttotal: 73.1ms\tremaining: 6.57s\n",
            "11:\tlearn: 0.5789065\ttest: 0.5902445\tbest: 0.5902445 (11)\ttotal: 75.4ms\tremaining: 6.21s\n",
            "12:\tlearn: 0.5728978\ttest: 0.5843162\tbest: 0.5843162 (12)\ttotal: 77.4ms\tremaining: 5.88s\n",
            "13:\tlearn: 0.5634421\ttest: 0.5766500\tbest: 0.5766500 (13)\ttotal: 79.7ms\tremaining: 5.61s\n",
            "14:\tlearn: 0.5584303\ttest: 0.5713327\tbest: 0.5713327 (14)\ttotal: 80.9ms\tremaining: 5.31s\n",
            "15:\tlearn: 0.5521215\ttest: 0.5650183\tbest: 0.5650183 (15)\ttotal: 83ms\tremaining: 5.1s\n",
            "16:\tlearn: 0.5475324\ttest: 0.5597127\tbest: 0.5597127 (16)\ttotal: 84.1ms\tremaining: 4.86s\n",
            "17:\tlearn: 0.5416235\ttest: 0.5556774\tbest: 0.5556774 (17)\ttotal: 86.3ms\tremaining: 4.71s\n",
            "18:\tlearn: 0.5361151\ttest: 0.5519672\tbest: 0.5519672 (18)\ttotal: 88.5ms\tremaining: 4.57s\n",
            "19:\tlearn: 0.5322234\ttest: 0.5480911\tbest: 0.5480911 (19)\ttotal: 90.3ms\tremaining: 4.42s\n",
            "20:\tlearn: 0.5279466\ttest: 0.5442381\tbest: 0.5442381 (20)\ttotal: 91.6ms\tremaining: 4.27s\n",
            "21:\tlearn: 0.5224749\ttest: 0.5401489\tbest: 0.5401489 (21)\ttotal: 93.8ms\tremaining: 4.17s\n",
            "22:\tlearn: 0.5180634\ttest: 0.5359439\tbest: 0.5359439 (22)\ttotal: 96ms\tremaining: 4.08s\n",
            "23:\tlearn: 0.5144364\ttest: 0.5324764\tbest: 0.5324764 (23)\ttotal: 98.1ms\tremaining: 3.99s\n",
            "24:\tlearn: 0.5101006\ttest: 0.5286565\tbest: 0.5286565 (24)\ttotal: 100ms\tremaining: 3.91s\n",
            "25:\tlearn: 0.5052015\ttest: 0.5253115\tbest: 0.5253115 (25)\ttotal: 102ms\tremaining: 3.83s\n",
            "26:\tlearn: 0.5044000\ttest: 0.5244293\tbest: 0.5244293 (26)\ttotal: 103ms\tremaining: 3.71s\n",
            "27:\tlearn: 0.5020302\ttest: 0.5216651\tbest: 0.5216651 (27)\ttotal: 104ms\tremaining: 3.6s\n",
            "28:\tlearn: 0.4963936\ttest: 0.5186958\tbest: 0.5186958 (28)\ttotal: 106ms\tremaining: 3.55s\n",
            "29:\tlearn: 0.4943823\ttest: 0.5179564\tbest: 0.5179564 (29)\ttotal: 108ms\tremaining: 3.5s\n",
            "30:\tlearn: 0.4908884\ttest: 0.5156504\tbest: 0.5156504 (30)\ttotal: 110ms\tremaining: 3.45s\n",
            "31:\tlearn: 0.4902860\ttest: 0.5149864\tbest: 0.5149864 (31)\ttotal: 111ms\tremaining: 3.36s\n",
            "32:\tlearn: 0.4868880\ttest: 0.5126546\tbest: 0.5126546 (32)\ttotal: 113ms\tremaining: 3.33s\n",
            "33:\tlearn: 0.4838107\ttest: 0.5100999\tbest: 0.5100999 (33)\ttotal: 116ms\tremaining: 3.29s\n",
            "34:\tlearn: 0.4819077\ttest: 0.5082497\tbest: 0.5082497 (34)\ttotal: 117ms\tremaining: 3.23s\n",
            "35:\tlearn: 0.4809935\ttest: 0.5075479\tbest: 0.5075479 (35)\ttotal: 118ms\tremaining: 3.15s\n",
            "36:\tlearn: 0.4781220\ttest: 0.5051578\tbest: 0.5051578 (36)\ttotal: 120ms\tremaining: 3.12s\n",
            "37:\tlearn: 0.4762843\ttest: 0.5048339\tbest: 0.5048339 (37)\ttotal: 122ms\tremaining: 3.09s\n",
            "38:\tlearn: 0.4729727\ttest: 0.5033391\tbest: 0.5033391 (38)\ttotal: 124ms\tremaining: 3.06s\n",
            "39:\tlearn: 0.4695716\ttest: 0.5030841\tbest: 0.5030841 (39)\ttotal: 126ms\tremaining: 3.03s\n",
            "40:\tlearn: 0.4668643\ttest: 0.5008151\tbest: 0.5008151 (40)\ttotal: 129ms\tremaining: 3.01s\n",
            "41:\tlearn: 0.4665214\ttest: 0.5004376\tbest: 0.5004376 (41)\ttotal: 129ms\tremaining: 2.95s\n",
            "42:\tlearn: 0.4661954\ttest: 0.5000778\tbest: 0.5000778 (42)\ttotal: 130ms\tremaining: 2.9s\n",
            "43:\tlearn: 0.4649338\ttest: 0.4985170\tbest: 0.4985170 (43)\ttotal: 131ms\tremaining: 2.84s\n",
            "44:\tlearn: 0.4615393\ttest: 0.4968714\tbest: 0.4968714 (44)\ttotal: 133ms\tremaining: 2.83s\n",
            "45:\tlearn: 0.4606789\ttest: 0.4961717\tbest: 0.4961717 (45)\ttotal: 135ms\tremaining: 2.79s\n",
            "46:\tlearn: 0.4584525\ttest: 0.4949799\tbest: 0.4949799 (46)\ttotal: 137ms\tremaining: 2.77s\n",
            "47:\tlearn: 0.4550088\ttest: 0.4930810\tbest: 0.4930810 (47)\ttotal: 139ms\tremaining: 2.76s\n",
            "48:\tlearn: 0.4525731\ttest: 0.4917941\tbest: 0.4917941 (48)\ttotal: 141ms\tremaining: 2.74s\n",
            "49:\tlearn: 0.4523505\ttest: 0.4915449\tbest: 0.4915449 (49)\ttotal: 142ms\tremaining: 2.7s\n",
            "50:\tlearn: 0.4495105\ttest: 0.4904882\tbest: 0.4904882 (50)\ttotal: 144ms\tremaining: 2.69s\n",
            "51:\tlearn: 0.4465451\ttest: 0.4899420\tbest: 0.4899420 (51)\ttotal: 147ms\tremaining: 2.67s\n",
            "52:\tlearn: 0.4463070\ttest: 0.4896782\tbest: 0.4896782 (52)\ttotal: 147ms\tremaining: 2.63s\n",
            "53:\tlearn: 0.4461144\ttest: 0.4894504\tbest: 0.4894504 (53)\ttotal: 149ms\tremaining: 2.6s\n",
            "54:\tlearn: 0.4434067\ttest: 0.4895443\tbest: 0.4894504 (53)\ttotal: 151ms\tremaining: 2.59s\n",
            "55:\tlearn: 0.4423652\ttest: 0.4894308\tbest: 0.4894308 (55)\ttotal: 153ms\tremaining: 2.58s\n",
            "56:\tlearn: 0.4406592\ttest: 0.4892119\tbest: 0.4892119 (56)\ttotal: 156ms\tremaining: 2.57s\n",
            "57:\tlearn: 0.4396540\ttest: 0.4884931\tbest: 0.4884931 (57)\ttotal: 157ms\tremaining: 2.54s\n",
            "58:\tlearn: 0.4378941\ttest: 0.4873473\tbest: 0.4873473 (58)\ttotal: 158ms\tremaining: 2.52s\n",
            "59:\tlearn: 0.4360336\ttest: 0.4871058\tbest: 0.4871058 (59)\ttotal: 161ms\tremaining: 2.52s\n",
            "60:\tlearn: 0.4342889\ttest: 0.4860176\tbest: 0.4860176 (60)\ttotal: 163ms\tremaining: 2.5s\n",
            "61:\tlearn: 0.4336948\ttest: 0.4851871\tbest: 0.4851871 (61)\ttotal: 164ms\tremaining: 2.48s\n",
            "62:\tlearn: 0.4323991\ttest: 0.4849507\tbest: 0.4849507 (62)\ttotal: 166ms\tremaining: 2.47s\n",
            "63:\tlearn: 0.4320529\ttest: 0.4851350\tbest: 0.4849507 (62)\ttotal: 168ms\tremaining: 2.45s\n",
            "64:\tlearn: 0.4299784\ttest: 0.4837941\tbest: 0.4837941 (64)\ttotal: 170ms\tremaining: 2.45s\n",
            "65:\tlearn: 0.4293234\ttest: 0.4837316\tbest: 0.4837316 (65)\ttotal: 172ms\tremaining: 2.44s\n",
            "66:\tlearn: 0.4283694\ttest: 0.4840246\tbest: 0.4837316 (65)\ttotal: 174ms\tremaining: 2.43s\n",
            "67:\tlearn: 0.4269769\ttest: 0.4834186\tbest: 0.4834186 (67)\ttotal: 177ms\tremaining: 2.42s\n",
            "68:\tlearn: 0.4261501\ttest: 0.4833652\tbest: 0.4833652 (68)\ttotal: 179ms\tremaining: 2.41s\n",
            "69:\tlearn: 0.4245212\ttest: 0.4826060\tbest: 0.4826060 (69)\ttotal: 181ms\tremaining: 2.4s\n",
            "70:\tlearn: 0.4231581\ttest: 0.4822102\tbest: 0.4822102 (70)\ttotal: 183ms\tremaining: 2.39s\n",
            "71:\tlearn: 0.4228833\ttest: 0.4821228\tbest: 0.4821228 (71)\ttotal: 184ms\tremaining: 2.37s\n",
            "72:\tlearn: 0.4207256\ttest: 0.4827425\tbest: 0.4821228 (71)\ttotal: 186ms\tremaining: 2.36s\n",
            "73:\tlearn: 0.4196968\ttest: 0.4826695\tbest: 0.4821228 (71)\ttotal: 188ms\tremaining: 2.35s\n",
            "74:\tlearn: 0.4187842\ttest: 0.4831211\tbest: 0.4821228 (71)\ttotal: 192ms\tremaining: 2.36s\n",
            "75:\tlearn: 0.4174270\ttest: 0.4822171\tbest: 0.4821228 (71)\ttotal: 194ms\tremaining: 2.36s\n",
            "76:\tlearn: 0.4154557\ttest: 0.4823196\tbest: 0.4821228 (71)\ttotal: 196ms\tremaining: 2.35s\n",
            "77:\tlearn: 0.4152832\ttest: 0.4824021\tbest: 0.4821228 (71)\ttotal: 198ms\tremaining: 2.34s\n",
            "78:\tlearn: 0.4137348\ttest: 0.4815060\tbest: 0.4815060 (78)\ttotal: 200ms\tremaining: 2.33s\n",
            "79:\tlearn: 0.4126001\ttest: 0.4815570\tbest: 0.4815060 (78)\ttotal: 202ms\tremaining: 2.32s\n",
            "80:\tlearn: 0.4106721\ttest: 0.4821204\tbest: 0.4815060 (78)\ttotal: 204ms\tremaining: 2.32s\n",
            "81:\tlearn: 0.4099023\ttest: 0.4821809\tbest: 0.4815060 (78)\ttotal: 206ms\tremaining: 2.31s\n",
            "82:\tlearn: 0.4090662\ttest: 0.4819583\tbest: 0.4815060 (78)\ttotal: 209ms\tremaining: 2.3s\n",
            "83:\tlearn: 0.4077041\ttest: 0.4823460\tbest: 0.4815060 (78)\ttotal: 211ms\tremaining: 2.3s\n",
            "84:\tlearn: 0.4069291\ttest: 0.4821827\tbest: 0.4815060 (78)\ttotal: 213ms\tremaining: 2.29s\n",
            "85:\tlearn: 0.4057986\ttest: 0.4825894\tbest: 0.4815060 (78)\ttotal: 215ms\tremaining: 2.28s\n",
            "86:\tlearn: 0.4048502\ttest: 0.4825454\tbest: 0.4815060 (78)\ttotal: 216ms\tremaining: 2.27s\n",
            "87:\tlearn: 0.4041958\ttest: 0.4827070\tbest: 0.4815060 (78)\ttotal: 219ms\tremaining: 2.27s\n",
            "88:\tlearn: 0.4035353\ttest: 0.4820803\tbest: 0.4815060 (78)\ttotal: 221ms\tremaining: 2.26s\n",
            "89:\tlearn: 0.4022849\ttest: 0.4818214\tbest: 0.4815060 (78)\ttotal: 223ms\tremaining: 2.26s\n",
            "90:\tlearn: 0.4022351\ttest: 0.4819119\tbest: 0.4815060 (78)\ttotal: 224ms\tremaining: 2.24s\n",
            "91:\tlearn: 0.4009492\ttest: 0.4823608\tbest: 0.4815060 (78)\ttotal: 227ms\tremaining: 2.23s\n",
            "92:\tlearn: 0.4003652\ttest: 0.4823206\tbest: 0.4815060 (78)\ttotal: 229ms\tremaining: 2.23s\n",
            "93:\tlearn: 0.3999464\ttest: 0.4826713\tbest: 0.4815060 (78)\ttotal: 230ms\tremaining: 2.21s\n",
            "94:\tlearn: 0.3992554\ttest: 0.4833446\tbest: 0.4815060 (78)\ttotal: 232ms\tremaining: 2.21s\n",
            "95:\tlearn: 0.3986104\ttest: 0.4832086\tbest: 0.4815060 (78)\ttotal: 233ms\tremaining: 2.19s\n",
            "96:\tlearn: 0.3963929\ttest: 0.4838712\tbest: 0.4815060 (78)\ttotal: 235ms\tremaining: 2.19s\n",
            "97:\tlearn: 0.3953646\ttest: 0.4839940\tbest: 0.4815060 (78)\ttotal: 237ms\tremaining: 2.18s\n",
            "98:\tlearn: 0.3940997\ttest: 0.4848822\tbest: 0.4815060 (78)\ttotal: 239ms\tremaining: 2.18s\n",
            "99:\tlearn: 0.3932034\ttest: 0.4853578\tbest: 0.4815060 (78)\ttotal: 242ms\tremaining: 2.17s\n",
            "100:\tlearn: 0.3927976\ttest: 0.4850533\tbest: 0.4815060 (78)\ttotal: 243ms\tremaining: 2.16s\n",
            "101:\tlearn: 0.3910776\ttest: 0.4865823\tbest: 0.4815060 (78)\ttotal: 245ms\tremaining: 2.16s\n",
            "102:\tlearn: 0.3895763\ttest: 0.4871357\tbest: 0.4815060 (78)\ttotal: 247ms\tremaining: 2.15s\n",
            "103:\tlearn: 0.3894763\ttest: 0.4870206\tbest: 0.4815060 (78)\ttotal: 248ms\tremaining: 2.14s\n",
            "104:\tlearn: 0.3877612\ttest: 0.4876639\tbest: 0.4815060 (78)\ttotal: 250ms\tremaining: 2.13s\n",
            "105:\tlearn: 0.3875414\ttest: 0.4876068\tbest: 0.4815060 (78)\ttotal: 252ms\tremaining: 2.12s\n",
            "106:\tlearn: 0.3850140\ttest: 0.4879688\tbest: 0.4815060 (78)\ttotal: 254ms\tremaining: 2.12s\n",
            "107:\tlearn: 0.3850089\ttest: 0.4879607\tbest: 0.4815060 (78)\ttotal: 255ms\tremaining: 2.1s\n",
            "108:\tlearn: 0.3842609\ttest: 0.4878419\tbest: 0.4815060 (78)\ttotal: 257ms\tremaining: 2.1s\n",
            "109:\tlearn: 0.3833253\ttest: 0.4879015\tbest: 0.4815060 (78)\ttotal: 259ms\tremaining: 2.1s\n",
            "110:\tlearn: 0.3823358\ttest: 0.4872686\tbest: 0.4815060 (78)\ttotal: 261ms\tremaining: 2.09s\n",
            "111:\tlearn: 0.3810445\ttest: 0.4866107\tbest: 0.4815060 (78)\ttotal: 263ms\tremaining: 2.09s\n",
            "112:\tlearn: 0.3801859\ttest: 0.4867256\tbest: 0.4815060 (78)\ttotal: 266ms\tremaining: 2.08s\n",
            "113:\tlearn: 0.3779485\ttest: 0.4873116\tbest: 0.4815060 (78)\ttotal: 268ms\tremaining: 2.08s\n",
            "114:\tlearn: 0.3772410\ttest: 0.4873757\tbest: 0.4815060 (78)\ttotal: 270ms\tremaining: 2.08s\n",
            "115:\tlearn: 0.3759089\ttest: 0.4873682\tbest: 0.4815060 (78)\ttotal: 273ms\tremaining: 2.08s\n",
            "116:\tlearn: 0.3754230\ttest: 0.4873940\tbest: 0.4815060 (78)\ttotal: 274ms\tremaining: 2.07s\n",
            "117:\tlearn: 0.3743414\ttest: 0.4871737\tbest: 0.4815060 (78)\ttotal: 276ms\tremaining: 2.07s\n",
            "118:\tlearn: 0.3737016\ttest: 0.4874727\tbest: 0.4815060 (78)\ttotal: 279ms\tremaining: 2.06s\n",
            "119:\tlearn: 0.3735977\ttest: 0.4877496\tbest: 0.4815060 (78)\ttotal: 280ms\tremaining: 2.05s\n",
            "120:\tlearn: 0.3726483\ttest: 0.4880376\tbest: 0.4815060 (78)\ttotal: 282ms\tremaining: 2.05s\n",
            "121:\tlearn: 0.3721619\ttest: 0.4884750\tbest: 0.4815060 (78)\ttotal: 284ms\tremaining: 2.04s\n",
            "122:\tlearn: 0.3711743\ttest: 0.4886631\tbest: 0.4815060 (78)\ttotal: 286ms\tremaining: 2.04s\n",
            "123:\tlearn: 0.3698092\ttest: 0.4885837\tbest: 0.4815060 (78)\ttotal: 288ms\tremaining: 2.04s\n",
            "124:\tlearn: 0.3691380\ttest: 0.4882061\tbest: 0.4815060 (78)\ttotal: 291ms\tremaining: 2.03s\n",
            "125:\tlearn: 0.3685039\ttest: 0.4882173\tbest: 0.4815060 (78)\ttotal: 293ms\tremaining: 2.03s\n",
            "126:\tlearn: 0.3682844\ttest: 0.4882471\tbest: 0.4815060 (78)\ttotal: 294ms\tremaining: 2.02s\n",
            "127:\tlearn: 0.3678927\ttest: 0.4885246\tbest: 0.4815060 (78)\ttotal: 296ms\tremaining: 2.02s\n",
            "128:\tlearn: 0.3664074\ttest: 0.4893447\tbest: 0.4815060 (78)\ttotal: 299ms\tremaining: 2.02s\n",
            "129:\tlearn: 0.3652860\ttest: 0.4891576\tbest: 0.4815060 (78)\ttotal: 301ms\tremaining: 2.02s\n",
            "130:\tlearn: 0.3641983\ttest: 0.4894053\tbest: 0.4815060 (78)\ttotal: 303ms\tremaining: 2.01s\n",
            "131:\tlearn: 0.3635366\ttest: 0.4892624\tbest: 0.4815060 (78)\ttotal: 305ms\tremaining: 2.01s\n",
            "132:\tlearn: 0.3632371\ttest: 0.4895458\tbest: 0.4815060 (78)\ttotal: 307ms\tremaining: 2s\n",
            "133:\tlearn: 0.3629263\ttest: 0.4892506\tbest: 0.4815060 (78)\ttotal: 309ms\tremaining: 2s\n",
            "134:\tlearn: 0.3621516\ttest: 0.4891709\tbest: 0.4815060 (78)\ttotal: 311ms\tremaining: 1.99s\n",
            "135:\tlearn: 0.3619320\ttest: 0.4896181\tbest: 0.4815060 (78)\ttotal: 312ms\tremaining: 1.98s\n",
            "136:\tlearn: 0.3610615\ttest: 0.4890009\tbest: 0.4815060 (78)\ttotal: 315ms\tremaining: 1.98s\n",
            "137:\tlearn: 0.3602527\ttest: 0.4892277\tbest: 0.4815060 (78)\ttotal: 317ms\tremaining: 1.98s\n",
            "138:\tlearn: 0.3591994\ttest: 0.4898231\tbest: 0.4815060 (78)\ttotal: 319ms\tremaining: 1.97s\n",
            "139:\tlearn: 0.3587010\ttest: 0.4899672\tbest: 0.4815060 (78)\ttotal: 321ms\tremaining: 1.97s\n",
            "140:\tlearn: 0.3576439\ttest: 0.4903769\tbest: 0.4815060 (78)\ttotal: 323ms\tremaining: 1.97s\n",
            "141:\tlearn: 0.3564456\ttest: 0.4904722\tbest: 0.4815060 (78)\ttotal: 326ms\tremaining: 1.97s\n",
            "142:\tlearn: 0.3550682\ttest: 0.4909924\tbest: 0.4815060 (78)\ttotal: 328ms\tremaining: 1.96s\n",
            "143:\tlearn: 0.3549673\ttest: 0.4911598\tbest: 0.4815060 (78)\ttotal: 329ms\tremaining: 1.95s\n",
            "144:\tlearn: 0.3538405\ttest: 0.4910717\tbest: 0.4815060 (78)\ttotal: 331ms\tremaining: 1.95s\n",
            "145:\tlearn: 0.3526021\ttest: 0.4910363\tbest: 0.4815060 (78)\ttotal: 333ms\tremaining: 1.95s\n",
            "146:\tlearn: 0.3511584\ttest: 0.4906799\tbest: 0.4815060 (78)\ttotal: 335ms\tremaining: 1.95s\n",
            "147:\tlearn: 0.3505158\ttest: 0.4906423\tbest: 0.4815060 (78)\ttotal: 338ms\tremaining: 1.94s\n",
            "148:\tlearn: 0.3502054\ttest: 0.4909576\tbest: 0.4815060 (78)\ttotal: 340ms\tremaining: 1.94s\n",
            "149:\tlearn: 0.3496809\ttest: 0.4908563\tbest: 0.4815060 (78)\ttotal: 342ms\tremaining: 1.94s\n",
            "150:\tlearn: 0.3485106\ttest: 0.4914945\tbest: 0.4815060 (78)\ttotal: 345ms\tremaining: 1.94s\n",
            "151:\tlearn: 0.3476401\ttest: 0.4918776\tbest: 0.4815060 (78)\ttotal: 347ms\tremaining: 1.93s\n",
            "152:\tlearn: 0.3470026\ttest: 0.4928703\tbest: 0.4815060 (78)\ttotal: 349ms\tremaining: 1.93s\n",
            "153:\tlearn: 0.3463822\ttest: 0.4929914\tbest: 0.4815060 (78)\ttotal: 351ms\tremaining: 1.93s\n",
            "154:\tlearn: 0.3450982\ttest: 0.4927577\tbest: 0.4815060 (78)\ttotal: 354ms\tremaining: 1.93s\n",
            "155:\tlearn: 0.3444759\ttest: 0.4926296\tbest: 0.4815060 (78)\ttotal: 356ms\tremaining: 1.92s\n",
            "156:\tlearn: 0.3432850\ttest: 0.4921879\tbest: 0.4815060 (78)\ttotal: 358ms\tremaining: 1.92s\n",
            "157:\tlearn: 0.3432249\ttest: 0.4922267\tbest: 0.4815060 (78)\ttotal: 359ms\tremaining: 1.91s\n",
            "158:\tlearn: 0.3425178\ttest: 0.4920563\tbest: 0.4815060 (78)\ttotal: 361ms\tremaining: 1.91s\n",
            "159:\tlearn: 0.3417489\ttest: 0.4926216\tbest: 0.4815060 (78)\ttotal: 363ms\tremaining: 1.91s\n",
            "160:\tlearn: 0.3413362\ttest: 0.4927778\tbest: 0.4815060 (78)\ttotal: 365ms\tremaining: 1.9s\n",
            "161:\tlearn: 0.3402348\ttest: 0.4926024\tbest: 0.4815060 (78)\ttotal: 368ms\tremaining: 1.9s\n",
            "162:\tlearn: 0.3398608\ttest: 0.4925924\tbest: 0.4815060 (78)\ttotal: 370ms\tremaining: 1.9s\n",
            "163:\tlearn: 0.3384755\ttest: 0.4932304\tbest: 0.4815060 (78)\ttotal: 372ms\tremaining: 1.9s\n",
            "164:\tlearn: 0.3384754\ttest: 0.4932304\tbest: 0.4815060 (78)\ttotal: 373ms\tremaining: 1.89s\n",
            "165:\tlearn: 0.3374791\ttest: 0.4927642\tbest: 0.4815060 (78)\ttotal: 375ms\tremaining: 1.88s\n",
            "166:\tlearn: 0.3373765\ttest: 0.4927589\tbest: 0.4815060 (78)\ttotal: 376ms\tremaining: 1.87s\n",
            "167:\tlearn: 0.3370119\ttest: 0.4930929\tbest: 0.4815060 (78)\ttotal: 377ms\tremaining: 1.87s\n",
            "168:\tlearn: 0.3361155\ttest: 0.4930868\tbest: 0.4815060 (78)\ttotal: 385ms\tremaining: 1.9s\n",
            "169:\tlearn: 0.3348763\ttest: 0.4932206\tbest: 0.4815060 (78)\ttotal: 388ms\tremaining: 1.89s\n",
            "170:\tlearn: 0.3343417\ttest: 0.4933191\tbest: 0.4815060 (78)\ttotal: 390ms\tremaining: 1.89s\n",
            "171:\tlearn: 0.3331112\ttest: 0.4946939\tbest: 0.4815060 (78)\ttotal: 392ms\tremaining: 1.89s\n",
            "172:\tlearn: 0.3322518\ttest: 0.4949860\tbest: 0.4815060 (78)\ttotal: 395ms\tremaining: 1.89s\n",
            "173:\tlearn: 0.3317020\ttest: 0.4953123\tbest: 0.4815060 (78)\ttotal: 397ms\tremaining: 1.88s\n",
            "174:\tlearn: 0.3314546\ttest: 0.4951800\tbest: 0.4815060 (78)\ttotal: 398ms\tremaining: 1.88s\n",
            "175:\tlearn: 0.3313122\ttest: 0.4951420\tbest: 0.4815060 (78)\ttotal: 399ms\tremaining: 1.87s\n",
            "176:\tlearn: 0.3299327\ttest: 0.4946762\tbest: 0.4815060 (78)\ttotal: 402ms\tremaining: 1.87s\n",
            "177:\tlearn: 0.3296270\ttest: 0.4945201\tbest: 0.4815060 (78)\ttotal: 403ms\tremaining: 1.86s\n",
            "178:\tlearn: 0.3284374\ttest: 0.4945270\tbest: 0.4815060 (78)\ttotal: 405ms\tremaining: 1.86s\n",
            "179:\tlearn: 0.3274747\ttest: 0.4942322\tbest: 0.4815060 (78)\ttotal: 408ms\tremaining: 1.86s\n",
            "180:\tlearn: 0.3262926\ttest: 0.4937412\tbest: 0.4815060 (78)\ttotal: 410ms\tremaining: 1.85s\n",
            "181:\tlearn: 0.3252669\ttest: 0.4937580\tbest: 0.4815060 (78)\ttotal: 412ms\tremaining: 1.85s\n",
            "182:\tlearn: 0.3242564\ttest: 0.4941323\tbest: 0.4815060 (78)\ttotal: 414ms\tremaining: 1.85s\n",
            "183:\tlearn: 0.3222704\ttest: 0.4945481\tbest: 0.4815060 (78)\ttotal: 416ms\tremaining: 1.85s\n",
            "184:\tlearn: 0.3218406\ttest: 0.4946064\tbest: 0.4815060 (78)\ttotal: 419ms\tremaining: 1.84s\n",
            "185:\tlearn: 0.3215347\ttest: 0.4946582\tbest: 0.4815060 (78)\ttotal: 421ms\tremaining: 1.84s\n",
            "186:\tlearn: 0.3215190\ttest: 0.4946816\tbest: 0.4815060 (78)\ttotal: 422ms\tremaining: 1.83s\n",
            "187:\tlearn: 0.3208362\ttest: 0.4942326\tbest: 0.4815060 (78)\ttotal: 424ms\tremaining: 1.83s\n",
            "188:\tlearn: 0.3200877\ttest: 0.4938827\tbest: 0.4815060 (78)\ttotal: 426ms\tremaining: 1.83s\n",
            "189:\tlearn: 0.3185909\ttest: 0.4933858\tbest: 0.4815060 (78)\ttotal: 429ms\tremaining: 1.83s\n",
            "190:\tlearn: 0.3183090\ttest: 0.4935742\tbest: 0.4815060 (78)\ttotal: 431ms\tremaining: 1.82s\n",
            "191:\tlearn: 0.3175925\ttest: 0.4944070\tbest: 0.4815060 (78)\ttotal: 433ms\tremaining: 1.82s\n",
            "192:\tlearn: 0.3168286\ttest: 0.4945509\tbest: 0.4815060 (78)\ttotal: 435ms\tremaining: 1.82s\n",
            "193:\tlearn: 0.3163431\ttest: 0.4944236\tbest: 0.4815060 (78)\ttotal: 438ms\tremaining: 1.82s\n",
            "194:\tlearn: 0.3157515\ttest: 0.4944443\tbest: 0.4815060 (78)\ttotal: 440ms\tremaining: 1.82s\n",
            "195:\tlearn: 0.3155935\ttest: 0.4945905\tbest: 0.4815060 (78)\ttotal: 441ms\tremaining: 1.81s\n",
            "196:\tlearn: 0.3143757\ttest: 0.4950835\tbest: 0.4815060 (78)\ttotal: 443ms\tremaining: 1.81s\n",
            "197:\tlearn: 0.3140355\ttest: 0.4951949\tbest: 0.4815060 (78)\ttotal: 446ms\tremaining: 1.8s\n",
            "198:\tlearn: 0.3135934\ttest: 0.4954744\tbest: 0.4815060 (78)\ttotal: 448ms\tremaining: 1.8s\n",
            "199:\tlearn: 0.3133126\ttest: 0.4955314\tbest: 0.4815060 (78)\ttotal: 450ms\tremaining: 1.8s\n",
            "200:\tlearn: 0.3125626\ttest: 0.4960004\tbest: 0.4815060 (78)\ttotal: 452ms\tremaining: 1.8s\n",
            "201:\tlearn: 0.3118179\ttest: 0.4957494\tbest: 0.4815060 (78)\ttotal: 454ms\tremaining: 1.79s\n",
            "202:\tlearn: 0.3111444\ttest: 0.4960179\tbest: 0.4815060 (78)\ttotal: 457ms\tremaining: 1.79s\n",
            "203:\tlearn: 0.3103971\ttest: 0.4959656\tbest: 0.4815060 (78)\ttotal: 459ms\tremaining: 1.79s\n",
            "204:\tlearn: 0.3103053\ttest: 0.4962458\tbest: 0.4815060 (78)\ttotal: 460ms\tremaining: 1.78s\n",
            "205:\tlearn: 0.3091402\ttest: 0.4964635\tbest: 0.4815060 (78)\ttotal: 462ms\tremaining: 1.78s\n",
            "206:\tlearn: 0.3083236\ttest: 0.4970187\tbest: 0.4815060 (78)\ttotal: 465ms\tremaining: 1.78s\n",
            "207:\tlearn: 0.3074117\ttest: 0.4972572\tbest: 0.4815060 (78)\ttotal: 467ms\tremaining: 1.78s\n",
            "208:\tlearn: 0.3074117\ttest: 0.4972572\tbest: 0.4815060 (78)\ttotal: 468ms\tremaining: 1.77s\n",
            "209:\tlearn: 0.3064956\ttest: 0.4971939\tbest: 0.4815060 (78)\ttotal: 470ms\tremaining: 1.77s\n",
            "210:\tlearn: 0.3053877\ttest: 0.4974660\tbest: 0.4815060 (78)\ttotal: 472ms\tremaining: 1.76s\n",
            "211:\tlearn: 0.3044266\ttest: 0.4974317\tbest: 0.4815060 (78)\ttotal: 474ms\tremaining: 1.76s\n",
            "212:\tlearn: 0.3041029\ttest: 0.4975369\tbest: 0.4815060 (78)\ttotal: 477ms\tremaining: 1.76s\n",
            "213:\tlearn: 0.3033687\ttest: 0.4974009\tbest: 0.4815060 (78)\ttotal: 479ms\tremaining: 1.76s\n",
            "214:\tlearn: 0.3030759\ttest: 0.4975807\tbest: 0.4815060 (78)\ttotal: 481ms\tremaining: 1.76s\n",
            "215:\tlearn: 0.3026454\ttest: 0.4974468\tbest: 0.4815060 (78)\ttotal: 483ms\tremaining: 1.75s\n",
            "216:\tlearn: 0.3025085\ttest: 0.4974817\tbest: 0.4815060 (78)\ttotal: 485ms\tremaining: 1.75s\n",
            "217:\tlearn: 0.3017135\ttest: 0.4976796\tbest: 0.4815060 (78)\ttotal: 487ms\tremaining: 1.75s\n",
            "218:\tlearn: 0.3015559\ttest: 0.4975086\tbest: 0.4815060 (78)\ttotal: 488ms\tremaining: 1.74s\n",
            "219:\tlearn: 0.3015558\ttest: 0.4975084\tbest: 0.4815060 (78)\ttotal: 489ms\tremaining: 1.73s\n",
            "220:\tlearn: 0.3013325\ttest: 0.4975706\tbest: 0.4815060 (78)\ttotal: 491ms\tremaining: 1.73s\n",
            "221:\tlearn: 0.3010560\ttest: 0.4978568\tbest: 0.4815060 (78)\ttotal: 493ms\tremaining: 1.73s\n",
            "222:\tlearn: 0.3002684\ttest: 0.4979145\tbest: 0.4815060 (78)\ttotal: 495ms\tremaining: 1.73s\n",
            "223:\tlearn: 0.2995270\ttest: 0.4979802\tbest: 0.4815060 (78)\ttotal: 497ms\tremaining: 1.72s\n",
            "224:\tlearn: 0.2986002\ttest: 0.4977805\tbest: 0.4815060 (78)\ttotal: 500ms\tremaining: 1.72s\n",
            "225:\tlearn: 0.2973307\ttest: 0.4972524\tbest: 0.4815060 (78)\ttotal: 502ms\tremaining: 1.72s\n",
            "226:\tlearn: 0.2973301\ttest: 0.4972509\tbest: 0.4815060 (78)\ttotal: 503ms\tremaining: 1.71s\n",
            "227:\tlearn: 0.2962072\ttest: 0.4973592\tbest: 0.4815060 (78)\ttotal: 505ms\tremaining: 1.71s\n",
            "228:\tlearn: 0.2955107\ttest: 0.4977133\tbest: 0.4815060 (78)\ttotal: 507ms\tremaining: 1.71s\n",
            "229:\tlearn: 0.2935534\ttest: 0.4984971\tbest: 0.4815060 (78)\ttotal: 509ms\tremaining: 1.71s\n",
            "230:\tlearn: 0.2929238\ttest: 0.4987480\tbest: 0.4815060 (78)\ttotal: 512ms\tremaining: 1.7s\n",
            "231:\tlearn: 0.2926340\ttest: 0.4988331\tbest: 0.4815060 (78)\ttotal: 514ms\tremaining: 1.7s\n",
            "232:\tlearn: 0.2922875\ttest: 0.4988482\tbest: 0.4815060 (78)\ttotal: 518ms\tremaining: 1.7s\n",
            "233:\tlearn: 0.2922870\ttest: 0.4988469\tbest: 0.4815060 (78)\ttotal: 519ms\tremaining: 1.7s\n",
            "234:\tlearn: 0.2919127\ttest: 0.4986912\tbest: 0.4815060 (78)\ttotal: 526ms\tremaining: 1.71s\n",
            "235:\tlearn: 0.2910060\ttest: 0.4984879\tbest: 0.4815060 (78)\ttotal: 529ms\tremaining: 1.71s\n",
            "236:\tlearn: 0.2907473\ttest: 0.4985863\tbest: 0.4815060 (78)\ttotal: 531ms\tremaining: 1.71s\n",
            "237:\tlearn: 0.2904068\ttest: 0.4982662\tbest: 0.4815060 (78)\ttotal: 534ms\tremaining: 1.71s\n",
            "238:\tlearn: 0.2897662\ttest: 0.4984402\tbest: 0.4815060 (78)\ttotal: 536ms\tremaining: 1.71s\n",
            "239:\tlearn: 0.2893471\ttest: 0.4983487\tbest: 0.4815060 (78)\ttotal: 538ms\tremaining: 1.7s\n",
            "240:\tlearn: 0.2890451\ttest: 0.4984240\tbest: 0.4815060 (78)\ttotal: 541ms\tremaining: 1.7s\n",
            "241:\tlearn: 0.2889334\ttest: 0.4981988\tbest: 0.4815060 (78)\ttotal: 542ms\tremaining: 1.7s\n",
            "242:\tlearn: 0.2888340\ttest: 0.4982628\tbest: 0.4815060 (78)\ttotal: 543ms\tremaining: 1.69s\n",
            "243:\tlearn: 0.2881867\ttest: 0.4980924\tbest: 0.4815060 (78)\ttotal: 545ms\tremaining: 1.69s\n",
            "244:\tlearn: 0.2875202\ttest: 0.4979726\tbest: 0.4815060 (78)\ttotal: 548ms\tremaining: 1.69s\n",
            "245:\tlearn: 0.2865280\ttest: 0.4978308\tbest: 0.4815060 (78)\ttotal: 550ms\tremaining: 1.69s\n",
            "246:\tlearn: 0.2856485\ttest: 0.4984989\tbest: 0.4815060 (78)\ttotal: 552ms\tremaining: 1.68s\n",
            "247:\tlearn: 0.2855832\ttest: 0.4984681\tbest: 0.4815060 (78)\ttotal: 554ms\tremaining: 1.68s\n",
            "248:\tlearn: 0.2850148\ttest: 0.4989590\tbest: 0.4815060 (78)\ttotal: 556ms\tremaining: 1.68s\n",
            "249:\tlearn: 0.2845554\ttest: 0.4988044\tbest: 0.4815060 (78)\ttotal: 559ms\tremaining: 1.68s\n",
            "250:\tlearn: 0.2841136\ttest: 0.4990641\tbest: 0.4815060 (78)\ttotal: 561ms\tremaining: 1.67s\n",
            "251:\tlearn: 0.2839802\ttest: 0.4991833\tbest: 0.4815060 (78)\ttotal: 563ms\tremaining: 1.67s\n",
            "252:\tlearn: 0.2837886\ttest: 0.4990596\tbest: 0.4815060 (78)\ttotal: 565ms\tremaining: 1.67s\n",
            "253:\tlearn: 0.2828563\ttest: 0.4991947\tbest: 0.4815060 (78)\ttotal: 568ms\tremaining: 1.67s\n",
            "254:\tlearn: 0.2825791\ttest: 0.4994550\tbest: 0.4815060 (78)\ttotal: 570ms\tremaining: 1.66s\n",
            "255:\tlearn: 0.2817773\ttest: 0.4996142\tbest: 0.4815060 (78)\ttotal: 572ms\tremaining: 1.66s\n",
            "256:\tlearn: 0.2809184\ttest: 0.4996662\tbest: 0.4815060 (78)\ttotal: 580ms\tremaining: 1.68s\n",
            "257:\tlearn: 0.2799715\ttest: 0.4993922\tbest: 0.4815060 (78)\ttotal: 583ms\tremaining: 1.68s\n",
            "258:\tlearn: 0.2792103\ttest: 0.4994335\tbest: 0.4815060 (78)\ttotal: 585ms\tremaining: 1.67s\n",
            "259:\tlearn: 0.2789977\ttest: 0.4993579\tbest: 0.4815060 (78)\ttotal: 588ms\tremaining: 1.67s\n",
            "260:\tlearn: 0.2784778\ttest: 0.4991547\tbest: 0.4815060 (78)\ttotal: 591ms\tremaining: 1.67s\n",
            "261:\tlearn: 0.2771500\ttest: 0.4987619\tbest: 0.4815060 (78)\ttotal: 593ms\tremaining: 1.67s\n",
            "262:\tlearn: 0.2766953\ttest: 0.4991596\tbest: 0.4815060 (78)\ttotal: 595ms\tremaining: 1.67s\n",
            "263:\tlearn: 0.2764040\ttest: 0.4991365\tbest: 0.4815060 (78)\ttotal: 597ms\tremaining: 1.66s\n",
            "264:\tlearn: 0.2756111\ttest: 0.4998653\tbest: 0.4815060 (78)\ttotal: 599ms\tremaining: 1.66s\n",
            "265:\tlearn: 0.2752375\ttest: 0.4999415\tbest: 0.4815060 (78)\ttotal: 602ms\tremaining: 1.66s\n",
            "266:\tlearn: 0.2751280\ttest: 0.5003326\tbest: 0.4815060 (78)\ttotal: 603ms\tremaining: 1.65s\n",
            "267:\tlearn: 0.2749271\ttest: 0.5002038\tbest: 0.4815060 (78)\ttotal: 605ms\tremaining: 1.65s\n",
            "268:\tlearn: 0.2739385\ttest: 0.5003296\tbest: 0.4815060 (78)\ttotal: 607ms\tremaining: 1.65s\n",
            "269:\tlearn: 0.2726645\ttest: 0.5007977\tbest: 0.4815060 (78)\ttotal: 609ms\tremaining: 1.65s\n",
            "270:\tlearn: 0.2716561\ttest: 0.5000042\tbest: 0.4815060 (78)\ttotal: 612ms\tremaining: 1.65s\n",
            "271:\tlearn: 0.2714814\ttest: 0.5001950\tbest: 0.4815060 (78)\ttotal: 614ms\tremaining: 1.64s\n",
            "272:\tlearn: 0.2704170\ttest: 0.5005734\tbest: 0.4815060 (78)\ttotal: 616ms\tremaining: 1.64s\n",
            "273:\tlearn: 0.2694634\ttest: 0.5009490\tbest: 0.4815060 (78)\ttotal: 619ms\tremaining: 1.64s\n",
            "274:\tlearn: 0.2681245\ttest: 0.5015997\tbest: 0.4815060 (78)\ttotal: 621ms\tremaining: 1.64s\n",
            "275:\tlearn: 0.2672365\ttest: 0.5021323\tbest: 0.4815060 (78)\ttotal: 623ms\tremaining: 1.63s\n",
            "276:\tlearn: 0.2669123\ttest: 0.5022237\tbest: 0.4815060 (78)\ttotal: 625ms\tremaining: 1.63s\n",
            "277:\tlearn: 0.2668257\ttest: 0.5023988\tbest: 0.4815060 (78)\ttotal: 627ms\tremaining: 1.63s\n",
            "278:\tlearn: 0.2654768\ttest: 0.5038823\tbest: 0.4815060 (78)\ttotal: 629ms\tremaining: 1.63s\n",
            "279:\tlearn: 0.2643389\ttest: 0.5037120\tbest: 0.4815060 (78)\ttotal: 631ms\tremaining: 1.62s\n",
            "280:\tlearn: 0.2643123\ttest: 0.5038715\tbest: 0.4815060 (78)\ttotal: 632ms\tremaining: 1.62s\n",
            "281:\tlearn: 0.2638076\ttest: 0.5042773\tbest: 0.4815060 (78)\ttotal: 635ms\tremaining: 1.61s\n",
            "282:\tlearn: 0.2627363\ttest: 0.5055105\tbest: 0.4815060 (78)\ttotal: 637ms\tremaining: 1.61s\n",
            "283:\tlearn: 0.2627134\ttest: 0.5056278\tbest: 0.4815060 (78)\ttotal: 638ms\tremaining: 1.61s\n",
            "284:\tlearn: 0.2612745\ttest: 0.5074105\tbest: 0.4815060 (78)\ttotal: 640ms\tremaining: 1.6s\n",
            "285:\tlearn: 0.2607953\ttest: 0.5080987\tbest: 0.4815060 (78)\ttotal: 642ms\tremaining: 1.6s\n",
            "286:\tlearn: 0.2605315\ttest: 0.5084664\tbest: 0.4815060 (78)\ttotal: 644ms\tremaining: 1.6s\n",
            "287:\tlearn: 0.2604880\ttest: 0.5087152\tbest: 0.4815060 (78)\ttotal: 646ms\tremaining: 1.6s\n",
            "288:\tlearn: 0.2594341\ttest: 0.5081378\tbest: 0.4815060 (78)\ttotal: 648ms\tremaining: 1.59s\n",
            "289:\tlearn: 0.2581410\ttest: 0.5084024\tbest: 0.4815060 (78)\ttotal: 650ms\tremaining: 1.59s\n",
            "290:\tlearn: 0.2571358\ttest: 0.5085365\tbest: 0.4815060 (78)\ttotal: 652ms\tremaining: 1.59s\n",
            "291:\tlearn: 0.2563776\ttest: 0.5090620\tbest: 0.4815060 (78)\ttotal: 655ms\tremaining: 1.59s\n",
            "292:\tlearn: 0.2563267\ttest: 0.5093241\tbest: 0.4815060 (78)\ttotal: 656ms\tremaining: 1.58s\n",
            "293:\tlearn: 0.2555966\ttest: 0.5093462\tbest: 0.4815060 (78)\ttotal: 658ms\tremaining: 1.58s\n",
            "294:\tlearn: 0.2545869\ttest: 0.5096807\tbest: 0.4815060 (78)\ttotal: 660ms\tremaining: 1.58s\n",
            "295:\tlearn: 0.2542290\ttest: 0.5096227\tbest: 0.4815060 (78)\ttotal: 663ms\tremaining: 1.58s\n",
            "296:\tlearn: 0.2536283\ttest: 0.5095559\tbest: 0.4815060 (78)\ttotal: 665ms\tremaining: 1.57s\n",
            "297:\tlearn: 0.2521784\ttest: 0.5088555\tbest: 0.4815060 (78)\ttotal: 667ms\tremaining: 1.57s\n",
            "298:\tlearn: 0.2512810\ttest: 0.5087009\tbest: 0.4815060 (78)\ttotal: 670ms\tremaining: 1.57s\n",
            "299:\tlearn: 0.2512261\ttest: 0.5089355\tbest: 0.4815060 (78)\ttotal: 671ms\tremaining: 1.57s\n",
            "300:\tlearn: 0.2506790\ttest: 0.5094881\tbest: 0.4815060 (78)\ttotal: 673ms\tremaining: 1.56s\n",
            "301:\tlearn: 0.2500594\ttest: 0.5108693\tbest: 0.4815060 (78)\ttotal: 675ms\tremaining: 1.56s\n",
            "302:\tlearn: 0.2497553\ttest: 0.5110988\tbest: 0.4815060 (78)\ttotal: 678ms\tremaining: 1.56s\n",
            "303:\tlearn: 0.2486724\ttest: 0.5112851\tbest: 0.4815060 (78)\ttotal: 680ms\tremaining: 1.56s\n",
            "304:\tlearn: 0.2482467\ttest: 0.5113846\tbest: 0.4815060 (78)\ttotal: 683ms\tremaining: 1.55s\n",
            "305:\tlearn: 0.2477598\ttest: 0.5122624\tbest: 0.4815060 (78)\ttotal: 685ms\tremaining: 1.55s\n",
            "306:\tlearn: 0.2470001\ttest: 0.5134216\tbest: 0.4815060 (78)\ttotal: 687ms\tremaining: 1.55s\n",
            "307:\tlearn: 0.2461365\ttest: 0.5135046\tbest: 0.4815060 (78)\ttotal: 690ms\tremaining: 1.55s\n",
            "308:\tlearn: 0.2444638\ttest: 0.5135127\tbest: 0.4815060 (78)\ttotal: 692ms\tremaining: 1.55s\n",
            "309:\tlearn: 0.2438197\ttest: 0.5132245\tbest: 0.4815060 (78)\ttotal: 694ms\tremaining: 1.54s\n",
            "310:\tlearn: 0.2435246\ttest: 0.5133364\tbest: 0.4815060 (78)\ttotal: 696ms\tremaining: 1.54s\n",
            "311:\tlearn: 0.2433800\ttest: 0.5134455\tbest: 0.4815060 (78)\ttotal: 699ms\tremaining: 1.54s\n",
            "312:\tlearn: 0.2429355\ttest: 0.5133061\tbest: 0.4815060 (78)\ttotal: 701ms\tremaining: 1.54s\n",
            "313:\tlearn: 0.2425684\ttest: 0.5136378\tbest: 0.4815060 (78)\ttotal: 703ms\tremaining: 1.54s\n",
            "314:\tlearn: 0.2417051\ttest: 0.5140226\tbest: 0.4815060 (78)\ttotal: 706ms\tremaining: 1.53s\n",
            "315:\tlearn: 0.2413630\ttest: 0.5142959\tbest: 0.4815060 (78)\ttotal: 709ms\tremaining: 1.53s\n",
            "316:\tlearn: 0.2411481\ttest: 0.5146250\tbest: 0.4815060 (78)\ttotal: 711ms\tremaining: 1.53s\n",
            "317:\tlearn: 0.2407477\ttest: 0.5150013\tbest: 0.4815060 (78)\ttotal: 713ms\tremaining: 1.53s\n",
            "318:\tlearn: 0.2404961\ttest: 0.5148420\tbest: 0.4815060 (78)\ttotal: 715ms\tremaining: 1.53s\n",
            "319:\tlearn: 0.2398690\ttest: 0.5150225\tbest: 0.4815060 (78)\ttotal: 717ms\tremaining: 1.52s\n",
            "320:\tlearn: 0.2389285\ttest: 0.5149738\tbest: 0.4815060 (78)\ttotal: 720ms\tremaining: 1.52s\n",
            "321:\tlearn: 0.2385160\ttest: 0.5153607\tbest: 0.4815060 (78)\ttotal: 722ms\tremaining: 1.52s\n",
            "322:\tlearn: 0.2371219\ttest: 0.5155662\tbest: 0.4815060 (78)\ttotal: 724ms\tremaining: 1.52s\n",
            "323:\tlearn: 0.2370020\ttest: 0.5154569\tbest: 0.4815060 (78)\ttotal: 727ms\tremaining: 1.52s\n",
            "324:\tlearn: 0.2366143\ttest: 0.5155389\tbest: 0.4815060 (78)\ttotal: 729ms\tremaining: 1.51s\n",
            "325:\tlearn: 0.2357446\ttest: 0.5156554\tbest: 0.4815060 (78)\ttotal: 731ms\tremaining: 1.51s\n",
            "326:\tlearn: 0.2351835\ttest: 0.5154798\tbest: 0.4815060 (78)\ttotal: 733ms\tremaining: 1.51s\n",
            "327:\tlearn: 0.2348701\ttest: 0.5157767\tbest: 0.4815060 (78)\ttotal: 735ms\tremaining: 1.51s\n",
            "328:\tlearn: 0.2337208\ttest: 0.5160962\tbest: 0.4815060 (78)\ttotal: 738ms\tremaining: 1.5s\n",
            "329:\tlearn: 0.2332841\ttest: 0.5163307\tbest: 0.4815060 (78)\ttotal: 740ms\tremaining: 1.5s\n",
            "330:\tlearn: 0.2322992\ttest: 0.5163607\tbest: 0.4815060 (78)\ttotal: 742ms\tremaining: 1.5s\n",
            "331:\tlearn: 0.2320479\ttest: 0.5162993\tbest: 0.4815060 (78)\ttotal: 744ms\tremaining: 1.5s\n",
            "332:\tlearn: 0.2314138\ttest: 0.5172384\tbest: 0.4815060 (78)\ttotal: 747ms\tremaining: 1.5s\n",
            "333:\tlearn: 0.2304832\ttest: 0.5171970\tbest: 0.4815060 (78)\ttotal: 749ms\tremaining: 1.49s\n",
            "334:\tlearn: 0.2293610\ttest: 0.5184963\tbest: 0.4815060 (78)\ttotal: 751ms\tremaining: 1.49s\n",
            "335:\tlearn: 0.2285071\ttest: 0.5194969\tbest: 0.4815060 (78)\ttotal: 754ms\tremaining: 1.49s\n",
            "336:\tlearn: 0.2282204\ttest: 0.5191677\tbest: 0.4815060 (78)\ttotal: 756ms\tremaining: 1.49s\n",
            "337:\tlearn: 0.2273763\ttest: 0.5188298\tbest: 0.4815060 (78)\ttotal: 758ms\tremaining: 1.48s\n",
            "338:\tlearn: 0.2270978\ttest: 0.5193996\tbest: 0.4815060 (78)\ttotal: 760ms\tremaining: 1.48s\n",
            "339:\tlearn: 0.2258521\ttest: 0.5204147\tbest: 0.4815060 (78)\ttotal: 762ms\tremaining: 1.48s\n",
            "340:\tlearn: 0.2250297\ttest: 0.5205232\tbest: 0.4815060 (78)\ttotal: 765ms\tremaining: 1.48s\n",
            "341:\tlearn: 0.2245304\ttest: 0.5205709\tbest: 0.4815060 (78)\ttotal: 767ms\tremaining: 1.48s\n",
            "342:\tlearn: 0.2236561\ttest: 0.5211195\tbest: 0.4815060 (78)\ttotal: 769ms\tremaining: 1.47s\n",
            "343:\tlearn: 0.2232816\ttest: 0.5215325\tbest: 0.4815060 (78)\ttotal: 773ms\tremaining: 1.47s\n",
            "344:\tlearn: 0.2231653\ttest: 0.5217769\tbest: 0.4815060 (78)\ttotal: 777ms\tremaining: 1.47s\n",
            "345:\tlearn: 0.2224641\ttest: 0.5216338\tbest: 0.4815060 (78)\ttotal: 779ms\tremaining: 1.47s\n",
            "346:\tlearn: 0.2223547\ttest: 0.5217376\tbest: 0.4815060 (78)\ttotal: 781ms\tremaining: 1.47s\n",
            "347:\tlearn: 0.2216435\ttest: 0.5214224\tbest: 0.4815060 (78)\ttotal: 784ms\tremaining: 1.47s\n",
            "348:\tlearn: 0.2205637\ttest: 0.5215513\tbest: 0.4815060 (78)\ttotal: 786ms\tremaining: 1.47s\n",
            "349:\tlearn: 0.2195716\ttest: 0.5217829\tbest: 0.4815060 (78)\ttotal: 788ms\tremaining: 1.46s\n",
            "350:\tlearn: 0.2191215\ttest: 0.5222748\tbest: 0.4815060 (78)\ttotal: 790ms\tremaining: 1.46s\n",
            "351:\tlearn: 0.2181735\ttest: 0.5219828\tbest: 0.4815060 (78)\ttotal: 793ms\tremaining: 1.46s\n",
            "352:\tlearn: 0.2175932\ttest: 0.5222230\tbest: 0.4815060 (78)\ttotal: 795ms\tremaining: 1.46s\n",
            "353:\tlearn: 0.2171198\ttest: 0.5220754\tbest: 0.4815060 (78)\ttotal: 797ms\tremaining: 1.45s\n",
            "354:\tlearn: 0.2168129\ttest: 0.5224848\tbest: 0.4815060 (78)\ttotal: 800ms\tremaining: 1.45s\n",
            "355:\tlearn: 0.2158896\ttest: 0.5221402\tbest: 0.4815060 (78)\ttotal: 802ms\tremaining: 1.45s\n",
            "356:\tlearn: 0.2144615\ttest: 0.5230557\tbest: 0.4815060 (78)\ttotal: 804ms\tremaining: 1.45s\n",
            "357:\tlearn: 0.2142656\ttest: 0.5231397\tbest: 0.4815060 (78)\ttotal: 806ms\tremaining: 1.45s\n",
            "358:\tlearn: 0.2136953\ttest: 0.5231585\tbest: 0.4815060 (78)\ttotal: 808ms\tremaining: 1.44s\n",
            "359:\tlearn: 0.2132228\ttest: 0.5229659\tbest: 0.4815060 (78)\ttotal: 811ms\tremaining: 1.44s\n",
            "360:\tlearn: 0.2128121\ttest: 0.5227456\tbest: 0.4815060 (78)\ttotal: 813ms\tremaining: 1.44s\n",
            "361:\tlearn: 0.2120521\ttest: 0.5224339\tbest: 0.4815060 (78)\ttotal: 815ms\tremaining: 1.44s\n",
            "362:\tlearn: 0.2111930\ttest: 0.5225049\tbest: 0.4815060 (78)\ttotal: 817ms\tremaining: 1.43s\n",
            "363:\tlearn: 0.2108992\ttest: 0.5224829\tbest: 0.4815060 (78)\ttotal: 820ms\tremaining: 1.43s\n",
            "364:\tlearn: 0.2106446\ttest: 0.5226365\tbest: 0.4815060 (78)\ttotal: 822ms\tremaining: 1.43s\n",
            "365:\tlearn: 0.2097231\ttest: 0.5234358\tbest: 0.4815060 (78)\ttotal: 824ms\tremaining: 1.43s\n",
            "366:\tlearn: 0.2088836\ttest: 0.5240220\tbest: 0.4815060 (78)\ttotal: 826ms\tremaining: 1.43s\n",
            "367:\tlearn: 0.2085893\ttest: 0.5239359\tbest: 0.4815060 (78)\ttotal: 828ms\tremaining: 1.42s\n",
            "368:\tlearn: 0.2084594\ttest: 0.5241516\tbest: 0.4815060 (78)\ttotal: 831ms\tremaining: 1.42s\n",
            "369:\tlearn: 0.2078290\ttest: 0.5249886\tbest: 0.4815060 (78)\ttotal: 833ms\tremaining: 1.42s\n",
            "370:\tlearn: 0.2068560\ttest: 0.5258525\tbest: 0.4815060 (78)\ttotal: 835ms\tremaining: 1.42s\n",
            "371:\tlearn: 0.2057003\ttest: 0.5262698\tbest: 0.4815060 (78)\ttotal: 837ms\tremaining: 1.41s\n",
            "372:\tlearn: 0.2055832\ttest: 0.5262548\tbest: 0.4815060 (78)\ttotal: 839ms\tremaining: 1.41s\n",
            "373:\tlearn: 0.2043008\ttest: 0.5272172\tbest: 0.4815060 (78)\ttotal: 842ms\tremaining: 1.41s\n",
            "374:\tlearn: 0.2033666\ttest: 0.5283839\tbest: 0.4815060 (78)\ttotal: 844ms\tremaining: 1.41s\n",
            "375:\tlearn: 0.2020501\ttest: 0.5289123\tbest: 0.4815060 (78)\ttotal: 846ms\tremaining: 1.4s\n",
            "376:\tlearn: 0.2017051\ttest: 0.5293510\tbest: 0.4815060 (78)\ttotal: 848ms\tremaining: 1.4s\n",
            "377:\tlearn: 0.2003887\ttest: 0.5305106\tbest: 0.4815060 (78)\ttotal: 851ms\tremaining: 1.4s\n",
            "378:\tlearn: 0.2003186\ttest: 0.5305165\tbest: 0.4815060 (78)\ttotal: 853ms\tremaining: 1.4s\n",
            "379:\tlearn: 0.1997333\ttest: 0.5303711\tbest: 0.4815060 (78)\ttotal: 855ms\tremaining: 1.4s\n",
            "380:\tlearn: 0.1991710\ttest: 0.5301296\tbest: 0.4815060 (78)\ttotal: 857ms\tremaining: 1.39s\n",
            "381:\tlearn: 0.1988424\ttest: 0.5303526\tbest: 0.4815060 (78)\ttotal: 860ms\tremaining: 1.39s\n",
            "382:\tlearn: 0.1979093\ttest: 0.5309801\tbest: 0.4815060 (78)\ttotal: 862ms\tremaining: 1.39s\n",
            "383:\tlearn: 0.1973051\ttest: 0.5312605\tbest: 0.4815060 (78)\ttotal: 864ms\tremaining: 1.39s\n",
            "384:\tlearn: 0.1964599\ttest: 0.5312307\tbest: 0.4815060 (78)\ttotal: 866ms\tremaining: 1.38s\n",
            "385:\tlearn: 0.1962096\ttest: 0.5312327\tbest: 0.4815060 (78)\ttotal: 869ms\tremaining: 1.38s\n",
            "386:\tlearn: 0.1957199\ttest: 0.5316240\tbest: 0.4815060 (78)\ttotal: 871ms\tremaining: 1.38s\n",
            "387:\tlearn: 0.1953004\ttest: 0.5317039\tbest: 0.4815060 (78)\ttotal: 873ms\tremaining: 1.38s\n",
            "388:\tlearn: 0.1950045\ttest: 0.5322165\tbest: 0.4815060 (78)\ttotal: 876ms\tremaining: 1.38s\n",
            "389:\tlearn: 0.1946482\ttest: 0.5325814\tbest: 0.4815060 (78)\ttotal: 878ms\tremaining: 1.37s\n",
            "390:\tlearn: 0.1941697\ttest: 0.5331179\tbest: 0.4815060 (78)\ttotal: 880ms\tremaining: 1.37s\n",
            "391:\tlearn: 0.1940464\ttest: 0.5332317\tbest: 0.4815060 (78)\ttotal: 882ms\tremaining: 1.37s\n",
            "392:\tlearn: 0.1935503\ttest: 0.5339466\tbest: 0.4815060 (78)\ttotal: 884ms\tremaining: 1.37s\n",
            "393:\tlearn: 0.1930543\ttest: 0.5346074\tbest: 0.4815060 (78)\ttotal: 887ms\tremaining: 1.36s\n",
            "394:\tlearn: 0.1928235\ttest: 0.5345886\tbest: 0.4815060 (78)\ttotal: 889ms\tremaining: 1.36s\n",
            "395:\tlearn: 0.1923920\ttest: 0.5345252\tbest: 0.4815060 (78)\ttotal: 891ms\tremaining: 1.36s\n",
            "396:\tlearn: 0.1923172\ttest: 0.5345286\tbest: 0.4815060 (78)\ttotal: 893ms\tremaining: 1.36s\n",
            "397:\tlearn: 0.1916656\ttest: 0.5340984\tbest: 0.4815060 (78)\ttotal: 896ms\tremaining: 1.35s\n",
            "398:\tlearn: 0.1903870\ttest: 0.5341430\tbest: 0.4815060 (78)\ttotal: 898ms\tremaining: 1.35s\n",
            "399:\tlearn: 0.1899139\ttest: 0.5342123\tbest: 0.4815060 (78)\ttotal: 900ms\tremaining: 1.35s\n",
            "400:\tlearn: 0.1895394\ttest: 0.5345475\tbest: 0.4815060 (78)\ttotal: 903ms\tremaining: 1.35s\n",
            "401:\tlearn: 0.1884775\ttest: 0.5355471\tbest: 0.4815060 (78)\ttotal: 905ms\tremaining: 1.34s\n",
            "402:\tlearn: 0.1879219\ttest: 0.5351828\tbest: 0.4815060 (78)\ttotal: 907ms\tremaining: 1.34s\n",
            "403:\tlearn: 0.1877660\ttest: 0.5350900\tbest: 0.4815060 (78)\ttotal: 909ms\tremaining: 1.34s\n",
            "404:\tlearn: 0.1876098\ttest: 0.5352490\tbest: 0.4815060 (78)\ttotal: 912ms\tremaining: 1.34s\n",
            "405:\tlearn: 0.1875396\ttest: 0.5351472\tbest: 0.4815060 (78)\ttotal: 914ms\tremaining: 1.34s\n",
            "406:\tlearn: 0.1874933\ttest: 0.5352961\tbest: 0.4815060 (78)\ttotal: 916ms\tremaining: 1.33s\n",
            "407:\tlearn: 0.1873559\ttest: 0.5356185\tbest: 0.4815060 (78)\ttotal: 918ms\tremaining: 1.33s\n",
            "408:\tlearn: 0.1869888\ttest: 0.5356884\tbest: 0.4815060 (78)\ttotal: 920ms\tremaining: 1.33s\n",
            "409:\tlearn: 0.1868239\ttest: 0.5354439\tbest: 0.4815060 (78)\ttotal: 922ms\tremaining: 1.33s\n",
            "410:\tlearn: 0.1858151\ttest: 0.5355178\tbest: 0.4815060 (78)\ttotal: 925ms\tremaining: 1.32s\n",
            "411:\tlearn: 0.1855627\ttest: 0.5354773\tbest: 0.4815060 (78)\ttotal: 927ms\tremaining: 1.32s\n",
            "412:\tlearn: 0.1853822\ttest: 0.5359126\tbest: 0.4815060 (78)\ttotal: 929ms\tremaining: 1.32s\n",
            "413:\tlearn: 0.1844616\ttest: 0.5366183\tbest: 0.4815060 (78)\ttotal: 931ms\tremaining: 1.32s\n",
            "414:\tlearn: 0.1841161\ttest: 0.5366859\tbest: 0.4815060 (78)\ttotal: 934ms\tremaining: 1.32s\n",
            "415:\tlearn: 0.1834260\ttest: 0.5369779\tbest: 0.4815060 (78)\ttotal: 936ms\tremaining: 1.31s\n",
            "416:\tlearn: 0.1832322\ttest: 0.5373481\tbest: 0.4815060 (78)\ttotal: 938ms\tremaining: 1.31s\n",
            "417:\tlearn: 0.1825769\ttest: 0.5376496\tbest: 0.4815060 (78)\ttotal: 940ms\tremaining: 1.31s\n",
            "418:\tlearn: 0.1817560\ttest: 0.5370749\tbest: 0.4815060 (78)\ttotal: 942ms\tremaining: 1.31s\n",
            "419:\tlearn: 0.1815521\ttest: 0.5370959\tbest: 0.4815060 (78)\ttotal: 944ms\tremaining: 1.3s\n",
            "420:\tlearn: 0.1811157\ttest: 0.5372798\tbest: 0.4815060 (78)\ttotal: 947ms\tremaining: 1.3s\n",
            "421:\tlearn: 0.1810680\ttest: 0.5373719\tbest: 0.4815060 (78)\ttotal: 949ms\tremaining: 1.3s\n",
            "422:\tlearn: 0.1808409\ttest: 0.5377509\tbest: 0.4815060 (78)\ttotal: 951ms\tremaining: 1.3s\n",
            "423:\tlearn: 0.1805548\ttest: 0.5378624\tbest: 0.4815060 (78)\ttotal: 954ms\tremaining: 1.29s\n",
            "424:\tlearn: 0.1798553\ttest: 0.5377986\tbest: 0.4815060 (78)\ttotal: 956ms\tremaining: 1.29s\n",
            "425:\tlearn: 0.1798099\ttest: 0.5378888\tbest: 0.4815060 (78)\ttotal: 958ms\tremaining: 1.29s\n",
            "426:\tlearn: 0.1797418\ttest: 0.5380382\tbest: 0.4815060 (78)\ttotal: 966ms\tremaining: 1.3s\n",
            "427:\tlearn: 0.1789036\ttest: 0.5386058\tbest: 0.4815060 (78)\ttotal: 969ms\tremaining: 1.29s\n",
            "428:\tlearn: 0.1782972\ttest: 0.5387464\tbest: 0.4815060 (78)\ttotal: 971ms\tremaining: 1.29s\n",
            "429:\tlearn: 0.1775024\ttest: 0.5393917\tbest: 0.4815060 (78)\ttotal: 974ms\tremaining: 1.29s\n",
            "430:\tlearn: 0.1772617\ttest: 0.5396116\tbest: 0.4815060 (78)\ttotal: 976ms\tremaining: 1.29s\n",
            "431:\tlearn: 0.1768169\ttest: 0.5401443\tbest: 0.4815060 (78)\ttotal: 978ms\tremaining: 1.29s\n",
            "432:\tlearn: 0.1767163\ttest: 0.5400909\tbest: 0.4815060 (78)\ttotal: 980ms\tremaining: 1.28s\n",
            "433:\tlearn: 0.1764556\ttest: 0.5401825\tbest: 0.4815060 (78)\ttotal: 983ms\tremaining: 1.28s\n",
            "434:\tlearn: 0.1760398\ttest: 0.5407578\tbest: 0.4815060 (78)\ttotal: 985ms\tremaining: 1.28s\n",
            "435:\tlearn: 0.1757305\ttest: 0.5406773\tbest: 0.4815060 (78)\ttotal: 987ms\tremaining: 1.28s\n",
            "436:\tlearn: 0.1753763\ttest: 0.5412788\tbest: 0.4815060 (78)\ttotal: 989ms\tremaining: 1.27s\n",
            "437:\tlearn: 0.1747025\ttest: 0.5417705\tbest: 0.4815060 (78)\ttotal: 992ms\tremaining: 1.27s\n",
            "438:\tlearn: 0.1746611\ttest: 0.5418507\tbest: 0.4815060 (78)\ttotal: 994ms\tremaining: 1.27s\n",
            "439:\tlearn: 0.1745351\ttest: 0.5419166\tbest: 0.4815060 (78)\ttotal: 997ms\tremaining: 1.27s\n",
            "440:\tlearn: 0.1744437\ttest: 0.5419587\tbest: 0.4815060 (78)\ttotal: 1000ms\tremaining: 1.27s\n",
            "441:\tlearn: 0.1739268\ttest: 0.5430967\tbest: 0.4815060 (78)\ttotal: 1s\tremaining: 1.26s\n",
            "442:\tlearn: 0.1729767\ttest: 0.5441415\tbest: 0.4815060 (78)\ttotal: 1s\tremaining: 1.26s\n",
            "443:\tlearn: 0.1726517\ttest: 0.5444226\tbest: 0.4815060 (78)\ttotal: 1.01s\tremaining: 1.26s\n",
            "444:\tlearn: 0.1721267\ttest: 0.5445050\tbest: 0.4815060 (78)\ttotal: 1.01s\tremaining: 1.26s\n",
            "445:\tlearn: 0.1715793\ttest: 0.5440201\tbest: 0.4815060 (78)\ttotal: 1.01s\tremaining: 1.25s\n",
            "446:\tlearn: 0.1709535\ttest: 0.5449834\tbest: 0.4815060 (78)\ttotal: 1.01s\tremaining: 1.25s\n",
            "447:\tlearn: 0.1700270\ttest: 0.5451528\tbest: 0.4815060 (78)\ttotal: 1.01s\tremaining: 1.25s\n",
            "448:\tlearn: 0.1694096\ttest: 0.5454411\tbest: 0.4815060 (78)\ttotal: 1.02s\tremaining: 1.25s\n",
            "449:\tlearn: 0.1688854\ttest: 0.5456450\tbest: 0.4815060 (78)\ttotal: 1.02s\tremaining: 1.25s\n",
            "450:\tlearn: 0.1680499\ttest: 0.5452784\tbest: 0.4815060 (78)\ttotal: 1.02s\tremaining: 1.25s\n",
            "451:\tlearn: 0.1676736\ttest: 0.5451313\tbest: 0.4815060 (78)\ttotal: 1.02s\tremaining: 1.24s\n",
            "452:\tlearn: 0.1667605\ttest: 0.5456618\tbest: 0.4815060 (78)\ttotal: 1.03s\tremaining: 1.24s\n",
            "453:\tlearn: 0.1662270\ttest: 0.5464310\tbest: 0.4815060 (78)\ttotal: 1.03s\tremaining: 1.24s\n",
            "454:\tlearn: 0.1661064\ttest: 0.5464733\tbest: 0.4815060 (78)\ttotal: 1.03s\tremaining: 1.23s\n",
            "455:\tlearn: 0.1660794\ttest: 0.5465516\tbest: 0.4815060 (78)\ttotal: 1.03s\tremaining: 1.23s\n",
            "456:\tlearn: 0.1660222\ttest: 0.5465978\tbest: 0.4815060 (78)\ttotal: 1.03s\tremaining: 1.23s\n",
            "457:\tlearn: 0.1657159\ttest: 0.5468667\tbest: 0.4815060 (78)\ttotal: 1.04s\tremaining: 1.23s\n",
            "458:\tlearn: 0.1648759\ttest: 0.5458261\tbest: 0.4815060 (78)\ttotal: 1.04s\tremaining: 1.23s\n",
            "459:\tlearn: 0.1648246\ttest: 0.5457933\tbest: 0.4815060 (78)\ttotal: 1.04s\tremaining: 1.22s\n",
            "460:\tlearn: 0.1645938\ttest: 0.5457735\tbest: 0.4815060 (78)\ttotal: 1.04s\tremaining: 1.22s\n",
            "461:\tlearn: 0.1639836\ttest: 0.5452412\tbest: 0.4815060 (78)\ttotal: 1.05s\tremaining: 1.22s\n",
            "462:\tlearn: 0.1638566\ttest: 0.5452706\tbest: 0.4815060 (78)\ttotal: 1.05s\tremaining: 1.22s\n",
            "463:\tlearn: 0.1634974\ttest: 0.5451356\tbest: 0.4815060 (78)\ttotal: 1.05s\tremaining: 1.21s\n",
            "464:\tlearn: 0.1633532\ttest: 0.5452128\tbest: 0.4815060 (78)\ttotal: 1.05s\tremaining: 1.21s\n",
            "465:\tlearn: 0.1632227\ttest: 0.5452210\tbest: 0.4815060 (78)\ttotal: 1.06s\tremaining: 1.21s\n",
            "466:\tlearn: 0.1624521\ttest: 0.5454893\tbest: 0.4815060 (78)\ttotal: 1.06s\tremaining: 1.21s\n",
            "467:\tlearn: 0.1618685\ttest: 0.5456010\tbest: 0.4815060 (78)\ttotal: 1.06s\tremaining: 1.21s\n",
            "468:\tlearn: 0.1617583\ttest: 0.5457988\tbest: 0.4815060 (78)\ttotal: 1.06s\tremaining: 1.2s\n",
            "469:\tlearn: 0.1615416\ttest: 0.5463705\tbest: 0.4815060 (78)\ttotal: 1.06s\tremaining: 1.2s\n",
            "470:\tlearn: 0.1613356\ttest: 0.5469358\tbest: 0.4815060 (78)\ttotal: 1.07s\tremaining: 1.2s\n",
            "471:\tlearn: 0.1611238\ttest: 0.5472622\tbest: 0.4815060 (78)\ttotal: 1.07s\tremaining: 1.2s\n",
            "472:\tlearn: 0.1605838\ttest: 0.5477428\tbest: 0.4815060 (78)\ttotal: 1.07s\tremaining: 1.19s\n",
            "473:\tlearn: 0.1603665\ttest: 0.5482442\tbest: 0.4815060 (78)\ttotal: 1.07s\tremaining: 1.19s\n",
            "474:\tlearn: 0.1600792\ttest: 0.5487330\tbest: 0.4815060 (78)\ttotal: 1.08s\tremaining: 1.19s\n",
            "475:\tlearn: 0.1597152\ttest: 0.5496288\tbest: 0.4815060 (78)\ttotal: 1.08s\tremaining: 1.19s\n",
            "476:\tlearn: 0.1593560\ttest: 0.5503948\tbest: 0.4815060 (78)\ttotal: 1.08s\tremaining: 1.19s\n",
            "477:\tlearn: 0.1588687\ttest: 0.5509554\tbest: 0.4815060 (78)\ttotal: 1.08s\tremaining: 1.18s\n",
            "478:\tlearn: 0.1586718\ttest: 0.5508047\tbest: 0.4815060 (78)\ttotal: 1.08s\tremaining: 1.18s\n",
            "479:\tlearn: 0.1585301\ttest: 0.5509782\tbest: 0.4815060 (78)\ttotal: 1.09s\tremaining: 1.18s\n",
            "480:\tlearn: 0.1580795\ttest: 0.5507321\tbest: 0.4815060 (78)\ttotal: 1.09s\tremaining: 1.18s\n",
            "481:\tlearn: 0.1573948\ttest: 0.5511683\tbest: 0.4815060 (78)\ttotal: 1.09s\tremaining: 1.17s\n",
            "482:\tlearn: 0.1568745\ttest: 0.5511879\tbest: 0.4815060 (78)\ttotal: 1.09s\tremaining: 1.17s\n",
            "483:\tlearn: 0.1565337\ttest: 0.5511152\tbest: 0.4815060 (78)\ttotal: 1.1s\tremaining: 1.17s\n",
            "484:\tlearn: 0.1560755\ttest: 0.5510269\tbest: 0.4815060 (78)\ttotal: 1.1s\tremaining: 1.17s\n",
            "485:\tlearn: 0.1557449\ttest: 0.5519425\tbest: 0.4815060 (78)\ttotal: 1.1s\tremaining: 1.17s\n",
            "486:\tlearn: 0.1555853\ttest: 0.5518766\tbest: 0.4815060 (78)\ttotal: 1.1s\tremaining: 1.16s\n",
            "487:\tlearn: 0.1554132\ttest: 0.5518341\tbest: 0.4815060 (78)\ttotal: 1.11s\tremaining: 1.16s\n",
            "488:\tlearn: 0.1551413\ttest: 0.5520310\tbest: 0.4815060 (78)\ttotal: 1.11s\tremaining: 1.16s\n",
            "489:\tlearn: 0.1547244\ttest: 0.5519153\tbest: 0.4815060 (78)\ttotal: 1.11s\tremaining: 1.16s\n",
            "490:\tlearn: 0.1545932\ttest: 0.5517965\tbest: 0.4815060 (78)\ttotal: 1.11s\tremaining: 1.15s\n",
            "491:\tlearn: 0.1545107\ttest: 0.5519878\tbest: 0.4815060 (78)\ttotal: 1.11s\tremaining: 1.15s\n",
            "492:\tlearn: 0.1544020\ttest: 0.5521608\tbest: 0.4815060 (78)\ttotal: 1.12s\tremaining: 1.15s\n",
            "493:\tlearn: 0.1537584\ttest: 0.5519154\tbest: 0.4815060 (78)\ttotal: 1.12s\tremaining: 1.15s\n",
            "494:\tlearn: 0.1531954\ttest: 0.5520646\tbest: 0.4815060 (78)\ttotal: 1.12s\tremaining: 1.14s\n",
            "495:\tlearn: 0.1531453\ttest: 0.5522151\tbest: 0.4815060 (78)\ttotal: 1.12s\tremaining: 1.14s\n",
            "496:\tlearn: 0.1524707\ttest: 0.5522463\tbest: 0.4815060 (78)\ttotal: 1.13s\tremaining: 1.14s\n",
            "497:\tlearn: 0.1522611\ttest: 0.5522317\tbest: 0.4815060 (78)\ttotal: 1.13s\tremaining: 1.14s\n",
            "498:\tlearn: 0.1519870\ttest: 0.5523632\tbest: 0.4815060 (78)\ttotal: 1.13s\tremaining: 1.14s\n",
            "499:\tlearn: 0.1517327\ttest: 0.5526998\tbest: 0.4815060 (78)\ttotal: 1.13s\tremaining: 1.13s\n",
            "500:\tlearn: 0.1516794\ttest: 0.5528222\tbest: 0.4815060 (78)\ttotal: 1.14s\tremaining: 1.13s\n",
            "501:\tlearn: 0.1514068\ttest: 0.5533885\tbest: 0.4815060 (78)\ttotal: 1.14s\tremaining: 1.13s\n",
            "502:\tlearn: 0.1509862\ttest: 0.5534504\tbest: 0.4815060 (78)\ttotal: 1.14s\tremaining: 1.13s\n",
            "503:\tlearn: 0.1506552\ttest: 0.5532646\tbest: 0.4815060 (78)\ttotal: 1.14s\tremaining: 1.12s\n",
            "504:\tlearn: 0.1499300\ttest: 0.5528439\tbest: 0.4815060 (78)\ttotal: 1.14s\tremaining: 1.12s\n",
            "505:\tlearn: 0.1496408\ttest: 0.5527456\tbest: 0.4815060 (78)\ttotal: 1.15s\tremaining: 1.12s\n",
            "506:\tlearn: 0.1493868\ttest: 0.5528367\tbest: 0.4815060 (78)\ttotal: 1.15s\tremaining: 1.12s\n",
            "507:\tlearn: 0.1490015\ttest: 0.5529581\tbest: 0.4815060 (78)\ttotal: 1.15s\tremaining: 1.11s\n",
            "508:\tlearn: 0.1487142\ttest: 0.5533214\tbest: 0.4815060 (78)\ttotal: 1.15s\tremaining: 1.11s\n",
            "509:\tlearn: 0.1483652\ttest: 0.5536596\tbest: 0.4815060 (78)\ttotal: 1.16s\tremaining: 1.11s\n",
            "510:\tlearn: 0.1480518\ttest: 0.5542613\tbest: 0.4815060 (78)\ttotal: 1.16s\tremaining: 1.11s\n",
            "511:\tlearn: 0.1475328\ttest: 0.5545124\tbest: 0.4815060 (78)\ttotal: 1.16s\tremaining: 1.11s\n",
            "512:\tlearn: 0.1469508\ttest: 0.5548482\tbest: 0.4815060 (78)\ttotal: 1.17s\tremaining: 1.11s\n",
            "513:\tlearn: 0.1464036\ttest: 0.5555973\tbest: 0.4815060 (78)\ttotal: 1.17s\tremaining: 1.1s\n",
            "514:\tlearn: 0.1460169\ttest: 0.5555972\tbest: 0.4815060 (78)\ttotal: 1.17s\tremaining: 1.1s\n",
            "515:\tlearn: 0.1453953\ttest: 0.5554894\tbest: 0.4815060 (78)\ttotal: 1.17s\tremaining: 1.1s\n",
            "516:\tlearn: 0.1450155\ttest: 0.5556452\tbest: 0.4815060 (78)\ttotal: 1.17s\tremaining: 1.1s\n",
            "517:\tlearn: 0.1449672\ttest: 0.5555543\tbest: 0.4815060 (78)\ttotal: 1.18s\tremaining: 1.09s\n",
            "518:\tlearn: 0.1445235\ttest: 0.5551402\tbest: 0.4815060 (78)\ttotal: 1.18s\tremaining: 1.09s\n",
            "519:\tlearn: 0.1439436\ttest: 0.5551021\tbest: 0.4815060 (78)\ttotal: 1.18s\tremaining: 1.09s\n",
            "520:\tlearn: 0.1438818\ttest: 0.5551629\tbest: 0.4815060 (78)\ttotal: 1.18s\tremaining: 1.09s\n",
            "521:\tlearn: 0.1435449\ttest: 0.5552189\tbest: 0.4815060 (78)\ttotal: 1.19s\tremaining: 1.08s\n",
            "522:\tlearn: 0.1429813\ttest: 0.5558801\tbest: 0.4815060 (78)\ttotal: 1.19s\tremaining: 1.08s\n",
            "523:\tlearn: 0.1429189\ttest: 0.5560721\tbest: 0.4815060 (78)\ttotal: 1.19s\tremaining: 1.08s\n",
            "524:\tlearn: 0.1425755\ttest: 0.5560739\tbest: 0.4815060 (78)\ttotal: 1.19s\tremaining: 1.08s\n",
            "525:\tlearn: 0.1422456\ttest: 0.5560484\tbest: 0.4815060 (78)\ttotal: 1.19s\tremaining: 1.08s\n",
            "526:\tlearn: 0.1416505\ttest: 0.5559431\tbest: 0.4815060 (78)\ttotal: 1.2s\tremaining: 1.07s\n",
            "527:\tlearn: 0.1415035\ttest: 0.5562295\tbest: 0.4815060 (78)\ttotal: 1.2s\tremaining: 1.07s\n",
            "528:\tlearn: 0.1412807\ttest: 0.5563333\tbest: 0.4815060 (78)\ttotal: 1.2s\tremaining: 1.07s\n",
            "529:\tlearn: 0.1411133\ttest: 0.5562771\tbest: 0.4815060 (78)\ttotal: 1.2s\tremaining: 1.07s\n",
            "530:\tlearn: 0.1407724\ttest: 0.5565132\tbest: 0.4815060 (78)\ttotal: 1.21s\tremaining: 1.06s\n",
            "531:\tlearn: 0.1407403\ttest: 0.5565527\tbest: 0.4815060 (78)\ttotal: 1.21s\tremaining: 1.06s\n",
            "532:\tlearn: 0.1406547\ttest: 0.5565578\tbest: 0.4815060 (78)\ttotal: 1.21s\tremaining: 1.06s\n",
            "533:\tlearn: 0.1403805\ttest: 0.5565460\tbest: 0.4815060 (78)\ttotal: 1.21s\tremaining: 1.06s\n",
            "534:\tlearn: 0.1402962\ttest: 0.5565079\tbest: 0.4815060 (78)\ttotal: 1.21s\tremaining: 1.05s\n",
            "535:\tlearn: 0.1400900\ttest: 0.5571209\tbest: 0.4815060 (78)\ttotal: 1.22s\tremaining: 1.05s\n",
            "536:\tlearn: 0.1397049\ttest: 0.5573837\tbest: 0.4815060 (78)\ttotal: 1.22s\tremaining: 1.05s\n",
            "537:\tlearn: 0.1392199\ttest: 0.5574138\tbest: 0.4815060 (78)\ttotal: 1.22s\tremaining: 1.05s\n",
            "538:\tlearn: 0.1390049\ttest: 0.5577829\tbest: 0.4815060 (78)\ttotal: 1.22s\tremaining: 1.05s\n",
            "539:\tlearn: 0.1386069\ttest: 0.5578991\tbest: 0.4815060 (78)\ttotal: 1.23s\tremaining: 1.04s\n",
            "540:\tlearn: 0.1384760\ttest: 0.5580741\tbest: 0.4815060 (78)\ttotal: 1.23s\tremaining: 1.04s\n",
            "541:\tlearn: 0.1382845\ttest: 0.5584543\tbest: 0.4815060 (78)\ttotal: 1.23s\tremaining: 1.04s\n",
            "542:\tlearn: 0.1381339\ttest: 0.5583939\tbest: 0.4815060 (78)\ttotal: 1.23s\tremaining: 1.04s\n",
            "543:\tlearn: 0.1378039\ttest: 0.5584978\tbest: 0.4815060 (78)\ttotal: 1.24s\tremaining: 1.03s\n",
            "544:\tlearn: 0.1373606\ttest: 0.5590343\tbest: 0.4815060 (78)\ttotal: 1.24s\tremaining: 1.03s\n",
            "545:\tlearn: 0.1369420\ttest: 0.5592986\tbest: 0.4815060 (78)\ttotal: 1.24s\tremaining: 1.03s\n",
            "546:\tlearn: 0.1366109\ttest: 0.5586228\tbest: 0.4815060 (78)\ttotal: 1.24s\tremaining: 1.03s\n",
            "547:\tlearn: 0.1363640\ttest: 0.5588660\tbest: 0.4815060 (78)\ttotal: 1.24s\tremaining: 1.03s\n",
            "548:\tlearn: 0.1360896\ttest: 0.5589801\tbest: 0.4815060 (78)\ttotal: 1.25s\tremaining: 1.02s\n",
            "549:\tlearn: 0.1358221\ttest: 0.5594108\tbest: 0.4815060 (78)\ttotal: 1.25s\tremaining: 1.02s\n",
            "550:\tlearn: 0.1352501\ttest: 0.5597847\tbest: 0.4815060 (78)\ttotal: 1.25s\tremaining: 1.02s\n",
            "551:\tlearn: 0.1348364\ttest: 0.5598916\tbest: 0.4815060 (78)\ttotal: 1.25s\tremaining: 1.02s\n",
            "552:\tlearn: 0.1344376\ttest: 0.5599802\tbest: 0.4815060 (78)\ttotal: 1.25s\tremaining: 1.01s\n",
            "553:\tlearn: 0.1339524\ttest: 0.5603598\tbest: 0.4815060 (78)\ttotal: 1.26s\tremaining: 1.01s\n",
            "554:\tlearn: 0.1339243\ttest: 0.5606240\tbest: 0.4815060 (78)\ttotal: 1.26s\tremaining: 1.01s\n",
            "555:\tlearn: 0.1337088\ttest: 0.5606424\tbest: 0.4815060 (78)\ttotal: 1.26s\tremaining: 1.01s\n",
            "556:\tlearn: 0.1335393\ttest: 0.5609163\tbest: 0.4815060 (78)\ttotal: 1.26s\tremaining: 1.01s\n",
            "557:\tlearn: 0.1332808\ttest: 0.5607865\tbest: 0.4815060 (78)\ttotal: 1.27s\tremaining: 1s\n",
            "558:\tlearn: 0.1331273\ttest: 0.5606163\tbest: 0.4815060 (78)\ttotal: 1.27s\tremaining: 1s\n",
            "559:\tlearn: 0.1330109\ttest: 0.5606502\tbest: 0.4815060 (78)\ttotal: 1.27s\tremaining: 999ms\n",
            "560:\tlearn: 0.1327860\ttest: 0.5611340\tbest: 0.4815060 (78)\ttotal: 1.27s\tremaining: 997ms\n",
            "561:\tlearn: 0.1325622\ttest: 0.5615790\tbest: 0.4815060 (78)\ttotal: 1.28s\tremaining: 995ms\n",
            "562:\tlearn: 0.1323910\ttest: 0.5623669\tbest: 0.4815060 (78)\ttotal: 1.28s\tremaining: 992ms\n",
            "563:\tlearn: 0.1321510\ttest: 0.5621855\tbest: 0.4815060 (78)\ttotal: 1.28s\tremaining: 990ms\n",
            "564:\tlearn: 0.1320096\ttest: 0.5622666\tbest: 0.4815060 (78)\ttotal: 1.28s\tremaining: 988ms\n",
            "565:\tlearn: 0.1316872\ttest: 0.5624729\tbest: 0.4815060 (78)\ttotal: 1.28s\tremaining: 985ms\n",
            "566:\tlearn: 0.1312890\ttest: 0.5627859\tbest: 0.4815060 (78)\ttotal: 1.29s\tremaining: 983ms\n",
            "567:\tlearn: 0.1311969\ttest: 0.5628445\tbest: 0.4815060 (78)\ttotal: 1.29s\tremaining: 981ms\n",
            "568:\tlearn: 0.1306811\ttest: 0.5628555\tbest: 0.4815060 (78)\ttotal: 1.29s\tremaining: 979ms\n",
            "569:\tlearn: 0.1305602\ttest: 0.5631347\tbest: 0.4815060 (78)\ttotal: 1.29s\tremaining: 977ms\n",
            "570:\tlearn: 0.1304054\ttest: 0.5635020\tbest: 0.4815060 (78)\ttotal: 1.3s\tremaining: 974ms\n",
            "571:\tlearn: 0.1296146\ttest: 0.5639694\tbest: 0.4815060 (78)\ttotal: 1.3s\tremaining: 972ms\n",
            "572:\tlearn: 0.1293035\ttest: 0.5639866\tbest: 0.4815060 (78)\ttotal: 1.3s\tremaining: 970ms\n",
            "573:\tlearn: 0.1289293\ttest: 0.5642359\tbest: 0.4815060 (78)\ttotal: 1.3s\tremaining: 968ms\n",
            "574:\tlearn: 0.1288958\ttest: 0.5643063\tbest: 0.4815060 (78)\ttotal: 1.31s\tremaining: 967ms\n",
            "575:\tlearn: 0.1285592\ttest: 0.5644305\tbest: 0.4815060 (78)\ttotal: 1.31s\tremaining: 965ms\n",
            "576:\tlearn: 0.1283688\ttest: 0.5640936\tbest: 0.4815060 (78)\ttotal: 1.31s\tremaining: 963ms\n",
            "577:\tlearn: 0.1282716\ttest: 0.5642635\tbest: 0.4815060 (78)\ttotal: 1.32s\tremaining: 961ms\n",
            "578:\tlearn: 0.1279296\ttest: 0.5645150\tbest: 0.4815060 (78)\ttotal: 1.32s\tremaining: 959ms\n",
            "579:\tlearn: 0.1278571\ttest: 0.5644825\tbest: 0.4815060 (78)\ttotal: 1.32s\tremaining: 956ms\n",
            "580:\tlearn: 0.1274248\ttest: 0.5643698\tbest: 0.4815060 (78)\ttotal: 1.32s\tremaining: 954ms\n",
            "581:\tlearn: 0.1270818\ttest: 0.5649719\tbest: 0.4815060 (78)\ttotal: 1.32s\tremaining: 952ms\n",
            "582:\tlearn: 0.1268536\ttest: 0.5651831\tbest: 0.4815060 (78)\ttotal: 1.33s\tremaining: 950ms\n",
            "583:\tlearn: 0.1267966\ttest: 0.5652417\tbest: 0.4815060 (78)\ttotal: 1.33s\tremaining: 947ms\n",
            "584:\tlearn: 0.1262095\ttest: 0.5659450\tbest: 0.4815060 (78)\ttotal: 1.33s\tremaining: 945ms\n",
            "585:\tlearn: 0.1258664\ttest: 0.5662711\tbest: 0.4815060 (78)\ttotal: 1.33s\tremaining: 943ms\n",
            "586:\tlearn: 0.1254444\ttest: 0.5663101\tbest: 0.4815060 (78)\ttotal: 1.34s\tremaining: 941ms\n",
            "587:\tlearn: 0.1248371\ttest: 0.5668308\tbest: 0.4815060 (78)\ttotal: 1.34s\tremaining: 939ms\n",
            "588:\tlearn: 0.1247726\ttest: 0.5670929\tbest: 0.4815060 (78)\ttotal: 1.34s\tremaining: 937ms\n",
            "589:\tlearn: 0.1246604\ttest: 0.5672469\tbest: 0.4815060 (78)\ttotal: 1.36s\tremaining: 943ms\n",
            "590:\tlearn: 0.1245510\ttest: 0.5673698\tbest: 0.4815060 (78)\ttotal: 1.36s\tremaining: 941ms\n",
            "591:\tlearn: 0.1243339\ttest: 0.5676001\tbest: 0.4815060 (78)\ttotal: 1.36s\tremaining: 938ms\n",
            "592:\tlearn: 0.1242693\ttest: 0.5676947\tbest: 0.4815060 (78)\ttotal: 1.36s\tremaining: 936ms\n",
            "593:\tlearn: 0.1242224\ttest: 0.5675229\tbest: 0.4815060 (78)\ttotal: 1.37s\tremaining: 934ms\n",
            "594:\tlearn: 0.1239968\ttest: 0.5672734\tbest: 0.4815060 (78)\ttotal: 1.37s\tremaining: 931ms\n",
            "595:\tlearn: 0.1237088\ttest: 0.5674174\tbest: 0.4815060 (78)\ttotal: 1.37s\tremaining: 929ms\n",
            "596:\tlearn: 0.1236678\ttest: 0.5674915\tbest: 0.4815060 (78)\ttotal: 1.37s\tremaining: 927ms\n",
            "597:\tlearn: 0.1235535\ttest: 0.5676597\tbest: 0.4815060 (78)\ttotal: 1.38s\tremaining: 925ms\n",
            "598:\tlearn: 0.1233138\ttest: 0.5677098\tbest: 0.4815060 (78)\ttotal: 1.38s\tremaining: 922ms\n",
            "599:\tlearn: 0.1230653\ttest: 0.5678856\tbest: 0.4815060 (78)\ttotal: 1.38s\tremaining: 920ms\n",
            "600:\tlearn: 0.1230198\ttest: 0.5678734\tbest: 0.4815060 (78)\ttotal: 1.38s\tremaining: 918ms\n",
            "601:\tlearn: 0.1226758\ttest: 0.5675531\tbest: 0.4815060 (78)\ttotal: 1.38s\tremaining: 915ms\n",
            "602:\tlearn: 0.1222707\ttest: 0.5675369\tbest: 0.4815060 (78)\ttotal: 1.39s\tremaining: 913ms\n",
            "603:\tlearn: 0.1220320\ttest: 0.5682783\tbest: 0.4815060 (78)\ttotal: 1.39s\tremaining: 911ms\n",
            "604:\tlearn: 0.1219428\ttest: 0.5683780\tbest: 0.4815060 (78)\ttotal: 1.39s\tremaining: 909ms\n",
            "605:\tlearn: 0.1217752\ttest: 0.5687632\tbest: 0.4815060 (78)\ttotal: 1.39s\tremaining: 907ms\n",
            "606:\tlearn: 0.1214242\ttest: 0.5689183\tbest: 0.4815060 (78)\ttotal: 1.4s\tremaining: 904ms\n",
            "607:\tlearn: 0.1211618\ttest: 0.5691332\tbest: 0.4815060 (78)\ttotal: 1.4s\tremaining: 902ms\n",
            "608:\tlearn: 0.1208765\ttest: 0.5693033\tbest: 0.4815060 (78)\ttotal: 1.4s\tremaining: 900ms\n",
            "609:\tlearn: 0.1205133\ttest: 0.5700398\tbest: 0.4815060 (78)\ttotal: 1.4s\tremaining: 898ms\n",
            "610:\tlearn: 0.1203677\ttest: 0.5697163\tbest: 0.4815060 (78)\ttotal: 1.41s\tremaining: 895ms\n",
            "611:\tlearn: 0.1203361\ttest: 0.5697908\tbest: 0.4815060 (78)\ttotal: 1.41s\tremaining: 893ms\n",
            "612:\tlearn: 0.1200753\ttest: 0.5696868\tbest: 0.4815060 (78)\ttotal: 1.41s\tremaining: 891ms\n",
            "613:\tlearn: 0.1196224\ttest: 0.5703884\tbest: 0.4815060 (78)\ttotal: 1.41s\tremaining: 889ms\n",
            "614:\tlearn: 0.1194680\ttest: 0.5701492\tbest: 0.4815060 (78)\ttotal: 1.42s\tremaining: 886ms\n",
            "615:\tlearn: 0.1191397\ttest: 0.5699025\tbest: 0.4815060 (78)\ttotal: 1.42s\tremaining: 884ms\n",
            "616:\tlearn: 0.1188691\ttest: 0.5700496\tbest: 0.4815060 (78)\ttotal: 1.42s\tremaining: 882ms\n",
            "617:\tlearn: 0.1187116\ttest: 0.5700735\tbest: 0.4815060 (78)\ttotal: 1.42s\tremaining: 880ms\n",
            "618:\tlearn: 0.1184352\ttest: 0.5699351\tbest: 0.4815060 (78)\ttotal: 1.43s\tremaining: 877ms\n",
            "619:\tlearn: 0.1183223\ttest: 0.5701508\tbest: 0.4815060 (78)\ttotal: 1.43s\tremaining: 875ms\n",
            "620:\tlearn: 0.1182183\ttest: 0.5701368\tbest: 0.4815060 (78)\ttotal: 1.43s\tremaining: 873ms\n",
            "621:\tlearn: 0.1180765\ttest: 0.5701023\tbest: 0.4815060 (78)\ttotal: 1.43s\tremaining: 870ms\n",
            "622:\tlearn: 0.1180166\ttest: 0.5701887\tbest: 0.4815060 (78)\ttotal: 1.43s\tremaining: 868ms\n",
            "623:\tlearn: 0.1179764\ttest: 0.5702593\tbest: 0.4815060 (78)\ttotal: 1.44s\tremaining: 865ms\n",
            "624:\tlearn: 0.1178150\ttest: 0.5707705\tbest: 0.4815060 (78)\ttotal: 1.44s\tremaining: 863ms\n",
            "625:\tlearn: 0.1175154\ttest: 0.5702136\tbest: 0.4815060 (78)\ttotal: 1.44s\tremaining: 861ms\n",
            "626:\tlearn: 0.1171282\ttest: 0.5707239\tbest: 0.4815060 (78)\ttotal: 1.44s\tremaining: 858ms\n",
            "627:\tlearn: 0.1169573\ttest: 0.5706832\tbest: 0.4815060 (78)\ttotal: 1.45s\tremaining: 856ms\n",
            "628:\tlearn: 0.1164356\ttest: 0.5707212\tbest: 0.4815060 (78)\ttotal: 1.45s\tremaining: 854ms\n",
            "629:\tlearn: 0.1162811\ttest: 0.5708474\tbest: 0.4815060 (78)\ttotal: 1.45s\tremaining: 851ms\n",
            "630:\tlearn: 0.1162022\ttest: 0.5710182\tbest: 0.4815060 (78)\ttotal: 1.45s\tremaining: 849ms\n",
            "631:\tlearn: 0.1157109\ttest: 0.5710600\tbest: 0.4815060 (78)\ttotal: 1.45s\tremaining: 846ms\n",
            "632:\tlearn: 0.1153432\ttest: 0.5712231\tbest: 0.4815060 (78)\ttotal: 1.46s\tremaining: 844ms\n",
            "633:\tlearn: 0.1151023\ttest: 0.5710416\tbest: 0.4815060 (78)\ttotal: 1.46s\tremaining: 842ms\n",
            "634:\tlearn: 0.1147902\ttest: 0.5715432\tbest: 0.4815060 (78)\ttotal: 1.46s\tremaining: 840ms\n",
            "635:\tlearn: 0.1143414\ttest: 0.5721469\tbest: 0.4815060 (78)\ttotal: 1.46s\tremaining: 837ms\n",
            "636:\tlearn: 0.1143277\ttest: 0.5721572\tbest: 0.4815060 (78)\ttotal: 1.47s\tremaining: 835ms\n",
            "637:\tlearn: 0.1141753\ttest: 0.5720938\tbest: 0.4815060 (78)\ttotal: 1.47s\tremaining: 833ms\n",
            "638:\tlearn: 0.1139820\ttest: 0.5721828\tbest: 0.4815060 (78)\ttotal: 1.47s\tremaining: 831ms\n",
            "639:\tlearn: 0.1137412\ttest: 0.5721399\tbest: 0.4815060 (78)\ttotal: 1.48s\tremaining: 830ms\n",
            "640:\tlearn: 0.1134599\ttest: 0.5723952\tbest: 0.4815060 (78)\ttotal: 1.48s\tremaining: 828ms\n",
            "641:\tlearn: 0.1131824\ttest: 0.5722051\tbest: 0.4815060 (78)\ttotal: 1.48s\tremaining: 827ms\n",
            "642:\tlearn: 0.1131167\ttest: 0.5723591\tbest: 0.4815060 (78)\ttotal: 1.49s\tremaining: 825ms\n",
            "643:\tlearn: 0.1127740\ttest: 0.5728005\tbest: 0.4815060 (78)\ttotal: 1.49s\tremaining: 823ms\n",
            "644:\tlearn: 0.1124107\ttest: 0.5728995\tbest: 0.4815060 (78)\ttotal: 1.49s\tremaining: 820ms\n",
            "645:\tlearn: 0.1122027\ttest: 0.5728722\tbest: 0.4815060 (78)\ttotal: 1.49s\tremaining: 818ms\n",
            "646:\tlearn: 0.1121803\ttest: 0.5730128\tbest: 0.4815060 (78)\ttotal: 1.49s\tremaining: 816ms\n",
            "647:\tlearn: 0.1119329\ttest: 0.5733633\tbest: 0.4815060 (78)\ttotal: 1.5s\tremaining: 813ms\n",
            "648:\tlearn: 0.1117648\ttest: 0.5738734\tbest: 0.4815060 (78)\ttotal: 1.5s\tremaining: 811ms\n",
            "649:\tlearn: 0.1117028\ttest: 0.5740736\tbest: 0.4815060 (78)\ttotal: 1.5s\tremaining: 809ms\n",
            "650:\tlearn: 0.1116385\ttest: 0.5741645\tbest: 0.4815060 (78)\ttotal: 1.5s\tremaining: 806ms\n",
            "651:\tlearn: 0.1114784\ttest: 0.5741376\tbest: 0.4815060 (78)\ttotal: 1.51s\tremaining: 804ms\n",
            "652:\tlearn: 0.1111507\ttest: 0.5747667\tbest: 0.4815060 (78)\ttotal: 1.51s\tremaining: 802ms\n",
            "653:\tlearn: 0.1108996\ttest: 0.5747293\tbest: 0.4815060 (78)\ttotal: 1.51s\tremaining: 799ms\n",
            "654:\tlearn: 0.1104723\ttest: 0.5751955\tbest: 0.4815060 (78)\ttotal: 1.51s\tremaining: 797ms\n",
            "655:\tlearn: 0.1104171\ttest: 0.5751144\tbest: 0.4815060 (78)\ttotal: 1.51s\tremaining: 795ms\n",
            "656:\tlearn: 0.1102361\ttest: 0.5750144\tbest: 0.4815060 (78)\ttotal: 1.52s\tremaining: 792ms\n",
            "657:\tlearn: 0.1097979\ttest: 0.5743116\tbest: 0.4815060 (78)\ttotal: 1.52s\tremaining: 790ms\n",
            "658:\tlearn: 0.1097058\ttest: 0.5741135\tbest: 0.4815060 (78)\ttotal: 1.52s\tremaining: 788ms\n",
            "659:\tlearn: 0.1092858\ttest: 0.5740940\tbest: 0.4815060 (78)\ttotal: 1.52s\tremaining: 785ms\n",
            "660:\tlearn: 0.1091922\ttest: 0.5739310\tbest: 0.4815060 (78)\ttotal: 1.53s\tremaining: 783ms\n",
            "661:\tlearn: 0.1090802\ttest: 0.5739526\tbest: 0.4815060 (78)\ttotal: 1.53s\tremaining: 781ms\n",
            "662:\tlearn: 0.1090324\ttest: 0.5739496\tbest: 0.4815060 (78)\ttotal: 1.53s\tremaining: 778ms\n",
            "663:\tlearn: 0.1088193\ttest: 0.5740604\tbest: 0.4815060 (78)\ttotal: 1.53s\tremaining: 776ms\n",
            "664:\tlearn: 0.1087584\ttest: 0.5740414\tbest: 0.4815060 (78)\ttotal: 1.54s\tremaining: 774ms\n",
            "665:\tlearn: 0.1086209\ttest: 0.5741548\tbest: 0.4815060 (78)\ttotal: 1.54s\tremaining: 771ms\n",
            "666:\tlearn: 0.1084802\ttest: 0.5746916\tbest: 0.4815060 (78)\ttotal: 1.54s\tremaining: 769ms\n",
            "667:\tlearn: 0.1081510\ttest: 0.5751116\tbest: 0.4815060 (78)\ttotal: 1.54s\tremaining: 767ms\n",
            "668:\tlearn: 0.1080390\ttest: 0.5753603\tbest: 0.4815060 (78)\ttotal: 1.54s\tremaining: 764ms\n",
            "669:\tlearn: 0.1078423\ttest: 0.5753183\tbest: 0.4815060 (78)\ttotal: 1.55s\tremaining: 764ms\n",
            "670:\tlearn: 0.1076373\ttest: 0.5755436\tbest: 0.4815060 (78)\ttotal: 1.55s\tremaining: 762ms\n",
            "671:\tlearn: 0.1072302\ttest: 0.5760770\tbest: 0.4815060 (78)\ttotal: 1.56s\tremaining: 760ms\n",
            "672:\tlearn: 0.1071501\ttest: 0.5761063\tbest: 0.4815060 (78)\ttotal: 1.56s\tremaining: 757ms\n",
            "673:\tlearn: 0.1069367\ttest: 0.5762087\tbest: 0.4815060 (78)\ttotal: 1.56s\tremaining: 755ms\n",
            "674:\tlearn: 0.1068312\ttest: 0.5763073\tbest: 0.4815060 (78)\ttotal: 1.56s\tremaining: 753ms\n",
            "675:\tlearn: 0.1067343\ttest: 0.5767578\tbest: 0.4815060 (78)\ttotal: 1.56s\tremaining: 750ms\n",
            "676:\tlearn: 0.1066190\ttest: 0.5774930\tbest: 0.4815060 (78)\ttotal: 1.57s\tremaining: 748ms\n",
            "677:\tlearn: 0.1062869\ttest: 0.5779048\tbest: 0.4815060 (78)\ttotal: 1.57s\tremaining: 746ms\n",
            "678:\tlearn: 0.1059018\ttest: 0.5783654\tbest: 0.4815060 (78)\ttotal: 1.57s\tremaining: 743ms\n",
            "679:\tlearn: 0.1056838\ttest: 0.5781075\tbest: 0.4815060 (78)\ttotal: 1.57s\tremaining: 741ms\n",
            "680:\tlearn: 0.1055163\ttest: 0.5778586\tbest: 0.4815060 (78)\ttotal: 1.58s\tremaining: 739ms\n",
            "681:\tlearn: 0.1053742\ttest: 0.5782020\tbest: 0.4815060 (78)\ttotal: 1.58s\tremaining: 736ms\n",
            "682:\tlearn: 0.1048844\ttest: 0.5781589\tbest: 0.4815060 (78)\ttotal: 1.58s\tremaining: 734ms\n",
            "683:\tlearn: 0.1046820\ttest: 0.5785956\tbest: 0.4815060 (78)\ttotal: 1.58s\tremaining: 732ms\n",
            "684:\tlearn: 0.1046632\ttest: 0.5786699\tbest: 0.4815060 (78)\ttotal: 1.59s\tremaining: 729ms\n",
            "685:\tlearn: 0.1043800\ttest: 0.5784395\tbest: 0.4815060 (78)\ttotal: 1.59s\tremaining: 727ms\n",
            "686:\tlearn: 0.1042853\ttest: 0.5782561\tbest: 0.4815060 (78)\ttotal: 1.59s\tremaining: 725ms\n",
            "687:\tlearn: 0.1042567\ttest: 0.5782128\tbest: 0.4815060 (78)\ttotal: 1.59s\tremaining: 723ms\n",
            "688:\tlearn: 0.1041803\ttest: 0.5782203\tbest: 0.4815060 (78)\ttotal: 1.59s\tremaining: 720ms\n",
            "689:\tlearn: 0.1040761\ttest: 0.5782442\tbest: 0.4815060 (78)\ttotal: 1.6s\tremaining: 718ms\n",
            "690:\tlearn: 0.1040577\ttest: 0.5783018\tbest: 0.4815060 (78)\ttotal: 1.6s\tremaining: 715ms\n",
            "691:\tlearn: 0.1039325\ttest: 0.5783818\tbest: 0.4815060 (78)\ttotal: 1.6s\tremaining: 713ms\n",
            "692:\tlearn: 0.1037076\ttest: 0.5784674\tbest: 0.4815060 (78)\ttotal: 1.6s\tremaining: 711ms\n",
            "693:\tlearn: 0.1036421\ttest: 0.5784583\tbest: 0.4815060 (78)\ttotal: 1.61s\tremaining: 708ms\n",
            "694:\tlearn: 0.1033444\ttest: 0.5788991\tbest: 0.4815060 (78)\ttotal: 1.61s\tremaining: 706ms\n",
            "695:\tlearn: 0.1033012\ttest: 0.5789189\tbest: 0.4815060 (78)\ttotal: 1.61s\tremaining: 704ms\n",
            "696:\tlearn: 0.1029164\ttest: 0.5795598\tbest: 0.4815060 (78)\ttotal: 1.61s\tremaining: 702ms\n",
            "697:\tlearn: 0.1029047\ttest: 0.5796301\tbest: 0.4815060 (78)\ttotal: 1.62s\tremaining: 700ms\n",
            "698:\tlearn: 0.1025616\ttest: 0.5798463\tbest: 0.4815060 (78)\ttotal: 1.62s\tremaining: 697ms\n",
            "699:\tlearn: 0.1024856\ttest: 0.5801618\tbest: 0.4815060 (78)\ttotal: 1.62s\tremaining: 695ms\n",
            "700:\tlearn: 0.1022374\ttest: 0.5803770\tbest: 0.4815060 (78)\ttotal: 1.63s\tremaining: 693ms\n",
            "701:\tlearn: 0.1017959\ttest: 0.5810216\tbest: 0.4815060 (78)\ttotal: 1.63s\tremaining: 691ms\n",
            "702:\tlearn: 0.1016769\ttest: 0.5809190\tbest: 0.4815060 (78)\ttotal: 1.63s\tremaining: 689ms\n",
            "703:\tlearn: 0.1013158\ttest: 0.5818105\tbest: 0.4815060 (78)\ttotal: 1.63s\tremaining: 687ms\n",
            "704:\tlearn: 0.1010100\ttest: 0.5820644\tbest: 0.4815060 (78)\ttotal: 1.64s\tremaining: 684ms\n",
            "705:\tlearn: 0.1008531\ttest: 0.5820605\tbest: 0.4815060 (78)\ttotal: 1.64s\tremaining: 682ms\n",
            "706:\tlearn: 0.1007577\ttest: 0.5820857\tbest: 0.4815060 (78)\ttotal: 1.64s\tremaining: 680ms\n",
            "707:\tlearn: 0.1005298\ttest: 0.5826611\tbest: 0.4815060 (78)\ttotal: 1.64s\tremaining: 677ms\n",
            "708:\tlearn: 0.1002766\ttest: 0.5829211\tbest: 0.4815060 (78)\ttotal: 1.64s\tremaining: 675ms\n",
            "709:\tlearn: 0.1000722\ttest: 0.5826231\tbest: 0.4815060 (78)\ttotal: 1.65s\tremaining: 673ms\n",
            "710:\tlearn: 0.0999467\ttest: 0.5825448\tbest: 0.4815060 (78)\ttotal: 1.65s\tremaining: 670ms\n",
            "711:\tlearn: 0.0995703\ttest: 0.5824631\tbest: 0.4815060 (78)\ttotal: 1.65s\tremaining: 668ms\n",
            "712:\tlearn: 0.0993782\ttest: 0.5825968\tbest: 0.4815060 (78)\ttotal: 1.65s\tremaining: 666ms\n",
            "713:\tlearn: 0.0993363\ttest: 0.5827016\tbest: 0.4815060 (78)\ttotal: 1.66s\tremaining: 664ms\n",
            "714:\tlearn: 0.0989695\ttest: 0.5826766\tbest: 0.4815060 (78)\ttotal: 1.66s\tremaining: 661ms\n",
            "715:\tlearn: 0.0987132\ttest: 0.5827061\tbest: 0.4815060 (78)\ttotal: 1.66s\tremaining: 659ms\n",
            "716:\tlearn: 0.0986406\ttest: 0.5828758\tbest: 0.4815060 (78)\ttotal: 1.66s\tremaining: 657ms\n",
            "717:\tlearn: 0.0983962\ttest: 0.5835336\tbest: 0.4815060 (78)\ttotal: 1.67s\tremaining: 654ms\n",
            "718:\tlearn: 0.0982878\ttest: 0.5837022\tbest: 0.4815060 (78)\ttotal: 1.67s\tremaining: 652ms\n",
            "719:\tlearn: 0.0981951\ttest: 0.5837815\tbest: 0.4815060 (78)\ttotal: 1.67s\tremaining: 650ms\n",
            "720:\tlearn: 0.0981575\ttest: 0.5838647\tbest: 0.4815060 (78)\ttotal: 1.67s\tremaining: 647ms\n",
            "721:\tlearn: 0.0980353\ttest: 0.5841357\tbest: 0.4815060 (78)\ttotal: 1.68s\tremaining: 645ms\n",
            "722:\tlearn: 0.0979716\ttest: 0.5841332\tbest: 0.4815060 (78)\ttotal: 1.68s\tremaining: 643ms\n",
            "723:\tlearn: 0.0976880\ttest: 0.5843627\tbest: 0.4815060 (78)\ttotal: 1.68s\tremaining: 640ms\n",
            "724:\tlearn: 0.0974303\ttest: 0.5844256\tbest: 0.4815060 (78)\ttotal: 1.68s\tremaining: 638ms\n",
            "725:\tlearn: 0.0973325\ttest: 0.5847310\tbest: 0.4815060 (78)\ttotal: 1.68s\tremaining: 636ms\n",
            "726:\tlearn: 0.0970105\ttest: 0.5853188\tbest: 0.4815060 (78)\ttotal: 1.69s\tremaining: 633ms\n",
            "727:\tlearn: 0.0968732\ttest: 0.5853773\tbest: 0.4815060 (78)\ttotal: 1.69s\tremaining: 631ms\n",
            "728:\tlearn: 0.0967887\ttest: 0.5854317\tbest: 0.4815060 (78)\ttotal: 1.69s\tremaining: 628ms\n",
            "729:\tlearn: 0.0966006\ttest: 0.5855045\tbest: 0.4815060 (78)\ttotal: 1.69s\tremaining: 626ms\n",
            "730:\tlearn: 0.0962852\ttest: 0.5860276\tbest: 0.4815060 (78)\ttotal: 1.69s\tremaining: 624ms\n",
            "731:\tlearn: 0.0959161\ttest: 0.5865676\tbest: 0.4815060 (78)\ttotal: 1.7s\tremaining: 621ms\n",
            "732:\tlearn: 0.0958590\ttest: 0.5866984\tbest: 0.4815060 (78)\ttotal: 1.7s\tremaining: 619ms\n",
            "733:\tlearn: 0.0954437\ttest: 0.5870028\tbest: 0.4815060 (78)\ttotal: 1.7s\tremaining: 617ms\n",
            "734:\tlearn: 0.0954260\ttest: 0.5871387\tbest: 0.4815060 (78)\ttotal: 1.7s\tremaining: 614ms\n",
            "735:\tlearn: 0.0951669\ttest: 0.5873308\tbest: 0.4815060 (78)\ttotal: 1.71s\tremaining: 612ms\n",
            "736:\tlearn: 0.0951312\ttest: 0.5873951\tbest: 0.4815060 (78)\ttotal: 1.71s\tremaining: 610ms\n",
            "737:\tlearn: 0.0947557\ttest: 0.5876154\tbest: 0.4815060 (78)\ttotal: 1.71s\tremaining: 607ms\n",
            "738:\tlearn: 0.0945897\ttest: 0.5880218\tbest: 0.4815060 (78)\ttotal: 1.71s\tremaining: 605ms\n",
            "739:\tlearn: 0.0944664\ttest: 0.5882116\tbest: 0.4815060 (78)\ttotal: 1.72s\tremaining: 603ms\n",
            "740:\tlearn: 0.0944042\ttest: 0.5883227\tbest: 0.4815060 (78)\ttotal: 1.72s\tremaining: 600ms\n",
            "741:\tlearn: 0.0943816\ttest: 0.5883354\tbest: 0.4815060 (78)\ttotal: 1.72s\tremaining: 598ms\n",
            "742:\tlearn: 0.0942589\ttest: 0.5884392\tbest: 0.4815060 (78)\ttotal: 1.72s\tremaining: 596ms\n",
            "743:\tlearn: 0.0938983\ttest: 0.5886656\tbest: 0.4815060 (78)\ttotal: 1.72s\tremaining: 593ms\n",
            "744:\tlearn: 0.0936816\ttest: 0.5889090\tbest: 0.4815060 (78)\ttotal: 1.73s\tremaining: 591ms\n",
            "745:\tlearn: 0.0935443\ttest: 0.5894255\tbest: 0.4815060 (78)\ttotal: 1.73s\tremaining: 589ms\n",
            "746:\tlearn: 0.0934924\ttest: 0.5894530\tbest: 0.4815060 (78)\ttotal: 1.73s\tremaining: 586ms\n",
            "747:\tlearn: 0.0933082\ttest: 0.5892034\tbest: 0.4815060 (78)\ttotal: 1.73s\tremaining: 584ms\n",
            "748:\tlearn: 0.0932150\ttest: 0.5894571\tbest: 0.4815060 (78)\ttotal: 1.74s\tremaining: 582ms\n",
            "749:\tlearn: 0.0931504\ttest: 0.5895175\tbest: 0.4815060 (78)\ttotal: 1.74s\tremaining: 579ms\n",
            "750:\tlearn: 0.0931293\ttest: 0.5895108\tbest: 0.4815060 (78)\ttotal: 1.74s\tremaining: 577ms\n",
            "751:\tlearn: 0.0930816\ttest: 0.5894543\tbest: 0.4815060 (78)\ttotal: 1.74s\tremaining: 575ms\n",
            "752:\tlearn: 0.0930050\ttest: 0.5897231\tbest: 0.4815060 (78)\ttotal: 1.75s\tremaining: 573ms\n",
            "753:\tlearn: 0.0927419\ttest: 0.5900185\tbest: 0.4815060 (78)\ttotal: 1.75s\tremaining: 571ms\n",
            "754:\tlearn: 0.0926637\ttest: 0.5902510\tbest: 0.4815060 (78)\ttotal: 1.75s\tremaining: 568ms\n",
            "755:\tlearn: 0.0926124\ttest: 0.5902129\tbest: 0.4815060 (78)\ttotal: 1.75s\tremaining: 566ms\n",
            "756:\tlearn: 0.0925373\ttest: 0.5902358\tbest: 0.4815060 (78)\ttotal: 1.76s\tremaining: 564ms\n",
            "757:\tlearn: 0.0923217\ttest: 0.5902724\tbest: 0.4815060 (78)\ttotal: 1.76s\tremaining: 561ms\n",
            "758:\tlearn: 0.0922200\ttest: 0.5902225\tbest: 0.4815060 (78)\ttotal: 1.76s\tremaining: 559ms\n",
            "759:\tlearn: 0.0920848\ttest: 0.5901152\tbest: 0.4815060 (78)\ttotal: 1.76s\tremaining: 557ms\n",
            "760:\tlearn: 0.0918361\ttest: 0.5908272\tbest: 0.4815060 (78)\ttotal: 1.76s\tremaining: 554ms\n",
            "761:\tlearn: 0.0915592\ttest: 0.5909025\tbest: 0.4815060 (78)\ttotal: 1.77s\tremaining: 552ms\n",
            "762:\tlearn: 0.0915065\ttest: 0.5910445\tbest: 0.4815060 (78)\ttotal: 1.77s\tremaining: 550ms\n",
            "763:\tlearn: 0.0912898\ttest: 0.5913193\tbest: 0.4815060 (78)\ttotal: 1.77s\tremaining: 547ms\n",
            "764:\tlearn: 0.0908104\ttest: 0.5913877\tbest: 0.4815060 (78)\ttotal: 1.77s\tremaining: 545ms\n",
            "765:\tlearn: 0.0907568\ttest: 0.5918003\tbest: 0.4815060 (78)\ttotal: 1.78s\tremaining: 543ms\n",
            "766:\tlearn: 0.0905367\ttest: 0.5917286\tbest: 0.4815060 (78)\ttotal: 1.78s\tremaining: 540ms\n",
            "767:\tlearn: 0.0904603\ttest: 0.5918824\tbest: 0.4815060 (78)\ttotal: 1.78s\tremaining: 538ms\n",
            "768:\tlearn: 0.0903259\ttest: 0.5922073\tbest: 0.4815060 (78)\ttotal: 1.78s\tremaining: 536ms\n",
            "769:\tlearn: 0.0901390\ttest: 0.5926125\tbest: 0.4815060 (78)\ttotal: 1.79s\tremaining: 534ms\n",
            "770:\tlearn: 0.0899332\ttest: 0.5928256\tbest: 0.4815060 (78)\ttotal: 1.79s\tremaining: 531ms\n",
            "771:\tlearn: 0.0898344\ttest: 0.5925747\tbest: 0.4815060 (78)\ttotal: 1.79s\tremaining: 529ms\n",
            "772:\tlearn: 0.0896906\ttest: 0.5926164\tbest: 0.4815060 (78)\ttotal: 1.79s\tremaining: 526ms\n",
            "773:\tlearn: 0.0896302\ttest: 0.5929627\tbest: 0.4815060 (78)\ttotal: 1.79s\tremaining: 524ms\n",
            "774:\tlearn: 0.0894549\ttest: 0.5926900\tbest: 0.4815060 (78)\ttotal: 1.8s\tremaining: 522ms\n",
            "775:\tlearn: 0.0893975\ttest: 0.5926699\tbest: 0.4815060 (78)\ttotal: 1.8s\tremaining: 519ms\n",
            "776:\tlearn: 0.0892529\ttest: 0.5929226\tbest: 0.4815060 (78)\ttotal: 1.8s\tremaining: 517ms\n",
            "777:\tlearn: 0.0892391\ttest: 0.5929739\tbest: 0.4815060 (78)\ttotal: 1.8s\tremaining: 515ms\n",
            "778:\tlearn: 0.0888886\ttest: 0.5923516\tbest: 0.4815060 (78)\ttotal: 1.81s\tremaining: 512ms\n",
            "779:\tlearn: 0.0885166\ttest: 0.5929868\tbest: 0.4815060 (78)\ttotal: 1.81s\tremaining: 510ms\n",
            "780:\tlearn: 0.0884599\ttest: 0.5934979\tbest: 0.4815060 (78)\ttotal: 1.81s\tremaining: 508ms\n",
            "781:\tlearn: 0.0881743\ttest: 0.5942834\tbest: 0.4815060 (78)\ttotal: 1.81s\tremaining: 506ms\n",
            "782:\tlearn: 0.0880229\ttest: 0.5945815\tbest: 0.4815060 (78)\ttotal: 1.81s\tremaining: 503ms\n",
            "783:\tlearn: 0.0877608\ttest: 0.5945617\tbest: 0.4815060 (78)\ttotal: 1.82s\tremaining: 501ms\n",
            "784:\tlearn: 0.0876942\ttest: 0.5947614\tbest: 0.4815060 (78)\ttotal: 1.82s\tremaining: 499ms\n",
            "785:\tlearn: 0.0876543\ttest: 0.5948625\tbest: 0.4815060 (78)\ttotal: 1.82s\tremaining: 496ms\n",
            "786:\tlearn: 0.0875610\ttest: 0.5953642\tbest: 0.4815060 (78)\ttotal: 1.82s\tremaining: 494ms\n",
            "787:\tlearn: 0.0875198\ttest: 0.5956246\tbest: 0.4815060 (78)\ttotal: 1.83s\tremaining: 492ms\n",
            "788:\tlearn: 0.0874847\ttest: 0.5955469\tbest: 0.4815060 (78)\ttotal: 1.83s\tremaining: 489ms\n",
            "789:\tlearn: 0.0871632\ttest: 0.5958446\tbest: 0.4815060 (78)\ttotal: 1.83s\tremaining: 487ms\n",
            "790:\tlearn: 0.0871290\ttest: 0.5958284\tbest: 0.4815060 (78)\ttotal: 1.83s\tremaining: 485ms\n",
            "791:\tlearn: 0.0868980\ttest: 0.5963651\tbest: 0.4815060 (78)\ttotal: 1.84s\tremaining: 482ms\n",
            "792:\tlearn: 0.0867286\ttest: 0.5966900\tbest: 0.4815060 (78)\ttotal: 1.84s\tremaining: 480ms\n",
            "793:\tlearn: 0.0866362\ttest: 0.5965753\tbest: 0.4815060 (78)\ttotal: 1.84s\tremaining: 478ms\n",
            "794:\tlearn: 0.0864168\ttest: 0.5962280\tbest: 0.4815060 (78)\ttotal: 1.84s\tremaining: 475ms\n",
            "795:\tlearn: 0.0861724\ttest: 0.5960971\tbest: 0.4815060 (78)\ttotal: 1.84s\tremaining: 473ms\n",
            "796:\tlearn: 0.0859762\ttest: 0.5959159\tbest: 0.4815060 (78)\ttotal: 1.85s\tremaining: 471ms\n",
            "797:\tlearn: 0.0858764\ttest: 0.5957650\tbest: 0.4815060 (78)\ttotal: 1.85s\tremaining: 468ms\n",
            "798:\tlearn: 0.0856441\ttest: 0.5960247\tbest: 0.4815060 (78)\ttotal: 1.85s\tremaining: 466ms\n",
            "799:\tlearn: 0.0855822\ttest: 0.5960586\tbest: 0.4815060 (78)\ttotal: 1.85s\tremaining: 464ms\n",
            "800:\tlearn: 0.0853655\ttest: 0.5959656\tbest: 0.4815060 (78)\ttotal: 1.86s\tremaining: 461ms\n",
            "801:\tlearn: 0.0853004\ttest: 0.5965512\tbest: 0.4815060 (78)\ttotal: 1.86s\tremaining: 459ms\n",
            "802:\tlearn: 0.0851600\ttest: 0.5966457\tbest: 0.4815060 (78)\ttotal: 1.86s\tremaining: 457ms\n",
            "803:\tlearn: 0.0849682\ttest: 0.5968594\tbest: 0.4815060 (78)\ttotal: 1.86s\tremaining: 454ms\n",
            "804:\tlearn: 0.0848513\ttest: 0.5969264\tbest: 0.4815060 (78)\ttotal: 1.87s\tremaining: 452ms\n",
            "805:\tlearn: 0.0846376\ttest: 0.5974575\tbest: 0.4815060 (78)\ttotal: 1.87s\tremaining: 450ms\n",
            "806:\tlearn: 0.0844190\ttest: 0.5974328\tbest: 0.4815060 (78)\ttotal: 1.87s\tremaining: 447ms\n",
            "807:\tlearn: 0.0843343\ttest: 0.5973651\tbest: 0.4815060 (78)\ttotal: 1.87s\tremaining: 445ms\n",
            "808:\tlearn: 0.0843162\ttest: 0.5973248\tbest: 0.4815060 (78)\ttotal: 1.88s\tremaining: 443ms\n",
            "809:\tlearn: 0.0843053\ttest: 0.5973821\tbest: 0.4815060 (78)\ttotal: 1.88s\tremaining: 440ms\n",
            "810:\tlearn: 0.0839388\ttest: 0.5975339\tbest: 0.4815060 (78)\ttotal: 1.88s\tremaining: 438ms\n",
            "811:\tlearn: 0.0835796\ttest: 0.5979753\tbest: 0.4815060 (78)\ttotal: 1.88s\tremaining: 436ms\n",
            "812:\tlearn: 0.0834727\ttest: 0.5978938\tbest: 0.4815060 (78)\ttotal: 1.88s\tremaining: 433ms\n",
            "813:\tlearn: 0.0834058\ttest: 0.5979230\tbest: 0.4815060 (78)\ttotal: 1.89s\tremaining: 431ms\n",
            "814:\tlearn: 0.0833362\ttest: 0.5979529\tbest: 0.4815060 (78)\ttotal: 1.89s\tremaining: 429ms\n",
            "815:\tlearn: 0.0832994\ttest: 0.5979019\tbest: 0.4815060 (78)\ttotal: 1.89s\tremaining: 426ms\n",
            "816:\tlearn: 0.0831949\ttest: 0.5978133\tbest: 0.4815060 (78)\ttotal: 1.89s\tremaining: 424ms\n",
            "817:\tlearn: 0.0828608\ttest: 0.5984394\tbest: 0.4815060 (78)\ttotal: 1.9s\tremaining: 422ms\n",
            "818:\tlearn: 0.0826136\ttest: 0.5990030\tbest: 0.4815060 (78)\ttotal: 1.9s\tremaining: 420ms\n",
            "819:\tlearn: 0.0824521\ttest: 0.5990339\tbest: 0.4815060 (78)\ttotal: 1.9s\tremaining: 417ms\n",
            "820:\tlearn: 0.0821263\ttest: 0.5993484\tbest: 0.4815060 (78)\ttotal: 1.9s\tremaining: 415ms\n",
            "821:\tlearn: 0.0818767\ttest: 0.6001073\tbest: 0.4815060 (78)\ttotal: 1.91s\tremaining: 413ms\n",
            "822:\tlearn: 0.0817089\ttest: 0.6001240\tbest: 0.4815060 (78)\ttotal: 1.91s\tremaining: 410ms\n",
            "823:\tlearn: 0.0816774\ttest: 0.6002638\tbest: 0.4815060 (78)\ttotal: 1.91s\tremaining: 408ms\n",
            "824:\tlearn: 0.0816669\ttest: 0.6003197\tbest: 0.4815060 (78)\ttotal: 1.91s\tremaining: 406ms\n",
            "825:\tlearn: 0.0815868\ttest: 0.6002851\tbest: 0.4815060 (78)\ttotal: 1.91s\tremaining: 403ms\n",
            "826:\tlearn: 0.0815271\ttest: 0.6000950\tbest: 0.4815060 (78)\ttotal: 1.92s\tremaining: 401ms\n",
            "827:\tlearn: 0.0813473\ttest: 0.6002177\tbest: 0.4815060 (78)\ttotal: 1.92s\tremaining: 399ms\n",
            "828:\tlearn: 0.0812970\ttest: 0.6000427\tbest: 0.4815060 (78)\ttotal: 1.92s\tremaining: 396ms\n",
            "829:\tlearn: 0.0810567\ttest: 0.5999271\tbest: 0.4815060 (78)\ttotal: 1.92s\tremaining: 394ms\n",
            "830:\tlearn: 0.0809025\ttest: 0.5999580\tbest: 0.4815060 (78)\ttotal: 1.93s\tremaining: 392ms\n",
            "831:\tlearn: 0.0806938\ttest: 0.6004931\tbest: 0.4815060 (78)\ttotal: 1.93s\tremaining: 389ms\n",
            "832:\tlearn: 0.0805088\ttest: 0.6002258\tbest: 0.4815060 (78)\ttotal: 1.93s\tremaining: 387ms\n",
            "833:\tlearn: 0.0804178\ttest: 0.6003015\tbest: 0.4815060 (78)\ttotal: 1.93s\tremaining: 385ms\n",
            "834:\tlearn: 0.0803261\ttest: 0.6004107\tbest: 0.4815060 (78)\ttotal: 1.93s\tremaining: 382ms\n",
            "835:\tlearn: 0.0802209\ttest: 0.6005983\tbest: 0.4815060 (78)\ttotal: 1.94s\tremaining: 380ms\n",
            "836:\tlearn: 0.0801623\ttest: 0.6004731\tbest: 0.4815060 (78)\ttotal: 1.94s\tremaining: 378ms\n",
            "837:\tlearn: 0.0799383\ttest: 0.6006678\tbest: 0.4815060 (78)\ttotal: 1.95s\tremaining: 376ms\n",
            "838:\tlearn: 0.0799093\ttest: 0.6006426\tbest: 0.4815060 (78)\ttotal: 1.95s\tremaining: 374ms\n",
            "839:\tlearn: 0.0798378\ttest: 0.6009116\tbest: 0.4815060 (78)\ttotal: 1.95s\tremaining: 371ms\n",
            "840:\tlearn: 0.0798040\ttest: 0.6011122\tbest: 0.4815060 (78)\ttotal: 1.95s\tremaining: 369ms\n",
            "841:\tlearn: 0.0795839\ttest: 0.6013724\tbest: 0.4815060 (78)\ttotal: 1.95s\tremaining: 367ms\n",
            "842:\tlearn: 0.0794326\ttest: 0.6013188\tbest: 0.4815060 (78)\ttotal: 1.96s\tremaining: 364ms\n",
            "843:\tlearn: 0.0792287\ttest: 0.6012852\tbest: 0.4815060 (78)\ttotal: 1.96s\tremaining: 362ms\n",
            "844:\tlearn: 0.0791068\ttest: 0.6010841\tbest: 0.4815060 (78)\ttotal: 1.96s\tremaining: 360ms\n",
            "845:\tlearn: 0.0790921\ttest: 0.6012003\tbest: 0.4815060 (78)\ttotal: 1.96s\tremaining: 357ms\n",
            "846:\tlearn: 0.0789026\ttest: 0.6012763\tbest: 0.4815060 (78)\ttotal: 1.97s\tremaining: 355ms\n",
            "847:\tlearn: 0.0788630\ttest: 0.6013299\tbest: 0.4815060 (78)\ttotal: 1.97s\tremaining: 353ms\n",
            "848:\tlearn: 0.0786665\ttest: 0.6014451\tbest: 0.4815060 (78)\ttotal: 1.97s\tremaining: 350ms\n",
            "849:\tlearn: 0.0784748\ttest: 0.6018654\tbest: 0.4815060 (78)\ttotal: 1.97s\tremaining: 348ms\n",
            "850:\tlearn: 0.0781954\ttest: 0.6018774\tbest: 0.4815060 (78)\ttotal: 1.98s\tremaining: 346ms\n",
            "851:\tlearn: 0.0781165\ttest: 0.6020798\tbest: 0.4815060 (78)\ttotal: 1.98s\tremaining: 343ms\n",
            "852:\tlearn: 0.0779948\ttest: 0.6019873\tbest: 0.4815060 (78)\ttotal: 1.98s\tremaining: 341ms\n",
            "853:\tlearn: 0.0777299\ttest: 0.6022343\tbest: 0.4815060 (78)\ttotal: 1.98s\tremaining: 339ms\n",
            "854:\tlearn: 0.0776658\ttest: 0.6023169\tbest: 0.4815060 (78)\ttotal: 1.98s\tremaining: 337ms\n",
            "855:\tlearn: 0.0774421\ttest: 0.6028763\tbest: 0.4815060 (78)\ttotal: 1.99s\tremaining: 334ms\n",
            "856:\tlearn: 0.0773938\ttest: 0.6030594\tbest: 0.4815060 (78)\ttotal: 1.99s\tremaining: 332ms\n",
            "857:\tlearn: 0.0771053\ttest: 0.6036838\tbest: 0.4815060 (78)\ttotal: 1.99s\tremaining: 330ms\n",
            "858:\tlearn: 0.0769210\ttest: 0.6039876\tbest: 0.4815060 (78)\ttotal: 1.99s\tremaining: 327ms\n",
            "859:\tlearn: 0.0768199\ttest: 0.6038803\tbest: 0.4815060 (78)\ttotal: 2s\tremaining: 325ms\n",
            "860:\tlearn: 0.0767378\ttest: 0.6039043\tbest: 0.4815060 (78)\ttotal: 2s\tremaining: 323ms\n",
            "861:\tlearn: 0.0765115\ttest: 0.6047841\tbest: 0.4815060 (78)\ttotal: 2s\tremaining: 320ms\n",
            "862:\tlearn: 0.0764488\ttest: 0.6048147\tbest: 0.4815060 (78)\ttotal: 2s\tremaining: 318ms\n",
            "863:\tlearn: 0.0763951\ttest: 0.6050270\tbest: 0.4815060 (78)\ttotal: 2.01s\tremaining: 316ms\n",
            "864:\tlearn: 0.0761372\ttest: 0.6044964\tbest: 0.4815060 (78)\ttotal: 2.01s\tremaining: 314ms\n",
            "865:\tlearn: 0.0759987\ttest: 0.6047127\tbest: 0.4815060 (78)\ttotal: 2.01s\tremaining: 311ms\n",
            "866:\tlearn: 0.0757986\ttest: 0.6052506\tbest: 0.4815060 (78)\ttotal: 2.01s\tremaining: 309ms\n",
            "867:\tlearn: 0.0757898\ttest: 0.6052769\tbest: 0.4815060 (78)\ttotal: 2.02s\tremaining: 307ms\n",
            "868:\tlearn: 0.0757736\ttest: 0.6052953\tbest: 0.4815060 (78)\ttotal: 2.02s\tremaining: 304ms\n",
            "869:\tlearn: 0.0757558\ttest: 0.6053347\tbest: 0.4815060 (78)\ttotal: 2.02s\tremaining: 302ms\n",
            "870:\tlearn: 0.0756135\ttest: 0.6057468\tbest: 0.4815060 (78)\ttotal: 2.02s\tremaining: 300ms\n",
            "871:\tlearn: 0.0754134\ttest: 0.6065503\tbest: 0.4815060 (78)\ttotal: 2.02s\tremaining: 297ms\n",
            "872:\tlearn: 0.0753229\ttest: 0.6065591\tbest: 0.4815060 (78)\ttotal: 2.03s\tremaining: 295ms\n",
            "873:\tlearn: 0.0750780\ttest: 0.6073298\tbest: 0.4815060 (78)\ttotal: 2.03s\tremaining: 293ms\n",
            "874:\tlearn: 0.0750011\ttest: 0.6071042\tbest: 0.4815060 (78)\ttotal: 2.03s\tremaining: 290ms\n",
            "875:\tlearn: 0.0749254\ttest: 0.6070714\tbest: 0.4815060 (78)\ttotal: 2.03s\tremaining: 288ms\n",
            "876:\tlearn: 0.0748057\ttest: 0.6070029\tbest: 0.4815060 (78)\ttotal: 2.04s\tremaining: 286ms\n",
            "877:\tlearn: 0.0746000\ttest: 0.6066345\tbest: 0.4815060 (78)\ttotal: 2.04s\tremaining: 283ms\n",
            "878:\tlearn: 0.0743230\ttest: 0.6071127\tbest: 0.4815060 (78)\ttotal: 2.04s\tremaining: 281ms\n",
            "879:\tlearn: 0.0742527\ttest: 0.6076032\tbest: 0.4815060 (78)\ttotal: 2.04s\tremaining: 279ms\n",
            "880:\tlearn: 0.0742163\ttest: 0.6076640\tbest: 0.4815060 (78)\ttotal: 2.05s\tremaining: 276ms\n",
            "881:\tlearn: 0.0741782\ttest: 0.6078122\tbest: 0.4815060 (78)\ttotal: 2.05s\tremaining: 274ms\n",
            "882:\tlearn: 0.0741587\ttest: 0.6080116\tbest: 0.4815060 (78)\ttotal: 2.05s\tremaining: 272ms\n",
            "883:\tlearn: 0.0738011\ttest: 0.6087937\tbest: 0.4815060 (78)\ttotal: 2.05s\tremaining: 269ms\n",
            "884:\tlearn: 0.0737844\ttest: 0.6088877\tbest: 0.4815060 (78)\ttotal: 2.06s\tremaining: 267ms\n",
            "885:\tlearn: 0.0737686\ttest: 0.6090725\tbest: 0.4815060 (78)\ttotal: 2.06s\tremaining: 265ms\n",
            "886:\tlearn: 0.0734983\ttest: 0.6096942\tbest: 0.4815060 (78)\ttotal: 2.06s\tremaining: 262ms\n",
            "887:\tlearn: 0.0733620\ttest: 0.6097154\tbest: 0.4815060 (78)\ttotal: 2.06s\tremaining: 260ms\n",
            "888:\tlearn: 0.0733142\ttest: 0.6100178\tbest: 0.4815060 (78)\ttotal: 2.06s\tremaining: 258ms\n",
            "889:\tlearn: 0.0732541\ttest: 0.6100491\tbest: 0.4815060 (78)\ttotal: 2.07s\tremaining: 255ms\n",
            "890:\tlearn: 0.0731776\ttest: 0.6099838\tbest: 0.4815060 (78)\ttotal: 2.07s\tremaining: 253ms\n",
            "891:\tlearn: 0.0730912\ttest: 0.6099962\tbest: 0.4815060 (78)\ttotal: 2.07s\tremaining: 251ms\n",
            "892:\tlearn: 0.0730170\ttest: 0.6102377\tbest: 0.4815060 (78)\ttotal: 2.07s\tremaining: 249ms\n",
            "893:\tlearn: 0.0728388\ttest: 0.6101827\tbest: 0.4815060 (78)\ttotal: 2.08s\tremaining: 246ms\n",
            "894:\tlearn: 0.0726912\ttest: 0.6103033\tbest: 0.4815060 (78)\ttotal: 2.08s\tremaining: 244ms\n",
            "895:\tlearn: 0.0725020\ttest: 0.6102348\tbest: 0.4815060 (78)\ttotal: 2.08s\tremaining: 242ms\n",
            "896:\tlearn: 0.0723572\ttest: 0.6105244\tbest: 0.4815060 (78)\ttotal: 2.08s\tremaining: 239ms\n",
            "897:\tlearn: 0.0723332\ttest: 0.6104782\tbest: 0.4815060 (78)\ttotal: 2.08s\tremaining: 237ms\n",
            "898:\tlearn: 0.0723003\ttest: 0.6104752\tbest: 0.4815060 (78)\ttotal: 2.09s\tremaining: 235ms\n",
            "899:\tlearn: 0.0722094\ttest: 0.6107062\tbest: 0.4815060 (78)\ttotal: 2.09s\tremaining: 232ms\n",
            "900:\tlearn: 0.0721594\ttest: 0.6107059\tbest: 0.4815060 (78)\ttotal: 2.09s\tremaining: 230ms\n",
            "901:\tlearn: 0.0720676\ttest: 0.6107399\tbest: 0.4815060 (78)\ttotal: 2.09s\tremaining: 228ms\n",
            "902:\tlearn: 0.0718969\ttest: 0.6110620\tbest: 0.4815060 (78)\ttotal: 2.1s\tremaining: 225ms\n",
            "903:\tlearn: 0.0717474\ttest: 0.6108882\tbest: 0.4815060 (78)\ttotal: 2.1s\tremaining: 223ms\n",
            "904:\tlearn: 0.0717298\ttest: 0.6108849\tbest: 0.4815060 (78)\ttotal: 2.1s\tremaining: 221ms\n",
            "905:\tlearn: 0.0715710\ttest: 0.6109315\tbest: 0.4815060 (78)\ttotal: 2.1s\tremaining: 218ms\n",
            "906:\tlearn: 0.0714849\ttest: 0.6112028\tbest: 0.4815060 (78)\ttotal: 2.1s\tremaining: 216ms\n",
            "907:\tlearn: 0.0714747\ttest: 0.6112454\tbest: 0.4815060 (78)\ttotal: 2.11s\tremaining: 214ms\n",
            "908:\tlearn: 0.0713712\ttest: 0.6114988\tbest: 0.4815060 (78)\ttotal: 2.11s\tremaining: 211ms\n",
            "909:\tlearn: 0.0713578\ttest: 0.6114820\tbest: 0.4815060 (78)\ttotal: 2.11s\tremaining: 209ms\n",
            "910:\tlearn: 0.0713022\ttest: 0.6114114\tbest: 0.4815060 (78)\ttotal: 2.11s\tremaining: 207ms\n",
            "911:\tlearn: 0.0712744\ttest: 0.6114379\tbest: 0.4815060 (78)\ttotal: 2.12s\tremaining: 204ms\n",
            "912:\tlearn: 0.0711207\ttest: 0.6116972\tbest: 0.4815060 (78)\ttotal: 2.12s\tremaining: 202ms\n",
            "913:\tlearn: 0.0710655\ttest: 0.6115878\tbest: 0.4815060 (78)\ttotal: 2.12s\tremaining: 200ms\n",
            "914:\tlearn: 0.0709368\ttest: 0.6114935\tbest: 0.4815060 (78)\ttotal: 2.12s\tremaining: 197ms\n",
            "915:\tlearn: 0.0707696\ttest: 0.6120049\tbest: 0.4815060 (78)\ttotal: 2.13s\tremaining: 195ms\n",
            "916:\tlearn: 0.0707170\ttest: 0.6120174\tbest: 0.4815060 (78)\ttotal: 2.13s\tremaining: 193ms\n",
            "917:\tlearn: 0.0705893\ttest: 0.6116141\tbest: 0.4815060 (78)\ttotal: 2.14s\tremaining: 191ms\n",
            "918:\tlearn: 0.0704595\ttest: 0.6116008\tbest: 0.4815060 (78)\ttotal: 2.14s\tremaining: 189ms\n",
            "919:\tlearn: 0.0704338\ttest: 0.6116575\tbest: 0.4815060 (78)\ttotal: 2.14s\tremaining: 186ms\n",
            "920:\tlearn: 0.0703917\ttest: 0.6117276\tbest: 0.4815060 (78)\ttotal: 2.14s\tremaining: 184ms\n",
            "921:\tlearn: 0.0703386\ttest: 0.6119685\tbest: 0.4815060 (78)\ttotal: 2.15s\tremaining: 182ms\n",
            "922:\tlearn: 0.0702462\ttest: 0.6123012\tbest: 0.4815060 (78)\ttotal: 2.15s\tremaining: 179ms\n",
            "923:\tlearn: 0.0702181\ttest: 0.6122664\tbest: 0.4815060 (78)\ttotal: 2.15s\tremaining: 177ms\n",
            "924:\tlearn: 0.0701553\ttest: 0.6123390\tbest: 0.4815060 (78)\ttotal: 2.15s\tremaining: 175ms\n",
            "925:\tlearn: 0.0701371\ttest: 0.6125937\tbest: 0.4815060 (78)\ttotal: 2.15s\tremaining: 172ms\n",
            "926:\tlearn: 0.0699701\ttest: 0.6126585\tbest: 0.4815060 (78)\ttotal: 2.16s\tremaining: 170ms\n",
            "927:\tlearn: 0.0697196\ttest: 0.6132723\tbest: 0.4815060 (78)\ttotal: 2.16s\tremaining: 168ms\n",
            "928:\tlearn: 0.0696742\ttest: 0.6133588\tbest: 0.4815060 (78)\ttotal: 2.16s\tremaining: 165ms\n",
            "929:\tlearn: 0.0694833\ttest: 0.6138318\tbest: 0.4815060 (78)\ttotal: 2.16s\tremaining: 163ms\n",
            "930:\tlearn: 0.0694085\ttest: 0.6140164\tbest: 0.4815060 (78)\ttotal: 2.17s\tremaining: 161ms\n",
            "931:\tlearn: 0.0692677\ttest: 0.6142607\tbest: 0.4815060 (78)\ttotal: 2.17s\tremaining: 158ms\n",
            "932:\tlearn: 0.0691127\ttest: 0.6145345\tbest: 0.4815060 (78)\ttotal: 2.17s\tremaining: 156ms\n",
            "933:\tlearn: 0.0690140\ttest: 0.6149243\tbest: 0.4815060 (78)\ttotal: 2.17s\tremaining: 154ms\n",
            "934:\tlearn: 0.0689744\ttest: 0.6149648\tbest: 0.4815060 (78)\ttotal: 2.17s\tremaining: 151ms\n",
            "935:\tlearn: 0.0688194\ttest: 0.6152869\tbest: 0.4815060 (78)\ttotal: 2.18s\tremaining: 149ms\n",
            "936:\tlearn: 0.0687339\ttest: 0.6155443\tbest: 0.4815060 (78)\ttotal: 2.18s\tremaining: 147ms\n",
            "937:\tlearn: 0.0687183\ttest: 0.6156374\tbest: 0.4815060 (78)\ttotal: 2.18s\tremaining: 144ms\n",
            "938:\tlearn: 0.0686689\ttest: 0.6156980\tbest: 0.4815060 (78)\ttotal: 2.18s\tremaining: 142ms\n",
            "939:\tlearn: 0.0685148\ttest: 0.6156444\tbest: 0.4815060 (78)\ttotal: 2.19s\tremaining: 140ms\n",
            "940:\tlearn: 0.0684301\ttest: 0.6156346\tbest: 0.4815060 (78)\ttotal: 2.19s\tremaining: 137ms\n",
            "941:\tlearn: 0.0683530\ttest: 0.6157360\tbest: 0.4815060 (78)\ttotal: 2.19s\tremaining: 135ms\n",
            "942:\tlearn: 0.0682878\ttest: 0.6157920\tbest: 0.4815060 (78)\ttotal: 2.19s\tremaining: 133ms\n",
            "943:\tlearn: 0.0681048\ttest: 0.6168011\tbest: 0.4815060 (78)\ttotal: 2.19s\tremaining: 130ms\n",
            "944:\tlearn: 0.0679042\ttest: 0.6166477\tbest: 0.4815060 (78)\ttotal: 2.2s\tremaining: 128ms\n",
            "945:\tlearn: 0.0678827\ttest: 0.6167228\tbest: 0.4815060 (78)\ttotal: 2.2s\tremaining: 126ms\n",
            "946:\tlearn: 0.0678204\ttest: 0.6165923\tbest: 0.4815060 (78)\ttotal: 2.2s\tremaining: 123ms\n",
            "947:\tlearn: 0.0675847\ttest: 0.6171958\tbest: 0.4815060 (78)\ttotal: 2.2s\tremaining: 121ms\n",
            "948:\tlearn: 0.0675717\ttest: 0.6172155\tbest: 0.4815060 (78)\ttotal: 2.21s\tremaining: 119ms\n",
            "949:\tlearn: 0.0675390\ttest: 0.6173218\tbest: 0.4815060 (78)\ttotal: 2.21s\tremaining: 116ms\n",
            "950:\tlearn: 0.0674617\ttest: 0.6174272\tbest: 0.4815060 (78)\ttotal: 2.21s\tremaining: 114ms\n",
            "951:\tlearn: 0.0673983\ttest: 0.6174225\tbest: 0.4815060 (78)\ttotal: 2.21s\tremaining: 112ms\n",
            "952:\tlearn: 0.0671738\ttest: 0.6180201\tbest: 0.4815060 (78)\ttotal: 2.21s\tremaining: 109ms\n",
            "953:\tlearn: 0.0671257\ttest: 0.6180334\tbest: 0.4815060 (78)\ttotal: 2.22s\tremaining: 107ms\n",
            "954:\tlearn: 0.0670530\ttest: 0.6180646\tbest: 0.4815060 (78)\ttotal: 2.22s\tremaining: 105ms\n",
            "955:\tlearn: 0.0669649\ttest: 0.6182076\tbest: 0.4815060 (78)\ttotal: 2.22s\tremaining: 102ms\n",
            "956:\tlearn: 0.0669514\ttest: 0.6182035\tbest: 0.4815060 (78)\ttotal: 2.22s\tremaining: 99.9ms\n",
            "957:\tlearn: 0.0669166\ttest: 0.6186603\tbest: 0.4815060 (78)\ttotal: 2.23s\tremaining: 97.6ms\n",
            "958:\tlearn: 0.0668772\ttest: 0.6185869\tbest: 0.4815060 (78)\ttotal: 2.23s\tremaining: 95.3ms\n",
            "959:\tlearn: 0.0667628\ttest: 0.6186642\tbest: 0.4815060 (78)\ttotal: 2.23s\tremaining: 93ms\n",
            "960:\tlearn: 0.0665805\ttest: 0.6193853\tbest: 0.4815060 (78)\ttotal: 2.23s\tremaining: 90.6ms\n",
            "961:\tlearn: 0.0665357\ttest: 0.6194925\tbest: 0.4815060 (78)\ttotal: 2.23s\tremaining: 88.3ms\n",
            "962:\tlearn: 0.0663810\ttest: 0.6197177\tbest: 0.4815060 (78)\ttotal: 2.24s\tremaining: 86ms\n",
            "963:\tlearn: 0.0662944\ttest: 0.6200154\tbest: 0.4815060 (78)\ttotal: 2.24s\tremaining: 83.7ms\n",
            "964:\tlearn: 0.0662645\ttest: 0.6200969\tbest: 0.4815060 (78)\ttotal: 2.24s\tremaining: 81.3ms\n",
            "965:\tlearn: 0.0662216\ttest: 0.6202023\tbest: 0.4815060 (78)\ttotal: 2.24s\tremaining: 79ms\n",
            "966:\tlearn: 0.0661106\ttest: 0.6205969\tbest: 0.4815060 (78)\ttotal: 2.25s\tremaining: 76.7ms\n",
            "967:\tlearn: 0.0659611\ttest: 0.6206677\tbest: 0.4815060 (78)\ttotal: 2.25s\tremaining: 74.4ms\n",
            "968:\tlearn: 0.0659505\ttest: 0.6206932\tbest: 0.4815060 (78)\ttotal: 2.25s\tremaining: 72ms\n",
            "969:\tlearn: 0.0659303\ttest: 0.6207956\tbest: 0.4815060 (78)\ttotal: 2.25s\tremaining: 69.7ms\n",
            "970:\tlearn: 0.0658895\ttest: 0.6206819\tbest: 0.4815060 (78)\ttotal: 2.25s\tremaining: 67.4ms\n",
            "971:\tlearn: 0.0657671\ttest: 0.6210686\tbest: 0.4815060 (78)\ttotal: 2.26s\tremaining: 65ms\n",
            "972:\tlearn: 0.0654771\ttest: 0.6211758\tbest: 0.4815060 (78)\ttotal: 2.26s\tremaining: 62.7ms\n",
            "973:\tlearn: 0.0654487\ttest: 0.6211381\tbest: 0.4815060 (78)\ttotal: 2.26s\tremaining: 60.4ms\n",
            "974:\tlearn: 0.0654061\ttest: 0.6212113\tbest: 0.4815060 (78)\ttotal: 2.27s\tremaining: 58.1ms\n",
            "975:\tlearn: 0.0652985\ttest: 0.6210948\tbest: 0.4815060 (78)\ttotal: 2.27s\tremaining: 55.8ms\n",
            "976:\tlearn: 0.0652260\ttest: 0.6211893\tbest: 0.4815060 (78)\ttotal: 2.27s\tremaining: 53.4ms\n",
            "977:\tlearn: 0.0651797\ttest: 0.6212185\tbest: 0.4815060 (78)\ttotal: 2.27s\tremaining: 51.1ms\n",
            "978:\tlearn: 0.0651244\ttest: 0.6210916\tbest: 0.4815060 (78)\ttotal: 2.27s\tremaining: 48.8ms\n",
            "979:\tlearn: 0.0650804\ttest: 0.6211135\tbest: 0.4815060 (78)\ttotal: 2.28s\tremaining: 46.5ms\n",
            "980:\tlearn: 0.0649507\ttest: 0.6212056\tbest: 0.4815060 (78)\ttotal: 2.28s\tremaining: 44.2ms\n",
            "981:\tlearn: 0.0649073\ttest: 0.6213676\tbest: 0.4815060 (78)\ttotal: 2.28s\tremaining: 41.9ms\n",
            "982:\tlearn: 0.0648937\ttest: 0.6214109\tbest: 0.4815060 (78)\ttotal: 2.29s\tremaining: 39.6ms\n",
            "983:\tlearn: 0.0647184\ttest: 0.6214843\tbest: 0.4815060 (78)\ttotal: 2.29s\tremaining: 37.3ms\n",
            "984:\tlearn: 0.0646766\ttest: 0.6215051\tbest: 0.4815060 (78)\ttotal: 2.29s\tremaining: 34.9ms\n",
            "985:\tlearn: 0.0646638\ttest: 0.6215608\tbest: 0.4815060 (78)\ttotal: 2.29s\tremaining: 32.6ms\n",
            "986:\tlearn: 0.0646310\ttest: 0.6217900\tbest: 0.4815060 (78)\ttotal: 2.3s\tremaining: 30.3ms\n",
            "987:\tlearn: 0.0645948\ttest: 0.6217047\tbest: 0.4815060 (78)\ttotal: 2.3s\tremaining: 27.9ms\n",
            "988:\tlearn: 0.0645133\ttest: 0.6217383\tbest: 0.4815060 (78)\ttotal: 2.3s\tremaining: 25.6ms\n",
            "989:\tlearn: 0.0644987\ttest: 0.6219052\tbest: 0.4815060 (78)\ttotal: 2.3s\tremaining: 23.3ms\n",
            "990:\tlearn: 0.0644513\ttest: 0.6220444\tbest: 0.4815060 (78)\ttotal: 2.31s\tremaining: 21ms\n",
            "991:\tlearn: 0.0643709\ttest: 0.6220575\tbest: 0.4815060 (78)\ttotal: 2.31s\tremaining: 18.6ms\n",
            "992:\tlearn: 0.0643094\ttest: 0.6223504\tbest: 0.4815060 (78)\ttotal: 2.31s\tremaining: 16.3ms\n",
            "993:\tlearn: 0.0642334\ttest: 0.6225515\tbest: 0.4815060 (78)\ttotal: 2.31s\tremaining: 14ms\n",
            "994:\tlearn: 0.0642199\ttest: 0.6225476\tbest: 0.4815060 (78)\ttotal: 2.32s\tremaining: 11.6ms\n",
            "995:\tlearn: 0.0641354\ttest: 0.6223984\tbest: 0.4815060 (78)\ttotal: 2.32s\tremaining: 9.31ms\n",
            "996:\tlearn: 0.0641175\ttest: 0.6223566\tbest: 0.4815060 (78)\ttotal: 2.32s\tremaining: 6.98ms\n",
            "997:\tlearn: 0.0638704\ttest: 0.6225344\tbest: 0.4815060 (78)\ttotal: 2.32s\tremaining: 4.66ms\n",
            "998:\tlearn: 0.0637694\ttest: 0.6228602\tbest: 0.4815060 (78)\ttotal: 2.33s\tremaining: 2.33ms\n",
            "999:\tlearn: 0.0637553\ttest: 0.6228788\tbest: 0.4815060 (78)\ttotal: 2.33s\tremaining: 0us\n",
            "\n",
            "bestTest = 0.4815059846\n",
            "bestIteration = 78\n",
            "\n",
            "Shrink model to first 79 iterations.\n"
          ],
          "name": "stdout"
        },
        {
          "output_type": "execute_result",
          "data": {
            "text/plain": [
              "0.8243243243243243"
            ]
          },
          "metadata": {
            "tags": []
          },
          "execution_count": 215
        }
      ]
    },
    {
      "cell_type": "code",
      "metadata": {
        "id": "mUiU3LtQHYSb",
        "colab_type": "code",
        "colab": {}
      },
      "source": [
        "y_pred = model.predict(x_test)"
      ],
      "execution_count": 0,
      "outputs": []
    },
    {
      "cell_type": "code",
      "metadata": {
        "id": "71R_eL6WIlhU",
        "colab_type": "code",
        "colab": {}
      },
      "source": [
        "y_pred = (y_pred == 'Y')"
      ],
      "execution_count": 0,
      "outputs": []
    },
    {
      "cell_type": "code",
      "metadata": {
        "id": "tAkOTzVDImfl",
        "colab_type": "code",
        "colab": {}
      },
      "source": [
        "y_pred = y_pred.astype(int)"
      ],
      "execution_count": 0,
      "outputs": []
    },
    {
      "cell_type": "code",
      "metadata": {
        "id": "wrcbsirZJlLf",
        "colab_type": "code",
        "colab": {}
      },
      "source": [
        "y_test = (y_test == 'Y').astype(int)"
      ],
      "execution_count": 0,
      "outputs": []
    },
    {
      "cell_type": "code",
      "metadata": {
        "id": "VWtGdKIJJtMe",
        "colab_type": "code",
        "outputId": "fa0a5d42-62d7-457d-8c0b-d246c32c1119",
        "colab": {
          "base_uri": "https://localhost:8080/",
          "height": 52
        }
      },
      "source": [
        "confusion_matrix(y_test, y_pred)"
      ],
      "execution_count": 0,
      "outputs": [
        {
          "output_type": "execute_result",
          "data": {
            "text/plain": [
              "array([[ 19,  25],\n",
              "       [  1, 103]])"
            ]
          },
          "metadata": {
            "tags": []
          },
          "execution_count": 233
        }
      ]
    },
    {
      "cell_type": "markdown",
      "metadata": {
        "id": "LVzs30f3Ktc8",
        "colab_type": "text"
      },
      "source": [
        "https://www.analyticsvidhya.com/blog/2018/06/comprehensive-guide-for-ensemble-models/?\n",
        "\n",
        "https://www.analyticsvidhya.com/blog/2017/08/catboost-automated-categorical-data/\n",
        "\n",
        "https://www.analyticsvidhya.com/blog/2017/06/which-algorithm-takes-the-crown-light-gbm-vs-xgboost/\n",
        "\n",
        "https://www.analyticsvidhya.com/blog/2016/03/complete-guide-parameter-tuning-xgboost-with-codes-python/\n",
        "\n",
        "https://www.analyticsvidhya.com/blog/2016/02/complete-guide-parameter-tuning-gradient-boosting-gbm-python/\n",
        "\n",
        "https://arxiv.org/pdf/1603.02754.pdf\n",
        "\n",
        "https://homes.cs.washington.edu/~tqchen/pdf/BoostedTree.pdf\n",
        "\n",
        "https://stats.stackexchange.com/questions/354484/why-does-xgboost-have-a-learning-rate\n",
        "\n",
        "https://xgboost.readthedocs.io/en/latest/tutorials/model.html\n",
        "\n",
        "https://towardsdatascience.com/selecting-optimal-parameters-for-xgboost-model-training-c7cd9ed5e45e\n",
        "\n",
        "https://towardsdatascience.com/from-zero-to-hero-in-xgboost-tuning-e48b59bfaf58\n",
        "\n",
        "https://www.youtube.com/watch?v=IRdEjvuh3OI -- **cation** video is dammmmmn slow, watch at your own risk"
      ]
    },
    {
      "cell_type": "markdown",
      "metadata": {
        "id": "RGnEi3-RzVp-",
        "colab_type": "text"
      },
      "source": [
        "https://medium.com/analytics-vidhya/math-behind-gbm-and-xgboost-d00e8536b7de\n",
        "\n"
      ]
    },
    {
      "cell_type": "code",
      "metadata": {
        "id": "rgt01GA4J7LN",
        "colab_type": "code",
        "colab": {}
      },
      "source": [
        ""
      ],
      "execution_count": 0,
      "outputs": []
    }
  ]
}